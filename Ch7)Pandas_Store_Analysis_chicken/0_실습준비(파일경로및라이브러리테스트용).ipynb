{
 "cells": [
  {
   "cell_type": "code",
   "execution_count": null,
   "metadata": {},
   "outputs": [],
   "source": [
    "import pandas as pd"
   ]
  },
  {
   "cell_type": "code",
   "execution_count": null,
   "metadata": {},
   "outputs": [],
   "source": [
    "# 엑셀 파일 불러오기(상가데이터)\n",
    "file = './raw/상가업소업력현황_강원도.xlsx'\n",
    "shop = pd.read_excel(file)\n",
    "shop"
   ]
  },
  {
   "cell_type": "code",
   "execution_count": null,
   "metadata": {},
   "outputs": [],
   "source": [
    "# 엑셀 파일 불러오기(인구데이터)\n",
    "fname = './population/주민등록인구및세대현황_월간.xlsx'\n",
    "population = pd.read_excel(fname, header = 2, thousands = ',')\n",
    "population.head()"
   ]
  },
  {
   "cell_type": "code",
   "execution_count": null,
   "metadata": {},
   "outputs": [],
   "source": [
    "# 실행하고 아무런 에러메세지가 나지 않으면  불러오기 완료!!\n",
    "# 그래프 그리기 라이브러리\n",
    "import matplotlib\n",
    "from matplotlib import font_manager, rc\n",
    "import platform\n",
    "import matplotlib.pyplot as plt\n",
    "import seaborn as sns\n",
    "\n",
    "# 이미지 한글 표시 설정\n",
    "if platform.system() == 'Windows':  # 윈도우인 경우 맑은고딕\n",
    "    font_path = \"c:/Windows/Fonts/malgun.ttf\"\n",
    "    font_name = font_manager.FontProperties(fname=font_path ).get_name()\n",
    "    rc('font', family=font_name)\n",
    "else:    # Mac 인 경우 애플고딕\n",
    "    rc('font', family='AppleGothic')\n",
    "\n",
    "#그래프에서 마이너스 기호가 표시되도록 하는 설정입니다.\n",
    "matplotlib.rcParams['axes.unicode_minus'] = False   "
   ]
  },
  {
   "cell_type": "code",
   "execution_count": null,
   "metadata": {},
   "outputs": [],
   "source": [
    "# 그래프 테스트 (상관관계 시각화)\n",
    "sns.heatmap(data = shop.corr(), \n",
    "            annot = True, fmt = '.1f', \n",
    "            cmap = 'Reds')"
   ]
  }
 ],
 "metadata": {
  "kernelspec": {
   "display_name": "Python 3",
   "language": "python",
   "name": "python3"
  },
  "language_info": {
   "codemirror_mode": {
    "name": "ipython",
    "version": 3
   },
   "file_extension": ".py",
   "mimetype": "text/x-python",
   "name": "python",
   "nbconvert_exporter": "python",
   "pygments_lexer": "ipython3",
   "version": "3.8.3"
  }
 },
 "nbformat": 4,
 "nbformat_minor": 4
}
