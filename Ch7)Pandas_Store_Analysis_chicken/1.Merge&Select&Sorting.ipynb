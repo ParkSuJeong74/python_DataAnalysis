{
 "cells": [
  {
   "cell_type": "markdown",
   "metadata": {},
   "source": [
    "## 전국상가업소 업력현황 데이터 살펴보기"
   ]
  },
  {
   "cell_type": "markdown",
   "metadata": {},
   "source": [
    "### 친한 지인이 or 내가 치킨집을 오픈하려고 한다.... \n",
    "### Q) 어느 지역에 내면 좋을까????  \n",
    "### Q) 어느 지역에 내면 안 좋을까??"
   ]
  },
  {
   "cell_type": "markdown",
   "metadata": {},
   "source": [
    "---"
   ]
  },
  {
   "cell_type": "markdown",
   "metadata": {},
   "source": [
    "## 데이터 불러오기 -> 병합하기"
   ]
  },
  {
   "cell_type": "code",
   "execution_count": null,
   "metadata": {},
   "outputs": [],
   "source": [
    "import pandas as pd"
   ]
  },
  {
   "cell_type": "code",
   "execution_count": null,
   "metadata": {},
   "outputs": [],
   "source": [
    "# 엑셀 파일 불러오기\n",
    "file = './raw/상가업소업력현황_강원도.xlsx'\n",
    "raw = pd.read_excel(file)"
   ]
  },
  {
   "cell_type": "code",
   "execution_count": null,
   "metadata": {},
   "outputs": [],
   "source": [
    "raw.head()"
   ]
  },
  {
   "cell_type": "code",
   "execution_count": null,
   "metadata": {},
   "outputs": [],
   "source": [
    "# 1개 불러와서  빈 데이터프레임에 합치기\n",
    "raw = pd.DataFrame()\n",
    "file =  './raw/상가업소업력현황_강원도.xlsx'\n",
    "temp = pd.read_excel(file)\n",
    "raw = raw.append(temp)\n"
   ]
  },
  {
   "cell_type": "code",
   "execution_count": null,
   "metadata": {},
   "outputs": [],
   "source": [
    "# 2개 불러와서  빈 데이터프레임에 합치기\n",
    "raw = pd.DataFrame()\n",
    "file =  './raw/상가업소업력현황_강원도.xlsx'\n",
    "temp = pd.read_excel(file)\n",
    "raw = raw.append(temp)\n",
    "print(len(raw))\n",
    "\n",
    "file = './raw/상가업소업력현황_경기도.xlsx'\n",
    "temp = pd.read_excel(file)\n",
    "raw = raw.append(temp)\n",
    "print(len(raw))"
   ]
  },
  {
   "cell_type": "markdown",
   "metadata": {},
   "source": [
    "Q) 여러개 파일을 불러와서 합칠 경우???    \n",
    "A)  폴더 내 파일명 조회 -->  하나씩 반복문으로.."
   ]
  },
  {
   "cell_type": "code",
   "execution_count": null,
   "metadata": {},
   "outputs": [],
   "source": [
    "import os\n",
    "print(os.listdir())\n",
    "print(os.listdir('./raw/'))"
   ]
  },
  {
   "cell_type": "code",
   "execution_count": null,
   "metadata": {},
   "outputs": [],
   "source": [
    "# 폴더 내 모든 파일 불러오기\n",
    "raw = pd.DataFrame()\n",
    "for filename in os.listdir('./raw/'):\n",
    "    fpath = f\"./raw/{filename}\"   # 경로 + 파일명 \n",
    "    temp = pd.read_excel(fpath)   # 1개 파일 불러오기\n",
    "    raw = raw.append(temp)  # 병합하기\n",
    "print(len(raw))"
   ]
  },
  {
   "cell_type": "code",
   "execution_count": null,
   "metadata": {},
   "outputs": [],
   "source": [
    "raw.head()"
   ]
  },
  {
   "cell_type": "code",
   "execution_count": null,
   "metadata": {},
   "outputs": [],
   "source": [
    "raw.info()  # index -->  0 부터 983, ,  총 개수는 20625개??"
   ]
  },
  {
   "cell_type": "code",
   "execution_count": null,
   "metadata": {},
   "outputs": [],
   "source": [
    "raw.tail()"
   ]
  },
  {
   "cell_type": "code",
   "execution_count": null,
   "metadata": {},
   "outputs": [],
   "source": [
    "# # index reset 하기 (현재 쥬피터노트북에서 계속 작업 진행할 경우)\n",
    "# # ※ 저장만 진행할 경우에는  df.to_excel(file.xlsx, index = False)  index = False  옵션으로 인덱스 제외하기\n",
    "# raw = raw.reset_index(drop = True)\n",
    "# raw.info()"
   ]
  },
  {
   "cell_type": "code",
   "execution_count": null,
   "metadata": {
    "scrolled": true
   },
   "outputs": [],
   "source": [
    "raw.describe()"
   ]
  },
  {
   "cell_type": "code",
   "execution_count": null,
   "metadata": {},
   "outputs": [],
   "source": [
    "# 매장수 합계 데이터\n",
    "# 주의/  여러번 실행하면 중복 계산됩니다. \n",
    "raw['계'] = raw.sum(axis = 1)\n",
    "raw"
   ]
  },
  {
   "cell_type": "code",
   "execution_count": null,
   "metadata": {},
   "outputs": [],
   "source": [
    "# 업종 리스트 살펴보기\n",
    "raw['업종중분류'].unique()"
   ]
  },
  {
   "cell_type": "markdown",
   "metadata": {},
   "source": [
    "## 특정 업종 데이터만 선택하기"
   ]
  },
  {
   "cell_type": "code",
   "execution_count": null,
   "metadata": {
    "scrolled": true
   },
   "outputs": [],
   "source": [
    "# 업종 선택하기: 닭/오리요리\n",
    "df = raw[raw['업종중분류'] == '닭/오리요리']\n",
    "df"
   ]
  },
  {
   "cell_type": "code",
   "execution_count": null,
   "metadata": {},
   "outputs": [],
   "source": [
    "# 치킨집이 가장 적은 곳은?\n",
    "df.sort_values(by='계').head()"
   ]
  },
  {
   "cell_type": "code",
   "execution_count": null,
   "metadata": {
    "scrolled": true
   },
   "outputs": [],
   "source": [
    "# 치킨집가 가장 많은 곳은???? \n",
    "df = df.sort_values(by='계', ascending=False)\n",
    "df.head()"
   ]
  },
  {
   "cell_type": "code",
   "execution_count": null,
   "metadata": {},
   "outputs": [],
   "source": [
    "# 저장하기\n",
    "df.to_excel('./data/chicken.xlsx',index = False)"
   ]
  },
  {
   "cell_type": "markdown",
   "metadata": {},
   "source": [
    "### 생각해볼 문제... \n",
    "\n",
    "### Q) 치킨집을 어느 지역에 내면 좋을까????    --> 매장수가 적은 곳?\n",
    "\n",
    "\n",
    "#### 치킨집이 많다/적다  ==   치킨집 `매장수` 가 많다 / 적다 ?"
   ]
  }
 ],
 "metadata": {
  "kernelspec": {
   "display_name": "Python 3",
   "language": "python",
   "name": "python3"
  },
  "language_info": {
   "codemirror_mode": {
    "name": "ipython",
    "version": 3
   },
   "file_extension": ".py",
   "mimetype": "text/x-python",
   "name": "python",
   "nbconvert_exporter": "python",
   "pygments_lexer": "ipython3",
   "version": "3.8.3"
  }
 },
 "nbformat": 4,
 "nbformat_minor": 2
}
