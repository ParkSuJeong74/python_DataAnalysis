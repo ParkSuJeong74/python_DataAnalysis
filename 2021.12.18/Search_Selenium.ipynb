{
 "cells": [
  {
   "cell_type": "markdown",
   "id": "a5eadbf6",
   "metadata": {},
   "source": [
    "## 검색\n",
    "- SEO : 검색엔진 최적화"
   ]
  },
  {
   "cell_type": "code",
   "execution_count": 1,
   "id": "886c23cc",
   "metadata": {},
   "outputs": [],
   "source": [
    "# import 라이브러리명\n",
    "# 라이브러리 중 명령어 몇개만 준비! : from\n",
    "\n",
    "import chromedriver_autoinstaller\n",
    "from selenium import webdriver # selenium의 webdriver import 함\n",
    "from bs4 import BeautifulSoup\n",
    "\n",
    "# chromedriver 버전 업데이트\n",
    "chromedriver_autoinstaller.install()\n",
    "\n",
    "# 브라우저 열기\n",
    "browser = webdriver.Chrome() # 컴퓨터용 브라우저"
   ]
  },
  {
   "cell_type": "code",
   "execution_count": 2,
   "id": "6c030dd8",
   "metadata": {},
   "outputs": [],
   "source": [
    "url=\"http://www.naver.com\"\n",
    "browser.get(url)"
   ]
  },
  {
   "cell_type": "markdown",
   "id": "bcbcb347",
   "metadata": {},
   "source": [
    "### 검색어\n",
    "- 태그 정보 : css-selector\n",
    "- elements : 전부 다(element : 첫번째 꺼 하나만)\n",
    "- soup.select() : all / soup.select_one() : "
   ]
  },
  {
   "cell_type": "code",
   "execution_count": 3,
   "id": "4e2b4d84",
   "metadata": {},
   "outputs": [
    {
     "name": "stderr",
     "output_type": "stream",
     "text": [
      "C:\\Users\\dell\\AppData\\Local\\Temp/ipykernel_18084/4248687551.py:5: DeprecationWarning: find_elements_by_* commands are deprecated. Please use find_elements() instead\n",
      "  searching=browser.find_elements_by_css_selector(\"#query\")[0]\n",
      "C:\\Users\\dell\\AppData\\Local\\Temp/ipykernel_18084/4248687551.py:12: DeprecationWarning: find_elements_by_* commands are deprecated. Please use find_elements() instead\n",
      "  go_btn = browser.find_elements_by_css_selector(\"#search_btn\")[0]\n"
     ]
    }
   ],
   "source": [
    "url=\"http://www.naver.com\"\n",
    "browser.get(url)\n",
    "\n",
    "# 파이썬 검색\n",
    "searching=browser.find_elements_by_css_selector(\"#query\")[0]\n",
    "# 입력 하기\n",
    "word = \"썰매\"\n",
    "searching.clear() # 원래 입력되어 있는 값을 지움\n",
    "searching.send_keys(word)\n",
    "\n",
    "# 검색 버튼 찾기\n",
    "go_btn = browser.find_elements_by_css_selector(\"#search_btn\")[0] \n",
    "\n",
    "# 검색 버튼 클릭하기\n",
    "go_btn.click()"
   ]
  },
  {
   "cell_type": "markdown",
   "id": "c6e726a0",
   "metadata": {},
   "source": [
    "### 연관 검색어"
   ]
  },
  {
   "cell_type": "code",
   "execution_count": 4,
   "id": "61cb52fb",
   "metadata": {},
   "outputs": [
    {
     "name": "stderr",
     "output_type": "stream",
     "text": [
      "C:\\Users\\dell\\AppData\\Local\\Temp/ipykernel_18084/1221998469.py:9: DeprecationWarning: find_elements_by_* commands are deprecated. Please use find_elements() instead\n",
      "  searching=browser.find_elements_by_css_selector(\"#query\")[0]\n",
      "100%|████████████████████████████████████████████████████████████████████████████████████| 6/6 [00:08<00:00,  1.43s/it]\n"
     ]
    }
   ],
   "source": [
    "import time\n",
    "from datetime import datetime\n",
    "from tqdm import tqdm\n",
    "\n",
    "url=\"http://www.naver.com\"\n",
    "browser.get(url)\n",
    "\n",
    "# 파이썬 검색\n",
    "searching=browser.find_elements_by_css_selector(\"#query\")[0]\n",
    "# 입력 하기\n",
    "word_list=[\"2022\", \"코로나\", \"크리스마스\", \"컴퓨터\", \"모니터\", \"아이패드\"]\n",
    "results=[]\n",
    "for word in tqdm(word_list):\n",
    "    searching.clear() # 원래 입력되어 있는 값을 지움\n",
    "    searching.send_keys(word)\n",
    "\n",
    "    time.sleep(1)\n",
    "\n",
    "    # 연관 검색어 수집하기\n",
    "    html=browser.page_source # 이미 데이터가 들어가 있다고 생각하고 사진 찍음\n",
    "    soup=BeautifulSoup(html, \"html.parser\")\n",
    "\n",
    "    related_word_list=soup.select(\"ul.kwd_lst._kwd_list > li > a > span.fix\")\n",
    "    now = datetime.now().isoformat() # 검색일시(국제 표준)\n",
    "\n",
    "    for related_word_tag in related_word_list:\n",
    "        related_word = related_word_tag.text\n",
    "        # 만약 word와 related_word가 같으면 패스\n",
    "        if word != related_word: # 똑같으면?\n",
    "            # print(word, related_word, now) # 검색어, 연관어\n",
    "            data=[word, related_word, now]\n",
    "            results.append(data)"
   ]
  },
  {
   "cell_type": "code",
   "execution_count": 5,
   "id": "b9997402",
   "metadata": {},
   "outputs": [
    {
     "data": {
      "text/html": [
       "<div>\n",
       "<style scoped>\n",
       "    .dataframe tbody tr th:only-of-type {\n",
       "        vertical-align: middle;\n",
       "    }\n",
       "\n",
       "    .dataframe tbody tr th {\n",
       "        vertical-align: top;\n",
       "    }\n",
       "\n",
       "    .dataframe thead th {\n",
       "        text-align: right;\n",
       "    }\n",
       "</style>\n",
       "<table border=\"1\" class=\"dataframe\">\n",
       "  <thead>\n",
       "    <tr style=\"text-align: right;\">\n",
       "      <th></th>\n",
       "      <th>검색어</th>\n",
       "      <th>연관검색어</th>\n",
       "      <th>검색일시</th>\n",
       "    </tr>\n",
       "  </thead>\n",
       "  <tbody>\n",
       "    <tr>\n",
       "      <th>0</th>\n",
       "      <td>2022</td>\n",
       "      <td>2022 최저임금</td>\n",
       "      <td>2021-12-19T16:37:27.506292</td>\n",
       "    </tr>\n",
       "    <tr>\n",
       "      <th>1</th>\n",
       "      <td>2022</td>\n",
       "      <td>2022 달력</td>\n",
       "      <td>2021-12-19T16:37:27.506292</td>\n",
       "    </tr>\n",
       "    <tr>\n",
       "      <th>2</th>\n",
       "      <td>2022</td>\n",
       "      <td>2022년 띠</td>\n",
       "      <td>2021-12-19T16:37:27.506292</td>\n",
       "    </tr>\n",
       "    <tr>\n",
       "      <th>3</th>\n",
       "      <td>2022</td>\n",
       "      <td>2022 수능</td>\n",
       "      <td>2021-12-19T16:37:27.506292</td>\n",
       "    </tr>\n",
       "    <tr>\n",
       "      <th>4</th>\n",
       "      <td>2022</td>\n",
       "      <td>2022 수능 등급컷</td>\n",
       "      <td>2021-12-19T16:37:27.506292</td>\n",
       "    </tr>\n",
       "  </tbody>\n",
       "</table>\n",
       "</div>"
      ],
      "text/plain": [
       "    검색어        연관검색어                        검색일시\n",
       "0  2022    2022 최저임금  2021-12-19T16:37:27.506292\n",
       "1  2022      2022 달력  2021-12-19T16:37:27.506292\n",
       "2  2022      2022년 띠  2021-12-19T16:37:27.506292\n",
       "3  2022      2022 수능  2021-12-19T16:37:27.506292\n",
       "4  2022  2022 수능 등급컷  2021-12-19T16:37:27.506292"
      ]
     },
     "execution_count": 5,
     "metadata": {},
     "output_type": "execute_result"
    }
   ],
   "source": [
    "import pandas as pd\n",
    "\n",
    "df=pd.DataFrame(results)\n",
    "df.columns=[\"검색어\", \"연관검색어\", \"검색일시\"]\n",
    "df.head(5)"
   ]
  },
  {
   "cell_type": "code",
   "execution_count": 6,
   "id": "3a5388e0",
   "metadata": {},
   "outputs": [],
   "source": [
    "df.to_excel(\"./Search_Naver.xlsx\", index=False)"
   ]
  }
 ],
 "metadata": {
  "kernelspec": {
   "display_name": "Python 3 (ipykernel)",
   "language": "python",
   "name": "python3"
  },
  "language_info": {
   "codemirror_mode": {
    "name": "ipython",
    "version": 3
   },
   "file_extension": ".py",
   "mimetype": "text/x-python",
   "name": "python",
   "nbconvert_exporter": "python",
   "pygments_lexer": "ipython3",
   "version": "3.8.12"
  },
  "toc": {
   "base_numbering": 1,
   "nav_menu": {},
   "number_sections": true,
   "sideBar": true,
   "skip_h1_title": false,
   "title_cell": "Table of Contents",
   "title_sidebar": "Contents",
   "toc_cell": false,
   "toc_position": {},
   "toc_section_display": true,
   "toc_window_display": true
  }
 },
 "nbformat": 4,
 "nbformat_minor": 5
}
