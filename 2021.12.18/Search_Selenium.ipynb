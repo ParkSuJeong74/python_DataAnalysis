{
 "cells": [
  {
   "cell_type": "markdown",
   "id": "7c59be21",
   "metadata": {},
   "source": [
    "## 검색\n",
    "- SEO : 검색엔진 최적화"
   ]
  },
  {
   "cell_type": "code",
   "execution_count": 1,
   "id": "b2a2f5d4",
   "metadata": {},
   "outputs": [],
   "source": [
    "# import 라이브러리명\n",
    "# 라이브러리 중 명령어 몇개만 준비! : from\n",
    "\n",
    "import chromedriver_autoinstaller\n",
    "from selenium import webdriver # selenium의 webdriver import 함\n",
    "from bs4 import BeautifulSoup\n",
    "\n",
    "# chromedriver 버전 업데이트\n",
    "chromedriver_autoinstaller.install()\n",
    "\n",
    "# 브라우저 열기\n",
    "browser = webdriver.Chrome() # 컴퓨터용 브라우저"
   ]
  },
  {
   "cell_type": "code",
   "execution_count": 2,
   "id": "8a0bcc56",
   "metadata": {},
   "outputs": [],
   "source": [
    "import time\n",
    "\n",
    "url=\"http://www.naver.com\"\n",
    "browser.get(url)"
   ]
  },
  {
   "cell_type": "markdown",
   "id": "953a2805",
   "metadata": {},
   "source": [
    "### 검색어 입력\n",
    "- 태그 정보 : css-selector\n",
    "- elements : 전부 다(element : 첫번째 꺼 하나만)\n",
    "- soup.select() : all / soup.select_one() : "
   ]
  },
  {
   "cell_type": "code",
   "execution_count": 3,
   "id": "ff768dc0",
   "metadata": {},
   "outputs": [
    {
     "name": "stderr",
     "output_type": "stream",
     "text": [
      "C:\\Users\\dell\\AppData\\Local\\Temp/ipykernel_15512/4248687551.py:5: DeprecationWarning: find_elements_by_* commands are deprecated. Please use find_elements() instead\n",
      "  searching=browser.find_elements_by_css_selector(\"#query\")[0]\n",
      "C:\\Users\\dell\\AppData\\Local\\Temp/ipykernel_15512/4248687551.py:12: DeprecationWarning: find_elements_by_* commands are deprecated. Please use find_elements() instead\n",
      "  go_btn = browser.find_elements_by_css_selector(\"#search_btn\")[0]\n"
     ]
    }
   ],
   "source": [
    "url=\"http://www.naver.com\"\n",
    "browser.get(url)\n",
    "\n",
    "# 파이썬 검색\n",
    "searching=browser.find_elements_by_css_selector(\"#query\")[0]\n",
    "# 입력 하기\n",
    "word = \"썰매\"\n",
    "searching.clear() # 원래 입력되어 있는 값을 지움\n",
    "searching.send_keys(word)\n",
    "\n",
    "# 검색 버튼 찾기\n",
    "go_btn = browser.find_elements_by_css_selector(\"#search_btn\")[0] \n",
    "\n",
    "# 검색 버튼 클릭하기\n",
    "go_btn.click()"
   ]
  },
  {
   "cell_type": "code",
   "execution_count": 4,
   "id": "40bc9414",
   "metadata": {},
   "outputs": [],
   "source": [
    "# 연관 검색어 수집하기\n",
    "html=browser.page_source # 이미 데이터가 들어가 있다고 생각하고 사진 찍음\n",
    "soup=BeautifulSoup(html, \"html.parser\")"
   ]
  },
  {
   "cell_type": "code",
   "execution_count": 5,
   "id": "eaff9e28",
   "metadata": {},
   "outputs": [],
   "source": [
    "# word_part_list=soup.select(\"li.item._item over\") # 띄워져 있는 곳 : .(class)\n",
    "# len(word_part_list)"
   ]
  },
  {
   "cell_type": "code",
   "execution_count": null,
   "id": "f9b3dcce",
   "metadata": {},
   "outputs": [],
   "source": []
  },
  {
   "cell_type": "code",
   "execution_count": null,
   "id": "0dd160bc",
   "metadata": {},
   "outputs": [],
   "source": []
  }
 ],
 "metadata": {
  "kernelspec": {
   "display_name": "Python 3 (ipykernel)",
   "language": "python",
   "name": "python3"
  },
  "language_info": {
   "codemirror_mode": {
    "name": "ipython",
    "version": 3
   },
   "file_extension": ".py",
   "mimetype": "text/x-python",
   "name": "python",
   "nbconvert_exporter": "python",
   "pygments_lexer": "ipython3",
   "version": "3.8.12"
  },
  "toc": {
   "base_numbering": 1,
   "nav_menu": {},
   "number_sections": true,
   "sideBar": true,
   "skip_h1_title": false,
   "title_cell": "Table of Contents",
   "title_sidebar": "Contents",
   "toc_cell": false,
   "toc_position": {},
   "toc_section_display": true,
   "toc_window_display": true
  }
 },
 "nbformat": 4,
 "nbformat_minor": 5
}
