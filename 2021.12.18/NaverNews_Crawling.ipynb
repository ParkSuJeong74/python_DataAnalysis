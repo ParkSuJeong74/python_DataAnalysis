{
 "cells": [
  {
   "cell_type": "markdown",
   "id": "e7d74de3",
   "metadata": {},
   "source": [
    "##  Crawling\n",
    "### 브라우저 열기(browser)\n",
    "### 웹페이지 접속(browser.get(url)\n",
    "### 정보있는지 점검! 없다면? -> 브라우저 조작 필요(입력, 클릭)\n",
    "### 내가 원하는 정보를 찾아주기 : \n",
    "\n",
    "beautifulsoup\n",
    "- BautifulSoup(html, \"html.parser\") # 해석 완료\n",
    "- html = browser.page_source\n",
    "- html.parser : 사전\n",
    "\n",
    "태그 찾기\n",
    "- <태그명 class=\"\" id=\"\"></태그명> 찾기!\n",
    "- 부모태그 - 자식태그\n",
    "- soup.select() / find()\n",
    "-\".class 속성값\", \"#id 속성값\"\n",
    "- \"부모태그정보 > 자식태그정보\"\n",
    "\n",
    "-> [태그1, 태그2, 태그3...] : list\n",
    "\n",
    "태그 선택하기\n",
    "- soup.select()[0] : 한 개 선택\n",
    "- for tag in soup.select() : 반복문 사용해서 순서대로 한 개씩 선택\n",
    "\n",
    "원하는 정보 추출\n",
    "- tag.text # 태그 기호 제외하기 : 화면에 보이는 글만 가져오기\n",
    "- 태그 안의 속성값 필요하다면? : tag[\"속성명\"] # 특정 속성값 가져옴\n",
    "\n",
    "### 저장\n",
    "리스트 안에 리스트!\n",
    "[ \n",
    "    [1,2,3], \n",
    "    [5,5,5] ...\n",
    "] # 엑셀에 칼럼과 행이 되어 저장됨\n",
    "\n",
    "엑셀 파일에 저장 # pandas"
   ]
  },
  {
   "cell_type": "markdown",
   "id": "86ad5c00",
   "metadata": {},
   "source": [
    "## 네이버 뉴스"
   ]
  },
  {
   "cell_type": "code",
   "execution_count": 1,
   "id": "aa613291",
   "metadata": {},
   "outputs": [
    {
     "data": {
      "text/plain": [
       "'C:\\\\Users\\\\dell\\\\anaconda3\\\\lib\\\\site-packages\\\\chromedriver_autoinstaller\\\\96\\\\chromedriver.exe'"
      ]
     },
     "execution_count": 1,
     "metadata": {},
     "output_type": "execute_result"
    }
   ],
   "source": [
    "# import 라이브러리명\n",
    "# 라이브러리 중 명령어 몇개만 준비! : from\n",
    "\n",
    "import chromedriver_autoinstaller\n",
    "from selenium import webdriver # selenium의 webdriver import 함\n",
    "from bs4 import BeautifulSoup\n",
    "\n",
    "# chromedriver 버전 업데이트\n",
    "chromedriver_autoinstaller.install()"
   ]
  },
  {
   "cell_type": "code",
   "execution_count": 2,
   "id": "5ed03d8d",
   "metadata": {},
   "outputs": [],
   "source": [
    "# 브라우저 열기\n",
    "browser = webdriver.Chrome() # 컴퓨터용 브라우저"
   ]
  },
  {
   "cell_type": "code",
   "execution_count": 3,
   "id": "cb2c6bec",
   "metadata": {},
   "outputs": [],
   "source": [
    "url=\"https://news.naver.com/main/read.naver?mode=LSD&mid=sec&sid1=101&oid=421&aid=0005791688\"\n",
    "browser.get(url)"
   ]
  },
  {
   "cell_type": "code",
   "execution_count": 4,
   "id": "6f229ba2",
   "metadata": {},
   "outputs": [],
   "source": [
    "html=browser.page_source\n",
    "soup=BeautifulSoup(html, \"html.parser\")"
   ]
  },
  {
   "cell_type": "code",
   "execution_count": 5,
   "id": "182e8ba8",
   "metadata": {},
   "outputs": [
    {
     "data": {
      "text/plain": [
       "30"
      ]
     },
     "execution_count": 5,
     "metadata": {},
     "output_type": "execute_result"
    }
   ],
   "source": [
    "title=soup.select(\"h3#articleTitle\")[0].text # 태그+id속성값\n",
    "len(title) # 갯수 확인\n",
    "# shift+end : 끝까지 드래그"
   ]
  },
  {
   "cell_type": "code",
   "execution_count": 6,
   "id": "24a65e30",
   "metadata": {},
   "outputs": [
    {
     "data": {
      "text/plain": [
       "\"삼성·LG가 목매는 이것…앞으로 '경험의 시대'가 온다\""
      ]
     },
     "execution_count": 6,
     "metadata": {},
     "output_type": "execute_result"
    }
   ],
   "source": [
    "title"
   ]
  },
  {
   "cell_type": "code",
   "execution_count": 7,
   "id": "11594079",
   "metadata": {},
   "outputs": [
    {
     "data": {
      "text/plain": [
       "'2021.12.18. 오전 5:45'"
      ]
     },
     "execution_count": 7,
     "metadata": {},
     "output_type": "execute_result"
    }
   ],
   "source": [
    "date=soup.select(\"span.t11\")[0].text\n",
    "date"
   ]
  },
  {
   "cell_type": "code",
   "execution_count": 8,
   "id": "ffe20427",
   "metadata": {},
   "outputs": [
    {
     "name": "stdout",
     "output_type": "stream",
     "text": [
      "삼성·LG가 목매는 이것…앞으로 '경험의 시대'가 온다\n",
      "2021.12.18. 오전 5:45\n"
     ]
    }
   ],
   "source": [
    "print(title)\n",
    "print(date)"
   ]
  },
  {
   "cell_type": "code",
   "execution_count": 9,
   "id": "783f1dbf",
   "metadata": {},
   "outputs": [
    {
     "name": "stdout",
     "output_type": "stream",
     "text": [
      "삼성 '경험' 중심 조직개편…신임 LG 사장도 '경험' 강조가전·IT기술·플랫폼 결합한 새 경험 제공…기업 미래 좌우16일 서울 강남구 코엑스에서 열린 'K-메타버스 엑스포 2021'을 찾은 관람객들이 부스에서 체험을 하고 있다(사진은 기사 내용과 관련이 없음). 2021.12.16/뉴스1 © News1 김진환 기자(서울=뉴스1) 문창석 기자 = 삼성전자·LG전자 등 모바일·가전 생산 기업들이 '경험'을 미래를 위한 핵심 전략으로 설정하고 있다. 단순히 가성비 좋은 제품을 만드는 게 아니라 소비자들에게 한 차원 높은 경험을 제공해 자사의 생태계에 묶어두겠다는 전략이다. 이를 위해 조직을 대대적으로 개편하고 그룹 총수까지 발 벗고 나서는 등 사활을 걸고 있다는 분석이다.지난 12일 삼성전자는 기존의 소비자가전(CE) 부문과 모바일(IM) 부문을 하나로 합친 'DX(Device eXperience) 부문'을 출범했다. 차별화된 제품과 서비스를 통해 삼성 브랜드를 '고객 경험' 중심으로 이끌어 가겠다는 취지다. 스마트폰을 만드는 무선사업부의 이름도 'MX사업부'로 바꿨으며, 사업부 내 개편을 통해 CX-MDE(소비자경험-멀티 디바이스 경험) 센터도 신설했다.공통점은 모두 '경험(Experience)'이라는 용어를 사용하고 있으며 이를 사업의 핵심 목표로 삼고 있다는 것이다. 단순히 새로운 기술 개발에 그치는 게 아니라, 고객 경험에 집중하고 이를 니즈에 반영한 서비스와 솔루션을 만들어내겠다는 것이다. 지난 15일 한종희 삼성전자 DX부문장은 취임 후 처음으로 사내게시판에 게재한 글을 통해 \"고객의 삶의 가치를 높이고, 그 삶의 여정에 더 풍부하고 의미 있는 경험을 제공하는 것이 우리의 큰 목표가 돼야 한다\"고 말했다.최근 LG전자 최고경영자(CEO)로 선임된 조주완 사장의 첫 일성도 '경험'이었다. 지난달 25일 LG전자는 조 신임 사장의 디지털 전환 방향과 목표에 대해 \"'DX for CX(Digital Transformation for Customer eXperience)'에 맞추고 있다\"고 밝힌 바 있다. 디지털 전환이 고객에게 차별화된 경험을 제공하고 이를 한번 경험한다면, 경험하지 않았던 때로 돌아가기 힘든 락인(Lock-in) 효과를 만든다는 것이다.구광모 LG그룹 회장(LG그룹 제공). © 뉴스1이런 가전업체들의 변화는 소비자들이 단순히 값싸고 성능이 좋은 제품이 아니라, 자신의 삶을 더 나아질 수 있게 하는 제품을 선호하기 때문이라는 분석이다. 소비자가 제품을 이용하면서 자신의 감각·감정·느낌 등이 변화하는 '경험'이 가성비에 앞서 지갑을 열게 만든다는 얘기다.이 관점에서 보면 이번 조직 개편에서 대거 이뤄진 삼성전자의 부문 통합은 필연적이다. 기술 개발과 디지털 전환, 고객·직원 의견 반영 등은 좋은 제품을 만들기 위해 꼭 필요하지만, 이런 요소들이 칸막이를 놓고 별도로 이뤄진다면 각자의 분야에서 극대화될 수 있을진 몰라도 고객에게 중요한 경험을 극대화할 순 없다는 것이다.결국 기술과 제조뿐만 아니라 사용자·직원·고객의 경험까지 상호 연결해, 모든 이해관계자를 위한 총체적 경험(TX·Total eXperience)을 향상시키는 게 중요하다는 지적이다. 이는 기업뿐만 아니다. 시장조사기관 가트너는 2023년까지 TX 전략이 없는 정부의 85% 이상은 정부 서비스를 혁신하지 못할 것이라고 전망한다. 한 업계 관계자는 \"궁극적인 목적이 경험이라면, 세부 요소들에 집중하는 게 아니라 경험을 포괄하는 통합 전략으로 전환하는 게 효과적\"이라고 말했다.지난달 22일(현지시간) 이재용 삼성전자 부회장(왼쪽)과 순다르 피차이 구글 CEO가 미국 캘리포니아주 마운틴뷰 구글 본사에서 만나 대화하고 있다(삼성전자 제공). 2021.11.23/뉴스1 © News1 유승관 기자삼성전자의 경우 이번 조직 개편을 통해 삼성만의 경험을 제공하는 '생태계'를 만들겠다는 의지가 담겨 있는 것으로 분석된다. 그동안 삼성은 스마트폰·가전 등 제조 분야에선 세계적인 경쟁력을 가졌지만, 그에 비해 고객을 붙잡을 서비스나 소프트웨어는 부족하다는 지적이 있었다. 하지만 아이폰과 맥북이라는 생태계가 형성된 애플처럼 삼성만의 생태계가 구축된다면 그 안에 고객들을 꾸준히 묶어둘 수 있다. 가령 삼성전자 TV와 갤럭시 스마트폰을 연동해 OTT 같은 콘텐츠를 공유하거나, 삼성전자 에어컨과 공기청정기가 유기적으로 작동해 실내 공기를 더욱 잘 관리할 수 있게 하는 식이다. 단순한 제조사에서 벗어나, 소프트웨어를 통해 시장 지배력을 높일 수 있게 되는 것이다.이를 위해선 개별 기기를 하나로 연결해 작동하게 하는 '플랫폼' 구축이 필수다. 이와 관련해 업계에선 이재용 부회장이 지난달 미국 출장에서 마이크로소프트·아마존·구글 등 글로벌 IT 회사의 CEO들을 차례로 만난 점을 주목한다. 이 부회장은 이들과의 만남에서 차세대 IT 기술에 대한 협력과 관련 소프트웨어 생태계의 확장에 대해 논의한 것으로 전해진다. 그는 디바이스 연결에서 가장 중요한 인프라인 '통신망'과 관련해서도 글로벌 1위 사업자인 버라이즌의 CEO를 만나 차세대 이동통신 분야에서의 협력 방안을 논의하기도 했다.또다른 업계 관계자는 \"단순히 기존 가전들을 연결만 하는 게 아니라 삼성의 전자기기에 가상현실(VR)·증강현실(AR)·메타버스 같은 차세대 기술, 온라인 쇼핑 같은 구매 플랫폼, 새로운 IT 기기와 기술에서 작동하는 콘텐츠 등이 제대로 결합한다면 고객·소비자 경험이 상상할 수 없을 정도로 높아질 것\"이라며 \"이를 통해 고객의 라이프 스타일에 변화를 가져올 수 있다면 전세계 산업을 주도하는 기업이 될 수 있다\"고 말했다.\n"
     ]
    }
   ],
   "source": [
    "content=soup.select(\"div#articleBodyContents\")[0].text.strip() # 개행 무시\n",
    "print(content)"
   ]
  },
  {
   "cell_type": "code",
   "execution_count": 10,
   "id": "ddb921a3",
   "metadata": {},
   "outputs": [
    {
     "data": {
      "text/plain": [
       "'하세요'"
      ]
     },
     "execution_count": 10,
     "metadata": {},
     "output_type": "execute_result"
    }
   ],
   "source": [
    "# 항상 똑같은 문자가 있을때 지울 수 있음\n",
    "string=\"안녕하세요\"\n",
    "string.replace(\"안녕\", \"\")"
   ]
  },
  {
   "cell_type": "code",
   "execution_count": 11,
   "id": "e661ee9b",
   "metadata": {},
   "outputs": [
    {
     "data": {
      "text/plain": [
       "'뉴스1'"
      ]
     },
     "execution_count": 11,
     "metadata": {},
     "output_type": "execute_result"
    }
   ],
   "source": [
    "press=soup.select(\"div.press_logo>a>img\")[0][\"title\"]\n",
    "press"
   ]
  },
  {
   "cell_type": "markdown",
   "id": "fe073c5c",
   "metadata": {},
   "source": [
    "### 네이버 뉴스 크롤링 코드 정리"
   ]
  },
  {
   "cell_type": "code",
   "execution_count": 12,
   "id": "4e5033d7",
   "metadata": {},
   "outputs": [
    {
     "name": "stdout",
     "output_type": "stream",
     "text": [
      "삼성·LG가 목매는 이것…앞으로 '경험의 시대'가 온다\n",
      "2021.12.18. 오전 5:45\n",
      "뉴스1\n"
     ]
    }
   ],
   "source": [
    "# import 라이브러리명\n",
    "# 라이브러리 중 명령어 몇개만 준비! : from\n",
    "\n",
    "import chromedriver_autoinstaller\n",
    "from selenium import webdriver # selenium의 webdriver import 함\n",
    "from bs4 import BeautifulSoup\n",
    "\n",
    "# chromedriver 버전 업데이트\n",
    "chromedriver_autoinstaller.install()\n",
    "\n",
    "# 브라우저 열기\n",
    "browser = webdriver.Chrome() # 컴퓨터용 브라우저\n",
    "\n",
    "url=\"https://news.naver.com/main/read.naver?mode=LSD&mid=sec&sid1=100&oid=022&aid=0003648967\"\n",
    "browser.get(url)\n",
    "\n",
    "title=soup.select(\"h3#articleTitle\")[0].text # 태그+id속성값\n",
    "date=soup.select(\"span.t11\")[0].text\n",
    "press=soup.select(\"div.press_logo>a>img\")[0][\"title\"]\n",
    "\n",
    "print(title)\n",
    "print(date)\n",
    "print(press)"
   ]
  }
 ],
 "metadata": {
  "kernelspec": {
   "display_name": "Python 3 (ipykernel)",
   "language": "python",
   "name": "python3"
  },
  "language_info": {
   "codemirror_mode": {
    "name": "ipython",
    "version": 3
   },
   "file_extension": ".py",
   "mimetype": "text/x-python",
   "name": "python",
   "nbconvert_exporter": "python",
   "pygments_lexer": "ipython3",
   "version": "3.8.12"
  },
  "toc": {
   "base_numbering": 1,
   "nav_menu": {},
   "number_sections": true,
   "sideBar": true,
   "skip_h1_title": false,
   "title_cell": "Table of Contents",
   "title_sidebar": "Contents",
   "toc_cell": false,
   "toc_position": {},
   "toc_section_display": true,
   "toc_window_display": true
  }
 },
 "nbformat": 4,
 "nbformat_minor": 5
}
