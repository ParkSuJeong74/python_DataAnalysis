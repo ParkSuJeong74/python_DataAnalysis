{
 "cells": [
  {
   "cell_type": "markdown",
   "id": "e7d74de3",
   "metadata": {},
   "source": [
    "##  Crawling\n",
    "### 브라우저 열기(browser)\n",
    "### 웹페이지 접속(browser.get(url)\n",
    "### 정보있는지 점검! 없다면? -> 브라우저 조작 필요(입력, 클릭)\n",
    "### 내가 원하는 정보를 찾아주기 : \n",
    "\n",
    "beautifulsoup\n",
    "- BautifulSoup(html, \"html.parser\") # 해석 완료\n",
    "- html = browser.page_source\n",
    "- html.parser : 사전\n",
    "\n",
    "태그 찾기\n",
    "- <태그명 class=\"\" id=\"\"></태그명> 찾기!\n",
    "- 부모태그 - 자식태그\n",
    "- soup.select() / find()\n",
    "-\".class 속성값\", \"#id 속성값\"\n",
    "- \"부모태그정보 > 자식태그정보\"\n",
    "\n",
    "-> [태그1, 태그2, 태그3...] : list\n",
    "\n",
    "태그 선택하기\n",
    "- soup.select()[0] : 한 개 선택\n",
    "- for tag in soup.select() : 반복문 사용해서 순서대로 한 개씩 선택\n",
    "\n",
    "원하는 정보 추출\n",
    "- tag.text # 태그 기호 제외하기 : 화면에 보이는 글만 가져오기\n",
    "- 태그 안의 속성값 필요하다면? : tag[\"속성명\"] # 특정 속성값 가져옴\n",
    "\n",
    "### 저장\n",
    "리스트 안에 리스트!\n",
    "[ \n",
    "    [1,2,3], \n",
    "    [5,5,5] ...\n",
    "] # 엑셀에 칼럼과 행이 되어 저장됨\n",
    "\n",
    "엑셀 파일에 저장 # pandas"
   ]
  },
  {
   "cell_type": "markdown",
   "id": "86ad5c00",
   "metadata": {},
   "source": [
    "## 네이버 뉴스"
   ]
  },
  {
   "cell_type": "code",
   "execution_count": 1,
   "id": "aa613291",
   "metadata": {},
   "outputs": [
    {
     "data": {
      "text/plain": [
       "'C:\\\\Users\\\\dell\\\\anaconda3\\\\lib\\\\site-packages\\\\chromedriver_autoinstaller\\\\96\\\\chromedriver.exe'"
      ]
     },
     "execution_count": 1,
     "metadata": {},
     "output_type": "execute_result"
    }
   ],
   "source": [
    "# import 라이브러리명\n",
    "# 라이브러리 중 명령어 몇개만 준비! : from\n",
    "\n",
    "import chromedriver_autoinstaller\n",
    "from selenium import webdriver # selenium의 webdriver import 함\n",
    "from bs4 import BeautifulSoup\n",
    "\n",
    "# chromedriver 버전 업데이트\n",
    "chromedriver_autoinstaller.install()"
   ]
  },
  {
   "cell_type": "code",
   "execution_count": 2,
   "id": "5ed03d8d",
   "metadata": {},
   "outputs": [],
   "source": [
    "# 브라우저 열기\n",
    "browser = webdriver.Chrome() # 컴퓨터용 브라우저"
   ]
  },
  {
   "cell_type": "code",
   "execution_count": 3,
   "id": "cb2c6bec",
   "metadata": {},
   "outputs": [],
   "source": [
    "url=\"https://news.naver.com/main/read.naver?mode=LSD&mid=sec&sid1=101&oid=421&aid=0005791688\"\n",
    "browser.get(url)"
   ]
  },
  {
   "cell_type": "code",
   "execution_count": 4,
   "id": "6f229ba2",
   "metadata": {},
   "outputs": [],
   "source": [
    "html=browser.page_source\n",
    "soup=BeautifulSoup(html, \"html.parser\")"
   ]
  },
  {
   "cell_type": "code",
   "execution_count": 5,
   "id": "182e8ba8",
   "metadata": {},
   "outputs": [
    {
     "data": {
      "text/plain": [
       "30"
      ]
     },
     "execution_count": 5,
     "metadata": {},
     "output_type": "execute_result"
    }
   ],
   "source": [
    "title=soup.select(\"h3#articleTitle\")[0].text # 태그+id속성값\n",
    "len(title) # 갯수 확인\n",
    "# shift+end : 끝까지 드래그"
   ]
  },
  {
   "cell_type": "code",
   "execution_count": 6,
   "id": "24a65e30",
   "metadata": {},
   "outputs": [
    {
     "data": {
      "text/plain": [
       "\"삼성·LG가 목매는 이것…앞으로 '경험의 시대'가 온다\""
      ]
     },
     "execution_count": 6,
     "metadata": {},
     "output_type": "execute_result"
    }
   ],
   "source": [
    "title"
   ]
  },
  {
   "cell_type": "code",
   "execution_count": 7,
   "id": "11594079",
   "metadata": {},
   "outputs": [
    {
     "data": {
      "text/plain": [
       "'2021.12.18. 오전 5:45'"
      ]
     },
     "execution_count": 7,
     "metadata": {},
     "output_type": "execute_result"
    }
   ],
   "source": [
    "date=soup.select(\"span.t11\")[0].text\n",
    "date"
   ]
  },
  {
   "cell_type": "code",
   "execution_count": 8,
   "id": "ffe20427",
   "metadata": {},
   "outputs": [
    {
     "name": "stdout",
     "output_type": "stream",
     "text": [
      "삼성·LG가 목매는 이것…앞으로 '경험의 시대'가 온다\n",
      "2021.12.18. 오전 5:45\n"
     ]
    }
   ],
   "source": [
    "print(title)\n",
    "print(date)"
   ]
  },
  {
   "cell_type": "code",
   "execution_count": 9,
   "id": "783f1dbf",
   "metadata": {},
   "outputs": [],
   "source": [
    "content=soup.select(\"div#articleBodyContents\")[0].text.strip() # 개행 무시\n",
    "# print(content)"
   ]
  },
  {
   "cell_type": "code",
   "execution_count": 10,
   "id": "ddb921a3",
   "metadata": {},
   "outputs": [
    {
     "data": {
      "text/plain": [
       "'하세요'"
      ]
     },
     "execution_count": 10,
     "metadata": {},
     "output_type": "execute_result"
    }
   ],
   "source": [
    "# 항상 똑같은 문자가 있을때 지울 수 있음\n",
    "string=\"안녕하세요\"\n",
    "string.replace(\"안녕\", \"\")"
   ]
  },
  {
   "cell_type": "code",
   "execution_count": 11,
   "id": "e661ee9b",
   "metadata": {},
   "outputs": [
    {
     "data": {
      "text/plain": [
       "'뉴스1'"
      ]
     },
     "execution_count": 11,
     "metadata": {},
     "output_type": "execute_result"
    }
   ],
   "source": [
    "press=soup.select(\"div.press_logo>a>img\")[0][\"title\"]\n",
    "press"
   ]
  },
  {
   "cell_type": "markdown",
   "id": "fe073c5c",
   "metadata": {},
   "source": [
    "### 네이버 뉴스 크롤링 코드 정리"
   ]
  },
  {
   "cell_type": "code",
   "execution_count": 12,
   "id": "4e5033d7",
   "metadata": {},
   "outputs": [
    {
     "name": "stdout",
     "output_type": "stream",
     "text": [
      "삼성·LG가 목매는 이것…앞으로 '경험의 시대'가 온다\n",
      "2021.12.18. 오전 5:45\n",
      "뉴스1\n"
     ]
    }
   ],
   "source": [
    "# import 라이브러리명\n",
    "# 라이브러리 중 명령어 몇개만 준비! : from\n",
    "\n",
    "import chromedriver_autoinstaller\n",
    "from selenium import webdriver # selenium의 webdriver import 함\n",
    "from bs4 import BeautifulSoup\n",
    "\n",
    "# chromedriver 버전 업데이트\n",
    "chromedriver_autoinstaller.install()\n",
    "\n",
    "# 브라우저 열기\n",
    "browser = webdriver.Chrome() # 컴퓨터용 브라우저\n",
    "\n",
    "url=\"https://news.naver.com/main/read.naver?mode=LSD&mid=sec&sid1=100&oid=022&aid=0003648967\"\n",
    "browser.get(url)\n",
    "\n",
    "title=soup.select(\"h3#articleTitle\")[0].text # 태그+id속성값\n",
    "date=soup.select(\"span.t11\")[0].text\n",
    "press=soup.select(\"div.press_logo>a>img\")[0][\"title\"]\n",
    "\n",
    "print(title)\n",
    "print(date)\n",
    "print(press)"
   ]
  }
 ],
 "metadata": {
  "kernelspec": {
   "display_name": "Python 3 (ipykernel)",
   "language": "python",
   "name": "python3"
  },
  "language_info": {
   "codemirror_mode": {
    "name": "ipython",
    "version": 3
   },
   "file_extension": ".py",
   "mimetype": "text/x-python",
   "name": "python",
   "nbconvert_exporter": "python",
   "pygments_lexer": "ipython3",
   "version": "3.8.12"
  },
  "toc": {
   "base_numbering": 1,
   "nav_menu": {},
   "number_sections": true,
   "sideBar": true,
   "skip_h1_title": false,
   "title_cell": "Table of Contents",
   "title_sidebar": "Contents",
   "toc_cell": false,
   "toc_position": {},
   "toc_section_display": true,
   "toc_window_display": true
  }
 },
 "nbformat": 4,
 "nbformat_minor": 5
}
