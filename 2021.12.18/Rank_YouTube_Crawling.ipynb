{
 "cells": [
  {
   "cell_type": "markdown",
   "id": "d078c935",
   "metadata": {},
   "source": [
    "## 유튜브 랭킹\n",
    "\n",
    "### HTML 뭉치 찾기(10개)\n",
    "- channel_list\n",
    "\n"
   ]
  },
  {
   "cell_type": "code",
   "execution_count": 1,
   "id": "34c914b2",
   "metadata": {},
   "outputs": [],
   "source": [
    "# import 라이브러리명\n",
    "# 라이브러리 중 명령어 몇개만 준비! : from\n",
    "\n",
    "import chromedriver_autoinstaller\n",
    "from selenium import webdriver # selenium의 webdriver import 함\n",
    "from bs4 import BeautifulSoup\n",
    "\n",
    "# chromedriver 버전 업데이트\n",
    "chromedriver_autoinstaller.install()\n",
    "\n",
    "# 브라우저 열기\n",
    "browser = webdriver.Chrome() # 컴퓨터용 브라우저\n",
    "\n",
    "url=\"https://youtube-rank.com/board/bbs/board.php?bo_table=youtube&page=1\"\n",
    "browser.get(url)"
   ]
  },
  {
   "cell_type": "code",
   "execution_count": 2,
   "id": "00afafc3",
   "metadata": {},
   "outputs": [],
   "source": [
    "# 100개 채널, 채널명, 카테고리, 구독자수, 조회수, 영상 개수\n",
    "html=browser.page_source\n",
    "soup=BeautifulSoup(html, \"html.parser\")"
   ]
  },
  {
   "cell_type": "code",
   "execution_count": 3,
   "id": "09e88a7c",
   "metadata": {},
   "outputs": [
    {
     "data": {
      "text/plain": [
       "100"
      ]
     },
     "execution_count": 3,
     "metadata": {},
     "output_type": "execute_result"
    }
   ],
   "source": [
    "# 채널 리스트\n",
    "channel_list = soup.select(\"table > tbody > tr.aos-init\") # 100개 담김\n",
    "len(channel_list)"
   ]
  },
  {
   "cell_type": "markdown",
   "id": "7eab8751",
   "metadata": {},
   "source": [
    "### 1개의 채널에서 필요한 정보찾기"
   ]
  },
  {
   "cell_type": "code",
   "execution_count": 4,
   "id": "449557dd",
   "metadata": {},
   "outputs": [
    {
     "data": {
      "text/plain": [
       "15"
      ]
     },
     "execution_count": 4,
     "metadata": {},
     "output_type": "execute_result"
    }
   ],
   "source": [
    "channel = channel_list[0] # 첫번째 채널\n",
    "len(channel)"
   ]
  },
  {
   "cell_type": "code",
   "execution_count": 5,
   "id": "1ccbe964",
   "metadata": {},
   "outputs": [
    {
     "name": "stdout",
     "output_type": "stream",
     "text": [
      "BLACKPINK\n"
     ]
    }
   ],
   "source": [
    "# 채널명 찾기\n",
    "title = channel.select(\"h1>a\")[0].text\n",
    "print(title.strip())"
   ]
  },
  {
   "cell_type": "code",
   "execution_count": 6,
   "id": "284efa1a",
   "metadata": {},
   "outputs": [
    {
     "name": "stdout",
     "output_type": "stream",
     "text": [
      "[음악/댄스/가수]\n"
     ]
    }
   ],
   "source": [
    "# 카테고리 찾기\n",
    "category = channel.select(\"p.category\")[0].text\n",
    "print(category.strip())"
   ]
  },
  {
   "cell_type": "code",
   "execution_count": 7,
   "id": "d9adacf9",
   "metadata": {},
   "outputs": [
    {
     "name": "stdout",
     "output_type": "stream",
     "text": [
      "7060만\n"
     ]
    }
   ],
   "source": [
    "# 구독자수 찾기\n",
    "category = channel.select(\"td.subscriber_cnt\")[0].text\n",
    "print(category.strip())"
   ]
  },
  {
   "cell_type": "code",
   "execution_count": 8,
   "id": "c977269e",
   "metadata": {},
   "outputs": [
    {
     "name": "stdout",
     "output_type": "stream",
     "text": [
      "216억3224만\n"
     ]
    }
   ],
   "source": [
    "# 조회수 찾기\n",
    "subscriber = channel.select(\"td.view_cnt\")[0].text\n",
    "print(subscriber.strip())"
   ]
  },
  {
   "cell_type": "code",
   "execution_count": 9,
   "id": "3280b55e",
   "metadata": {},
   "outputs": [
    {
     "name": "stdout",
     "output_type": "stream",
     "text": [
      "395개\n"
     ]
    }
   ],
   "source": [
    "# 영상 개수 찾기\n",
    "video = channel.select(\"td.video_cnt\")[0].text\n",
    "print(video.strip())"
   ]
  },
  {
   "cell_type": "markdown",
   "id": "0ead96c5",
   "metadata": {},
   "source": [
    "### 100개의 채널에서 찾기"
   ]
  },
  {
   "cell_type": "code",
   "execution_count": 10,
   "id": "d335c466",
   "metadata": {},
   "outputs": [
    {
     "name": "stdout",
     "output_type": "stream",
     "text": [
      "BLACKPINK\n",
      "HYBE LABELS\n",
      "BANGTANTV\n",
      "SMTOWN\n",
      "Boram Tube Vlog [보람튜브 브이로그]\n",
      "1MILLION Dance Studio\n",
      "1theK (원더케이)\n",
      "JYP Entertainment\n",
      "Mnet K-POP\n",
      "JFlaMusic\n",
      "KBS WORLD TV\n",
      "Jane ASMR 제인\n",
      "officialpsy\n",
      "BIGBANG\n",
      "TWICE\n",
      "Hongyu ASMR 홍유\n",
      "Nao FunFun\n",
      "Stone Music Entertainment\n",
      "DuDuPopTOY\n",
      "핑크퐁 (인기 동요・동화)\n",
      "MBCkpop\n",
      "Toymong tv 토이몽TV\n",
      "Larva TUBA\n",
      "서은이야기[SeoeunStory]\n",
      "Mnet TV\n",
      "EXO\n",
      "MBCentertainment\n",
      "[햄지]Hamzy\n",
      "iKON\n",
      "TOMORROW X TOGETHER OFFICIAL\n",
      "Stray Kids\n",
      "M2\n",
      "Serie A\n",
      "MariAndKids\n",
      "SEVENTEEN\n",
      "SonicToy소닉토이\n",
      "이지금 [IU Official]\n",
      "쏘영 Ssoyoung\n",
      "문복희 Eat with Boki\n",
      "JTBC Entertainment\n",
      "Sungha Jung\n",
      "KBS Kpop\n",
      "Pixar\n",
      "ALL THE K-POP\n",
      "YG ENTERTAINMENT\n",
      "MAMAMOO\n",
      "ITZY\n",
      "서은일상이야기\n",
      "스브스케이팝 / SBS KPOP\n",
      "GOT7\n",
      "SBS Entertainment\n",
      "tvN drama\n",
      "Samsung\n",
      "PONY Syndrome\n",
      "[장난감티비]TOYTV\n",
      "SBS Drama\n",
      "미니특공대TV\n",
      "야미보이 Yummyboy\n",
      "스위트티비 SweetTV\n",
      "2NE1\n",
      "백종원의 요리비책 Paik's Cuisine\n",
      "콩순이 • 시크릿 쥬쥬 [Kongsuni • Secret Jouju]\n",
      "[Awesome Haeun]어썸하은\n",
      "tzuyang쯔양\n",
      "starshipTV\n",
      "ToyMart TV\n",
      "베이비버스 -인기 동요・동화\n",
      "TOY GUMA\n",
      "BT21\n",
      "SBS NOW / SBS 공식 채널\n",
      "TREASURE (트레저)\n",
      "NCT\n",
      "Red Velvet\n",
      "With Kids Playground [위드키즈 놀이터]\n",
      "KBS Entertain\n",
      "푸메Fume\n",
      "떵개떵\n",
      "ASTRO 아스트로\n",
      "영국남자 Korean Englishman\n",
      "뽀로로(Pororo)\n",
      "MBCdrama\n",
      "하루한끼 one meal a day\n",
      "채널 NCT DAILY\n",
      "NCT 127\n",
      "슈슈토이 Shushu ToysReview\n",
      "Cooking tree 쿠킹트리\n",
      "NCT DREAM\n",
      "SBS TV동물농장x애니멀봐\n",
      "EA SPORTS FIFA\n",
      "JTBC Drama\n",
      "Raon Lee\n",
      "까니짱 [ G-NI ]\n",
      "로미유 스토리[Romiyu Story]\n",
      "[Dorothy]도로시\n",
      "JaeYeol ASMR 재열\n",
      "CoCosToy 꼬꼬스토이\n",
      "허팝Heopop\n",
      "워크맨-Workman\n",
      "WINNER\n",
      "크림히어로즈\n"
     ]
    }
   ],
   "source": [
    "for channel in channel_list:\n",
    "    title = channel.select(\"h1>a\")[0].text\n",
    "    print(title.strip())"
   ]
  },
  {
   "cell_type": "code",
   "execution_count": 11,
   "id": "2859a7ff",
   "metadata": {},
   "outputs": [
    {
     "name": "stdout",
     "output_type": "stream",
     "text": [
      "7060만\n",
      "6320만\n",
      "6190만\n",
      "2940만\n",
      "2650만\n",
      "2460만\n",
      "2380만\n",
      "2320만\n",
      "1910만\n",
      "1740만\n",
      "1730만\n",
      "1560만\n",
      "1530만\n",
      "1390만\n",
      "1260만\n",
      "1100만\n",
      "1070만\n",
      "1020만\n",
      "1010만\n",
      "1000만\n",
      "962만\n",
      "961만\n",
      "953만\n",
      "943만\n",
      "870만\n",
      "856만\n",
      "851만\n",
      "849만\n",
      "843만\n",
      "835만\n",
      "815만\n",
      "787만\n",
      "771만\n",
      "754만\n",
      "730만\n",
      "727만\n",
      "718만\n",
      "716만\n",
      "705만\n",
      "703만\n",
      "679만\n",
      "658만\n",
      "652만\n",
      "652만\n",
      "652만\n",
      "641만\n",
      "637만\n",
      "633만\n",
      "620만\n",
      "613만\n",
      "595만\n",
      "594만\n",
      "593만\n",
      "590만\n",
      "580만\n",
      "579만\n",
      "573만\n",
      "562만\n",
      "561만\n",
      "537만\n",
      "523만\n",
      "519만\n",
      "517만\n",
      "508만\n",
      "501만\n",
      "492만\n",
      "489만\n",
      "485만\n",
      "480만\n",
      "476만\n",
      "472만\n",
      "464만\n",
      "463만\n",
      "462만\n",
      "460만\n",
      "459만\n",
      "458만\n",
      "454만\n",
      "450만\n",
      "449만\n",
      "448만\n",
      "440만\n",
      "432만\n",
      "429만\n",
      "429만\n",
      "429만\n",
      "427만\n",
      "427만\n",
      "426만\n",
      "426만\n",
      "424만\n",
      "422만\n",
      "419만\n",
      "416만\n",
      "398만\n",
      "391만\n",
      "384만\n",
      "380만\n",
      "379만\n",
      "378만\n"
     ]
    }
   ],
   "source": [
    "for channel in channel_list:\n",
    "    category = channel.select(\"td.subscriber_cnt\")[0].text\n",
    "    print(category.strip())"
   ]
  },
  {
   "cell_type": "code",
   "execution_count": 15,
   "id": "2d45d654",
   "metadata": {},
   "outputs": [
    {
     "name": "stdout",
     "output_type": "stream",
     "text": [
      "216억3224만\n",
      "206억4055만\n",
      "142억4709만\n",
      "231억5075만\n",
      "110억5288만\n",
      "69억5197만\n",
      "214억1761만\n",
      "151억1694만\n",
      "140억8876만\n",
      "35억1106만\n",
      "129억1182만\n",
      "55억4665만\n",
      "88억6450만\n",
      "68억4957만\n",
      "27억4451만\n",
      "31억9306만\n",
      "450만\n",
      "83억0985만\n",
      "45억4032만\n",
      "60억3473만\n",
      "76억5047만\n",
      "39억6791만\n",
      "41억8445만\n",
      "40억6459만\n",
      "101억8310만\n",
      "5억3771만\n",
      "149억5547만\n",
      "25억3834만\n",
      "21억6771만\n",
      "5억9742만\n",
      "13억4259만\n",
      "60억0714만\n",
      "26억2007만\n",
      "23억2456만\n",
      "24억2609만\n",
      "30억1399만\n",
      "11억7186만\n",
      "7억0713만\n",
      "16억6509만\n",
      "101억6399만\n",
      "18억9180만\n",
      "51억4113만\n",
      "32억1584만\n",
      "40억1126만\n",
      "16억6112만\n",
      "18억0674만\n",
      "12억0656만\n",
      "23억6633만\n",
      "42억6271만\n",
      "7억7982만\n",
      "70억8350만\n",
      "60억6116만\n",
      "12억8820만\n",
      "3억4438만\n",
      "28억3721만\n",
      "61억1900만\n",
      "32억2446만\n",
      "20억5784만\n",
      "27억1449만\n",
      "19억9667만\n",
      "5억8077만\n",
      "46억2329만\n",
      "8억1979만\n",
      "7억9044만\n",
      "29억0918만\n",
      "21억4921만\n",
      "33억0998만\n",
      "15억9955만\n",
      "3억9426만\n",
      "47억6579만\n",
      "9억4287만\n",
      "3억3636만\n",
      "7억2149만\n",
      "17억3122만\n",
      "74억3341만\n",
      "9억4452만\n",
      "26억1310만\n",
      "4억5034만\n",
      "14억6379만\n",
      "60억8666만\n",
      "50억6565만\n",
      "4억2852만\n",
      "7억6605만\n",
      "4억8956만\n",
      "16억0785만\n",
      "4억0087만\n",
      "4억8460만\n",
      "39억0522만\n",
      "8억0363만\n",
      "43억6880만\n",
      "9억6120만\n",
      "11억1612만\n",
      "11억0059만\n",
      "9억9925만\n",
      "11억0189만\n",
      "22억1064만\n",
      "32억7545만\n",
      "7억5282만\n",
      "12억1600만\n",
      "14억1795만\n"
     ]
    }
   ],
   "source": [
    "for channel in channel_list:\n",
    "    subscriber = channel.select(\"td.view_cnt\")[0].text\n",
    "    print(subscriber.strip())"
   ]
  },
  {
   "cell_type": "code",
   "execution_count": 16,
   "id": "091e8a2b",
   "metadata": {},
   "outputs": [
    {
     "name": "stdout",
     "output_type": "stream",
     "text": [
      "395개\n",
      "731개\n",
      "1,649개\n",
      "3,786개\n",
      "223개\n",
      "3,431개\n",
      "15,732개\n",
      "1,432개\n",
      "26,922개\n",
      "281개\n",
      "54,232개\n",
      "1,311개\n",
      "91개\n",
      "773개\n",
      "709개\n",
      "425개\n",
      "37개\n",
      "8,374개\n",
      "1,922개\n",
      "2,406개\n",
      "41,676개\n",
      "1,933개\n",
      "2,990개\n",
      "1,052개\n",
      "19,321개\n",
      "238개\n",
      "88,436개\n",
      "371개\n",
      "470개\n",
      "915개\n",
      "526개\n",
      "15,073개\n",
      "21,356개\n",
      "809개\n",
      "976개\n",
      "163개\n",
      "136개\n",
      "517개\n",
      "505개\n",
      "66,949개\n",
      "1,288개\n",
      "30,851개\n",
      "691개\n",
      "21,133개\n",
      "389개\n",
      "629개\n",
      "503개\n",
      "622개\n",
      "27,576개\n",
      "579개\n",
      "218,690개\n",
      "37,884개\n",
      "1,646개\n",
      "196개\n",
      "1,529개\n",
      "341,738개\n",
      "1,183개\n",
      "902개\n",
      "512개\n",
      "321개\n",
      "368개\n",
      "1,286개\n",
      "515개\n",
      "295개\n",
      "1,987개\n",
      "651개\n",
      "1,341개\n",
      "306개\n",
      "209개\n",
      "20,506개\n",
      "294개\n",
      "250개\n",
      "153개\n",
      "411개\n",
      "102,781개\n",
      "504개\n",
      "4,446개\n",
      "472개\n",
      "445개\n",
      "3,707개\n",
      "54,948개\n",
      "172개\n",
      "467개\n",
      "291개\n",
      "640개\n",
      "1,182개\n",
      "244개\n",
      "3,211개\n",
      "795개\n",
      "23,532개\n",
      "296개\n",
      "542개\n",
      "434개\n",
      "907개\n",
      "1,025개\n",
      "656개\n",
      "1,905개\n",
      "157개\n",
      "452개\n",
      "1,016개\n"
     ]
    }
   ],
   "source": [
    "for channel in channel_list:\n",
    "    video = channel.select(\"td.video_cnt\")[0].text\n",
    "    print(video.strip())"
   ]
  }
 ],
 "metadata": {
  "kernelspec": {
   "display_name": "Python 3 (ipykernel)",
   "language": "python",
   "name": "python3"
  },
  "language_info": {
   "codemirror_mode": {
    "name": "ipython",
    "version": 3
   },
   "file_extension": ".py",
   "mimetype": "text/x-python",
   "name": "python",
   "nbconvert_exporter": "python",
   "pygments_lexer": "ipython3",
   "version": "3.8.12"
  },
  "toc": {
   "base_numbering": 1,
   "nav_menu": {},
   "number_sections": true,
   "sideBar": true,
   "skip_h1_title": false,
   "title_cell": "Table of Contents",
   "title_sidebar": "Contents",
   "toc_cell": false,
   "toc_position": {},
   "toc_section_display": true,
   "toc_window_display": true
  }
 },
 "nbformat": 4,
 "nbformat_minor": 5
}
