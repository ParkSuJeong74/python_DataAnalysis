{
 "cells": [
  {
   "cell_type": "markdown",
   "id": "60ecc839",
   "metadata": {},
   "source": [
    "## 유튜브 랭킹\n",
    "\n",
    "### HTML 뭉치 찾기(10개)\n",
    "- channel_list\n",
    "\n"
   ]
  },
  {
   "cell_type": "code",
   "execution_count": 1,
   "id": "ff79b75a",
   "metadata": {},
   "outputs": [],
   "source": [
    "# import 라이브러리명\n",
    "# 라이브러리 중 명령어 몇개만 준비! : from\n",
    "\n",
    "import chromedriver_autoinstaller\n",
    "from selenium import webdriver # selenium의 webdriver import 함\n",
    "from bs4 import BeautifulSoup\n",
    "\n",
    "# chromedriver 버전 업데이트\n",
    "chromedriver_autoinstaller.install()\n",
    "\n",
    "# 브라우저 열기\n",
    "browser = webdriver.Chrome() # 컴퓨터용 브라우저\n",
    "\n",
    "url=\"https://youtube-rank.com/board/bbs/board.php?bo_table=youtube&page=1\"\n",
    "browser.get(url)"
   ]
  },
  {
   "cell_type": "code",
   "execution_count": 2,
   "id": "15d713a4",
   "metadata": {},
   "outputs": [],
   "source": [
    "# 100개 채널, 채널명, 카테고리, 구독자수, 조회수, 영상 개수\n",
    "html=browser.page_source\n",
    "soup=BeautifulSoup(html, \"html.parser\")"
   ]
  },
  {
   "cell_type": "code",
   "execution_count": 3,
   "id": "ae2e2516",
   "metadata": {},
   "outputs": [
    {
     "data": {
      "text/plain": [
       "100"
      ]
     },
     "execution_count": 3,
     "metadata": {},
     "output_type": "execute_result"
    }
   ],
   "source": [
    "# 채널 리스트\n",
    "channel_list = soup.select(\"table > tbody > tr.aos-init\") # 100개 담김\n",
    "len(channel_list)"
   ]
  },
  {
   "cell_type": "markdown",
   "id": "d55cad8e",
   "metadata": {},
   "source": [
    "### 1개의 채널에서 필요한 정보찾기"
   ]
  },
  {
   "cell_type": "code",
   "execution_count": 4,
   "id": "e35acef7",
   "metadata": {},
   "outputs": [
    {
     "data": {
      "text/plain": [
       "15"
      ]
     },
     "execution_count": 4,
     "metadata": {},
     "output_type": "execute_result"
    }
   ],
   "source": [
    "channel = channel_list[0] # 첫번째 채널\n",
    "len(channel)"
   ]
  },
  {
   "cell_type": "code",
   "execution_count": 5,
   "id": "2435e610",
   "metadata": {},
   "outputs": [
    {
     "name": "stdout",
     "output_type": "stream",
     "text": [
      "BLACKPINK\n"
     ]
    }
   ],
   "source": [
    "# 채널명 찾기\n",
    "title = channel.select(\"h1>a\")[0].text\n",
    "print(title.strip())"
   ]
  },
  {
   "cell_type": "code",
   "execution_count": 6,
   "id": "7a2d3759",
   "metadata": {},
   "outputs": [
    {
     "name": "stdout",
     "output_type": "stream",
     "text": [
      "[음악/댄스/가수]\n"
     ]
    }
   ],
   "source": [
    "# 카테고리 찾기\n",
    "category = channel.select(\"p.category\")[0].text\n",
    "print(category.strip())"
   ]
  },
  {
   "cell_type": "code",
   "execution_count": 7,
   "id": "9c9ebbca",
   "metadata": {},
   "outputs": [
    {
     "name": "stdout",
     "output_type": "stream",
     "text": [
      "7060만\n"
     ]
    }
   ],
   "source": [
    "# 구독자수 찾기\n",
    "category = channel.select(\"td.subscriber_cnt\")[0].text\n",
    "print(category.strip())"
   ]
  },
  {
   "cell_type": "code",
   "execution_count": 8,
   "id": "5693a618",
   "metadata": {},
   "outputs": [
    {
     "name": "stdout",
     "output_type": "stream",
     "text": [
      "216억3224만\n"
     ]
    }
   ],
   "source": [
    "# 조회수 찾기\n",
    "subscriber = channel.select(\"td.view_cnt\")[0].text\n",
    "print(subscriber.strip())"
   ]
  },
  {
   "cell_type": "code",
   "execution_count": 9,
   "id": "097c8427",
   "metadata": {},
   "outputs": [
    {
     "name": "stdout",
     "output_type": "stream",
     "text": [
      "395개\n"
     ]
    }
   ],
   "source": [
    "# 영상 개수 찾기\n",
    "video = channel.select(\"td.video_cnt\")[0].text\n",
    "print(video.strip())"
   ]
  },
  {
   "cell_type": "markdown",
   "id": "906b8304",
   "metadata": {},
   "source": [
    "### 100개의 채널에서 찾기"
   ]
  },
  {
   "cell_type": "code",
   "execution_count": 10,
   "id": "b47e63d0",
   "metadata": {
    "scrolled": true
   },
   "outputs": [
    {
     "name": "stdout",
     "output_type": "stream",
     "text": [
      "BLACKPINK\n",
      "HYBE LABELS\n",
      "BANGTANTV\n",
      "SMTOWN\n",
      "Boram Tube Vlog [보람튜브 브이로그]\n",
      "1MILLION Dance Studio\n",
      "1theK (원더케이)\n",
      "JYP Entertainment\n",
      "Mnet K-POP\n",
      "JFlaMusic\n",
      "KBS WORLD TV\n",
      "Jane ASMR 제인\n",
      "officialpsy\n",
      "BIGBANG\n",
      "TWICE\n",
      "Hongyu ASMR 홍유\n",
      "Nao FunFun\n",
      "Stone Music Entertainment\n",
      "DuDuPopTOY\n",
      "핑크퐁 (인기 동요・동화)\n",
      "MBCkpop\n",
      "Toymong tv 토이몽TV\n",
      "Larva TUBA\n",
      "서은이야기[SeoeunStory]\n",
      "Mnet TV\n",
      "EXO\n",
      "MBCentertainment\n",
      "[햄지]Hamzy\n",
      "iKON\n",
      "TOMORROW X TOGETHER OFFICIAL\n",
      "Stray Kids\n",
      "M2\n",
      "Serie A\n",
      "MariAndKids\n",
      "SEVENTEEN\n",
      "SonicToy소닉토이\n",
      "이지금 [IU Official]\n",
      "쏘영 Ssoyoung\n",
      "문복희 Eat with Boki\n",
      "JTBC Entertainment\n",
      "Sungha Jung\n",
      "KBS Kpop\n",
      "Pixar\n",
      "ALL THE K-POP\n",
      "YG ENTERTAINMENT\n",
      "MAMAMOO\n",
      "ITZY\n",
      "서은일상이야기\n",
      "스브스케이팝 / SBS KPOP\n",
      "GOT7\n",
      "SBS Entertainment\n",
      "tvN drama\n",
      "Samsung\n",
      "PONY Syndrome\n",
      "[장난감티비]TOYTV\n",
      "SBS Drama\n",
      "미니특공대TV\n",
      "야미보이 Yummyboy\n",
      "스위트티비 SweetTV\n",
      "2NE1\n",
      "백종원의 요리비책 Paik's Cuisine\n",
      "콩순이 • 시크릿 쥬쥬 [Kongsuni • Secret Jouju]\n",
      "[Awesome Haeun]어썸하은\n",
      "tzuyang쯔양\n",
      "starshipTV\n",
      "ToyMart TV\n",
      "베이비버스 -인기 동요・동화\n",
      "TOY GUMA\n",
      "BT21\n",
      "SBS NOW / SBS 공식 채널\n",
      "TREASURE (트레저)\n",
      "NCT\n",
      "Red Velvet\n",
      "With Kids Playground [위드키즈 놀이터]\n",
      "KBS Entertain\n",
      "푸메Fume\n",
      "떵개떵\n",
      "ASTRO 아스트로\n",
      "영국남자 Korean Englishman\n",
      "뽀로로(Pororo)\n",
      "MBCdrama\n",
      "하루한끼 one meal a day\n",
      "채널 NCT DAILY\n",
      "NCT 127\n",
      "슈슈토이 Shushu ToysReview\n",
      "Cooking tree 쿠킹트리\n",
      "NCT DREAM\n",
      "SBS TV동물농장x애니멀봐\n",
      "EA SPORTS FIFA\n",
      "JTBC Drama\n",
      "Raon Lee\n",
      "까니짱 [ G-NI ]\n",
      "로미유 스토리[Romiyu Story]\n",
      "[Dorothy]도로시\n",
      "JaeYeol ASMR 재열\n",
      "CoCosToy 꼬꼬스토이\n",
      "허팝Heopop\n",
      "워크맨-Workman\n",
      "WINNER\n",
      "크림히어로즈\n"
     ]
    }
   ],
   "source": [
    "for channel in channel_list:\n",
    "    title = channel.select(\"h1>a\")[0].text\n",
    "    print(title.strip())"
   ]
  },
  {
   "cell_type": "code",
   "execution_count": 11,
   "id": "c4413235",
   "metadata": {},
   "outputs": [],
   "source": [
    "for channel in channel_list:\n",
    "    category = channel.select(\"p.category\")[0].text\n",
    "    # print(category.strip())"
   ]
  },
  {
   "cell_type": "code",
   "execution_count": 12,
   "id": "cf2d4e7a",
   "metadata": {},
   "outputs": [],
   "source": [
    "for channel in channel_list:\n",
    "    subscriber = channel.select(\"td.subscriber_cnt\")[0].text\n",
    "    # print(subscriber.strip())"
   ]
  },
  {
   "cell_type": "code",
   "execution_count": 13,
   "id": "7179217f",
   "metadata": {},
   "outputs": [],
   "source": [
    "for channel in channel_list:\n",
    "    video = channel.select(\"td.video_cnt\")[0].text\n",
    "    # print(video.strip())"
   ]
  },
  {
   "cell_type": "code",
   "execution_count": 14,
   "id": "b9d8f929",
   "metadata": {},
   "outputs": [],
   "source": [
    "for channel in channel_list:\n",
    "    title = channel.select(\"h1>a\")[0].text.strip()\n",
    "    category = channel.select(\"p.category\")[0].text.strip()\n",
    "    subscriber = channel.select(\"td.subscriber_cnt\")[0].text.strip()\n",
    "    view = channel.select('td.view_cnt')[0].text.strip()\n",
    "    video = channel.select(\"td.video_cnt\")[0].text.strip()\n",
    "    # print(title, category, subscriber, view, video)"
   ]
  },
  {
   "cell_type": "markdown",
   "id": "47c3f315",
   "metadata": {},
   "source": [
    "### 다음 페이지 크롤링"
   ]
  },
  {
   "cell_type": "code",
   "execution_count": 15,
   "id": "1a29d7e1",
   "metadata": {},
   "outputs": [],
   "source": [
    "page=2\n",
    "url=f\"https://youtube-rank.com/board/bbs/board.php?bo_table=youtube&page={page}\"\n",
    "browser.get(url)"
   ]
  },
  {
   "cell_type": "code",
   "execution_count": 16,
   "id": "145cd3f0",
   "metadata": {},
   "outputs": [],
   "source": [
    "import time\n",
    "\n",
    "page=2\n",
    "url=f\"https://youtube-rank.com/board/bbs/board.php?bo_table=youtube&page={page}\"\n",
    "browser.get(url) # 데이터 요청\n",
    "\n",
    "time.sleep(1) # 1초 쉬어주기\n",
    "\n",
    "html=browser.page_source # 이미 데이터가 들어가 있다고 생각하고 사진 찍음\n",
    "soup=BeautifulSoup(html, \"html.parser\")\n",
    "\n",
    "channel_list = soup.select(\"table > tbody > tr.aos-init\") # 100개 담김\n",
    "\n",
    "for channel in channel_list:\n",
    "    title = channel.select(\"h1>a\")[0].text.strip()\n",
    "    category = channel.select(\"p.category\")[0].text.strip()\n",
    "    subscriber = channel.select(\"td.subscriber_cnt\")[0].text.strip()\n",
    "    view = channel.select('td.view_cnt')[0].text.strip()\n",
    "    video = channel.select(\"td.video_cnt\")[0].text.strip()\n",
    "    # print(title, category, subscriber, view, video)"
   ]
  },
  {
   "cell_type": "code",
   "execution_count": 17,
   "id": "13e42767",
   "metadata": {},
   "outputs": [],
   "source": [
    "import time\n",
    "\n",
    "results = [] # 전체 채널 저장할 리스트\n",
    "\n",
    "for page in range(1, 3):\n",
    "    \n",
    "    url=f\"https://youtube-rank.com/board/bbs/board.php?bo_table=youtube&page={page}\"\n",
    "    browser.get(url) # 데이터 요청\n",
    "\n",
    "    time.sleep(1) # 1초 쉬어주기\n",
    "\n",
    "    html=browser.page_source # 이미 데이터가 들어가 있다고 생각하고 사진 찍음\n",
    "    soup=BeautifulSoup(html, \"html.parser\")\n",
    "\n",
    "    channel_list = soup.select(\"table > tbody > tr.aos-init\") # 100개 담김\n",
    "\n",
    "    for channel in channel_list:\n",
    "        title = channel.select(\"h1>a\")[0].text.strip()\n",
    "        category = channel.select(\"p.category\")[0].text.strip()\n",
    "        subscriber = channel.select(\"td.subscriber_cnt\")[0].text.strip()\n",
    "        view = channel.select('td.view_cnt')[0].text.strip()\n",
    "        video = channel.select(\"td.video_cnt\")[0].text.strip()\n",
    "        # print(title, category, subscriber, view, video)\n",
    "        data=[title, category, subscriber, view, video]\n",
    "        results.append(data)"
   ]
  },
  {
   "cell_type": "code",
   "execution_count": 23,
   "id": "b4ad0e27",
   "metadata": {},
   "outputs": [
    {
     "ename": "AttributeError",
     "evalue": "'list' object has no attribute 'head'",
     "output_type": "error",
     "traceback": [
      "\u001b[1;31m---------------------------------------------------------------------------\u001b[0m",
      "\u001b[1;31mAttributeError\u001b[0m                            Traceback (most recent call last)",
      "\u001b[1;32m~\\AppData\\Local\\Temp/ipykernel_6368/1848677827.py\u001b[0m in \u001b[0;36m<module>\u001b[1;34m\u001b[0m\n\u001b[1;32m----> 1\u001b[1;33m \u001b[0mresults\u001b[0m\u001b[1;33m.\u001b[0m\u001b[0mhead\u001b[0m\u001b[1;33m(\u001b[0m\u001b[1;36m5\u001b[0m\u001b[1;33m)\u001b[0m\u001b[1;33m\u001b[0m\u001b[1;33m\u001b[0m\u001b[0m\n\u001b[0m",
      "\u001b[1;31mAttributeError\u001b[0m: 'list' object has no attribute 'head'"
     ]
    }
   ],
   "source": [
    "results.head(5)"
   ]
  },
  {
   "cell_type": "code",
   "execution_count": 19,
   "id": "069eb1d6",
   "metadata": {},
   "outputs": [
    {
     "data": {
      "text/plain": [
       "200"
      ]
     },
     "execution_count": 19,
     "metadata": {},
     "output_type": "execute_result"
    }
   ],
   "source": [
    "len(results)"
   ]
  },
  {
   "cell_type": "code",
   "execution_count": 20,
   "id": "ee094079",
   "metadata": {},
   "outputs": [
    {
     "data": {
      "text/html": [
       "<div>\n",
       "<style scoped>\n",
       "    .dataframe tbody tr th:only-of-type {\n",
       "        vertical-align: middle;\n",
       "    }\n",
       "\n",
       "    .dataframe tbody tr th {\n",
       "        vertical-align: top;\n",
       "    }\n",
       "\n",
       "    .dataframe thead th {\n",
       "        text-align: right;\n",
       "    }\n",
       "</style>\n",
       "<table border=\"1\" class=\"dataframe\">\n",
       "  <thead>\n",
       "    <tr style=\"text-align: right;\">\n",
       "      <th></th>\n",
       "      <th>채널명</th>\n",
       "      <th>카테고리</th>\n",
       "      <th>구독자수</th>\n",
       "      <th>조회수</th>\n",
       "      <th>영상수</th>\n",
       "    </tr>\n",
       "  </thead>\n",
       "  <tbody>\n",
       "    <tr>\n",
       "      <th>0</th>\n",
       "      <td>BLACKPINK</td>\n",
       "      <td>[음악/댄스/가수]</td>\n",
       "      <td>7060만</td>\n",
       "      <td>216억3224만</td>\n",
       "      <td>395개</td>\n",
       "    </tr>\n",
       "    <tr>\n",
       "      <th>1</th>\n",
       "      <td>HYBE LABELS</td>\n",
       "      <td>[음악/댄스/가수]</td>\n",
       "      <td>6320만</td>\n",
       "      <td>206억4055만</td>\n",
       "      <td>731개</td>\n",
       "    </tr>\n",
       "    <tr>\n",
       "      <th>2</th>\n",
       "      <td>BANGTANTV</td>\n",
       "      <td>[음악/댄스/가수]</td>\n",
       "      <td>6190만</td>\n",
       "      <td>142억4709만</td>\n",
       "      <td>1,649개</td>\n",
       "    </tr>\n",
       "    <tr>\n",
       "      <th>3</th>\n",
       "      <td>SMTOWN</td>\n",
       "      <td>[음악/댄스/가수]</td>\n",
       "      <td>2940만</td>\n",
       "      <td>231억5075만</td>\n",
       "      <td>3,786개</td>\n",
       "    </tr>\n",
       "    <tr>\n",
       "      <th>4</th>\n",
       "      <td>Boram Tube Vlog [보람튜브 브이로그]</td>\n",
       "      <td>[키즈/어린이]</td>\n",
       "      <td>2650만</td>\n",
       "      <td>110억5288만</td>\n",
       "      <td>223개</td>\n",
       "    </tr>\n",
       "    <tr>\n",
       "      <th>...</th>\n",
       "      <td>...</td>\n",
       "      <td>...</td>\n",
       "      <td>...</td>\n",
       "      <td>...</td>\n",
       "      <td>...</td>\n",
       "    </tr>\n",
       "    <tr>\n",
       "      <th>195</th>\n",
       "      <td>토닥토닥 꼬모 - 애니메이션, 동요, 놀이</td>\n",
       "      <td>[키즈/어린이]</td>\n",
       "      <td>214만</td>\n",
       "      <td>25억3812만</td>\n",
       "      <td>877개</td>\n",
       "    </tr>\n",
       "    <tr>\n",
       "      <th>196</th>\n",
       "      <td>OfficialGDRAGON</td>\n",
       "      <td>[음악/댄스/가수]</td>\n",
       "      <td>212만</td>\n",
       "      <td>6724만</td>\n",
       "      <td>0개</td>\n",
       "    </tr>\n",
       "    <tr>\n",
       "      <th>197</th>\n",
       "      <td>4Minute 포미닛(Official YouTube Channel)</td>\n",
       "      <td>[음악/댄스/가수]</td>\n",
       "      <td>211만</td>\n",
       "      <td>12억7011만</td>\n",
       "      <td>82개</td>\n",
       "    </tr>\n",
       "    <tr>\n",
       "      <th>198</th>\n",
       "      <td>감스트GAMST</td>\n",
       "      <td>[게임]</td>\n",
       "      <td>211만</td>\n",
       "      <td>14억5725만</td>\n",
       "      <td>4,473개</td>\n",
       "    </tr>\n",
       "    <tr>\n",
       "      <th>199</th>\n",
       "      <td>[wonderkids TV] 원더키즈 TV</td>\n",
       "      <td>[키즈/어린이]</td>\n",
       "      <td>210만</td>\n",
       "      <td>9억2943만</td>\n",
       "      <td>940개</td>\n",
       "    </tr>\n",
       "  </tbody>\n",
       "</table>\n",
       "<p>200 rows × 5 columns</p>\n",
       "</div>"
      ],
      "text/plain": [
       "                                       채널명        카테고리   구독자수        조회수  \\\n",
       "0                                BLACKPINK  [음악/댄스/가수]  7060만  216억3224만   \n",
       "1                              HYBE LABELS  [음악/댄스/가수]  6320만  206억4055만   \n",
       "2                                BANGTANTV  [음악/댄스/가수]  6190만  142억4709만   \n",
       "3                                   SMTOWN  [음악/댄스/가수]  2940만  231억5075만   \n",
       "4              Boram Tube Vlog [보람튜브 브이로그]    [키즈/어린이]  2650만  110억5288만   \n",
       "..                                     ...         ...    ...        ...   \n",
       "195                토닥토닥 꼬모 - 애니메이션, 동요, 놀이    [키즈/어린이]   214만   25억3812만   \n",
       "196                        OfficialGDRAGON  [음악/댄스/가수]   212만      6724만   \n",
       "197  4Minute 포미닛(Official YouTube Channel)  [음악/댄스/가수]   211만   12억7011만   \n",
       "198                               감스트GAMST        [게임]   211만   14억5725만   \n",
       "199                [wonderkids TV] 원더키즈 TV    [키즈/어린이]   210만    9억2943만   \n",
       "\n",
       "        영상수  \n",
       "0      395개  \n",
       "1      731개  \n",
       "2    1,649개  \n",
       "3    3,786개  \n",
       "4      223개  \n",
       "..      ...  \n",
       "195    877개  \n",
       "196      0개  \n",
       "197     82개  \n",
       "198  4,473개  \n",
       "199    940개  \n",
       "\n",
       "[200 rows x 5 columns]"
      ]
     },
     "execution_count": 20,
     "metadata": {},
     "output_type": "execute_result"
    }
   ],
   "source": [
    "import pandas as pd\n",
    "df = pd.DataFrame(results)\n",
    "df.columns = [\"채널명\", \"카테고리\", \"구독자수\", \"조회수\", \"영상수\"]\n",
    "df"
   ]
  },
  {
   "cell_type": "code",
   "execution_count": 21,
   "id": "821eb949",
   "metadata": {},
   "outputs": [
    {
     "name": "stdout",
     "output_type": "stream",
     "text": [
      "Requirement already satisfied: openpyxl in c:\\users\\dell\\anaconda3\\lib\\site-packages (3.0.9)\n",
      "Requirement already satisfied: et-xmlfile in c:\\users\\dell\\anaconda3\\lib\\site-packages (from openpyxl) (1.1.0)\n"
     ]
    }
   ],
   "source": [
    "! pip install openpyxl"
   ]
  },
  {
   "cell_type": "code",
   "execution_count": 22,
   "id": "135a9825",
   "metadata": {},
   "outputs": [],
   "source": [
    "df.to_excel(\"./YouTube_Rank1000.xlsx\", index = False) # 인덱스 번호 무시"
   ]
  }
 ],
 "metadata": {
  "kernelspec": {
   "display_name": "Python 3 (ipykernel)",
   "language": "python",
   "name": "python3"
  },
  "language_info": {
   "codemirror_mode": {
    "name": "ipython",
    "version": 3
   },
   "file_extension": ".py",
   "mimetype": "text/x-python",
   "name": "python",
   "nbconvert_exporter": "python",
   "pygments_lexer": "ipython3",
   "version": "3.8.12"
  },
  "toc": {
   "base_numbering": 1,
   "nav_menu": {},
   "number_sections": true,
   "sideBar": true,
   "skip_h1_title": false,
   "title_cell": "Table of Contents",
   "title_sidebar": "Contents",
   "toc_cell": false,
   "toc_position": {
    "height": "calc(100% - 180px)",
    "left": "10px",
    "top": "150px",
    "width": "165px"
   },
   "toc_section_display": true,
   "toc_window_display": true
  }
 },
 "nbformat": 4,
 "nbformat_minor": 5
}
