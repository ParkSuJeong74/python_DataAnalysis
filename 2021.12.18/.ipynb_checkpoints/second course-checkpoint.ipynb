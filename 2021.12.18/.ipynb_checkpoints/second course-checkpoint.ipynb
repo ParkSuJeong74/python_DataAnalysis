{
 "cells": [
  {
   "cell_type": "markdown",
   "id": "df4134f0",
   "metadata": {},
   "source": [
    "##  Crawling\n",
    "1. 브라우저 열기(browser)\n",
    "2. 웹페이지 접속(browser.get(url)\n",
    "3. 정보있는지 점검! 없다면? -> 브라우저 조작 필요(입력, 클릭)\n",
    "4. 내가 원하는 정보를 찾아주기 : \n",
    "\n",
    "beautifulsoup\n",
    "- BautifulSoup(html, \"html.parser\") # 해석 완료\n",
    "- html = browser.page_source\n",
    "- html.parser : 사전\n",
    "\n",
    "태그 찾기\n",
    "- <태그명 class=\"\" id=\"\"></태그명> 찾기!\n",
    "- 부모태그 - 자식태그\n",
    "- soup.select() / find()\n",
    "-\".class 속성값\", \"#id 속성값\"\n",
    "- \"부모태그정보 > 자식태그정보\"\n",
    "\n",
    "-> [태그1, 태그2, 태그3...] : list\n",
    "\n",
    "태그 선택하기\n",
    "- soup.select()[0] : 한 개 선택\n",
    "- for tag in soup.select() : 반복문 사용해서 순서대로 한 개씩 선택\n",
    "\n",
    "원하는 정보 추출\n",
    "- tag.text # 태그 기호 제외하기 : 화면에 보이는 글만 가져오기"
   ]
  },
  {
   "cell_type": "code",
   "execution_count": null,
   "id": "62e47967",
   "metadata": {},
   "outputs": [],
   "source": []
  },
  {
   "cell_type": "code",
   "execution_count": null,
   "id": "5079d682",
   "metadata": {},
   "outputs": [],
   "source": []
  },
  {
   "cell_type": "code",
   "execution_count": null,
   "id": "2868768d",
   "metadata": {},
   "outputs": [],
   "source": []
  }
 ],
 "metadata": {
  "kernelspec": {
   "display_name": "Python 3 (ipykernel)",
   "language": "python",
   "name": "python3"
  },
  "language_info": {
   "codemirror_mode": {
    "name": "ipython",
    "version": 3
   },
   "file_extension": ".py",
   "mimetype": "text/x-python",
   "name": "python",
   "nbconvert_exporter": "python",
   "pygments_lexer": "ipython3",
   "version": "3.8.12"
  }
 },
 "nbformat": 4,
 "nbformat_minor": 5
}
