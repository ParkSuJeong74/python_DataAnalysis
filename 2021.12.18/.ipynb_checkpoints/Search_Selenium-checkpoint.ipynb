{
 "cells": [
  {
   "cell_type": "markdown",
   "id": "a5eadbf6",
   "metadata": {},
   "source": [
    "## 검색\n",
    "- SEO : 검색엔진 최적화"
   ]
  },
  {
   "cell_type": "code",
   "execution_count": 1,
   "id": "886c23cc",
   "metadata": {},
   "outputs": [],
   "source": [
    "# import 라이브러리명\n",
    "# 라이브러리 중 명령어 몇개만 준비! : from\n",
    "\n",
    "import chromedriver_autoinstaller\n",
    "from selenium import webdriver # selenium의 webdriver import 함\n",
    "from bs4 import BeautifulSoup\n",
    "\n",
    "# chromedriver 버전 업데이트\n",
    "chromedriver_autoinstaller.install()\n",
    "\n",
    "# 브라우저 열기\n",
    "browser = webdriver.Chrome() # 컴퓨터용 브라우저"
   ]
  },
  {
   "cell_type": "code",
   "execution_count": 2,
   "id": "6c030dd8",
   "metadata": {},
   "outputs": [],
   "source": [
    "url=\"http://www.naver.com\"\n",
    "browser.get(url)"
   ]
  },
  {
   "cell_type": "markdown",
   "id": "bcbcb347",
   "metadata": {},
   "source": [
    "### 검색어\n",
    "- 태그 정보 : css-selector\n",
    "- elements : 전부 다(element : 첫번째 꺼 하나만)\n",
    "- soup.select() : all / soup.select_one() : "
   ]
  },
  {
   "cell_type": "code",
   "execution_count": 3,
   "id": "4e2b4d84",
   "metadata": {},
   "outputs": [
    {
     "name": "stderr",
     "output_type": "stream",
     "text": [
      "C:\\Users\\dell\\AppData\\Local\\Temp/ipykernel_18368/4248687551.py:5: DeprecationWarning: find_elements_by_* commands are deprecated. Please use find_elements() instead\n",
      "  searching=browser.find_elements_by_css_selector(\"#query\")[0]\n",
      "C:\\Users\\dell\\AppData\\Local\\Temp/ipykernel_18368/4248687551.py:12: DeprecationWarning: find_elements_by_* commands are deprecated. Please use find_elements() instead\n",
      "  go_btn = browser.find_elements_by_css_selector(\"#search_btn\")[0]\n"
     ]
    }
   ],
   "source": [
    "url=\"http://www.naver.com\"\n",
    "browser.get(url)\n",
    "\n",
    "# 파이썬 검색\n",
    "searching=browser.find_elements_by_css_selector(\"#query\")[0]\n",
    "# 입력 하기\n",
    "word = \"썰매\"\n",
    "searching.clear() # 원래 입력되어 있는 값을 지움\n",
    "searching.send_keys(word)\n",
    "\n",
    "# 검색 버튼 찾기\n",
    "go_btn = browser.find_elements_by_css_selector(\"#search_btn\")[0] \n",
    "\n",
    "# 검색 버튼 클릭하기\n",
    "go_btn.click()"
   ]
  },
  {
   "cell_type": "markdown",
   "id": "c6e726a0",
   "metadata": {},
   "source": [
    "### 연관 검색어"
   ]
  },
  {
   "cell_type": "code",
   "execution_count": 4,
   "id": "61cb52fb",
   "metadata": {},
   "outputs": [
    {
     "name": "stderr",
     "output_type": "stream",
     "text": [
      "C:\\Users\\dell\\AppData\\Local\\Temp/ipykernel_18368/2860842292.py:9: DeprecationWarning: find_elements_by_* commands are deprecated. Please use find_elements() instead\n",
      "  searching=browser.find_elements_by_css_selector(\"#query\")[0]\n",
      " 17%|██████████████                                                                      | 1/6 [00:01<00:07,  1.43s/it]"
     ]
    },
    {
     "name": "stdout",
     "output_type": "stream",
     "text": [
      "2022 2022 최저임금 2021-12-18T17:53:19.417359\n",
      "2022 2022 달력 2021-12-18T17:53:19.417359\n",
      "2022 2022년 띠 2021-12-18T17:53:19.417359\n",
      "2022 2022 수능 2021-12-18T17:53:19.417359\n",
      "2022 2022 수능 등급컷 2021-12-18T17:53:19.417359\n",
      "2022 2022 다이어리 2021-12-18T17:53:19.417359\n",
      "2022 2022학년도 수능 등급컷 2021-12-18T17:53:19.417359\n",
      "2022 2022 수능 등급컷 원점수 2021-12-18T17:53:19.417359\n",
      "2022 2022 개정교육과정 2021-12-18T17:53:19.417359\n",
      "2022 2022년 2021-12-18T17:53:19.417359\n"
     ]
    },
    {
     "name": "stderr",
     "output_type": "stream",
     "text": [
      "\r",
      " 33%|████████████████████████████                                                        | 2/6 [00:02<00:05,  1.38s/it]"
     ]
    },
    {
     "name": "stdout",
     "output_type": "stream",
     "text": [
      "코로나 코로나 확진자 2021-12-18T17:53:20.761329\n",
      "코로나 코로나 라이브 2021-12-18T17:53:20.761329\n",
      "코로나 코로나19 거리두기 2021-12-18T17:53:20.761329\n",
      "코로나 코로나 영업제한 2021-12-18T17:53:20.761329\n",
      "코로나 코로나 거리두기 2021-12-18T17:53:20.761329\n",
      "코로나 코로나 증상 2021-12-18T17:53:20.761329\n",
      "코로나 코로나 거리두기 단계 2021-12-18T17:53:20.761329\n",
      "코로나 코로나19 예방접종 사전예약 2021-12-18T17:53:20.761329\n",
      "코로나 19코로나 확진자 2021-12-18T17:53:20.761329\n"
     ]
    },
    {
     "name": "stderr",
     "output_type": "stream",
     "text": [
      "\r",
      " 50%|██████████████████████████████████████████                                          | 3/6 [00:04<00:04,  1.42s/it]"
     ]
    },
    {
     "name": "stdout",
     "output_type": "stream",
     "text": [
      "크리스마스 크리스마스 트리 2021-12-18T17:53:22.234598\n",
      "크리스마스 크리스마스 장식 2021-12-18T17:53:22.234598\n",
      "크리스마스 크리스마스 선물 2021-12-18T17:53:22.234598\n",
      "크리스마스 크리스마스 식탁보 2021-12-18T17:53:22.234598\n",
      "크리스마스 크리스마스 대체공휴일 2021-12-18T17:53:22.234598\n",
      "크리스마스 크리스마스 소품 2021-12-18T17:53:22.234598\n",
      "크리스마스 크리스마스 데이트 2021-12-18T17:53:22.234598\n",
      "크리스마스 크리스마스 오르골 2021-12-18T17:53:22.234598\n",
      "크리스마스 크리스마스 리스 2021-12-18T17:53:22.234598\n",
      "크리스마스 크리스마스 옷 2021-12-18T17:53:22.234598\n"
     ]
    },
    {
     "name": "stderr",
     "output_type": "stream",
     "text": [
      "\r",
      " 67%|████████████████████████████████████████████████████████                            | 4/6 [00:05<00:02,  1.40s/it]"
     ]
    },
    {
     "name": "stdout",
     "output_type": "stream",
     "text": [
      "컴퓨터 컴퓨터가격 2021-12-18T17:53:23.606570\n",
      "컴퓨터 조립식컴퓨터 2021-12-18T17:53:23.606570\n",
      "컴퓨터 중고컴퓨터 2021-12-18T17:53:23.606570\n",
      "컴퓨터 컴퓨터수리 2021-12-18T17:53:23.606570\n",
      "컴퓨터 사무용컴퓨터 2021-12-18T17:53:23.606570\n",
      "컴퓨터 컴퓨터부품 2021-12-18T17:53:23.606570\n",
      "컴퓨터 컴퓨터본체 2021-12-18T17:53:23.606570\n"
     ]
    },
    {
     "name": "stderr",
     "output_type": "stream",
     "text": [
      "\r",
      " 83%|██████████████████████████████████████████████████████████████████████              | 5/6 [00:06<00:01,  1.36s/it]"
     ]
    },
    {
     "name": "stdout",
     "output_type": "stream",
     "text": [
      "모니터 내장그래픽듀얼모니터 2021-12-18T17:53:24.903457\n",
      "모니터 모니터40인치 2021-12-18T17:53:24.903457\n",
      "모니터 27인치모니터 2021-12-18T17:53:24.903457\n",
      "모니터 IPTV모니터 2021-12-18T17:53:24.903457\n",
      "모니터 모니터20인치 2021-12-18T17:53:24.903457\n",
      "모니터 모니터24인치 2021-12-18T17:53:24.903457\n",
      "모니터 모니터27 2021-12-18T17:53:24.903457\n"
     ]
    },
    {
     "name": "stderr",
     "output_type": "stream",
     "text": [
      "100%|████████████████████████████████████████████████████████████████████████████████████| 6/6 [00:08<00:00,  1.38s/it]"
     ]
    },
    {
     "name": "stdout",
     "output_type": "stream",
     "text": [
      "아이패드 아이패드 에어4 2021-12-18T17:53:26.284526\n",
      "아이패드 아이패드 9세대 2021-12-18T17:53:26.284526\n",
      "아이패드 아이패드 미니6 2021-12-18T17:53:26.284526\n",
      "아이패드 아이패드 프로 5세대 2021-12-18T17:53:26.284526\n",
      "아이패드 아이패드 프로 2021-12-18T17:53:26.284526\n",
      "아이패드 아이패드 케이스 2021-12-18T17:53:26.284526\n",
      "아이패드 아이패드 프로 5세대 12.9 2021-12-18T17:53:26.284526\n",
      "아이패드 아이패드 8세대 2021-12-18T17:53:26.284526\n",
      "아이패드 아이패드 파우치 2021-12-18T17:53:26.284526\n"
     ]
    },
    {
     "name": "stderr",
     "output_type": "stream",
     "text": [
      "\n"
     ]
    }
   ],
   "source": [
    "import time\n",
    "from datetime import datetime\n",
    "from tqdm import tqdm\n",
    "\n",
    "url=\"http://www.naver.com\"\n",
    "browser.get(url)\n",
    "\n",
    "# 파이썬 검색\n",
    "searching=browser.find_elements_by_css_selector(\"#query\")[0]\n",
    "# 입력 하기\n",
    "word_list=[\"2022\", \"코로나\", \"크리스마스\", \"컴퓨터\", \"모니터\", \"아이패드\"]\n",
    "results=[]\n",
    "for word in tqdm(word_list):\n",
    "    searching.clear() # 원래 입력되어 있는 값을 지움\n",
    "    searching.send_keys(word)\n",
    "\n",
    "    time.sleep(1)\n",
    "\n",
    "    # 연관 검색어 수집하기\n",
    "    html=browser.page_source # 이미 데이터가 들어가 있다고 생각하고 사진 찍음\n",
    "    soup=BeautifulSoup(html, \"html.parser\")\n",
    "\n",
    "    related_word_list=soup.select(\"ul.kwd_lst._kwd_list > li > a > span.fix\")\n",
    "    now = datetime.now().isoformat() # 검색일시(국제 표준)\n",
    "\n",
    "    for related_word_tag in related_word_list:\n",
    "        related_word = related_word_tag.text\n",
    "        # 만약 word와 related_word가 같으면 패스\n",
    "        if word != related_word: # 똑같으면?\n",
    "            print(word, related_word, now) # 검색어, 연관어\n",
    "            data=[word, related_word, now]\n",
    "            results.append(data)"
   ]
  },
  {
   "cell_type": "code",
   "execution_count": 5,
   "id": "b9997402",
   "metadata": {},
   "outputs": [
    {
     "data": {
      "text/html": [
       "<div>\n",
       "<style scoped>\n",
       "    .dataframe tbody tr th:only-of-type {\n",
       "        vertical-align: middle;\n",
       "    }\n",
       "\n",
       "    .dataframe tbody tr th {\n",
       "        vertical-align: top;\n",
       "    }\n",
       "\n",
       "    .dataframe thead th {\n",
       "        text-align: right;\n",
       "    }\n",
       "</style>\n",
       "<table border=\"1\" class=\"dataframe\">\n",
       "  <thead>\n",
       "    <tr style=\"text-align: right;\">\n",
       "      <th></th>\n",
       "      <th>검색어</th>\n",
       "      <th>연관검색어</th>\n",
       "      <th>검색일시</th>\n",
       "    </tr>\n",
       "  </thead>\n",
       "  <tbody>\n",
       "    <tr>\n",
       "      <th>0</th>\n",
       "      <td>2022</td>\n",
       "      <td>2022 최저임금</td>\n",
       "      <td>2021-12-18T17:53:19.417359</td>\n",
       "    </tr>\n",
       "    <tr>\n",
       "      <th>1</th>\n",
       "      <td>2022</td>\n",
       "      <td>2022 달력</td>\n",
       "      <td>2021-12-18T17:53:19.417359</td>\n",
       "    </tr>\n",
       "    <tr>\n",
       "      <th>2</th>\n",
       "      <td>2022</td>\n",
       "      <td>2022년 띠</td>\n",
       "      <td>2021-12-18T17:53:19.417359</td>\n",
       "    </tr>\n",
       "    <tr>\n",
       "      <th>3</th>\n",
       "      <td>2022</td>\n",
       "      <td>2022 수능</td>\n",
       "      <td>2021-12-18T17:53:19.417359</td>\n",
       "    </tr>\n",
       "    <tr>\n",
       "      <th>4</th>\n",
       "      <td>2022</td>\n",
       "      <td>2022 수능 등급컷</td>\n",
       "      <td>2021-12-18T17:53:19.417359</td>\n",
       "    </tr>\n",
       "  </tbody>\n",
       "</table>\n",
       "</div>"
      ],
      "text/plain": [
       "    검색어        연관검색어                        검색일시\n",
       "0  2022    2022 최저임금  2021-12-18T17:53:19.417359\n",
       "1  2022      2022 달력  2021-12-18T17:53:19.417359\n",
       "2  2022      2022년 띠  2021-12-18T17:53:19.417359\n",
       "3  2022      2022 수능  2021-12-18T17:53:19.417359\n",
       "4  2022  2022 수능 등급컷  2021-12-18T17:53:19.417359"
      ]
     },
     "execution_count": 5,
     "metadata": {},
     "output_type": "execute_result"
    }
   ],
   "source": [
    "import pandas as pd\n",
    "\n",
    "df=pd.DataFrame(results)\n",
    "df.columns=[\"검색어\", \"연관검색어\", \"검색일시\"]\n",
    "df.head(5)"
   ]
  },
  {
   "cell_type": "code",
   "execution_count": 6,
   "id": "3a5388e0",
   "metadata": {},
   "outputs": [],
   "source": [
    "df.to_excel(\"./Search_Naver.xlsx\", index=False)"
   ]
  }
 ],
 "metadata": {
  "kernelspec": {
   "display_name": "Python 3 (ipykernel)",
   "language": "python",
   "name": "python3"
  },
  "language_info": {
   "codemirror_mode": {
    "name": "ipython",
    "version": 3
   },
   "file_extension": ".py",
   "mimetype": "text/x-python",
   "name": "python",
   "nbconvert_exporter": "python",
   "pygments_lexer": "ipython3",
   "version": "3.8.12"
  },
  "toc": {
   "base_numbering": 1,
   "nav_menu": {},
   "number_sections": true,
   "sideBar": true,
   "skip_h1_title": false,
   "title_cell": "Table of Contents",
   "title_sidebar": "Contents",
   "toc_cell": false,
   "toc_position": {},
   "toc_section_display": true,
   "toc_window_display": true
  }
 },
 "nbformat": 4,
 "nbformat_minor": 5
}
