{
 "cells": [
  {
   "cell_type": "markdown",
   "id": "e7d74de3",
   "metadata": {},
   "source": [
    "##  Crawling\n",
    "1. 브라우저 열기(browser)\n",
    "2. 웹페이지 접속(browser.get(url)\n",
    "3. 정보있는지 점검! 없다면? -> 브라우저 조작 필요(입력, 클릭)\n",
    "4. 내가 원하는 정보를 찾아주기 : \n",
    "\n",
    "beautifulsoup\n",
    "- BautifulSoup(html, \"html.parser\") # 해석 완료\n",
    "- html = browser.page_source\n",
    "- html.parser : 사전\n",
    "\n",
    "태그 찾기\n",
    "- <태그명 class=\"\" id=\"\"></태그명> 찾기!\n",
    "- 부모태그 - 자식태그\n",
    "- soup.select() / find()\n",
    "-\".class 속성값\", \"#id 속성값\"\n",
    "- \"부모태그정보 > 자식태그정보\"\n",
    "\n",
    "-> [태그1, 태그2, 태그3...] : list\n",
    "\n",
    "태그 선택하기\n",
    "- soup.select()[0] : 한 개 선택\n",
    "- for tag in soup.select() : 반복문 사용해서 순서대로 한 개씩 선택\n",
    "\n",
    "원하는 정보 추출\n",
    "- tag.text # 태그 기호 제외하기 : 화면에 보이는 글만 가져오기\n",
    "- 태그 안의 속성값 필요하다면? : tag[\"속성명\"] # 특정 속성값 가져옴\n",
    "\n",
    "5. 저장\n",
    "리스트 안에 리스트!\n",
    "[ \n",
    "    [1,2,3], \n",
    "    [5,5,5] ...\n",
    "] # 엑셀에 칼럼과 행이 되어 저장됨\n",
    "\n",
    "엑셀 파일에 저장 # pandas"
   ]
  },
  {
   "cell_type": "code",
   "execution_count": 1,
   "id": "e7b78398",
   "metadata": {},
   "outputs": [
    {
     "data": {
      "text/plain": [
       "'C:\\\\Users\\\\dell\\\\anaconda3\\\\lib\\\\site-packages\\\\chromedriver_autoinstaller\\\\96\\\\chromedriver.exe'"
      ]
     },
     "execution_count": 1,
     "metadata": {},
     "output_type": "execute_result"
    }
   ],
   "source": [
    "# import 라이브러리명\n",
    "# 라이브러리 중 명령어 몇개만 준비! : from\n",
    "\n",
    "import chromedriver_autoinstaller\n",
    "from selenium import webdriver # selenium의 webdriver import 함\n",
    "from bs4 import BeautifulSoup\n",
    "\n",
    "# chromedriver 버전 업데이트\n",
    "chromedriver_autoinstaller.install()"
   ]
  },
  {
   "cell_type": "code",
   "execution_count": 2,
   "id": "66ab38e3",
   "metadata": {},
   "outputs": [],
   "source": [
    "# 브라우저 열기\n",
    "browser = webdriver.Chrome() # 컴퓨터용 브라우저"
   ]
  },
  {
   "cell_type": "code",
   "execution_count": 4,
   "id": "cb2c6bec",
   "metadata": {},
   "outputs": [],
   "source": [
    "url=\"https://news.naver.com/main/read.naver?mode=LSD&mid=sec&sid1=101&oid=421&aid=0005791688\"\n",
    "browser.get(url)"
   ]
  },
  {
   "cell_type": "code",
   "execution_count": null,
   "id": "6f229ba2",
   "metadata": {},
   "outputs": [],
   "source": []
  },
  {
   "cell_type": "code",
   "execution_count": null,
   "id": "182e8ba8",
   "metadata": {},
   "outputs": [],
   "source": []
  }
 ],
 "metadata": {
  "kernelspec": {
   "display_name": "Python 3 (ipykernel)",
   "language": "python",
   "name": "python3"
  },
  "language_info": {
   "codemirror_mode": {
    "name": "ipython",
    "version": 3
   },
   "file_extension": ".py",
   "mimetype": "text/x-python",
   "name": "python",
   "nbconvert_exporter": "python",
   "pygments_lexer": "ipython3",
   "version": "3.8.12"
  },
  "toc": {
   "base_numbering": 1,
   "nav_menu": {},
   "number_sections": true,
   "sideBar": true,
   "skip_h1_title": false,
   "title_cell": "Table of Contents",
   "title_sidebar": "Contents",
   "toc_cell": false,
   "toc_position": {},
   "toc_section_display": true,
   "toc_window_display": true
  }
 },
 "nbformat": 4,
 "nbformat_minor": 5
}
