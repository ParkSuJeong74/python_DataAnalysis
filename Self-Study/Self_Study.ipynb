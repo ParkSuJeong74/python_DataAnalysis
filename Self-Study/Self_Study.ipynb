{
 "cells": [
  {
   "cell_type": "markdown",
   "id": "e5788cfd",
   "metadata": {},
   "source": [
    "## 셀프 스터디\n",
    "- 데이터 시각화\n",
    "- 치킨집\n",
    "- 알라딘 베스트셀러 기초\n",
    "\n",
    "\n",
    "### 데이터 시각화"
   ]
  },
  {
   "cell_type": "code",
   "execution_count": null,
   "id": "06baf57a",
   "metadata": {},
   "outputs": [],
   "source": []
  },
  {
   "cell_type": "code",
   "execution_count": null,
   "id": "85127e8a",
   "metadata": {},
   "outputs": [],
   "source": []
  },
  {
   "cell_type": "markdown",
   "id": "dc0405ee",
   "metadata": {},
   "source": [
    "### 치킨집"
   ]
  },
  {
   "cell_type": "code",
   "execution_count": null,
   "id": "febcf552",
   "metadata": {},
   "outputs": [],
   "source": []
  },
  {
   "cell_type": "code",
   "execution_count": null,
   "id": "65c86a94",
   "metadata": {},
   "outputs": [],
   "source": []
  },
  {
   "cell_type": "markdown",
   "id": "ee957aec",
   "metadata": {},
   "source": [
    "### 알라딘"
   ]
  },
  {
   "cell_type": "code",
   "execution_count": 1,
   "id": "d0dd95c8",
   "metadata": {},
   "outputs": [
    {
     "data": {
      "text/plain": [
       "50"
      ]
     },
     "execution_count": 1,
     "metadata": {},
     "output_type": "execute_result"
    }
   ],
   "source": [
    "# 라이브러리\n",
    "import chromedriver_autoinstaller\n",
    "from selenium import webdriver\n",
    "from bs4 import BeautifulSoup\n",
    "import time\n",
    "import pandas as pd\n",
    "from tqdm import tqdm\n",
    "\n",
    "# chromedriver 버전 업데이트\n",
    "chromedriver_autoinstaller.install()\n",
    "\n",
    "# 브라우저 열기\n",
    "browser = webdriver.Chrome() # 컴퓨터용 브라우저\n",
    "\n",
    "# 알라딘 베스트셀러 열기\n",
    "url=\"https://www.aladin.co.kr/shop/common/wbest.aspx?BranchType=1\"\n",
    "browser.get(url)\n",
    "\n",
    "time.sleep(1)\n",
    "\n",
    "# 찍기\n",
    "html=browser.page_source\n",
    "soup=BeautifulSoup(html, \"html.parser\")\n",
    "\n",
    "# 수집\n",
    "book_list=soup.select(\"div.ss_book_box\")\n",
    "len(book_list)"
   ]
  },
  {
   "cell_type": "code",
   "execution_count": 2,
   "id": "2d05a61b",
   "metadata": {},
   "outputs": [
    {
     "data": {
      "text/plain": [
       "50"
      ]
     },
     "execution_count": 2,
     "metadata": {},
     "output_type": "execute_result"
    }
   ],
   "source": [
    "# 책 제목\n",
    "title=soup.select(\"a.bo3\")\n",
    "len(title)"
   ]
  },
  {
   "cell_type": "code",
   "execution_count": 3,
   "id": "fa9ef877",
   "metadata": {},
   "outputs": [
    {
     "data": {
      "text/plain": [
       "'전지적 독자 시점 Part 1 : 제4의 벽 에디션 세트 - 전8권'"
      ]
     },
     "execution_count": 3,
     "metadata": {},
     "output_type": "execute_result"
    }
   ],
   "source": [
    "title=title[0].text.strip()\n",
    "title"
   ]
  },
  {
   "cell_type": "code",
   "execution_count": 4,
   "id": "0b399b24",
   "metadata": {},
   "outputs": [
    {
     "data": {
      "text/plain": [
       "50"
      ]
     },
     "execution_count": 4,
     "metadata": {},
     "output_type": "execute_result"
    }
   ],
   "source": [
    "# 가격\n",
    "cost=soup.select(\"span.ss_p2 > b > span\")\n",
    "len(cost)"
   ]
  },
  {
   "cell_type": "code",
   "execution_count": 5,
   "id": "278f752b",
   "metadata": {},
   "outputs": [
    {
     "data": {
      "text/plain": [
       "'115,200 원'"
      ]
     },
     "execution_count": 5,
     "metadata": {},
     "output_type": "execute_result"
    }
   ],
   "source": [
    "cost=cost[0].text.strip() + \" 원\"\n",
    "cost"
   ]
  },
  {
   "cell_type": "code",
   "execution_count": 6,
   "id": "7173a30e",
   "metadata": {},
   "outputs": [
    {
     "data": {
      "text/plain": [
       "[['전지적 독자 시점 Part 1 : 제4의 벽 에디션 세트 - 전8권', '115,200 원'],\n",
       " ['흔한남매 9', '12,150 원'],\n",
       " ['마법천자문 52', '10,800 원'],\n",
       " ['한 게으른 시인의 이야기', '11,700 원'],\n",
       " ['이순신의 바다', '19,800 원']]"
      ]
     },
     "execution_count": 6,
     "metadata": {},
     "output_type": "execute_result"
    }
   ],
   "source": [
    "results=[]\n",
    "\n",
    "for book in book_list:\n",
    "    title=book.select(\"a.bo3\")[0].text.strip()\n",
    "    cost=book.select(\"span.ss_p2 > b > span\")[0].text.strip() + \" 원\"\n",
    "    results.append([title, cost])\n",
    "results[:5]"
   ]
  },
  {
   "cell_type": "code",
   "execution_count": 7,
   "id": "3c792d27",
   "metadata": {},
   "outputs": [
    {
     "name": "stderr",
     "output_type": "stream",
     "text": [
      "<ipython-input-7-913f83a8bf51>:2: DeprecationWarning: find_elements_by_* commands are deprecated. Please use find_elements() instead\n",
      "  title_btn=browser.find_elements_by_css_selector(\"a.bo3\")[0]\n"
     ]
    }
   ],
   "source": [
    "# 책 제목 클릭\n",
    "title_btn=browser.find_elements_by_css_selector(\"a.bo3\")[0]\n",
    "title_btn.click()"
   ]
  },
  {
   "cell_type": "code",
   "execution_count": 8,
   "id": "c08d8808",
   "metadata": {},
   "outputs": [],
   "source": [
    "html=browser.page_source\n",
    "soup=BeautifulSoup(html, \"html.parser\")\n",
    "\n",
    "time.sleep(1)"
   ]
  },
  {
   "cell_type": "code",
   "execution_count": 9,
   "id": "82c6fad2",
   "metadata": {},
   "outputs": [
    {
     "name": "stdout",
     "output_type": "stream",
     "text": [
      "싱숑\n",
      "비채\n"
     ]
    }
   ],
   "source": [
    "writer, publisher=soup.select(\"a.Ere_sub2_title\")\n",
    "print(writer.text)\n",
    "print(publisher.text)"
   ]
  },
  {
   "cell_type": "code",
   "execution_count": null,
   "id": "cad9d8ac",
   "metadata": {},
   "outputs": [],
   "source": [
    "# 라이브러리\n",
    "import chromedriver_autoinstaller\n",
    "from selenium import webdriver\n",
    "from bs4 import BeautifulSoup\n",
    "import time\n",
    "import pandas as pd\n",
    "from tqdm import tqdm\n",
    "\n",
    "# chromedriver 버전 업데이트\n",
    "chromedriver_autoinstaller.install()\n",
    "\n",
    "# 브라우저 열기\n",
    "browser = webdriver.Chrome() # 컴퓨터용 브라우저\n",
    "\n",
    "# 알라딘 베스트셀러 열기\n",
    "url=\"https://www.aladin.co.kr/shop/common/wbest.aspx?BranchType=1\"\n",
    "browser.get(url)\n",
    "\n",
    "time.sleep(1)\n",
    "\n",
    "# 찍기\n",
    "html=browser.page_source\n",
    "soup=BeautifulSoup(html, \"html.parser\")\n",
    "\n",
    "# 수집\n",
    "book_list=soup.select(\"div.ss_book_box\")[:3]\n",
    "i=0\n",
    "\n",
    "for book in tqdm(book_list):\n",
    "    # 책 기본 정보 수집\n",
    "    title=book.select(\"a.bo3\")[0].text.strip()\n",
    "    cost=book.select(\"span.ss_p2 > b > span\")[0].text.strip() + \" 원\"\n",
    "    \n",
    "    # 책 제목 클릭\n",
    "    title_btn=browser.find_elements_by_css_selector(\"a.bo3\")[i]\n",
    "    title_btn.click()\n",
    "    \n",
    "    html=browser.page_source\n",
    "    soup=BeautifulSoup(html, \"html.parser\")\n",
    "\n",
    "    time.sleep(1)\n",
    "    \n",
    "    # 책 상세 정보 수집\n",
    "    writer, publisher=soup.select(\"a.Ere_sub2_title\")\n",
    "    results.append([title, cost, writer.text, publisher.text])\n",
    "\n",
    "    # 이전 페이지로 이동\n",
    "    browser.back()\n",
    "    i+=1\n",
    "results"
   ]
  },
  {
   "cell_type": "code",
   "execution_count": null,
   "id": "f3e38285",
   "metadata": {},
   "outputs": [],
   "source": []
  },
  {
   "cell_type": "code",
   "execution_count": null,
   "id": "ac02ffca",
   "metadata": {},
   "outputs": [],
   "source": []
  },
  {
   "cell_type": "code",
   "execution_count": null,
   "id": "d95238c7",
   "metadata": {},
   "outputs": [],
   "source": []
  },
  {
   "cell_type": "code",
   "execution_count": null,
   "id": "f461ac01",
   "metadata": {},
   "outputs": [],
   "source": []
  },
  {
   "cell_type": "code",
   "execution_count": null,
   "id": "2916cb03",
   "metadata": {},
   "outputs": [],
   "source": []
  }
 ],
 "metadata": {
  "kernelspec": {
   "display_name": "Python 3",
   "language": "python",
   "name": "python3"
  },
  "language_info": {
   "codemirror_mode": {
    "name": "ipython",
    "version": 3
   },
   "file_extension": ".py",
   "mimetype": "text/x-python",
   "name": "python",
   "nbconvert_exporter": "python",
   "pygments_lexer": "ipython3",
   "version": "3.8.8"
  },
  "toc": {
   "base_numbering": 1,
   "nav_menu": {},
   "number_sections": true,
   "sideBar": true,
   "skip_h1_title": false,
   "title_cell": "Table of Contents",
   "title_sidebar": "Contents",
   "toc_cell": false,
   "toc_position": {},
   "toc_section_display": true,
   "toc_window_display": true
  }
 },
 "nbformat": 4,
 "nbformat_minor": 5
}
