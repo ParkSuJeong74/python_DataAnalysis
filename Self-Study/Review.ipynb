{
 "cells": [
  {
   "cell_type": "markdown",
   "id": "e781141e",
   "metadata": {},
   "source": [
    "## 복습 프로세스\n",
    "- 네이버 뉴스 검색 제목 크롤링\n",
    "- 네이버 뉴스 크롤링\n",
    "- 네이버 자동 검색\n",
    "- 네이버 연관 검색어 3차 크롤링(엑셀)\n",
    "- 유튜브 랭킹 크롤링\n",
    "- 판다스 이름 분석\n",
    "- 선별진료소 지도\n",
    "\n",
    "### 준비"
   ]
  },
  {
   "cell_type": "code",
   "execution_count": 1,
   "id": "80e078e9",
   "metadata": {},
   "outputs": [
    {
     "data": {
      "text/plain": [
       "'C:\\\\Users\\\\Drimsys\\\\anaconda3\\\\lib\\\\site-packages\\\\chromedriver_autoinstaller\\\\96\\\\chromedriver.exe'"
      ]
     },
     "execution_count": 1,
     "metadata": {},
     "output_type": "execute_result"
    }
   ],
   "source": [
    "# 라이브러리\n",
    "import chromedriver_autoinstaller\n",
    "from selenium import webdriver\n",
    "from bs4 import BeautifulSoup\n",
    "import time\n",
    "import pandas as pd\n",
    "from tqdm import tqdm\n",
    "from datetime import datetime\n",
    "\n",
    "import folium\n",
    "from folium.plugins import MarkerCluster\n",
    "from folium.plugins import MiniMap\n",
    "\n",
    "# chromedriver 버전 업데이트\n",
    "chromedriver_autoinstaller.install()"
   ]
  },
  {
   "cell_type": "markdown",
   "id": "98132a92",
   "metadata": {},
   "source": [
    "### 네이버 뉴스 검색 제목 크롤링"
   ]
  },
  {
   "cell_type": "code",
   "execution_count": 2,
   "id": "f82de640",
   "metadata": {},
   "outputs": [],
   "source": [
    "# 브라우저 열기\n",
    "browser = webdriver.Chrome()\n",
    "\n",
    "# 웹페이지 접속\n",
    "url = \"http://www.naver.com\"\n",
    "browser.get(url)\n",
    "\n",
    "time.sleep(1)\n",
    "\n",
    "# 찍기\n",
    "html=browser.page_source\n",
    "soup=BeautifulSoup(html, \"html.parser\")"
   ]
  },
  {
   "cell_type": "code",
   "execution_count": 3,
   "id": "2319c764",
   "metadata": {},
   "outputs": [
    {
     "data": {
      "text/plain": [
       "0"
      ]
     },
     "execution_count": 3,
     "metadata": {},
     "output_type": "execute_result"
    }
   ],
   "source": [
    "# 테스트\n",
    "title=soup.select(\"a.news_tit\")\n",
    "len(title)"
   ]
  },
  {
   "cell_type": "code",
   "execution_count": 4,
   "id": "8f3e1ef7",
   "metadata": {},
   "outputs": [
    {
     "name": "stdout",
     "output_type": "stream",
     "text": [
      "이패스비즈, 파이썬 활용 주가예측 분석툴 제작 특강 진행\n",
      "구글, 취약한 로그4j 사용하는 자바 패키지 35863개 찾아\n",
      "“브렉시트 뒤의 추악한 분열정치, ‘바퀴벌레 총리’로 풍자”\n"
     ]
    }
   ],
   "source": [
    "# 검색 리스트\n",
    "search_word_list=[\"파이썬\", \"자바\", \"카프카\"]\n",
    "\n",
    "# 크롤링 진행\n",
    "# 검색 리스트 반복\n",
    "for search_word in search_word_list:\n",
    "    # 검색 리스트 페이지 열기\n",
    "    url=f\"https://search.naver.com/search.naver?where=news&sm=tab_jum&query={search_word}\"\n",
    "    browser.get(url)\n",
    "    \n",
    "    # 찍기\n",
    "    html=browser.page_source\n",
    "    soup=BeautifulSoup(html, \"html.parser\")\n",
    "    \n",
    "    time.sleep(1)\n",
    "    \n",
    "    # 제목 태그\n",
    "    title=soup.select(\"a.news_tit\")[0].text\n",
    "    print(title.strip())"
   ]
  },
  {
   "cell_type": "markdown",
   "id": "7c2bff02",
   "metadata": {},
   "source": [
    "### 네이버 뉴스 크롤링"
   ]
  },
  {
   "cell_type": "code",
   "execution_count": 5,
   "id": "b1f14c54",
   "metadata": {},
   "outputs": [],
   "source": [
    "# 브라우저 열기\n",
    "browser = webdriver.Chrome()\n",
    "\n",
    "# 웹페이지 접속\n",
    "url = \"https://news.naver.com/main/read.naver?mode=LSD&mid=sec&sid1=101&oid=031&aid=0000637022\"\n",
    "browser.get(url)\n",
    "\n",
    "time.sleep(1)\n",
    "\n",
    "# 찍기\n",
    "html=browser.page_source\n",
    "soup=BeautifulSoup(html, \"html.parser\")"
   ]
  },
  {
   "cell_type": "code",
   "execution_count": 6,
   "id": "84e3a2d5",
   "metadata": {},
   "outputs": [
    {
     "data": {
      "text/plain": [
       "1"
      ]
     },
     "execution_count": 6,
     "metadata": {},
     "output_type": "execute_result"
    }
   ],
   "source": [
    "# 테스트\n",
    "title=soup.select(\"h3#articleTitle\")\n",
    "date=soup.select(\"span.t11\")\n",
    "press=soup.select(\"div.press_logo > a > img\")\n",
    "len(press)"
   ]
  },
  {
   "cell_type": "code",
   "execution_count": 7,
   "id": "22feb8f6",
   "metadata": {},
   "outputs": [
    {
     "data": {
      "text/plain": [
       "'아이뉴스24'"
      ]
     },
     "execution_count": 7,
     "metadata": {},
     "output_type": "execute_result"
    }
   ],
   "source": [
    "# 속성값 테스트\n",
    "soup.select(\"div.press_logo > a > img\")[0][\"title\"]"
   ]
  },
  {
   "cell_type": "code",
   "execution_count": 8,
   "id": "5572c51c",
   "metadata": {},
   "outputs": [
    {
     "name": "stdout",
     "output_type": "stream",
     "text": [
      "승현준 삼성리서치 소장 \"개방성과 협업이 소프트웨어의 핵심\"\n",
      "2021.11.18. 오전 10:01\n",
      "아이뉴스24\n"
     ]
    }
   ],
   "source": [
    "# 브라우저 열기\n",
    "browser = webdriver.Chrome()\n",
    "\n",
    "# 웹페이지 접속\n",
    "url = \"https://news.naver.com/main/read.naver?mode=LSD&mid=sec&sid1=101&oid=031&aid=0000637022\"\n",
    "browser.get(url)\n",
    "\n",
    "time.sleep(1)\n",
    "\n",
    "# 찍기\n",
    "html=browser.page_source\n",
    "soup=BeautifulSoup(html, \"html.parser\")\n",
    "\n",
    "# 태그\n",
    "title=soup.select(\"h3#articleTitle\")[0].text.strip()\n",
    "date=soup.select(\"span.t11\")[0].text.strip()\n",
    "press=soup.select(\"div.press_logo > a > img\")[0][\"title\"].strip()\n",
    "\n",
    "# 출력\n",
    "print(title)\n",
    "print(date)\n",
    "print(press)"
   ]
  },
  {
   "cell_type": "markdown",
   "id": "409a9ad7",
   "metadata": {},
   "source": [
    "### 네이버 자동 검색"
   ]
  },
  {
   "cell_type": "code",
   "execution_count": 9,
   "id": "0003d8ef",
   "metadata": {},
   "outputs": [
    {
     "name": "stderr",
     "output_type": "stream",
     "text": [
      "<ipython-input-9-23316ca8094c>:11: DeprecationWarning: find_elements_by_* commands are deprecated. Please use find_elements() instead\n",
      "  searching=browser.find_elements_by_css_selector(\"input#query\")[0]\n",
      "<ipython-input-9-23316ca8094c>:16: DeprecationWarning: find_elements_by_* commands are deprecated. Please use find_elements() instead\n",
      "  search_btn=browser.find_elements_by_css_selector(\"button#search_btn\")[0]\n"
     ]
    }
   ],
   "source": [
    "# 브라우저 열기\n",
    "browser = webdriver.Chrome()\n",
    "\n",
    "# 웹페이지 접속\n",
    "url=\"http://www.naver.com\"\n",
    "browser.get(url)\n",
    "\n",
    "word_list=[\"파이썬\", \"자바\"]\n",
    "for word in word_list:\n",
    "    # 검색 단어 입력\n",
    "    searching=browser.find_elements_by_css_selector(\"input#query\")[0]\n",
    "    searching.clear()\n",
    "    searching.send_keys(word)\n",
    "\n",
    "    # 검색\n",
    "    search_btn=browser.find_elements_by_css_selector(\"button#search_btn\")[0]\n",
    "    search_btn.click()\n",
    "    \n",
    "    # 되돌아가기\n",
    "    browser.back()"
   ]
  },
  {
   "cell_type": "markdown",
   "id": "566ffd5c",
   "metadata": {},
   "source": [
    "### 네이버 연관 검색어 3차 크롤링(엑셀)"
   ]
  },
  {
   "cell_type": "code",
   "execution_count": 10,
   "id": "9c991c3b",
   "metadata": {},
   "outputs": [
    {
     "data": {
      "text/plain": [
       "0    파이썬\n",
       "1     자바\n",
       "Name: 검색어, dtype: object"
      ]
     },
     "execution_count": 10,
     "metadata": {},
     "output_type": "execute_result"
    }
   ],
   "source": [
    "# excel 파일 열기\n",
    "raw=pd.read_excel(\"./data/searching_word.xlsx\")\n",
    "word_list=raw[\"검색어\"]\n",
    "word_list"
   ]
  },
  {
   "cell_type": "code",
   "execution_count": 11,
   "id": "d93306dc",
   "metadata": {},
   "outputs": [
    {
     "data": {
      "text/plain": [
       "'2021-12-22'"
      ]
     },
     "execution_count": 11,
     "metadata": {},
     "output_type": "execute_result"
    }
   ],
   "source": [
    "# 날짜 테스트\n",
    "now=datetime.now().isoformat()[:10]\n",
    "now"
   ]
  },
  {
   "cell_type": "code",
   "execution_count": 12,
   "id": "bcdf76f1",
   "metadata": {},
   "outputs": [
    {
     "name": "stderr",
     "output_type": "stream",
     "text": [
      "<ipython-input-12-f041bcb89542>:9: DeprecationWarning: find_elements_by_* commands are deprecated. Please use find_elements() instead\n",
      "  searching=browser.find_elements_by_css_selector(\"input#query\")[0]\n"
     ]
    },
    {
     "data": {
      "text/plain": [
       "10"
      ]
     },
     "execution_count": 12,
     "metadata": {},
     "output_type": "execute_result"
    }
   ],
   "source": [
    "# 브라우저 열기\n",
    "browser = webdriver.Chrome()\n",
    "\n",
    "# 웹페이지 접속\n",
    "url=\"http://www.naver.com\"\n",
    "browser.get(url)\n",
    "\n",
    "# 검색 단어 입력\n",
    "searching=browser.find_elements_by_css_selector(\"input#query\")[0]\n",
    "searching.clear()\n",
    "searching.send_keys(word_list[0])\n",
    "\n",
    "time.sleep(1)\n",
    "\n",
    "# 찍기\n",
    "html=browser.page_source\n",
    "soup=BeautifulSoup(html, \"html.parser\")\n",
    "\n",
    "# 테스트\n",
    "related_word=soup.select(\"ul.kwd_lst._kwd_list > li.item._item > a > span.fix\")\n",
    "len(related_word)"
   ]
  },
  {
   "cell_type": "code",
   "execution_count": 13,
   "id": "666f1ca6",
   "metadata": {},
   "outputs": [],
   "source": [
    "# excel 파일로 저장 함수\n",
    "def save_excel(result):\n",
    "    df=pd.DataFrame(results)\n",
    "    df.columns=[\"검색어\", \"연관검색어\", \"검색일시\"]\n",
    "    df.to_excel(\"./result/Result_Searching_1.xlsx\", index=False)\n",
    "    return df"
   ]
  },
  {
   "cell_type": "code",
   "execution_count": 15,
   "id": "872cddbc",
   "metadata": {},
   "outputs": [
    {
     "name": "stderr",
     "output_type": "stream",
     "text": [
      "<ipython-input-15-a41eca74fb2f>:12: DeprecationWarning: find_elements_by_* commands are deprecated. Please use find_elements() instead\n",
      "  searching=browser.find_elements_by_css_selector(\"input#query\")[0]\n"
     ]
    },
    {
     "data": {
      "text/html": [
       "<div>\n",
       "<style scoped>\n",
       "    .dataframe tbody tr th:only-of-type {\n",
       "        vertical-align: middle;\n",
       "    }\n",
       "\n",
       "    .dataframe tbody tr th {\n",
       "        vertical-align: top;\n",
       "    }\n",
       "\n",
       "    .dataframe thead th {\n",
       "        text-align: right;\n",
       "    }\n",
       "</style>\n",
       "<table border=\"1\" class=\"dataframe\">\n",
       "  <thead>\n",
       "    <tr style=\"text-align: right;\">\n",
       "      <th></th>\n",
       "      <th>검색어</th>\n",
       "      <th>연관검색어</th>\n",
       "      <th>검색일시</th>\n",
       "    </tr>\n",
       "  </thead>\n",
       "  <tbody>\n",
       "    <tr>\n",
       "      <th>0</th>\n",
       "      <td>파이썬</td>\n",
       "      <td>파이썬 자격증</td>\n",
       "      <td>2021-12-22</td>\n",
       "    </tr>\n",
       "    <tr>\n",
       "      <th>1</th>\n",
       "      <td>파이썬</td>\n",
       "      <td>파이썬 독학</td>\n",
       "      <td>2021-12-22</td>\n",
       "    </tr>\n",
       "    <tr>\n",
       "      <th>2</th>\n",
       "      <td>파이썬</td>\n",
       "      <td>파이썬 리스트</td>\n",
       "      <td>2021-12-22</td>\n",
       "    </tr>\n",
       "    <tr>\n",
       "      <th>3</th>\n",
       "      <td>파이썬</td>\n",
       "      <td>파이썬 설치</td>\n",
       "      <td>2021-12-22</td>\n",
       "    </tr>\n",
       "    <tr>\n",
       "      <th>4</th>\n",
       "      <td>파이썬</td>\n",
       "      <td>파이썬 함수</td>\n",
       "      <td>2021-12-22</td>\n",
       "    </tr>\n",
       "  </tbody>\n",
       "</table>\n",
       "</div>"
      ],
      "text/plain": [
       "   검색어    연관검색어        검색일시\n",
       "0  파이썬  파이썬 자격증  2021-12-22\n",
       "1  파이썬   파이썬 독학  2021-12-22\n",
       "2  파이썬  파이썬 리스트  2021-12-22\n",
       "3  파이썬   파이썬 설치  2021-12-22\n",
       "4  파이썬   파이썬 함수  2021-12-22"
      ]
     },
     "execution_count": 15,
     "metadata": {},
     "output_type": "execute_result"
    }
   ],
   "source": [
    "# 브라우저 열기\n",
    "browser = webdriver.Chrome()\n",
    "\n",
    "# 웹페이지 접속\n",
    "url=\"http://www.naver.com\"\n",
    "browser.get(url)\n",
    "\n",
    "word=word_list[0]\n",
    "results=[]\n",
    "\n",
    "# 검색 단어 입력\n",
    "searching=browser.find_elements_by_css_selector(\"input#query\")[0]\n",
    "searching.clear()\n",
    "searching.send_keys(word_list[0])\n",
    "\n",
    "# 검색 시간\n",
    "now=datetime.now().isoformat()[:10]\n",
    "\n",
    "time.sleep(1)\n",
    "\n",
    "# 찍기\n",
    "html=browser.page_source\n",
    "soup=BeautifulSoup(html, \"html.parser\")\n",
    "\n",
    "# 연관 검색어 태그\n",
    "for tag in soup.select(\"ul.kwd_lst._kwd_list > li.item._item > a > span.fix\"):\n",
    "    related_word=tag.text\n",
    "    if related_word != word:\n",
    "        results.append([word, related_word, now])\n",
    "df=save_excel(results)\n",
    "df.head()"
   ]
  },
  {
   "cell_type": "code",
   "execution_count": null,
   "id": "9fcf7acc",
   "metadata": {},
   "outputs": [],
   "source": []
  },
  {
   "cell_type": "code",
   "execution_count": null,
   "id": "91e99ce6",
   "metadata": {},
   "outputs": [],
   "source": []
  },
  {
   "cell_type": "markdown",
   "id": "ec66d40a",
   "metadata": {},
   "source": [
    "### 유튜브 랭킹 크롤링"
   ]
  },
  {
   "cell_type": "code",
   "execution_count": 16,
   "id": "86341325",
   "metadata": {},
   "outputs": [],
   "source": [
    "# 브라우저 열기\n",
    "browser = webdriver.Chrome() # 컴퓨터용 브라우저\n",
    "\n",
    "url=\"https://youtube-rank.com/board/bbs/board.php?bo_table=youtube&page=1\"\n",
    "browser.get(url)\n",
    "\n",
    "time.sleep(1)\n",
    "\n",
    "# 100개 채널, 채널명, 카테고리, 구독자수, 조회수, 영상 개수\n",
    "html=browser.page_source\n",
    "soup=BeautifulSoup(html, \"html.parser\")"
   ]
  },
  {
   "cell_type": "code",
   "execution_count": null,
   "id": "e6dc5feb",
   "metadata": {},
   "outputs": [],
   "source": []
  },
  {
   "cell_type": "markdown",
   "id": "57b04060",
   "metadata": {},
   "source": [
    "### 판다스 이름 분석"
   ]
  },
  {
   "cell_type": "code",
   "execution_count": 17,
   "id": "3cb4dbc6",
   "metadata": {},
   "outputs": [
    {
     "data": {
      "text/html": [
       "<div>\n",
       "<style scoped>\n",
       "    .dataframe tbody tr th:only-of-type {\n",
       "        vertical-align: middle;\n",
       "    }\n",
       "\n",
       "    .dataframe tbody tr th {\n",
       "        vertical-align: top;\n",
       "    }\n",
       "\n",
       "    .dataframe thead th {\n",
       "        text-align: right;\n",
       "    }\n",
       "</style>\n",
       "<table border=\"1\" class=\"dataframe\">\n",
       "  <thead>\n",
       "    <tr style=\"text-align: right;\">\n",
       "      <th></th>\n",
       "      <th>StateCode</th>\n",
       "      <th>Sex</th>\n",
       "      <th>YearOfBirth</th>\n",
       "      <th>Name</th>\n",
       "      <th>Number</th>\n",
       "    </tr>\n",
       "  </thead>\n",
       "  <tbody>\n",
       "    <tr>\n",
       "      <th>0</th>\n",
       "      <td>AK</td>\n",
       "      <td>F</td>\n",
       "      <td>1910</td>\n",
       "      <td>Mary</td>\n",
       "      <td>14</td>\n",
       "    </tr>\n",
       "    <tr>\n",
       "      <th>1</th>\n",
       "      <td>AK</td>\n",
       "      <td>F</td>\n",
       "      <td>1910</td>\n",
       "      <td>Annie</td>\n",
       "      <td>12</td>\n",
       "    </tr>\n",
       "    <tr>\n",
       "      <th>2</th>\n",
       "      <td>AK</td>\n",
       "      <td>F</td>\n",
       "      <td>1910</td>\n",
       "      <td>Anna</td>\n",
       "      <td>10</td>\n",
       "    </tr>\n",
       "    <tr>\n",
       "      <th>3</th>\n",
       "      <td>AK</td>\n",
       "      <td>F</td>\n",
       "      <td>1910</td>\n",
       "      <td>Margaret</td>\n",
       "      <td>8</td>\n",
       "    </tr>\n",
       "    <tr>\n",
       "      <th>4</th>\n",
       "      <td>AK</td>\n",
       "      <td>F</td>\n",
       "      <td>1910</td>\n",
       "      <td>Helen</td>\n",
       "      <td>7</td>\n",
       "    </tr>\n",
       "  </tbody>\n",
       "</table>\n",
       "</div>"
      ],
      "text/plain": [
       "  StateCode Sex  YearOfBirth      Name  Number\n",
       "0        AK   F         1910      Mary      14\n",
       "1        AK   F         1910     Annie      12\n",
       "2        AK   F         1910      Anna      10\n",
       "3        AK   F         1910  Margaret       8\n",
       "4        AK   F         1910     Helen       7"
      ]
     },
     "execution_count": 17,
     "metadata": {},
     "output_type": "execute_result"
    }
   ],
   "source": [
    "raw=pd.read_csv(\"./data/babyNamesUS.csv\")\n",
    "raw.head()"
   ]
  },
  {
   "cell_type": "code",
   "execution_count": null,
   "id": "3f4c9628",
   "metadata": {},
   "outputs": [],
   "source": []
  },
  {
   "cell_type": "code",
   "execution_count": null,
   "id": "b771775e",
   "metadata": {},
   "outputs": [],
   "source": []
  },
  {
   "cell_type": "markdown",
   "id": "d52c725e",
   "metadata": {},
   "source": [
    "### 선별진료소 지도"
   ]
  },
  {
   "cell_type": "code",
   "execution_count": 18,
   "id": "c5963836",
   "metadata": {},
   "outputs": [
    {
     "data": {
      "text/html": [
       "<div style=\"width:100%;\"><div style=\"position:relative;width:100%;height:0;padding-bottom:60%;\"><span style=\"color:#565656\">Make this Notebook Trusted to load map: File -> Trust Notebook</span><iframe src=\"about:blank\" style=\"position:absolute;width:100%;height:100%;left:0;top:0;border:none !important;\" data-html=%3C%21DOCTYPE%20html%3E%0A%3Chead%3E%20%20%20%20%0A%20%20%20%20%3Cmeta%20http-equiv%3D%22content-type%22%20content%3D%22text/html%3B%20charset%3DUTF-8%22%20/%3E%0A%20%20%20%20%0A%20%20%20%20%20%20%20%20%3Cscript%3E%0A%20%20%20%20%20%20%20%20%20%20%20%20L_NO_TOUCH%20%3D%20false%3B%0A%20%20%20%20%20%20%20%20%20%20%20%20L_DISABLE_3D%20%3D%20false%3B%0A%20%20%20%20%20%20%20%20%3C/script%3E%0A%20%20%20%20%0A%20%20%20%20%3Cstyle%3Ehtml%2C%20body%20%7Bwidth%3A%20100%25%3Bheight%3A%20100%25%3Bmargin%3A%200%3Bpadding%3A%200%3B%7D%3C/style%3E%0A%20%20%20%20%3Cstyle%3E%23map%20%7Bposition%3Aabsolute%3Btop%3A0%3Bbottom%3A0%3Bright%3A0%3Bleft%3A0%3B%7D%3C/style%3E%0A%20%20%20%20%3Cscript%20src%3D%22https%3A//cdn.jsdelivr.net/npm/leaflet%401.6.0/dist/leaflet.js%22%3E%3C/script%3E%0A%20%20%20%20%3Cscript%20src%3D%22https%3A//code.jquery.com/jquery-1.12.4.min.js%22%3E%3C/script%3E%0A%20%20%20%20%3Cscript%20src%3D%22https%3A//maxcdn.bootstrapcdn.com/bootstrap/3.2.0/js/bootstrap.min.js%22%3E%3C/script%3E%0A%20%20%20%20%3Cscript%20src%3D%22https%3A//cdnjs.cloudflare.com/ajax/libs/Leaflet.awesome-markers/2.0.2/leaflet.awesome-markers.js%22%3E%3C/script%3E%0A%20%20%20%20%3Clink%20rel%3D%22stylesheet%22%20href%3D%22https%3A//cdn.jsdelivr.net/npm/leaflet%401.6.0/dist/leaflet.css%22/%3E%0A%20%20%20%20%3Clink%20rel%3D%22stylesheet%22%20href%3D%22https%3A//maxcdn.bootstrapcdn.com/bootstrap/3.2.0/css/bootstrap.min.css%22/%3E%0A%20%20%20%20%3Clink%20rel%3D%22stylesheet%22%20href%3D%22https%3A//maxcdn.bootstrapcdn.com/bootstrap/3.2.0/css/bootstrap-theme.min.css%22/%3E%0A%20%20%20%20%3Clink%20rel%3D%22stylesheet%22%20href%3D%22https%3A//maxcdn.bootstrapcdn.com/font-awesome/4.6.3/css/font-awesome.min.css%22/%3E%0A%20%20%20%20%3Clink%20rel%3D%22stylesheet%22%20href%3D%22https%3A//cdnjs.cloudflare.com/ajax/libs/Leaflet.awesome-markers/2.0.2/leaflet.awesome-markers.css%22/%3E%0A%20%20%20%20%3Clink%20rel%3D%22stylesheet%22%20href%3D%22https%3A//cdn.jsdelivr.net/gh/python-visualization/folium/folium/templates/leaflet.awesome.rotate.min.css%22/%3E%0A%20%20%20%20%0A%20%20%20%20%20%20%20%20%20%20%20%20%3Cmeta%20name%3D%22viewport%22%20content%3D%22width%3Ddevice-width%2C%0A%20%20%20%20%20%20%20%20%20%20%20%20%20%20%20%20initial-scale%3D1.0%2C%20maximum-scale%3D1.0%2C%20user-scalable%3Dno%22%20/%3E%0A%20%20%20%20%20%20%20%20%20%20%20%20%3Cstyle%3E%0A%20%20%20%20%20%20%20%20%20%20%20%20%20%20%20%20%23map_41ec744bfec543b8a93054b1bcf8557f%20%7B%0A%20%20%20%20%20%20%20%20%20%20%20%20%20%20%20%20%20%20%20%20position%3A%20relative%3B%0A%20%20%20%20%20%20%20%20%20%20%20%20%20%20%20%20%20%20%20%20width%3A%20100.0%25%3B%0A%20%20%20%20%20%20%20%20%20%20%20%20%20%20%20%20%20%20%20%20height%3A%20100.0%25%3B%0A%20%20%20%20%20%20%20%20%20%20%20%20%20%20%20%20%20%20%20%20left%3A%200.0%25%3B%0A%20%20%20%20%20%20%20%20%20%20%20%20%20%20%20%20%20%20%20%20top%3A%200.0%25%3B%0A%20%20%20%20%20%20%20%20%20%20%20%20%20%20%20%20%7D%0A%20%20%20%20%20%20%20%20%20%20%20%20%3C/style%3E%0A%20%20%20%20%20%20%20%20%0A%3C/head%3E%0A%3Cbody%3E%20%20%20%20%0A%20%20%20%20%0A%20%20%20%20%20%20%20%20%20%20%20%20%3Cdiv%20class%3D%22folium-map%22%20id%3D%22map_41ec744bfec543b8a93054b1bcf8557f%22%20%3E%3C/div%3E%0A%20%20%20%20%20%20%20%20%0A%3C/body%3E%0A%3Cscript%3E%20%20%20%20%0A%20%20%20%20%0A%20%20%20%20%20%20%20%20%20%20%20%20var%20map_41ec744bfec543b8a93054b1bcf8557f%20%3D%20L.map%28%0A%20%20%20%20%20%20%20%20%20%20%20%20%20%20%20%20%22map_41ec744bfec543b8a93054b1bcf8557f%22%2C%0A%20%20%20%20%20%20%20%20%20%20%20%20%20%20%20%20%7B%0A%20%20%20%20%20%20%20%20%20%20%20%20%20%20%20%20%20%20%20%20center%3A%20%5B37.5536387%2C%20126.9671714%5D%2C%0A%20%20%20%20%20%20%20%20%20%20%20%20%20%20%20%20%20%20%20%20crs%3A%20L.CRS.EPSG3857%2C%0A%20%20%20%20%20%20%20%20%20%20%20%20%20%20%20%20%20%20%20%20zoom%3A%2012%2C%0A%20%20%20%20%20%20%20%20%20%20%20%20%20%20%20%20%20%20%20%20zoomControl%3A%20true%2C%0A%20%20%20%20%20%20%20%20%20%20%20%20%20%20%20%20%20%20%20%20preferCanvas%3A%20false%2C%0A%20%20%20%20%20%20%20%20%20%20%20%20%20%20%20%20%7D%0A%20%20%20%20%20%20%20%20%20%20%20%20%29%3B%0A%0A%20%20%20%20%20%20%20%20%20%20%20%20%0A%0A%20%20%20%20%20%20%20%20%0A%20%20%20%20%0A%20%20%20%20%20%20%20%20%20%20%20%20var%20tile_layer_22dfa30e1829435cbb00cdca1bab295c%20%3D%20L.tileLayer%28%0A%20%20%20%20%20%20%20%20%20%20%20%20%20%20%20%20%22https%3A//%7Bs%7D.tile.openstreetmap.org/%7Bz%7D/%7Bx%7D/%7By%7D.png%22%2C%0A%20%20%20%20%20%20%20%20%20%20%20%20%20%20%20%20%7B%22attribution%22%3A%20%22Data%20by%20%5Cu0026copy%3B%20%5Cu003ca%20href%3D%5C%22http%3A//openstreetmap.org%5C%22%5Cu003eOpenStreetMap%5Cu003c/a%5Cu003e%2C%20under%20%5Cu003ca%20href%3D%5C%22http%3A//www.openstreetmap.org/copyright%5C%22%5Cu003eODbL%5Cu003c/a%5Cu003e.%22%2C%20%22detectRetina%22%3A%20false%2C%20%22maxNativeZoom%22%3A%2018%2C%20%22maxZoom%22%3A%2018%2C%20%22minZoom%22%3A%200%2C%20%22noWrap%22%3A%20false%2C%20%22opacity%22%3A%201%2C%20%22subdomains%22%3A%20%22abc%22%2C%20%22tms%22%3A%20false%7D%0A%20%20%20%20%20%20%20%20%20%20%20%20%29.addTo%28map_41ec744bfec543b8a93054b1bcf8557f%29%3B%0A%20%20%20%20%20%20%20%20%0A%20%20%20%20%0A%20%20%20%20%20%20%20%20%20%20%20%20var%20marker_256f275eb6f94179bd1368a116d6630b%20%3D%20L.marker%28%0A%20%20%20%20%20%20%20%20%20%20%20%20%20%20%20%20%5B37.5536387%2C%20126.9671714%5D%2C%0A%20%20%20%20%20%20%20%20%20%20%20%20%20%20%20%20%7B%7D%0A%20%20%20%20%20%20%20%20%20%20%20%20%29.addTo%28map_41ec744bfec543b8a93054b1bcf8557f%29%3B%0A%20%20%20%20%20%20%20%20%0A%20%20%20%20%0A%20%20%20%20%20%20%20%20var%20popup_265a92cdf3644e178b57cf16cc7df9aa%20%3D%20L.popup%28%7B%22maxWidth%22%3A%20%22100%25%22%7D%29%3B%0A%0A%20%20%20%20%20%20%20%20%0A%20%20%20%20%20%20%20%20%20%20%20%20var%20html_60896858e2024388b9dd4ac6759b1429%20%3D%20%24%28%60%3Cdiv%20id%3D%22html_60896858e2024388b9dd4ac6759b1429%22%20style%3D%22width%3A%20100.0%25%3B%20height%3A%20100.0%25%3B%22%3EStation%3C/div%3E%60%29%5B0%5D%3B%0A%20%20%20%20%20%20%20%20%20%20%20%20popup_265a92cdf3644e178b57cf16cc7df9aa.setContent%28html_60896858e2024388b9dd4ac6759b1429%29%3B%0A%20%20%20%20%20%20%20%20%0A%0A%20%20%20%20%20%20%20%20marker_256f275eb6f94179bd1368a116d6630b.bindPopup%28popup_265a92cdf3644e178b57cf16cc7df9aa%29%0A%20%20%20%20%20%20%20%20%3B%0A%0A%20%20%20%20%20%20%20%20%0A%20%20%20%20%0A%20%20%20%20%0A%20%20%20%20%20%20%20%20%20%20%20%20marker_256f275eb6f94179bd1368a116d6630b.bindTooltip%28%0A%20%20%20%20%20%20%20%20%20%20%20%20%20%20%20%20%60%3Cdiv%3E%0A%20%20%20%20%20%20%20%20%20%20%20%20%20%20%20%20%20%20%20%20%20Seoul%0A%20%20%20%20%20%20%20%20%20%20%20%20%20%20%20%20%20%3C/div%3E%60%2C%0A%20%20%20%20%20%20%20%20%20%20%20%20%20%20%20%20%7B%22sticky%22%3A%20true%7D%0A%20%20%20%20%20%20%20%20%20%20%20%20%29%3B%0A%20%20%20%20%20%20%20%20%0A%3C/script%3E onload=\"this.contentDocument.open();this.contentDocument.write(    decodeURIComponent(this.getAttribute('data-html')));this.contentDocument.close();\" allowfullscreen webkitallowfullscreen mozallowfullscreen></iframe></div></div>"
      ],
      "text/plain": [
       "<folium.folium.Map at 0x20f6935e970>"
      ]
     },
     "execution_count": 18,
     "metadata": {},
     "output_type": "execute_result"
    }
   ],
   "source": [
    "# 테스트\n",
    "# 서울역 위도, 경도\n",
    "seoul_station = [37.5536387,126.9671714]\n",
    "map=folium.Map(location=seoul_station, zoom_start=12)\n",
    "\n",
    "# 마커하기\n",
    "folium.Marker(seoul_station, tooltip=\"Seoul\", popup=\"Station\").add_to(map)\n",
    "map"
   ]
  },
  {
   "cell_type": "code",
   "execution_count": null,
   "id": "7eb23935",
   "metadata": {},
   "outputs": [],
   "source": []
  },
  {
   "cell_type": "code",
   "execution_count": null,
   "id": "6daffdf4",
   "metadata": {},
   "outputs": [],
   "source": []
  }
 ],
 "metadata": {
  "kernelspec": {
   "display_name": "Python 3",
   "language": "python",
   "name": "python3"
  },
  "language_info": {
   "codemirror_mode": {
    "name": "ipython",
    "version": 3
   },
   "file_extension": ".py",
   "mimetype": "text/x-python",
   "name": "python",
   "nbconvert_exporter": "python",
   "pygments_lexer": "ipython3",
   "version": "3.8.8"
  },
  "toc": {
   "base_numbering": 1,
   "nav_menu": {
    "height": "101.997px",
    "width": "303.75px"
   },
   "number_sections": true,
   "sideBar": true,
   "skip_h1_title": false,
   "title_cell": "Table of Contents",
   "title_sidebar": "Contents",
   "toc_cell": false,
   "toc_position": {
    "height": "649.774px",
    "left": "72px",
    "top": "111.441px",
    "width": "165px"
   },
   "toc_section_display": true,
   "toc_window_display": true
  }
 },
 "nbformat": 4,
 "nbformat_minor": 5
}
