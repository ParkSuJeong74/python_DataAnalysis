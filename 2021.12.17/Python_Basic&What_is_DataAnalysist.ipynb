{
 "cells": [
  {
   "cell_type": "markdown",
   "id": "c22959e0",
   "metadata": {},
   "source": [
    "## Jupyter Notebook\n",
    "anaconda 설치 → python + IDE(jupyter notebook) + 오픈 라이브러리\n",
    "\n",
    "- cell\n",
    "- Shift + Enter \"Run\"\n",
    "- Edit mode : 초록색 / Command mode : 파란색(ESC)\n",
    "- 셀 추가 : a(above 앞에 추가) / b(below 뒤에 추가)\n",
    "- 셀 삭제 : dd(delete)"
   ]
  },
  {
   "cell_type": "markdown",
   "id": "04ea6184",
   "metadata": {},
   "source": [
    "## Python\n",
    "- 변수 = 값\n",
    "- 컴퓨터가 모르는 값 : 검은색, 컴퓨터가 알고 있는 것 - 명령어, 값 : 초록색\n",
    "- 작업의 순서 : 알고리즘\n",
    "- 주석: # 약속\n",
    "- ctrl + / : 줄 주석"
   ]
  },
  {
   "cell_type": "code",
   "execution_count": 1,
   "id": "d61c9f35",
   "metadata": {},
   "outputs": [
    {
     "name": "stdout",
     "output_type": "stream",
     "text": [
      "99\n"
     ]
    }
   ],
   "source": [
    "a = 5\n",
    "a = 99\n",
    "print(a)"
   ]
  },
  {
   "cell_type": "code",
   "execution_count": 2,
   "id": "39dd3233",
   "metadata": {},
   "outputs": [
    {
     "name": "stdout",
     "output_type": "stream",
     "text": [
      "5\n"
     ]
    }
   ],
   "source": [
    "a = 5\n",
    "# a = 99\n",
    "print(a)"
   ]
  },
  {
   "cell_type": "code",
   "execution_count": 3,
   "id": "ef561ee8",
   "metadata": {},
   "outputs": [
    {
     "name": "stdout",
     "output_type": "stream",
     "text": [
      "8\n",
      "2\n",
      "15\n",
      "1.6666666666666667\n",
      "8 2\n"
     ]
    }
   ],
   "source": [
    "c = 5\n",
    "b = 3\n",
    "\n",
    "print(c + b)\n",
    "print(c - b)\n",
    "print(c * b)\n",
    "print(c / b)\n",
    "\n",
    "print(c + b, c - b)"
   ]
  },
  {
   "cell_type": "code",
   "execution_count": 4,
   "id": "39b39b4a",
   "metadata": {},
   "outputs": [
    {
     "name": "stdout",
     "output_type": "stream",
     "text": [
      "박수정\n"
     ]
    }
   ],
   "source": [
    "name = \"박수정\" # string\n",
    "print(name)"
   ]
  },
  {
   "cell_type": "code",
   "execution_count": 5,
   "id": "352aa50a",
   "metadata": {},
   "outputs": [
    {
     "name": "stdout",
     "output_type": "stream",
     "text": [
      "산토끼\n",
      "토끼산\n"
     ]
    }
   ],
   "source": [
    "c1 = \"산\"\n",
    "c2 = \"토끼\"\n",
    "print(c1+c2)\n",
    "print(c2+c1)"
   ]
  },
  {
   "cell_type": "code",
   "execution_count": 6,
   "id": "9728b58d",
   "metadata": {},
   "outputs": [
    {
     "name": "stdout",
     "output_type": "stream",
     "text": [
      "--------------------------------------------------\n"
     ]
    }
   ],
   "source": [
    "print(\"-\" * 50) # 곱하기 가능"
   ]
  },
  {
   "cell_type": "markdown",
   "id": "392a46e6",
   "metadata": {},
   "source": [
    "### list\n",
    "- [] 1. list 2. 그룹[ 선택 ]\n",
    "- python : 인덱스 번호는 0 부터 시작함\n",
    "- R : 1부터 시작함\n",
    "- 0은 왼쪽에서\n",
    "- 오른쪽 끝에서 첫번째 : -1\n",
    "- 범위 : [시작:끝]"
   ]
  },
  {
   "cell_type": "code",
   "execution_count": 7,
   "id": "8db2ef44",
   "metadata": {},
   "outputs": [
    {
     "name": "stdout",
     "output_type": "stream",
     "text": [
      "['IU', '이소라', '씨엘', '먼데이키즈', '김광석']\n"
     ]
    },
    {
     "data": {
      "text/plain": [
       "'김광석'"
      ]
     },
     "execution_count": 7,
     "metadata": {},
     "output_type": "execute_result"
    }
   ],
   "source": [
    "# list\n",
    "singer_list = [\"IU\", \"이소라\", \"씨엘\",\"먼데이키즈\", \"김광석\"]\n",
    "print(singer_list)\n",
    "singer = singer_list[-1]\n",
    "singer"
   ]
  },
  {
   "cell_type": "code",
   "execution_count": 8,
   "id": "52cc93e0",
   "metadata": {},
   "outputs": [
    {
     "name": "stdout",
     "output_type": "stream",
     "text": [
      "먼데이키즈\n",
      "먼데이키즈\n"
     ]
    }
   ],
   "source": [
    "# quiz\n",
    "# 먼데이키즈 출력\n",
    "print(singer_list[3])\n",
    "print(singer_list[-2])"
   ]
  },
  {
   "cell_type": "code",
   "execution_count": 9,
   "id": "d8f5841e",
   "metadata": {},
   "outputs": [
    {
     "name": "stdout",
     "output_type": "stream",
     "text": [
      "['이소라', '씨엘', '먼데이키즈']\n",
      "['이소라', '씨엘', '먼데이키즈']\n",
      "['이소라', '씨엘', '먼데이키즈']\n",
      "['IU', '이소라', '씨엘', '먼데이키즈']\n"
     ]
    }
   ],
   "source": [
    "# 여러개 선택 : 범위 선택\n",
    "# 슬라이싱\n",
    "print(singer_list[1:4]) # 끝은 포함하지 않음\n",
    "print(singer_list[-4:-1])\n",
    "print(singer_list[1:-1]) # 시작과 끝을 빼고 다\n",
    "print(singer_list[:-1]) # 0과 마지막은 생략 가능"
   ]
  },
  {
   "cell_type": "code",
   "execution_count": 10,
   "id": "9c9728f1",
   "metadata": {},
   "outputs": [
    {
     "data": {
      "text/plain": [
       "'1234'"
      ]
     },
     "execution_count": 10,
     "metadata": {},
     "output_type": "execute_result"
    }
   ],
   "source": [
    "phone = \"010-1234-5678\"\n",
    "# 가운데 자리만 출력\n",
    "# 가정 : 가운데 자리가 자리수가 변경될 수 있다면, 끝자리는 4자리로 고정되어 있다면\n",
    "phone[4:-5] # 도메인 지식 중요!!!"
   ]
  },
  {
   "cell_type": "markdown",
   "id": "402974b0",
   "metadata": {},
   "source": [
    "### 정리\n",
    "- 변수 = 값(숫자, \"문자열\", 리스트[])\n",
    "- 슬라이싱[:]\n",
    "\n",
    "### 반복문\n",
    "- for 변수명 in 그룹명:\n",
    "    실행코드\n",
    "- "
   ]
  },
  {
   "cell_type": "code",
   "execution_count": 11,
   "id": "6ee4ce3a",
   "metadata": {},
   "outputs": [
    {
     "name": "stdout",
     "output_type": "stream",
     "text": [
      "['IU', '이소라', '씨엘', '먼데이키즈', '김광석']\n",
      "IU\n",
      "계속 반복\n",
      "이소라\n",
      "계속 반복\n",
      "씨엘\n",
      "계속 반복\n",
      "먼데이키즈\n",
      "계속 반복\n",
      "김광석\n",
      "계속 반복\n",
      "Finish\n"
     ]
    }
   ],
   "source": [
    "# list\n",
    "singer_list = [\"IU\", \"이소라\", \"씨엘\",\"먼데이키즈\", \"김광석\"]\n",
    "print(singer_list)\n",
    "for singer in singer_list:\n",
    "    print(singer)\n",
    "    print(\"계속 반복\") # 들여쓰기!\n",
    "print(\"Finish\")"
   ]
  },
  {
   "cell_type": "code",
   "execution_count": 12,
   "id": "376a163c",
   "metadata": {},
   "outputs": [
    {
     "name": "stdout",
     "output_type": "stream",
     "text": [
      "IU 님, 새해복 많이 받으세요\n",
      "이소라 님, 새해복 많이 받으세요\n",
      "씨엘 님, 새해복 많이 받으세요\n",
      "먼데이키즈 님, 새해복 많이 받으세요\n",
      "김광석 님, 새해복 많이 받으세요\n"
     ]
    }
   ],
   "source": [
    "for singer in singer_list:\n",
    "    # 문자열 formating(f-string)\n",
    "    # f\"{변수} string\"\n",
    "    msg = f\"{singer} 님, 새해복 많이 받으세요\" \n",
    "    print(msg)"
   ]
  },
  {
   "cell_type": "code",
   "execution_count": 13,
   "id": "36c035dc",
   "metadata": {},
   "outputs": [
    {
     "name": "stdout",
     "output_type": "stream",
     "text": [
      "2 x 1 = 2\n",
      "2 x 2 = 4\n",
      "2 x 3 = 6\n",
      "2 x 4 = 8\n",
      "2 x 5 = 10\n",
      "2 x 6 = 12\n",
      "2 x 7 = 14\n",
      "2 x 8 = 16\n",
      "2 x 9 = 18\n"
     ]
    }
   ],
   "source": [
    "# quiz:구구단\n",
    "for i in range(1, 10):\n",
    "    print(f\"2 x {i} = {i*2}\")"
   ]
  },
  {
   "cell_type": "code",
   "execution_count": 14,
   "id": "bfe0eb73",
   "metadata": {},
   "outputs": [
    {
     "name": "stdout",
     "output_type": "stream",
     "text": [
      "2 x 1 = 2\n",
      "2 x 2 = 4\n",
      "2 x 3 = 6\n",
      "2 x 4 = 8\n",
      "2 x 5 = 10\n",
      "2 x 6 = 12\n",
      "2 x 7 = 14\n",
      "2 x 8 = 16\n",
      "2 x 9 = 18\n",
      "----------------------------------------------------------------------\n",
      "3 x 1 = 3\n",
      "3 x 2 = 6\n",
      "3 x 3 = 9\n",
      "3 x 4 = 12\n",
      "3 x 5 = 15\n",
      "3 x 6 = 18\n",
      "3 x 7 = 21\n",
      "3 x 8 = 24\n",
      "3 x 9 = 27\n",
      "----------------------------------------------------------------------\n",
      "4 x 1 = 4\n",
      "4 x 2 = 8\n",
      "4 x 3 = 12\n",
      "4 x 4 = 16\n",
      "4 x 5 = 20\n",
      "4 x 6 = 24\n",
      "4 x 7 = 28\n",
      "4 x 8 = 32\n",
      "4 x 9 = 36\n",
      "----------------------------------------------------------------------\n",
      "5 x 1 = 5\n",
      "5 x 2 = 10\n",
      "5 x 3 = 15\n",
      "5 x 4 = 20\n",
      "5 x 5 = 25\n",
      "5 x 6 = 30\n",
      "5 x 7 = 35\n",
      "5 x 8 = 40\n",
      "5 x 9 = 45\n",
      "----------------------------------------------------------------------\n",
      "6 x 1 = 6\n",
      "6 x 2 = 12\n",
      "6 x 3 = 18\n",
      "6 x 4 = 24\n",
      "6 x 5 = 30\n",
      "6 x 6 = 36\n",
      "6 x 7 = 42\n",
      "6 x 8 = 48\n",
      "6 x 9 = 54\n",
      "----------------------------------------------------------------------\n",
      "7 x 1 = 7\n",
      "7 x 2 = 14\n",
      "7 x 3 = 21\n",
      "7 x 4 = 28\n",
      "7 x 5 = 35\n",
      "7 x 6 = 42\n",
      "7 x 7 = 49\n",
      "7 x 8 = 56\n",
      "7 x 9 = 63\n",
      "----------------------------------------------------------------------\n",
      "8 x 1 = 8\n",
      "8 x 2 = 16\n",
      "8 x 3 = 24\n",
      "8 x 4 = 32\n",
      "8 x 5 = 40\n",
      "8 x 6 = 48\n",
      "8 x 7 = 56\n",
      "8 x 8 = 64\n",
      "8 x 9 = 72\n",
      "----------------------------------------------------------------------\n",
      "9 x 1 = 9\n",
      "9 x 2 = 18\n",
      "9 x 3 = 27\n",
      "9 x 4 = 36\n",
      "9 x 5 = 45\n",
      "9 x 6 = 54\n",
      "9 x 7 = 63\n",
      "9 x 8 = 72\n",
      "9 x 9 = 81\n",
      "----------------------------------------------------------------------\n"
     ]
    }
   ],
   "source": [
    "# quiz2 : 구구단\n",
    "for a in range(2,10):\n",
    "    for b in range(1,10):\n",
    "        print(f\"{a} x {b} = {a*b}\")\n",
    "    print(\"-\"*70)"
   ]
  },
  {
   "cell_type": "code",
   "execution_count": 15,
   "id": "bc50d364",
   "metadata": {},
   "outputs": [
    {
     "data": {
      "text/plain": [
       "[1, 2, 3, 4, 5]"
      ]
     },
     "execution_count": 15,
     "metadata": {},
     "output_type": "execute_result"
    }
   ],
   "source": [
    "# list에서 범위를 줘서 list만들기\n",
    "[1,2,3,4,5,6][:5]"
   ]
  },
  {
   "cell_type": "markdown",
   "id": "e009d1f0",
   "metadata": {},
   "source": [
    "## 데이터 분석\n",
    "\n",
    "- 종류 : 정형, 비정형\n",
    "\n",
    "- 출처 : DB - SQL, 웹 - 크롤링/스크래핑, 타사/협력업체 - API\n",
    "\n",
    "- 목적 : 현황 파악(통계), 예측(모델) - 회귀, 머신러닝, 딥러닝\n",
    "\n",
    "- 도구 : 파이썬, R, 엑셀\n",
    "\n",
    "### 전략Strategy\n",
    "\n",
    "한정된 자원을 가지고 목표를 달성 → 효율적이고 효과적인 사용 : Data Driven\n",
    "\n",
    "### 데이터 분석가\n",
    "\n",
    "- 프로그래밍 언어를 이용해 데이터 분석 → 매출, 수익 창출\n",
    "\n",
    "- 목적/가정 → 데이터 분석 → 실행 제시\n",
    "\n",
    "- 경험과 지식 필요 : Domain knowledge\n",
    "\n",
    "- 데이터 분석 기술 필요 : 원하는 방향에 맞게 검증, 구현 능력\n",
    "\n",
    "- 전달력, 설득력 : 협업 요청, 설득 과정\n",
    "\n",
    "### 추천 학습방법\n",
    "- 필요한게 뭔지 알기\n",
    "- 미니 프로젝트하기 + 프로그래밍\n",
    "\n",
    "산업군(IT, 금융 등) - 직무(어떤 팀?)"
   ]
  }
 ],
 "metadata": {
  "kernelspec": {
   "display_name": "Python 3 (ipykernel)",
   "language": "python",
   "name": "python3"
  },
  "language_info": {
   "codemirror_mode": {
    "name": "ipython",
    "version": 3
   },
   "file_extension": ".py",
   "mimetype": "text/x-python",
   "name": "python",
   "nbconvert_exporter": "python",
   "pygments_lexer": "ipython3",
   "version": "3.8.12"
  },
  "toc": {
   "base_numbering": 1,
   "nav_menu": {},
   "number_sections": true,
   "sideBar": true,
   "skip_h1_title": false,
   "title_cell": "Table of Contents",
   "title_sidebar": "Contents",
   "toc_cell": false,
   "toc_position": {
    "height": "calc(100% - 180px)",
    "left": "10px",
    "top": "150px",
    "width": "183.762px"
   },
   "toc_section_display": true,
   "toc_window_display": true
  }
 },
 "nbformat": 4,
 "nbformat_minor": 5
}
