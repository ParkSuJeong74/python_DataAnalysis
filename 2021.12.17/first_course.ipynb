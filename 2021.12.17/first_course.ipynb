{
 "cells": [
  {
   "cell_type": "markdown",
   "id": "c22959e0",
   "metadata": {},
   "source": [
    "## Jupyter Notebook\n",
    "anaconda 설치 → python + IDE(jupyter notebook) + 오픈 라이브러리\n",
    "\n",
    "- cell\n",
    "- Shift + Enter \"Run\"\n",
    "- Edit mode : 초록색 / Command mode : 파란색(ESC)\n",
    "- 셀 추가 : a(above 앞에 추가) / b(below 뒤에 추가)\n",
    "- 셀 삭제 : dd(delete)"
   ]
  },
  {
   "cell_type": "markdown",
   "id": "04ea6184",
   "metadata": {},
   "source": [
    "## Python\n",
    "- 변수 = 값\n",
    "- 컴퓨터가 모르는 값 : 검은색, 컴퓨터가 알고 있는 것 - 명령어, 값 : 초록색\n",
    "- 작업의 순서 : 알고리즘\n",
    "- 주석: # 약속\n",
    "- ctrl + / : 줄 주석"
   ]
  },
  {
   "cell_type": "code",
   "execution_count": 1,
   "id": "d61c9f35",
   "metadata": {},
   "outputs": [
    {
     "name": "stdout",
     "output_type": "stream",
     "text": [
      "99\n"
     ]
    }
   ],
   "source": [
    "a = 5\n",
    "a = 99\n",
    "print(a)"
   ]
  },
  {
   "cell_type": "code",
   "execution_count": 2,
   "id": "39dd3233",
   "metadata": {},
   "outputs": [
    {
     "name": "stdout",
     "output_type": "stream",
     "text": [
      "5\n"
     ]
    }
   ],
   "source": [
    "a = 5\n",
    "# a = 99\n",
    "print(a)"
   ]
  },
  {
   "cell_type": "code",
   "execution_count": 3,
   "id": "ef561ee8",
   "metadata": {},
   "outputs": [
    {
     "name": "stdout",
     "output_type": "stream",
     "text": [
      "8\n",
      "2\n",
      "15\n",
      "1.6666666666666667\n",
      "8 2\n"
     ]
    }
   ],
   "source": [
    "c = 5\n",
    "b = 3\n",
    "\n",
    "print(c + b)\n",
    "print(c - b)\n",
    "print(c * b)\n",
    "print(c / b)\n",
    "\n",
    "print(c + b, c - b)"
   ]
  },
  {
   "cell_type": "code",
   "execution_count": 4,
   "id": "39b39b4a",
   "metadata": {},
   "outputs": [
    {
     "name": "stdout",
     "output_type": "stream",
     "text": [
      "박수정\n"
     ]
    }
   ],
   "source": [
    "name = \"박수정\" # string\n",
    "print(name)"
   ]
  },
  {
   "cell_type": "code",
   "execution_count": 5,
   "id": "352aa50a",
   "metadata": {},
   "outputs": [
    {
     "name": "stdout",
     "output_type": "stream",
     "text": [
      "산토끼\n",
      "토끼산\n"
     ]
    }
   ],
   "source": [
    "c1 = \"산\"\n",
    "c2 = \"토끼\"\n",
    "print(c1+c2)\n",
    "print(c2+c1)"
   ]
  },
  {
   "cell_type": "code",
   "execution_count": 6,
   "id": "9728b58d",
   "metadata": {},
   "outputs": [
    {
     "name": "stdout",
     "output_type": "stream",
     "text": [
      "--------------------------------------------------\n"
     ]
    }
   ],
   "source": [
    "print(\"-\" * 50) # 곱하기 가능"
   ]
  },
  {
   "cell_type": "markdown",
   "id": "392a46e6",
   "metadata": {},
   "source": [
    "### list\n",
    "- [] 1. list 2. 그룹[ 선택 ]\n",
    "- python : 인덱스 번호는 0 부터 시작함\n",
    "- R : 1부터 시작함\n",
    "- 0은 왼쪽에서\n",
    "- 오른쪽 끝에서 첫번째 : -1\n",
    "- 범위 : [시작:끝]"
   ]
  },
  {
   "cell_type": "code",
   "execution_count": 7,
   "id": "8db2ef44",
   "metadata": {},
   "outputs": [
    {
     "name": "stdout",
     "output_type": "stream",
     "text": [
      "['IU', '이소라', '씨엘', '먼데이키즈', '김광석']\n"
     ]
    },
    {
     "data": {
      "text/plain": [
       "'김광석'"
      ]
     },
     "execution_count": 7,
     "metadata": {},
     "output_type": "execute_result"
    }
   ],
   "source": [
    "# list\n",
    "singer_list = [\"IU\", \"이소라\", \"씨엘\",\"먼데이키즈\", \"김광석\"]\n",
    "print(singer_list)\n",
    "singer = singer_list[-1]\n",
    "singer"
   ]
  },
  {
   "cell_type": "code",
   "execution_count": 8,
   "id": "52cc93e0",
   "metadata": {},
   "outputs": [
    {
     "name": "stdout",
     "output_type": "stream",
     "text": [
      "먼데이키즈\n",
      "먼데이키즈\n"
     ]
    }
   ],
   "source": [
    "# quiz\n",
    "# 먼데이키즈 출력\n",
    "print(singer_list[3])\n",
    "print(singer_list[-2])"
   ]
  },
  {
   "cell_type": "code",
   "execution_count": 9,
   "id": "d8f5841e",
   "metadata": {},
   "outputs": [
    {
     "name": "stdout",
     "output_type": "stream",
     "text": [
      "['이소라', '씨엘', '먼데이키즈']\n",
      "['이소라', '씨엘', '먼데이키즈']\n",
      "['이소라', '씨엘', '먼데이키즈']\n",
      "['IU', '이소라', '씨엘', '먼데이키즈']\n"
     ]
    }
   ],
   "source": [
    "# 여러개 선택 : 범위 선택\n",
    "# 슬라이싱\n",
    "print(singer_list[1:4]) # 끝은 포함하지 않음\n",
    "print(singer_list[-4:-1])\n",
    "print(singer_list[1:-1]) # 시작과 끝을 빼고 다\n",
    "print(singer_list[:-1]) # 0과 마지막은 생략 가능"
   ]
  },
  {
   "cell_type": "code",
   "execution_count": 10,
   "id": "9c9728f1",
   "metadata": {},
   "outputs": [
    {
     "data": {
      "text/plain": [
       "'1234'"
      ]
     },
     "execution_count": 10,
     "metadata": {},
     "output_type": "execute_result"
    }
   ],
   "source": [
    "phone = \"010-1234-5678\"\n",
    "# 가운데 자리만 출력\n",
    "# 가정 : 가운데 자리가 자리수가 변경될 수 있다면, 끝자리는 4자리로 고정되어 있다면\n",
    "phone[4:-5] # 도메인 지식 중요!!!"
   ]
  },
  {
   "cell_type": "markdown",
   "id": "402974b0",
   "metadata": {},
   "source": [
    "### 정리\n",
    "- 변수 = 값(숫자, \"문자열\", 리스트[])\n",
    "- 슬라이싱[:]\n",
    "- 반복문\n"
   ]
  },
  {
   "cell_type": "markdown",
   "id": "e009d1f0",
   "metadata": {},
   "source": [
    "## 데이터 분석\n",
    "\n",
    "- 종류 : 정형, 비정형\n",
    "\n",
    "- 출처 : DB - SQL, 웹 - 크롤링/스크래핑, 타사/협력업체 - API\n",
    "\n",
    "- 목적 : 현황 파악(통계), 예측(모델) - 회귀, 머신러닝, 딥러닝\n",
    "\n",
    "- 도구 : 파이썬, R, 엑셀\n",
    "\n",
    "### 전략Strategy\n",
    "\n",
    "한정된 자원을 가지고 목표를 달성 → 효율적이고 효과적인 사용 : Data Driven\n",
    "\n",
    "### 데이터 분석가\n",
    "\n",
    "- 프로그래밍 언어를 이용해 데이터 분석 → 매출, 수익 창출\n",
    "\n",
    "- 목적/가정 → 데이터 분석 → 실행 제시\n",
    "\n",
    "- 경험과 지식 필요 : Domain knowledge\n",
    "\n",
    "- 데이터 분석 기술 필요 : 원하는 방향에 맞게 검증, 구현 능력\n",
    "\n",
    "- 전달력, 설득력 : 협업 요청, 설득 과정\n",
    "\n",
    "### 추천 학습방법\n",
    "- 필요한게 뭔지 알기\n",
    "- 미니 프로젝트하기 + 프로그래밍\n",
    "\n",
    "산업군(IT, 금융 등) - 직무(어떤 팀?)"
   ]
  },
  {
   "cell_type": "code",
   "execution_count": null,
   "id": "f985f600",
   "metadata": {},
   "outputs": [],
   "source": []
  },
  {
   "cell_type": "code",
   "execution_count": null,
   "id": "d9c61a9c",
   "metadata": {},
   "outputs": [],
   "source": []
  }
 ],
 "metadata": {
  "kernelspec": {
   "display_name": "Python 3",
   "language": "python",
   "name": "python3"
  },
  "language_info": {
   "codemirror_mode": {
    "name": "ipython",
    "version": 3
   },
   "file_extension": ".py",
   "mimetype": "text/x-python",
   "name": "python",
   "nbconvert_exporter": "python",
   "pygments_lexer": "ipython3",
   "version": "3.8.8"
  },
  "toc": {
   "base_numbering": 1,
   "nav_menu": {},
   "number_sections": true,
   "sideBar": true,
   "skip_h1_title": false,
   "title_cell": "Table of Contents",
   "title_sidebar": "Contents",
   "toc_cell": false,
   "toc_position": {
    "height": "calc(100% - 180px)",
    "left": "10px",
    "top": "150px",
    "width": "183.767px"
   },
   "toc_section_display": true,
   "toc_window_display": true
  }
 },
 "nbformat": 4,
 "nbformat_minor": 5
}
