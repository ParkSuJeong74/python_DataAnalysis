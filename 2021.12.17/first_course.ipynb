{
 "cells": [
  {
   "cell_type": "markdown",
   "id": "c22959e0",
   "metadata": {},
   "source": [
    "## Jupyter Notebook\n",
    "anaconda 설치 → python + IDE(jupyter notebook) + 오픈 라이브러리\n",
    "\n",
    "- cell\n",
    "- Shift + Enter \"Run\"\n",
    "- Edit mode : 초록색 / Command mode : 파란색(ESC)\n",
    "- 셀 추가 : a(above 앞에 추가) / b(below 뒤에 추가)\n",
    "- 셀 삭제 : dd(delete)"
   ]
  },
  {
   "cell_type": "markdown",
   "id": "04ea6184",
   "metadata": {},
   "source": [
    "## Python\n",
    "- 변수 = 값\n",
    "- 컴퓨터가 모르는 값 : 검은색, 컴퓨터가 알고 있는 것 - 명령어, 값 : 초록색\n",
    "- 작업의 순서 : 알고리즘\n",
    "- 주석: # 약속\n",
    "- ctrl + / : 줄 주석"
   ]
  },
  {
   "cell_type": "code",
   "execution_count": 1,
   "id": "d61c9f35",
   "metadata": {},
   "outputs": [
    {
     "name": "stdout",
     "output_type": "stream",
     "text": [
      "99\n"
     ]
    }
   ],
   "source": [
    "a = 5\n",
    "a = 99\n",
    "print(a)"
   ]
  },
  {
   "cell_type": "code",
   "execution_count": 2,
   "id": "39dd3233",
   "metadata": {},
   "outputs": [
    {
     "name": "stdout",
     "output_type": "stream",
     "text": [
      "5\n"
     ]
    }
   ],
   "source": [
    "a = 5\n",
    "# a = 99\n",
    "print(a)"
   ]
  },
  {
   "cell_type": "code",
   "execution_count": 3,
   "id": "ef561ee8",
   "metadata": {},
   "outputs": [
    {
     "name": "stdout",
     "output_type": "stream",
     "text": [
      "8\n",
      "2\n",
      "15\n",
      "1.6666666666666667\n",
      "8 2\n"
     ]
    }
   ],
   "source": [
    "c = 5\n",
    "b = 3\n",
    "\n",
    "print(c + b)\n",
    "print(c - b)\n",
    "print(c * b)\n",
    "print(c / b)\n",
    "\n",
    "print(c + b, c - b)"
   ]
  },
  {
   "cell_type": "code",
   "execution_count": 4,
   "id": "39b39b4a",
   "metadata": {},
   "outputs": [
    {
     "name": "stdout",
     "output_type": "stream",
     "text": [
      "박수정\n"
     ]
    }
   ],
   "source": [
    "name = \"박수정\" # string\n",
    "print(name)"
   ]
  },
  {
   "cell_type": "code",
   "execution_count": 5,
   "id": "352aa50a",
   "metadata": {},
   "outputs": [
    {
     "name": "stdout",
     "output_type": "stream",
     "text": [
      "산토끼\n",
      "토끼산\n"
     ]
    }
   ],
   "source": [
    "c1 = \"산\"\n",
    "c2 = \"토끼\"\n",
    "print(c1+c2)\n",
    "print(c2+c1)"
   ]
  },
  {
   "cell_type": "code",
   "execution_count": 6,
   "id": "9728b58d",
   "metadata": {},
   "outputs": [
    {
     "name": "stdout",
     "output_type": "stream",
     "text": [
      "--------------------------------------------------\n"
     ]
    }
   ],
   "source": [
    "print(\"-\" * 50) # 곱하기 가능"
   ]
  },
  {
   "cell_type": "markdown",
   "id": "392a46e6",
   "metadata": {},
   "source": [
    "### list\n",
    "- [] 1. list 2. 그룹[ 선택 ]\n",
    "- python : 인덱스 번호는 0 부터 시작함\n",
    "- R : 1부터 시작함\n",
    "- 0은 왼쪽에서\n",
    "- 오른쪽 끝에서 첫번째 : -1\n",
    "- 범위 : [시작:끝]"
   ]
  },
  {
   "cell_type": "code",
   "execution_count": 7,
   "id": "8db2ef44",
   "metadata": {},
   "outputs": [
    {
     "name": "stdout",
     "output_type": "stream",
     "text": [
      "['IU', '이소라', '씨엘', '먼데이키즈', '김광석']\n"
     ]
    },
    {
     "data": {
      "text/plain": [
       "'김광석'"
      ]
     },
     "execution_count": 7,
     "metadata": {},
     "output_type": "execute_result"
    }
   ],
   "source": [
    "# list\n",
    "singer_list = [\"IU\", \"이소라\", \"씨엘\",\"먼데이키즈\", \"김광석\"]\n",
    "print(singer_list)\n",
    "singer = singer_list[-1]\n",
    "singer"
   ]
  },
  {
   "cell_type": "code",
   "execution_count": 8,
   "id": "52cc93e0",
   "metadata": {},
   "outputs": [
    {
     "name": "stdout",
     "output_type": "stream",
     "text": [
      "먼데이키즈\n",
      "먼데이키즈\n"
     ]
    }
   ],
   "source": [
    "# quiz\n",
    "# 먼데이키즈 출력\n",
    "print(singer_list[3])\n",
    "print(singer_list[-2])"
   ]
  },
  {
   "cell_type": "code",
   "execution_count": 9,
   "id": "d8f5841e",
   "metadata": {},
   "outputs": [
    {
     "name": "stdout",
     "output_type": "stream",
     "text": [
      "['이소라', '씨엘', '먼데이키즈']\n",
      "['이소라', '씨엘', '먼데이키즈']\n",
      "['이소라', '씨엘', '먼데이키즈']\n",
      "['IU', '이소라', '씨엘', '먼데이키즈']\n"
     ]
    }
   ],
   "source": [
    "# 여러개 선택 : 범위 선택\n",
    "# 슬라이싱\n",
    "print(singer_list[1:4]) # 끝은 포함하지 않음\n",
    "print(singer_list[-4:-1])\n",
    "print(singer_list[1:-1]) # 시작과 끝을 빼고 다\n",
    "print(singer_list[:-1]) # 0과 마지막은 생략 가능"
   ]
  },
  {
   "cell_type": "code",
   "execution_count": 10,
   "id": "9c9728f1",
   "metadata": {},
   "outputs": [
    {
     "data": {
      "text/plain": [
       "'1234'"
      ]
     },
     "execution_count": 10,
     "metadata": {},
     "output_type": "execute_result"
    }
   ],
   "source": [
    "phone = \"010-1234-5678\"\n",
    "# 가운데 자리만 출력\n",
    "# 가정 : 가운데 자리가 자리수가 변경될 수 있다면, 끝자리는 4자리로 고정되어 있다면\n",
    "phone[4:-5] # 도메인 지식 중요!!!"
   ]
  },
  {
   "cell_type": "markdown",
   "id": "402974b0",
   "metadata": {},
   "source": [
    "### 정리\n",
    "- 변수 = 값(숫자, \"문자열\", 리스트[])\n",
    "- 슬라이싱[:]\n",
    "\n",
    "### 반복문\n",
    "- for 변수명 in 그룹명:\n",
    "    실행코드\n",
    "- "
   ]
  },
  {
   "cell_type": "code",
   "execution_count": 11,
   "id": "6ee4ce3a",
   "metadata": {},
   "outputs": [
    {
     "name": "stdout",
     "output_type": "stream",
     "text": [
      "['IU', '이소라', '씨엘', '먼데이키즈', '김광석']\n",
      "IU\n",
      "계속 반복\n",
      "이소라\n",
      "계속 반복\n",
      "씨엘\n",
      "계속 반복\n",
      "먼데이키즈\n",
      "계속 반복\n",
      "김광석\n",
      "계속 반복\n",
      "Finish\n"
     ]
    }
   ],
   "source": [
    "# list\n",
    "singer_list = [\"IU\", \"이소라\", \"씨엘\",\"먼데이키즈\", \"김광석\"]\n",
    "print(singer_list)\n",
    "for singer in singer_list:\n",
    "    print(singer)\n",
    "    print(\"계속 반복\") # 들여쓰기!\n",
    "print(\"Finish\")"
   ]
  },
  {
   "cell_type": "code",
   "execution_count": 12,
   "id": "376a163c",
   "metadata": {},
   "outputs": [
    {
     "name": "stdout",
     "output_type": "stream",
     "text": [
      "IU 님, 새해복 많이 받으세요\n",
      "이소라 님, 새해복 많이 받으세요\n",
      "씨엘 님, 새해복 많이 받으세요\n",
      "먼데이키즈 님, 새해복 많이 받으세요\n",
      "김광석 님, 새해복 많이 받으세요\n"
     ]
    }
   ],
   "source": [
    "for singer in singer_list:\n",
    "    # 문자열 formating(f-string)\n",
    "    # f\"{변수} string\"\n",
    "    msg = f\"{singer} 님, 새해복 많이 받으세요\" \n",
    "    print(msg)"
   ]
  },
  {
   "cell_type": "code",
   "execution_count": 13,
   "id": "36c035dc",
   "metadata": {},
   "outputs": [
    {
     "name": "stdout",
     "output_type": "stream",
     "text": [
      "2 x 1 = 2\n",
      "2 x 2 = 4\n",
      "2 x 3 = 6\n",
      "2 x 4 = 8\n",
      "2 x 5 = 10\n",
      "2 x 6 = 12\n",
      "2 x 7 = 14\n",
      "2 x 8 = 16\n",
      "2 x 9 = 18\n"
     ]
    }
   ],
   "source": [
    "# quiz:구구단\n",
    "for i in range(1, 10):\n",
    "    print(f\"2 x {i} = {i*2}\")"
   ]
  },
  {
   "cell_type": "code",
   "execution_count": 14,
   "id": "bfe0eb73",
   "metadata": {},
   "outputs": [
    {
     "name": "stdout",
     "output_type": "stream",
     "text": [
      "2 x 1 = 2\n",
      "2 x 2 = 4\n",
      "2 x 3 = 6\n",
      "2 x 4 = 8\n",
      "2 x 5 = 10\n",
      "2 x 6 = 12\n",
      "2 x 7 = 14\n",
      "2 x 8 = 16\n",
      "2 x 9 = 18\n",
      "----------------------------------------------------------------------\n",
      "3 x 1 = 3\n",
      "3 x 2 = 6\n",
      "3 x 3 = 9\n",
      "3 x 4 = 12\n",
      "3 x 5 = 15\n",
      "3 x 6 = 18\n",
      "3 x 7 = 21\n",
      "3 x 8 = 24\n",
      "3 x 9 = 27\n",
      "----------------------------------------------------------------------\n",
      "4 x 1 = 4\n",
      "4 x 2 = 8\n",
      "4 x 3 = 12\n",
      "4 x 4 = 16\n",
      "4 x 5 = 20\n",
      "4 x 6 = 24\n",
      "4 x 7 = 28\n",
      "4 x 8 = 32\n",
      "4 x 9 = 36\n",
      "----------------------------------------------------------------------\n",
      "5 x 1 = 5\n",
      "5 x 2 = 10\n",
      "5 x 3 = 15\n",
      "5 x 4 = 20\n",
      "5 x 5 = 25\n",
      "5 x 6 = 30\n",
      "5 x 7 = 35\n",
      "5 x 8 = 40\n",
      "5 x 9 = 45\n",
      "----------------------------------------------------------------------\n",
      "6 x 1 = 6\n",
      "6 x 2 = 12\n",
      "6 x 3 = 18\n",
      "6 x 4 = 24\n",
      "6 x 5 = 30\n",
      "6 x 6 = 36\n",
      "6 x 7 = 42\n",
      "6 x 8 = 48\n",
      "6 x 9 = 54\n",
      "----------------------------------------------------------------------\n",
      "7 x 1 = 7\n",
      "7 x 2 = 14\n",
      "7 x 3 = 21\n",
      "7 x 4 = 28\n",
      "7 x 5 = 35\n",
      "7 x 6 = 42\n",
      "7 x 7 = 49\n",
      "7 x 8 = 56\n",
      "7 x 9 = 63\n",
      "----------------------------------------------------------------------\n",
      "8 x 1 = 8\n",
      "8 x 2 = 16\n",
      "8 x 3 = 24\n",
      "8 x 4 = 32\n",
      "8 x 5 = 40\n",
      "8 x 6 = 48\n",
      "8 x 7 = 56\n",
      "8 x 8 = 64\n",
      "8 x 9 = 72\n",
      "----------------------------------------------------------------------\n",
      "9 x 1 = 9\n",
      "9 x 2 = 18\n",
      "9 x 3 = 27\n",
      "9 x 4 = 36\n",
      "9 x 5 = 45\n",
      "9 x 6 = 54\n",
      "9 x 7 = 63\n",
      "9 x 8 = 72\n",
      "9 x 9 = 81\n",
      "----------------------------------------------------------------------\n"
     ]
    }
   ],
   "source": [
    "# quiz2 : 구구단\n",
    "for a in range(2,10):\n",
    "    for b in range(1,10):\n",
    "        print(f\"{a} x {b} = {a*b}\")\n",
    "    print(\"-\"*70)"
   ]
  },
  {
   "cell_type": "code",
   "execution_count": 15,
   "id": "bc50d364",
   "metadata": {},
   "outputs": [
    {
     "data": {
      "text/plain": [
       "[1, 2, 3, 4, 5]"
      ]
     },
     "execution_count": 15,
     "metadata": {},
     "output_type": "execute_result"
    }
   ],
   "source": [
    "# list에서 범위를 줘서 list만들기\n",
    "[1,2,3,4,5,6][:5]"
   ]
  },
  {
   "cell_type": "markdown",
   "id": "e009d1f0",
   "metadata": {},
   "source": [
    "## 데이터 분석\n",
    "\n",
    "- 종류 : 정형, 비정형\n",
    "\n",
    "- 출처 : DB - SQL, 웹 - 크롤링/스크래핑, 타사/협력업체 - API\n",
    "\n",
    "- 목적 : 현황 파악(통계), 예측(모델) - 회귀, 머신러닝, 딥러닝\n",
    "\n",
    "- 도구 : 파이썬, R, 엑셀\n",
    "\n",
    "### 전략Strategy\n",
    "\n",
    "한정된 자원을 가지고 목표를 달성 → 효율적이고 효과적인 사용 : Data Driven\n",
    "\n",
    "### 데이터 분석가\n",
    "\n",
    "- 프로그래밍 언어를 이용해 데이터 분석 → 매출, 수익 창출\n",
    "\n",
    "- 목적/가정 → 데이터 분석 → 실행 제시\n",
    "\n",
    "- 경험과 지식 필요 : Domain knowledge\n",
    "\n",
    "- 데이터 분석 기술 필요 : 원하는 방향에 맞게 검증, 구현 능력\n",
    "\n",
    "- 전달력, 설득력 : 협업 요청, 설득 과정\n",
    "\n",
    "### 추천 학습방법\n",
    "- 필요한게 뭔지 알기\n",
    "- 미니 프로젝트하기 + 프로그래밍\n",
    "\n",
    "산업군(IT, 금융 등) - 직무(어떤 팀?)"
   ]
  },
  {
   "cell_type": "markdown",
   "id": "85fbaae2",
   "metadata": {},
   "source": [
    "## 크롤링\n",
    "\n",
    "- 셀레니움 설치\n",
    "- 크롬 드라이버 설치"
   ]
  },
  {
   "cell_type": "code",
   "execution_count": 16,
   "id": "f985f600",
   "metadata": {},
   "outputs": [
    {
     "name": "stdout",
     "output_type": "stream",
     "text": [
      "Requirement already satisfied: selenium in c:\\users\\drimsys\\anaconda3\\lib\\site-packages (4.1.0)\n",
      "Requirement already satisfied: urllib3[secure]~=1.26 in c:\\users\\drimsys\\anaconda3\\lib\\site-packages (from selenium) (1.26.4)\n",
      "Requirement already satisfied: trio~=0.17 in c:\\users\\drimsys\\anaconda3\\lib\\site-packages (from selenium) (0.19.0)\n",
      "Requirement already satisfied: trio-websocket~=0.9 in c:\\users\\drimsys\\anaconda3\\lib\\site-packages (from selenium) (0.9.2)\n",
      "Requirement already satisfied: attrs>=19.2.0 in c:\\users\\drimsys\\anaconda3\\lib\\site-packages (from trio~=0.17->selenium) (20.3.0)\n",
      "Requirement already satisfied: outcome in c:\\users\\drimsys\\anaconda3\\lib\\site-packages (from trio~=0.17->selenium) (1.1.0)\n",
      "Requirement already satisfied: idna in c:\\users\\drimsys\\anaconda3\\lib\\site-packages (from trio~=0.17->selenium) (2.10)\n",
      "Requirement already satisfied: sniffio in c:\\users\\drimsys\\anaconda3\\lib\\site-packages (from trio~=0.17->selenium) (1.2.0)\n",
      "Requirement already satisfied: async-generator>=1.9 in c:\\users\\drimsys\\anaconda3\\lib\\site-packages (from trio~=0.17->selenium) (1.10)\n",
      "Requirement already satisfied: cffi>=1.14 in c:\\users\\drimsys\\anaconda3\\lib\\site-packages (from trio~=0.17->selenium) (1.14.5)\n",
      "Requirement already satisfied: sortedcontainers in c:\\users\\drimsys\\anaconda3\\lib\\site-packages (from trio~=0.17->selenium) (2.3.0)\n",
      "Requirement already satisfied: pycparser in c:\\users\\drimsys\\anaconda3\\lib\\site-packages (from cffi>=1.14->trio~=0.17->selenium) (2.20)\n",
      "Requirement already satisfied: wsproto>=0.14 in c:\\users\\drimsys\\anaconda3\\lib\\site-packages (from trio-websocket~=0.9->selenium) (1.0.0)\n",
      "Requirement already satisfied: certifi in c:\\users\\drimsys\\anaconda3\\lib\\site-packages (from urllib3[secure]~=1.26->selenium) (2020.12.5)\n",
      "Requirement already satisfied: cryptography>=1.3.4 in c:\\users\\drimsys\\anaconda3\\lib\\site-packages (from urllib3[secure]~=1.26->selenium) (3.4.7)\n",
      "Requirement already satisfied: pyOpenSSL>=0.14 in c:\\users\\drimsys\\anaconda3\\lib\\site-packages (from urllib3[secure]~=1.26->selenium) (20.0.1)\n",
      "Requirement already satisfied: six>=1.5.2 in c:\\users\\drimsys\\anaconda3\\lib\\site-packages (from pyOpenSSL>=0.14->urllib3[secure]~=1.26->selenium) (1.15.0)\n",
      "Requirement already satisfied: h11<1,>=0.9.0 in c:\\users\\drimsys\\anaconda3\\lib\\site-packages (from wsproto>=0.14->trio-websocket~=0.9->selenium) (0.12.0)\n",
      "Requirement already satisfied: chromedriver-autoinstaller in c:\\users\\drimsys\\anaconda3\\lib\\site-packages (0.3.1)\n"
     ]
    }
   ],
   "source": [
    "# ! + command 명령어\n",
    "! pip install selenium\n",
    "! pip install chromedriver-autoinstaller"
   ]
  },
  {
   "cell_type": "markdown",
   "id": "50fd4feb",
   "metadata": {},
   "source": [
    "### 프로세스\n",
    "1. 브라우저(크롬) 열기\n",
    "2. 웹페이지 접속(url)\n",
    "3. 화면에 보이는 정보 -> 다운\n",
    "4. 저장 -> DB or excel\n",
    "\n",
    "\n",
    "변수.명령어().명령어1() ...\n"
   ]
  },
  {
   "cell_type": "code",
   "execution_count": 17,
   "id": "d9c61a9c",
   "metadata": {},
   "outputs": [
    {
     "data": {
      "text/plain": [
       "'C:\\\\Users\\\\Drimsys\\\\anaconda3\\\\lib\\\\site-packages\\\\chromedriver_autoinstaller\\\\96\\\\chromedriver.exe'"
      ]
     },
     "execution_count": 17,
     "metadata": {},
     "output_type": "execute_result"
    }
   ],
   "source": [
    "# import 라이브러리명\n",
    "# 라이브러리 중 명령어 몇개만 준비! : from\n",
    "\n",
    "import chromedriver_autoinstaller\n",
    "from selenium import webdriver # selenium의 webdriver import 함\n",
    "from bs4 import BeautifulSoup\n",
    "\n",
    "# chromedriver 버전 업데이트\n",
    "chromedriver_autoinstaller.install()"
   ]
  },
  {
   "cell_type": "code",
   "execution_count": 18,
   "id": "d5473ed4",
   "metadata": {},
   "outputs": [],
   "source": [
    "# 브라우저 열기\n",
    "browser = webdriver.Chrome() # 컴퓨터용 브라우저"
   ]
  },
  {
   "cell_type": "code",
   "execution_count": 19,
   "id": "cb1dd03c",
   "metadata": {},
   "outputs": [],
   "source": [
    "# 웹페이지 접속\n",
    "url = \"http://www.daum.net\"\n",
    "browser.get(url)\n",
    "\n",
    "# url : 다음 -> 명지대 -> 뉴스\n",
    "url = \"https://search.daum.net/search?w=news&nil_search=btn&DA=NTB&enc=utf8&cluster=y&cluster_page=1&q=%EB%AA%85%EC%A7%80%EB%8C%80\"\n",
    "q = \"%EB%AA%85%EC%A7%80%EB%8C%80\" # 원래 '명지대'\n",
    "# 주소 : https://search.daum.net/search\n",
    "# ? 파라미터 : w=news&nil_search=btn&DA=NTB&enc=utf8&cluster=y&cluster_page=1&q=\n",
    "# 속성명 = 값 & 속성명 = 값\n",
    "# q=값을 변경해주면 자동 검색 가능"
   ]
  },
  {
   "cell_type": "code",
   "execution_count": 20,
   "id": "d115b57c",
   "metadata": {},
   "outputs": [
    {
     "name": "stdout",
     "output_type": "stream",
     "text": [
      "https://search.daum.net/search?w=news&nil_search=btn&DA=NTB&enc=utf8&cluster=y&cluster_page=1&q=부동산\n",
      "크롤링 진행중\n",
      "https://search.daum.net/search?w=news&nil_search=btn&DA=NTB&enc=utf8&cluster=y&cluster_page=1&q=명지대\n",
      "크롤링 진행중\n",
      "https://search.daum.net/search?w=news&nil_search=btn&DA=NTB&enc=utf8&cluster=y&cluster_page=1&q=파이썬\n",
      "크롤링 진행중\n",
      "https://search.daum.net/search?w=news&nil_search=btn&DA=NTB&enc=utf8&cluster=y&cluster_page=1&q=데이터\n",
      "크롤링 진행중\n"
     ]
    }
   ],
   "source": [
    "search_list = [\"부동산\", \"명지대\", \"파이썬\", \"데이터\"]\n",
    "for search in search_list:\n",
    "    url = f\"https://search.daum.net/search?w=news&nil_search=btn&DA=NTB&enc=utf8&cluster=y&cluster_page=1&q={search}\"\n",
    "    print(url)\n",
    "    browser.get(url)\n",
    "    print(\"크롤링 진행중\")"
   ]
  },
  {
   "cell_type": "code",
   "execution_count": 21,
   "id": "cb397927",
   "metadata": {},
   "outputs": [
    {
     "data": {
      "text/plain": [
       "'<html xmlns=\"http://www.w3.org/1999/xhtml\" lang=\"ko\" class=\"win chrome \"><head profile=\"http://a9.com/-/spec/opensearch/1.1/\">\\n<meta http-equiv=\"content-Type\" content=\"text/html;charset=utf-8\">\\n<meta http-equiv=\"X-UA-Compatible\" content=\"IE=edge\">\\n<meta name=\"autocomplete\" content=\"off\">\\n<meta name=\"referrer\" content=\"always\">\\n<meta name=\"format-detection\" content=\"telephone=no\">\\n<meta property=\"og:title\" content=\"데이터 – Daum 검색\">\\n<meta property=\"og:url\" content=\"https://search.daum.net/search?w=news&amp;q=%EB%8D%B0%EC%9D%B4%ED%84%B0\">\\n<meta property=\"og:description\" content=\"Daum 검색에서 데이터에 대한 최신정보를 찾아보세요.\">\\n<meta property=\"og:image\" content=\"https://search1.daumcdn.net/search/statics/common/img/og_search.png\">\\n<meta property=\"og:site_name\" content=\"다음검색\">\\n<title>데이터 – Daum 검색</title>\\n<link rel=\"search\" type=\"application/opensearchdescription+xml\" href=\"//search.daum.net/OpenSearch.xml\" title=\"Daum\">\\n<link rel=\"stylesheet\" type=\"text/css\" href=\"//search1.daumcdn.net/search/statics/common/css/2021/p_common.1130012653.css\" charset=\"utf-8\">\\n<link rel=\"stylesheet\" type=\"text/css\" href=\"//search1.daumcdn.net/search/statics/common/css/2021/p_component.0915091640.css\" charset=\"utf-8\">\\n\\n<link rel=\"stylesheet\" type=\"text/css\" href=\"//search1.daumcdn.net/search/statics/common/css/2021/p_collection.0915091640.css\" charset=\"utf-8\">\\n<link rel=\"stylesheet\" type=\"text/css\" href=\"//search1.daumcdn.net/search/statics/common/css/2021/p_collection2.1110094223.css\" charset=\"utf-8\">\\n\\n<link rel=\"stylesheet\" type=\"text/css\" href=\"//search1.daumcdn.net/search/statics/common/css/2021/p_coll_tab.0803041653.css\" charset=\"utf-8\">\\n\\n\\n\\n\\n<script type=\"text/javascript\">\\nvar SF, C, T;\\nvar uk = \"YbxP005XWBw6n9Tf5QH9DgAAALg\";\\nvar mk = \"YbxP005XWBw6n9Tf5QH9DgAAALg\";\\nvar ud = \"w-5ZBiY0o2uhBq_211217118199428\";\\nvar uuid = \"w-5ZBiY0o2uhBq_211217118199428\";\\nvar adid = \"\";\\nvar adid_enabled = \"N\";\\nvar viewio = \"i\";\\nvar viewsite = \"\";\\nvar ServerTime = \"20211217175235\";\\nvar EnQuery = \"%B5%A5%C0%CC%C5%CD\";\\nvar utf8Query = \"%EB%8D%B0%EC%9D%B4%ED%84%B0\";\\nvar topQuery = \"데이터\";\\nvar backQuery = \"%EB%8D%B0%EC%9D%B4%ED%84%B0\";\\nvar login_yn = \"N\";\\nvar encodeType = \"2\";\\nvar refCode = \"\";\\nvar bucketType = \"\";\\nvar name_check = \"0\";\\nvar mobileDevice = \"N\";\\nvar param_w=\"news\";\\nvar param_da = \"NTB\";\\nvar paramCfg = \"\";\\nvar param_cnucc = \"\"; \\nvar tpl_cfg = \"\"; \\nvar cnucc = \"\";\\nvar usrIp = \"106.243.15.166\";\\nvar isDetailTab = \"N\"; \\nvar schSort = \"\";\\nvar width_over_620 = \"N\";\\n\\nvar isReleaseMode = \"\";\\n\\nvar KAKAO_ACCOUNT_ID_CONNECTED = \"N\";\\n\\nvar displayInfo = {\"SER\":[{\"code\":\"NNS\",\"doc_count\":10}],\"SGR\":[{\"code\":\"R03\",\"doc_count\":0},{\"code\":\"R10\",\"doc_count\":0},{\"code\":\"R04\",\"doc_count\":0},{\"code\":\"TOG\",\"doc_count\":0},{\"code\":\"NSJ\",\"doc_count\":0},{\"code\":\"DCC\",\"doc_count\":0}],\"SUI\":[]}\\n;\\nvar slCallType = \"sync\";\\nvar pageLoadedTime = 0;\\nvar startTime = new Date().getTime();\\nvar sugLocCode = \"\";\\nvar searchLog = {\\nuc: 0,\\nclickCount: 0,\\ndl: \"\"\\n};\\nvar SEARCHLOGDOMAIN = \"//sl.search.daum.net\"; \\n\\nvar CNUCC_URL = \"//harm.search.daum.net/api/harmRegister\";\\n</script>\\n\\n\\n<script type=\"text/html\" id=\"answer-korea-weather-template\">\\n<span class=\"weather_comp\">\\n<span class=\"txt_exact ico_suggest\" data-bind=\"css: icon40\">\\n<span class=\"tit\" data-bind=\"text: areaname\"></span>\\n<span class=\"cont\"><span class=\"txt_cont\" data-bind=\"text: wtext5s\"></span> <span class=\"txt_num1 ico_suggest2 ico_celsius\" data-bind=\"text: temp\"></span><span class=\"txt_unit\">℃</span></span>\\n</span>\\n<span class=\"txt_time\" data-bind=\"text: (announce + \\' 기준\\') \"></span>\\n</span>\\n</script>\\n\\n\\n\\n\\n\\n\\n\\n\\n\\n\\n\\n\\n\\n\\n\\n<script type=\"text/javascript\" src=\"//search1.daumcdn.net/search/statics/common/js/fe/tot-search/polyfill/p/polyfill.p.common.20200707150840.min.js\" charset=\"utf-8\"></script>\\n\\n\\n<script type=\"text/javascript\" src=\"//search1.daumcdn.net/search/statics/common/js/fe/tot-search/vendor/p/common/vendor.p.common.20210614193738.min.js\" charset=\"utf-8\"></script>\\n<script type=\"text/javascript\" src=\"//search1.daumcdn.net/search/statics/common/js/log/p_log.min.20211108152558.js\" charset=\"utf-8\"></script>\\n<script type=\"text/javascript\" src=\"//search1.daumcdn.net/search/statics/common/js/fe/tot-search/module/p/common/module.p.common.20211214105224.min.js\" charset=\"utf-8\"></script>\\n<script type=\"text/javascript\" src=\"//search1.daumcdn.net/search/statics/common/js/fe/tot-search/module/p/search/module.p.search.20210726112603.min.js\" charset=\"utf-8\"></script>\\n<script>\\n(function(SF, $, SL) {\\nObject.assign(SF, {\\nlogStaticErrors: {\\nisArgonUrl: function(url) {\\nreturn url.indexOf(\\'argon\\') !== -1;\\n},\\nextractArgonId: function(url) {\\nreturn url.split(\\'/\\').pop();\\n},\\ncreateFreeLogParams: function(ids) {\\nreturn {\\ntimg: ids.join(\\',\\')\\n};\\n},\\nchunkCall: function (fn, options) {\\nvar chunk = [];\\nvar debounced = $.debounce(function() {\\nif (chunk.length > 0) {\\nfn(chunk);\\nchunk = [];\\n}\\n}, options.timeout);\\nreturn function (arg) {\\nchunk.push(arg);\\nif (chunk.length >= options.chunkSize) {\\nfn(chunk);\\nchunk = [];\\n}\\ndebounced();\\n};\\n},\\ninit: function() {\\nthis.subscribe();\\n},\\nsubscribe: function() {\\nif (!(\\'addEventListener\\' in document)) {\\nreturn;\\n}\\nvar sendLog = this.chunkCall(this.sendLog.bind(this), {\\ntimeout: 1000,\\nchunkSize: 50\\n});\\nvar onError = this.onError.bind(this, sendLog);\\nthis.unsubscribe = function () {\\nwindow.removeEventListener(\\'error\\', onError);\\n};\\nwindow.addEventListener(\\'error\\', onError, true);\\n},\\nonError: function (callback, event) {\\nvar src = event.target.src;\\nif (typeof src === \\'string\\' && this.isArgonUrl(src)) {\\ncallback(this.extractArgonId(src));\\n}\\n},\\nsendLog: function(argonIds) {\\nvar params = this.createFreeLogParams(argonIds);\\nSL.freelog.send(params);\\n},\\nunsubscribe: $.noop\\n}\\n});\\n})(window.SF || {}, window.jQuery, window.SL || {});\\nSF.logStaticErrors.init();\\n</script>\\n<script type=\"text/javascript\">\\nSF.loadModuleList = {\\n\"amcharts\":\"//search1.daumcdn.net/search/statics/common/js/fe/tot-search/library/p/amcharts.20190321202015.min.js\",\\n\"calendar\":\"//search1.daumcdn.net/search/statics/common/js/fe/tot-search/module/p/calendar/module.p.calendar.20210312112039.min.js\",\\n\"chart\":\"//search1.daumcdn.net/search/statics/common/js/fe/tot-search/library/p/chart.20200602182334.min.js\",\\n\"kakaosdk\":\"//search1.daumcdn.net/search/statics/common/js/fe/tot-search/library/p/kakaosdk.20190321202015.min.js\",\\n\"kakaotv\":\"//tv.kakao.com/player/script/sdk/player_api.min.js\",\\n\"pagenavigation\":\"//search1.daumcdn.net/search/statics/common/js/fe/tot-search/module/p/pagenavigation/module.p.pagenavigation.20211101151709.min.js\",\\n\"youtube\":\"//www.youtube.com/player_api\"\\n};\\n</script>\\n<script type=\"text/javascript\">\\n(function(SF) {\\nObject.assign(SF, {\\nphase: \\'prod\\'\\n});\\n})(window.SF);\\n</script>\\n\\n\\n\\n\\n\\n\\n\\n\\n\\n\\n\\n\\n\\n\\n\\n\\n\\n\\n\\n\\n\\n\\n\\n\\n\\n\\n\\n\\n\\n\\n\\n\\n\\n\\n\\n\\n\\n\\n\\n\\n\\n\\n\\n\\n\\n\\n\\n\\n\\n\\n\\n\\n\\n\\n\\n\\n\\n\\n\\n\\n\\n\\n\\n\\n\\n\\n\\n\\n\\n\\n\\n\\n\\n\\n\\n\\n\\n\\n\\n\\n\\n\\n\\n\\n\\n\\n\\n\\n\\n\\n\\n\\n\\n\\n\\n\\n\\n\\n\\n\\n\\n\\n\\n\\n\\n\\n\\n\\n\\n\\n\\n\\n\\n\\n\\n\\n\\n\\n\\n\\n\\n\\n\\n\\n\\n\\n\\n\\n\\n\\n\\n\\n\\n\\n\\n\\n\\n\\n\\n\\n\\n\\n\\n\\n\\n\\n\\n<!--[if IE]>\\n<script src=\"//search1.daumcdn.net/search/statics/common/js/g/html5.min.js\"></script>\\n<![endif]-->\\n<script type=\"text/javascript\" charset=\"utf-8\" async=\"\" src=\"https://t1.daumcdn.net/daumtop_deco/scripts/minidaum/pc/minidaum_pc-e876fed.min.js\"></script><style>/* minidaum common */\\n#wrapMinidaum{z-index:999999;height:40px;font-size:12px;line-height:1.5;font-family:AppleSDGothicNeo-Regular,\\'돋움\\',dotum,sans-serif;color:#222;text-align:left}\\n#minidaum ol, #minidaum ul, #minidaum li{list-style:none}\\n#minidaum img, #minidaum fieldset{border:0;padding:0}\\n#minidaum img{vertical-align:top}\\n#minidaum p{margin:0;padding:0}\\n#minidaum a{font-family:AppleSDGothicNeo-Regular,\\'돋움\\',dotum,sans-serif;color:#222;text-decoration:none}\\n#minidaum a:active, #minidaum a:hover{text-decoration:underline}\\n#minidaum em{font-style:normal}\\n#wrapMinidaum .screen_out{display:block;overflow:hidden;position:absolute;left:-9999px;width:1px;height:1px;font-size:0;line-height:0;text-indent:-9999px}\\n#wrapMinidaum .hide{display:none}\\n#minidaum{position:absolute;top:0;left:0;width:100%;height:40px;letter-spacing:-1px}\\n#minidaum .img_minidaum{display:block;overflow:hidden;font-size:0;line-height:0;background:url(https://t1.daumcdn.net/daumtop_deco/images/common/minidaum/minidaum_v5.png) no-repeat;text-indent:-9999px}\\n#minidaum .minidaum_gnb{float:right;margin-right:-3px;padding-top:8px}\\n#minidaum .minidaum_logo{display:inline;float:left;margin:11px 12px 0 0}\\n#minidaum .minidaum_logo .img_logo{display:block;overflow:hidden;width:42px;height:17px;background:url(https://t1.daumcdn.net/daumtop_deco/images/common/minidaum/minidaum_v5.png) no-repeat;text-indent:-9999px}\\n.minidaum_rank_list{background:url(https://t1.daumcdn.net/daumtop_deco/images/common/minidaum/minidaum_v5.png) no-repeat 0 -200px}\\n.minidaum_rank_list .minidaum_word{float:left;white-space:nowrap}\\n.minidaum_rank_list .minidaum_num{font-size:12px;line-height:14px;color:#666;letter-spacing:0}\\n.minidaum_rank_list .minidaum_status{float:left;overflow:hidden;width:8px;height:10px;font-size:0;background:url(https://t1.daumcdn.net/daumtop_deco/images/common/minidaum/minidaum_v5.png) no-repeat -100% 0;text-indent:-3000px}\\n.minidaum_rank_list .minidaum_up{margin-top:3px;background-position:0 -80px}\\n.minidaum_rank_list .minidaum_down{margin-top:2px;background-position:-10px -80px}\\n.minidaum_rank_list .minidaum_keep{height:1px;margin-top:5px;background-position:-20px -80px}\\n.minidaum_rank_list .minidaum_new{width:25px;margin-top:2px;background-position:-30px -80px}\\n.minidaum_rank_list .minidaum_dummy{background:url(https://t1.daumcdn.net/daumtop_deco/images/common/minidaum/minidaum_v5.png) no-repeat 0 -490px}\\n#minidaumRank{float:left;position:relative;margin-top:13px;height:19px}\\n#minidaumRank .minidaum_rankroll{overflow:hidden;width:191px;height:19px;font-size:12px;line-height:14px;letter-spacing:-1px}\\n#minidaumRank .minidaum_rank_list{float:left;width:191px;background-position:0 -490px}\\n#minidaumRank .minidaum_rank_list li{height:23px}\\n#minidaumRank .minidaum_rank_list .minidaum_word{padding:1px 6px 0 18px}\\n#minidaumRank .minidaum_rank_list .minidaum_num{display:inline;float:left;margin:1px 0 0 2px}\\n#minidaumRank .minidaum_rank_list .minidaum_up{margin-top:2px}\\n#minidaumRank .minidaum_rank_list .minidaum_down{margin-top:1px}\\n#minidaumRank .minidaum_rank_list .minidaum_keep{margin-top:6px}\\n#minidaumUser{float:left}\\n#minidaumUser .minidaum_profile{display:block;overflow:hidden}\\n#minidaumUser .minidaum_login{display:block;width:50px;height:22px;border:1px solid #E4E4E4;font-size:12px;line-height:24px;color:#666;text-align:center}\\n#minidaumUser .minidaum_login:hover{text-decoration:none}\\n#minidaumUser .minidaum_nick{display:block}\\n#minidaumUser .minidaum_nick .minidaum_profile{position:relative;width:24px;height:24px}\\n#minidaumService{float:left}\\n#minidaumService .dsvc_util{display:inline;float:left;margin-left:24px}\\n#minidaumService .minidaum_mail{display:block;position:relative;width:24px;height:24px}\\n#minidaumService .minidaum_mail .ico_dsvc_mail{width:24px;height:24px;background-position:0 -20px}\\n#minidaumService .minidaum_mail:hover .ico_dsvc_mail{background-position:-60px -20px}\\n#minidaumService .ico_dsvc_alarm{position:absolute;top:-1px;right:-3px;width:10px;height:10px;background-position:-90px -80px;pointer-events:none}\\n#minidaumService .minidaum_count{display:none;position:absolute;top:-3px;left:12px}\\n#minidaumService #minidaumMailCnt{display:block;min-width:15px;width:auto;height:auto;padding:3px 2px 1px 1px;border-radius:8px;font-style:normal;font-weight:600;font-size:11px;line-height:10px;color:#fff;background-color:#118EFF;text-align:center;letter-spacing:0;text-decoration:none}\\n#minidaumService #minidaumMailCnt.mailcnt2{min-width:21px;padding-right:1px;padding-left:2px}\\n#minidaumService #minidaumMailCnt:empty{display:none}\\n#minidaumService .minidaum_sitemap{display:block;width:24px;height:24px}\\n#minidaumService .ico_dsvc_sitemap{width:24px;height:24px;background-position:-30px -20px}\\n#minidaumService .minidaum_sitemap:hover .ico_dsvc_sitemap:hover{background-position:-90px -20px}\\n\\n#minidaum .minidaum_layer{display:none;position:absolute;top:34px;padding-top:5px}\\n#minidaum .minidaum_layer .ico_arrow{position:absolute;top:0;width:10px;height:6px;background-position:-60px -80px}\\n#minidaum .inner_minidaum_layer{overflow:hidden;border:1px solid #CDCDCD;border-radius:1px;background-color:#fff}\\n#minidaum .minidaumlayer_open{display:block}\\n#minidaumRankLayer{left:0;width:222px}\\n#minidaumRankLayer .ico_arrow{left:57px}\\n#minidaumRankLayer .inner_minidaum_layer{height:342px;padding:0 20px 0 19px}\\n#minidaumRankLayer .minidaum_rank_tit{display:block;height:30px;margin:20px 0 0 2px;font-weight:bold;font-size:14px}\\n#minidaumRankLayer li{overflow:hidden;height:23px;margin-top:5px;font-size:13px;line-height:14px}\\n#minidaumRankLayer .minidaum_word{width:133px;padding:1px 0 0 18px}\\n#minidaumRankLayer .minidaum_dummy{display:none}\\n#minidaumRankLayer .minidaum_num{float:right;width:21px;margin-top:2px;text-align:right}\\n#minidaumRankLayer .minidaum_select .minidaum_word{font-weight:bold;letter-spacing:-1px}\\n#minidaumRankLayer .minidaum_keep{display:inline;float:right;margin:8px 1px 0 0}\\n#minidaumRankLayer .minidaum_new{float:right;margin-top:2px}\\n#minidaumMoreLayer{right:0;width:312px}\\n#minidaumMoreLayer .ico_arrow{right:4px}\\n#minidaumMoreLayer .minidaum_idx{display:none}\\n#minidaumMoreLayer .minidaum_list_dsvc{overflow:hidden;padding:23px 0 0 2px}\\n#minidaumMoreLayer .minidaum_list_dsvc li{float:left;width:74px;height:74px;margin-right:1px;text-align:center}\\n#minidaumMoreLayer .minidaum_list_dsvc a{display:block}\\n#minidaumMoreLayer .minidaum_list_dsvc img{vertical-align:top}\\n#minidaumMoreLayer .dsvc_thumb{display:block;overflow:hidden;width:36px;height:36px;margin:0 auto}\\n#minidaumMoreLayer .dsvc_txt{display:block;margin-top:6px;font-weight:bold;font-size:13px}\\n#minidaumMoreLayer .minidaum_listbox{display:table;overflow:hidden;position:relative;width:100%;padding:18px 0 58px;border-top:1px solid #F2F2F2}\\n#minidaumMoreLayer .minidaum_list_group{display:table-cell;width:72px;border-left:1px solid #F2F2F2}\\n#minidaumMoreLayer .minidaum_list_group li{margin-bottom:-2px;padding:13px 0 0 10px;font-size:13px;line-height:15px}\\n#minidaumMoreLayer .minidaum_list_group li:first-child{padding-top:0}\\n#minidaumMoreLayer .minidaum_list_group .minidaum_all{position:absolute;left:0;bottom:0;width:100%;margin:0;padding:14px 0 11px;border-top:1px solid #F2F2F2;font-size:12px;line-height:14px;color:#222;background-color:#FBFBFB;text-align:center;text-decoration:none}\\n#minidaumMoreLayer .minidaum_list_group1{width:69px;padding-left:12px;border-left:0 none}\\n#minidaumMoreLayer .minidaum_list_group4{width:auto}\\n#minidaumMailLayer{right:0;width:312px}\\n#minidaumMailLayer .ico_arrow{right:52px}\\n#minidaumMailLayer .inner_minidaum_layer{height:238px;text-align:center}\\n#minidaumMailLayer .ico_dsvc_notify{width:70px;height:64px;margin:37px auto 0;padding-left:10px;background-position:10px -130px}\\n#minidaumMailLayer .minidaum_notify{margin:11px 0 17px;font-size:13px;line-height:22px;color:#666}\\n#minidaumMailLayer .minidaum_notify em{font-size:14px;color:#222}\\n#minidaumMailLayer .minidaum_account{display:block;width:138px;margin:0 auto;padding:10px 0 8px;border:1px solid #CDCDCD;border-radius:2px;line-height:1;color:#666;text-align:center;text-decoration:none}\\n#minidaumUserLayer{right:0}\\n#minidaumUserLayer .ico_arrow{right:100px}\\n#minidaumUserLayer .inner_minidaum_layer{width:310px;height:138px}\\n#minidaumUserLayer .minidaum_mysvc{overflow:hidden;border-top:1px solid #eee;background-color:#FBFBFB}\\n#minidaumUserLayer .minidaum_mysvc li{float:left;width:33.3333%;padding:12px 0 11px;line-height:13px;text-align:center}\\n#minidaumUserLayer .minidaum_mysvc li:before{float:left;width:1px;height:13px;margin-left:-1px;background-color:#eee;content:\\'\\'}\\n#minidaumUserLayer .minidaum_logout{position:absolute;top:73px;left:103px;color:#888;text-decoration:underline;letter-spacing:-1px}\\n#minidaumUserLayer .minidaum_myinfo{height:84px;padding:17px 0 0 20px}\\n#minidaumUserLayer .minidaum_myprof{float:left;position:relative;max-width:190px;margin-top:3px;padding-left:82px;vertical-align:top}\\n#minidaumUserLayer .minidaum_ssoing .minidaum_myprof{max-width:122px}\\n#minidaumUserLayer .minidaum_profile{position:absolute;top:-1px;left:1px;width:66px;height:66px}\\n#minidaumUserLayer .minidaum_user{display:block;overflow:hidden;padding-right:1px;font-weight:bold;font-size:15px;line-height:19px;letter-spacing:-1px;white-space:nowrap;text-overflow:ellipsis}\\n#minidaumUserLayer .minidaum_account{overflow:hidden;position:absolute;top:25px;left:82px;max-width:204px;font-size:13px;line-height:15px;color:#666;letter-spacing:0;white-space:nowrap;text-overflow:ellipsis}\\n#minidaumUserLayer .minidaum_sso{display:inline-block;width:70px;height:22px;margin-left:5px;background-position:0 -100px;vertical-align:top}\\n#minidaumUserLayer .minidaum_kakaoid{position:absolute;top:44px;left:46px;width:24px;height:24px;background-position:-80px -100px}\\n\\n/* 플래시가 미니다음 레이어들을 가릴 때 */\\n#minidaum .minidaum_shield{position:absolute;top:0;left:0;z-index:-1}\\n#minidaum .minidaumlayer_open .minidaum_shield{border:1px solid #fff}\\n\\n/* 레티나 대응 이미지 */\\n@media\\nonly screen and (-webkit-min-device-pixel-ratio: 1.5),\\nonly screen and (min-device-pixel-ratio: 1.5),\\nonly screen and (min-resolution: 144dpi),\\nonly screen and (min-resolution: 1.5dppx){\\n    #minidaum .img_minidaum,#minidaum .minidaum_logo .img_logo,.minidaum_rank_list,.minidaum_rank_list .minidaum_dummy,.minidaum_rank_list .minidaum_status{background-image:url(https://t1.daumcdn.net/daumtop_deco/images/common/minidaum/rtn/minidaum_v5.png);background-size:120px 960px}\\n}</style></head>\\n\\n<body class=\"daum \">\\n\\n<script type=\"text/javascript\">\\nSL.mkeyLog();\\n</script>\\n<nav id=\"daumIndex\" class=\"d_direct\">\\n<a href=\"#daumBody\" class=\"link_direct\">본문 바로가기</a>\\n<a href=\"#daumGnb\" class=\"link_direct\">메뉴 바로가기</a>\\n<a href=\"#realtimeIssueTitle\" class=\"link_direct\">실시간이슈 바로가기</a>\\n</nav>\\n<div id=\"tooltipContent\"></div> <!-- TT -->\\n<div id=\"saq\" style=\"display:none\">데이터</div>\\n<article id=\"daumWrap\" class=\"sch_tab_news\">\\n<header id=\"daumHead\">\\n<div id=\"innerHeader\" class=\"inner_header\">\\n<h1>\\n<a id=\"daumLogo\" href=\"https://www.daum.net/?nil_profile=daum&amp;nil_src=search\" onclick=\"smartLog(this, &quot;e=1&amp;dc=MLC&quot;, event);\" title=\"Daum 메인페이지로 가기\" target=\"_top\">\\n<img src=\"//search1.daumcdn.net/search/statics/common/pi/logo/daumlogo_170324.png\" width=\"84\" height=\"34\" alt=\"Daum\">\\n</a>\\n<span id=\"daumServiceLogo\" class=\"screen_out\">검색</span>\\n</h1>\\n<form id=\"daumSearch\" name=\"search\" method=\"get\" class=\"d_sch\">\\n<fieldset class=\"fld_total\">\\n<legend class=\"screen_out\">검색폼</legend>\\n<input type=\"hidden\" id=\"nil_suggest\" name=\"nil_suggest\" value=\"btn\">\\n<input type=\"hidden\" id=\"nil_ch\" name=\"nil_ch\" value=\"\">\\n<input type=\"hidden\" name=\"rtupcoll\" value=\"\">\\n<input type=\"hidden\" name=\"w\" value=\"news\">\\n<input type=\"hidden\" name=\"m\" value=\"\">\\n<input type=\"hidden\" id=\"f\" name=\"f\" value=\"\">\\n<input type=\"hidden\" name=\"lpp\" value=\"\">\\n<input type=\"hidden\" name=\"DA\" value=\"SBC\">\\n<input type=\"hidden\" name=\"sug\" value=\"\">\\n<input type=\"hidden\" name=\"sq\" value=\"\">\\n<input type=\"hidden\" name=\"o\" value=\"\">\\n<input type=\"hidden\" name=\"sugo\" value=\"\">\\n\\n\\n\\n<input type=\"hidden\" name=\"cluster\" value=\"y\">\\n\\n\\n\\n\\n<div class=\"box_searchbar\">\\n<div class=\"inner_searchbar\">\\n<input type=\"text\" class=\"tf_keyword\" id=\"q\" name=\"q\" title=\"검색어 입력\" value=\"데이터\" autocomplete=\"off\" spellcheck=\"false\" maxlength=\"255\" data-bind=\"value: keywordInput.searchQuery, hasFocus: keywordInput.isSelected, event: { keydown: onKeyDown, keyup: onKeyUp, focus: onFocus, blur: onBlur }\"><span aria-live=\"polite\" data-bind=\"text: suggestList.accessible, attr: { \\'aria-live\\': \\'polite\\'}, css: \\'screen_out\\'\" class=\"screen_out\"></span>\\n<button id=\"VKIBtn\" class=\"img_keyboard btn_key\" type=\"button\" onclick=\"SF.virtualKeyboardHandler.call();smartLog(this, \\'pg=1&amp;p=1&amp;r=1&amp;rc=1&amp;dc=BFJ&amp;at=func\\',event);return false;\"><span class=\"ir_wa\">한글입력기</span></button>\\n<button type=\"submit\" id=\"daumBtnSearch\" class=\"ico_ksearch btn_ksearch\"><span class=\"ir_wa\">검색</span></button>\\n</div>\\n</div>\\n<div id=\"wrap_suggestBox\" class=\"wrap_suggestBox\"><div id=\"suggestBox\" class=\"suggestBox box_sub\" data-bind=\"template: { name: &quot;suggest-container&quot; }\"><div class=\"baseBox bg\" data-bind=\"\\n\\tvisible: (suggestList.length() > 0 &amp;&amp; suggestList.visible) || suggestList.enableAnswerLayer,\\n\\ttemplate: { name: \\'suggest-layer\\' }\" style=\"display: none;\"><!-- ko if: options.isReverse --><!-- /ko -->\\n\\n<!-- ko ifnot: options.isReverse -->\\n    <div data-bind=\"foreach: suggestList.lists\"></div>\\n\\n    <!-- ko if: options.enableFooter -->\\n    <div class=\"footer bg_sub\" data-bind=\"\\n    \\ttemplate: { name: \\'suggest-footer\\' }\"><div class=\"fr\">\\n    <a href=\"http://cs.daum.net/faq/15/14957.html#28978\" class=\"isSuggest\" target=\"_blank\">서제스트란?</a>\\n</div></div>\\n    <!-- /ko -->\\n<!-- /ko -->\\n</div>\\n<!-- ko if: options.enableRecentList --><!-- /ko -->\\n</div></div>\\n</fieldset>\\n</form>\\n<script type=\"text/javascript\">\\n(function(){\\nvar headerSearchModule = new SF.HeaderSearchForm();\\nheaderSearchModule.init();\\n})();\\n</script>\\n\\n<div id=\"wrapMinidaum\"><div id=\"minidaum\"><div class=\"minidaum_gnb\"><h2 class=\"screen_out\">서비스 바로가기</h2><div id=\"minidaumUser\"><a href=\"https://logins.daum.net/accounts/loginform.do?url=https%3A%2F%2Fsearch.daum.net%2Fsearch%3Fw%3Dnews%26nil_search%3Dbtn%26DA%3DNTB%26enc%3Dutf8%26cluster%3Dy%26cluster_page%3D1%26q%3D%25EB%258D%25B0%25EC%259D%25B4%25ED%2584%25B0\" target=\"_top\" id=\"btnMinidaumLogin\" class=\"minidaum_login minidaum_tiara_click\" data-tiara-layer=\"minidaum login\" data-tiara-action-name=\"미니다음_로고\">로그인</a></div><div id=\"minidaumService\"><div class=\"dsvc_util\"><a href=\"https://mail.daum.net/?nil_profile=mini&amp;nil_src=mail\" id=\"minidaumMail\" class=\"minidaum_mail minidaum_tiara_click\" data-tiara-layer=\"minidaum mail\" data-tiara-action-name=\"미니다음_메일\"><span class=\"img_minidaum ico_dsvc_mail\">메일</span><em class=\"minidaum_count\" id=\"minidaumMailCntWrapper\"><span class=\"screen_out\">받은메일수</span><span id=\"minidaumMailCnt\"></span></em></a><div id=\"minidaumMailLayer\" class=\"minidaum_layer\"><span class=\"img_minidaum ico_arrow\"></span><div class=\"inner_minidaum_layer\"><span class=\"img_minidaum ico_dsvc_notify\"></span><p class=\"minidaum_notify\"><em>메일함이 없습니다</em><br>메일함 생성을 위해선 Daum아이디가 필요합니다</p><a href=\"https://accounts.daum.net/mail/create\" class=\"minidaum_account\">Daum아이디 만들기</a></div></div></div><div class=\"dsvc_util\"><a href=\"http://www.daum.net/doc/sitemap/?nil_profile=mini&amp;nil_src=sitemap\" target=\"_top\" class=\"minidaum_sitemap\" role=\"button\" aria-expanded=\"false\" id=\"minidaumMore\"><span class=\"img_minidaum ico_dsvc_sitemap\">Daum 미니 사이트맵</span></a><div id=\"minidaumMoreLayer\" class=\"minidaum_layer\"><span class=\"img_minidaum ico_arrow\"></span><div class=\"inner_minidaum_layer\"><strong class=\"screen_out\">주요서비스 바로가기</strong><ul class=\"minidaum_list_dsvc\"><li><a href=\"https://cafe.daum.net/?nil_profile=mini&amp;nil_src=cafe\" target=\"_top\" class=\"minidaum_tiara_click\" data-tiara-layer=\"minidaum site_layer cafe\" data-tiara-action-name=\"미니다음_서비스 보기 레이어_서비스명 클릭\"><span class=\"dsvc_thumb\"><img src=\"//t1.daumcdn.net/daumtop_deco/images/common/minidaum/rtn/ic_cafe.png\" width=\"36\" height=\"36\" alt=\"\"></span><span class=\"dsvc_txt\">카페</span></a></li><li><a href=\"https://news.daum.net/?nil_profile=mini&amp;nil_src=news\" target=\"_top\" class=\"minidaum_tiara_click\" data-tiara-layer=\"minidaum site_layer news\" data-tiara-action-name=\"미니다음_서비스 보기 레이어_서비스명 클릭\"><img src=\"//t1.daumcdn.net/daumtop_deco/images/common/minidaum/rtn/ic_news.png\" width=\"36\" height=\"36\" alt=\"\"><span class=\"dsvc_txt\">뉴스</span></a></li><li><a href=\"https://map.kakao.com/?nil_profile=mini&amp;nil_src=map\" class=\"minidaum_tiara_click\" data-tiara-layer=\"minidaum site_layer map\" data-tiara-action-name=\"미니다음_서비스 보기 레이어_서비스명 클릭\"><span class=\"dsvc_thumb\"><img src=\"//t1.daumcdn.net/daumtop_deco/images/common/minidaum/rtn/ic_map.png\" width=\"36\" height=\"36\" alt=\"\"></span><span class=\"dsvc_txt\">지도</span></a></li><li><a href=\"https://shoppinghow.kakao.com/top?nil_profile=mini&amp;nil_src=shophow\" class=\"minidaum_tiara_click\" data-tiara-layer=\"minidaum site_layer shopping\" data-tiara-action-name=\"미니다음_서비스 보기 레이어_서비스명 클릭\"><span class=\"dsvc_thumb\"><img src=\"//t1.daumcdn.net/daumtop_deco/images/common/minidaum/rtn/ic_shopping.png\" width=\"36\" height=\"36\" alt=\"\"></span><span class=\"dsvc_txt\">쇼핑</span></a></li></ul><div class=\"minidaum_listbox\"><strong class=\"screen_out\">서비스 바로가기</strong><strong class=\"minidaum_idx minidaum_idx1\">더보기 1열</strong><ul class=\"minidaum_list_group minidaum_list_group1\"><li><a href=\"https://blog.daum.net/?nil_profile=mini&amp;nil_src=blog\" target=\"_top\" data-tiara-layer=\"minidaum site_layer blog\" data-tiara-action-name=\"미니다음_서비스 보기 레이어_서비스명 클릭\">블로그</a></li><li><a href=\"https://www.tistory.com/?nil_profile=mini&amp;nil_src=tistory\" target=\"_top\" data-tiara-layer=\"minidaum site_layer tistory\" data-tiara-action-name=\"미니다음_서비스 보기 레이어_서비스명 클릭\">티스토리</a></li><li><a href=\"https://brunch.co.kr/?nil_profile=mini&amp;nil_src=brunch\" target=\"_top\" data-tiara-layer=\"minidaum site_layer brunch\" data-tiara-action-name=\"미니다음_서비스 보기 레이어_서비스명 클릭\">브런치</a></li><li><a href=\"https://tv.kakao.com/?nil_profile=mini&amp;nil_src=kakaotv\" target=\"_top\" data-tiara-layer=\"minidaum site_layer kakaotv\" data-tiara-action-name=\"미니다음_서비스 보기 레이어_서비스명 클릭\">카카오TV</a></li><li><a href=\"https://game.daum.net/?nil_profile=mini&amp;nil_src=game\" target=\"_top\" data-tiara-layer=\"minidaum site_layer game\" data-tiara-action-name=\"미니다음_서비스 보기 레이어_서비스명 클릭\">게임</a></li></ul><strong class=\"minidaum_idx minidaum_idx2\">더보기 2열</strong><ul class=\"minidaum_list_group minidaum_list_group2\"><li><a href=\"https://sports.daum.net/?nil_profile=mini&amp;nil_src=sports\" target=\"_top\" data-tiara-layer=\"minidaum site_layer sports\" data-tiara-action-name=\"미니다음_서비스 보기 레이어_서비스명 클릭\">스포츠</a></li><li><a href=\"https://entertain.daum.net/?nil_profile=mini&amp;nil_src=entertain\" target=\"_top\" data-tiara-layer=\"minidaum site_layer entertain\" data-tiara-action-name=\"미니다음_서비스 보기 레이어_서비스명 클릭\">연예</a></li><li><a href=\"https://movie.daum.net/main\" target=\"_top\" data-tiara-layer=\"minidaum site_layer movie\" data-tiara-action-name=\"미니다음_서비스 보기 레이어_서비스명 클릭\">영화</a></li><li><a href=\"https://webtoon.kakao.com/?nil_profile=mini&amp;nil_src=webtoon\" target=\"_top\" data-tiara-layer=\"minidaum site_layer webtoon\" data-tiara-action-name=\"미니다음_서비스 보기 레이어_서비스명 클릭\">웹툰</a></li><li><a href=\"https://www.melon.com/?nil_profile=mini&amp;nil_src=melon\" target=\"_top\" data-tiara-layer=\"minidaum site_layer melon\" data-tiara-action-name=\"미니다음_서비스 보기 레이어_서비스명 클릭\">멜론</a></li></ul><strong class=\"minidaum_idx minidaum_idx3\">더보기 3열</strong><ul class=\"minidaum_list_group minidaum_list_group3\"><li><a href=\"https://dic.daum.net/?nil_profile=mini&amp;nil_src=dic\" target=\"_top\" data-tiara-layer=\"minidaum site_layer dic\" data-tiara-action-name=\"미니다음_서비스 보기 레이어_서비스명 클릭\">어학사전</a></li><li><a href=\"https://translate.kakao.com/\" target=\"_top\" data-tiara-layer=\"minidaum site_layer translate\" data-tiara-action-name=\"미니다음_서비스 보기 레이어_서비스명 클릭\">번역</a></li><li><a href=\"https://wordbook.daum.net/my/search/log.do?dic_type=endic\" target=\"_top\" data-tiara-layer=\"minidaum site_layer wordbook\" data-tiara-action-name=\"미니다음_서비스 보기 레이어_서비스명 클릭\">단어장</a></li><li><a href=\"https://dic.daum.net/grammar_checker.do\" target=\"_top\" data-tiara-layer=\"minidaum site_layer grammar_checker\" data-tiara-action-name=\"미니다음_서비스 보기 레이어_서비스명 클릭\">맞춤법검사</a></li><li><a href=\"https://100.daum.net/\" target=\"_top\" data-tiara-layer=\"minidaum site_layer 100\" data-tiara-action-name=\"미니다음_서비스 보기 레이어_서비스명 클릭\">백과사전</a></li></ul><strong class=\"minidaum_idx minidaum_idx4\">더보기 4열</strong><ul class=\"minidaum_list_group minidaum_list_group4\"><li><a href=\"https://finance.daum.net/\" target=\"_top\" data-tiara-layer=\"minidaum site_layer finance\" data-tiara-action-name=\"미니다음_서비스 보기 레이어_서비스명 클릭\">금융</a></li><li><a href=\"https://realty.daum.net/\" target=\"_top\" data-tiara-layer=\"minidaum site_layer realty\" data-tiara-action-name=\"미니다음_서비스 보기 레이어_서비스명 클릭\">부동산</a></li><li><a href=\"https://auto.daum.net/\" target=\"_top\" data-tiara-layer=\"minidaum site_layer auto\" data-tiara-action-name=\"미니다음_서비스 보기 레이어_서비스명 클릭\">자동차</a></li><li><a href=\"https://makers.kakao.com/\" target=\"_top\" data-tiara-layer=\"minidaum site_layer makers\" data-tiara-action-name=\"미니다음_서비스 보기 레이어_서비스명 클릭\">메이커스</a></li><li><a href=\"https://together.kakao.com/?nil_profile=mini&amp;nil_src=together\" target=\"_top\" data-tiara-layer=\"minidaum site_layer together\" data-tiara-action-name=\"미니다음_서비스 보기 레이어_서비스명 클릭\">같이가치</a></li><li class=\"last minidaum_all\"><a href=\"https://www.daum.net/doc/sitemap/?nil_profile=mini&amp;nil_src=all\" target=\"_top\" data-tiara-layer=\"minidaum site_layer sitemap\" data-tiara-action-name=\"미니다음_서비스 보기 레이어_전체보기 클릭\">전체보기</a></li></ul></div></div></div></div></div></div></div></div>\\n<div id=\"VKILayout\" class=\"keyboard_layer\" style=\"display:none;\"></div>\\n<div class=\"cl_b\"></div>\\n</div>\\n<div id=\"daumGnb\">\\n<div class=\"wrap_gnb\">\\n<ul class=\"gnb_search\">\\n\\n<li class=\"\">\\n\\n<a href=\"?w=tot&amp;q=%EB%8D%B0%EC%9D%B4%ED%84%B0&amp;DA=NTB\" class=\"tab tab_total\" onclick=\"smartLog(this, &quot;pg=1&amp;r=1&amp;p=1&amp;rc=1&amp;dc=NTB&amp;at=more&quot;, event);\"><span class=\"inner_tab\"><span class=\"txt_tab\">통합검색</span></span></a>\\n</li>\\n\\n\\n\\n\\n\\n\\n\\n<li class=\"\">\\n\\n\\n\\n<a href=\"?w=img&amp;nil_search=btn&amp;DA=NTB&amp;enc=utf8&amp;q=%EB%8D%B0%EC%9D%B4%ED%84%B0\" class=\"tab tab_img\" onclick=\"smartLog(this, &quot;pg=1&amp;r=2&amp;p=1&amp;rc=1&amp;dc=NTB&amp;at=more&quot;, event);\">\\n<span class=\"inner_tab\"><span class=\"txt_tab\">이미지</span></span>\\n</a>\\n\\n</li>\\n\\n\\n<li class=\"\">\\n\\n\\n\\n<a href=\"?w=vclip&amp;nil_search=btn&amp;DA=NTB&amp;enc=utf8&amp;q=%EB%8D%B0%EC%9D%B4%ED%84%B0\" class=\"tab tab_vclip\" onclick=\"smartLog(this, &quot;pg=1&amp;r=3&amp;p=1&amp;rc=1&amp;dc=NTB&amp;at=more&quot;, event);\">\\n<span class=\"inner_tab\"><span class=\"txt_tab\">동영상</span></span>\\n</a>\\n\\n</li>\\n\\n\\n<li class=\"on\">\\n<span class=\"screen_out\">선택된 항목</span>\\n\\n\\n<a href=\"?w=news&amp;nil_search=btn&amp;DA=NTB&amp;enc=utf8&amp;cluster=y&amp;cluster_page=1&amp;q=%EB%8D%B0%EC%9D%B4%ED%84%B0\" class=\"tab tab_news\" onclick=\"smartLog(this, &quot;pg=1&amp;r=4&amp;p=1&amp;rc=1&amp;dc=NTB&amp;at=more&quot;, event);\">\\n<span class=\"inner_tab\"><span class=\"txt_tab\">뉴스</span></span>\\n</a>\\n\\n</li>\\n\\n\\n<li class=\"\">\\n\\n\\n\\n<a href=\"?w=blog&amp;nil_search=btn&amp;DA=NTB&amp;enc=utf8&amp;q=%EB%8D%B0%EC%9D%B4%ED%84%B0\" class=\"tab tab_blog\" onclick=\"smartLog(this, &quot;pg=1&amp;r=5&amp;p=1&amp;rc=1&amp;dc=NTB&amp;at=more&quot;, event);\">\\n<span class=\"inner_tab\"><span class=\"txt_tab\">블로그</span></span>\\n</a>\\n\\n</li>\\n\\n\\n<li class=\"\">\\n\\n\\n\\n<a href=\"?w=cafe&amp;nil_search=btn&amp;DA=NTB&amp;enc=utf8&amp;ASearchType=1&amp;lpp=10&amp;rlang=0&amp;q=%EB%8D%B0%EC%9D%B4%ED%84%B0\" class=\"tab tab_cafe\" onclick=\"smartLog(this, &quot;pg=1&amp;r=6&amp;p=1&amp;rc=1&amp;dc=NTB&amp;at=more&quot;, event);\">\\n<span class=\"inner_tab\"><span class=\"txt_tab\">카페</span></span>\\n</a>\\n\\n</li>\\n\\n\\n<li class=\"\">\\n\\n\\n\\n<a href=\"?w=web&amp;nil_search=btn&amp;DA=NTB&amp;enc=utf8&amp;lpp=10&amp;q=%EB%8D%B0%EC%9D%B4%ED%84%B0\" class=\"tab tab_webdoc\" onclick=\"smartLog(this, &quot;pg=1&amp;r=7&amp;p=1&amp;rc=1&amp;dc=NTB&amp;at=more&quot;, event);\">\\n<span class=\"inner_tab\"><span class=\"txt_tab\">웹문서</span></span>\\n</a>\\n\\n</li>\\n\\n\\n<li class=\"\">\\n\\n\\n\\n<a href=\"?w=site&amp;nil_search=btn&amp;DA=NTB&amp;enc=utf8&amp;lpp=10&amp;q=%EB%8D%B0%EC%9D%B4%ED%84%B0\" class=\"tab tab_site\" onclick=\"smartLog(this, &quot;pg=1&amp;r=8&amp;p=1&amp;rc=1&amp;dc=NTB&amp;at=more&quot;, event);\">\\n<span class=\"inner_tab\"><span class=\"txt_tab\">사이트</span></span>\\n</a>\\n\\n</li>\\n\\n</ul>\\n\\n<div class=\"more_search\">\\n<a id=\"gnbToggleBtn\" href=\"javascript:;\" class=\"btn_tab\">\\n<span class=\"txt_btn\">더보기/접기</span>\\n</a>\\n<ul class=\"list_more\">\\n\\n\\n<li class=\"\">\\n\\n\\n<a target=\"_blank\" href=\"http://dic.daum.net/search.do?q=%EB%8D%B0%EC%9D%B4%ED%84%B0\" class=\"link_more tab_dic\" onclick=\"smartLog(this, &quot;pg=1&amp;r=9&amp;p=2&amp;rc=1&amp;e1=NS&amp;e2=DICZ&amp;dc=NTB&amp;at=more&quot;, event);\">\\n<span class=\"inner_tab\">\\n<span class=\"txt_tab\">어학사전</span>\\n<span class=\"ico_ksearch ico_outlink\">새창</span>\\n</span>\\n</a>\\n\\n</li>\\n\\n\\n<li class=\"\">\\n\\n\\n<a target=\"_blank\" href=\"http://map.daum.net/?from=total&amp;nil_suggest=btn&amp;tab=place&amp;q=%EB%8D%B0%EC%9D%B4%ED%84%B0\" class=\"link_more tab_map\" onclick=\"smartLog(this, &quot;pg=1&amp;r=10&amp;p=2&amp;rc=1&amp;e1=NS&amp;e2=GG1Z&amp;dc=NTB&amp;at=more&quot;, event);\">\\n<span class=\"inner_tab\">\\n<span class=\"txt_tab\">지도</span>\\n<span class=\"ico_ksearch ico_outlink\">새창</span>\\n</span>\\n</a>\\n\\n</li>\\n\\n\\n<li class=\"\">\\n\\n\\n<a target=\"_blank\" href=\"http://100.daum.net/search/entry?q=%EB%8D%B0%EC%9D%B4%ED%84%B0\" class=\"link_more tab_dic100\" onclick=\"smartLog(this, &quot;pg=1&amp;r=11&amp;p=2&amp;rc=1&amp;e1=NS&amp;e2=1DVZ&amp;dc=NTB&amp;at=more&quot;, event);\">\\n<span class=\"inner_tab\">\\n<span class=\"txt_tab\">백과사전</span>\\n<span class=\"ico_ksearch ico_outlink\">새창</span>\\n</span>\\n</a>\\n\\n</li>\\n\\n\\n<li class=\"\">\\n\\n\\n<a target=\"_blank\" href=\"https://shoppinghow.kakao.com/search/%EB%8D%B0%EC%9D%B4%ED%84%B0/&amp;srchhow=Cexpo\" class=\"link_more tab_shop\" onclick=\"smartLog(this, &quot;pg=1&amp;r=12&amp;p=2&amp;rc=1&amp;e1=NS&amp;e2=SNPZ&amp;dc=NTB&amp;at=more&quot;, event);\">\\n<span class=\"inner_tab\">\\n<span class=\"txt_tab\">쇼핑</span>\\n<span class=\"ico_ksearch ico_outlink\">새창</span>\\n</span>\\n</a>\\n\\n</li>\\n\\n\\n<li class=\"\">\\n\\n\\n<a href=\"?w=book&amp;nil_search=btn&amp;DA=NTB&amp;enc=utf8&amp;q=%EB%8D%B0%EC%9D%B4%ED%84%B0\" class=\"link_more tab_book\" onclick=\"smartLog(this, &quot;pg=1&amp;r=13&amp;p=2&amp;rc=1&amp;e1=NS&amp;e2=LB0Z&amp;dc=NTB&amp;at=more&quot;, event);\">\\n<span class=\"inner_tab\"><span class=\"txt_tab\">책</span></span>\\n</a>\\n\\n</li>\\n\\n\\n<li class=\"\">\\n\\n\\n<a href=\"?w=music&amp;m=song&amp;nil_search=btn&amp;DA=NTB&amp;q=%EB%8D%B0%EC%9D%B4%ED%84%B0\" class=\"link_more tab_music\" onclick=\"smartLog(this, &quot;pg=1&amp;r=14&amp;p=2&amp;rc=1&amp;e1=NS&amp;e2=MS2Z&amp;dc=NTB&amp;at=more&quot;, event);\">\\n<span class=\"inner_tab\"><span class=\"txt_tab\">멜론뮤직</span></span>\\n</a>\\n\\n</li>\\n\\n\\n<li class=\"\">\\n\\n\\n<a href=\"?w=brunch&amp;nil_search=btn&amp;DA=NTB&amp;enc=utf8&amp;q=%EB%8D%B0%EC%9D%B4%ED%84%B0\" class=\"link_more tab_brunch\" onclick=\"smartLog(this, &quot;pg=1&amp;r=15&amp;p=2&amp;rc=1&amp;e1=NS&amp;e2=BRCZ&amp;dc=NTB&amp;at=more&quot;, event);\">\\n<span class=\"inner_tab\"><span class=\"txt_tab\">브런치</span></span>\\n</a>\\n\\n</li>\\n\\n\\n<li class=\"\">\\n\\n\\n<a href=\"?w=kstory&amp;nil_search=btn&amp;DA=NTB&amp;q=%EB%8D%B0%EC%9D%B4%ED%84%B0\" class=\"link_more tab_kstory\" onclick=\"smartLog(this, &quot;pg=1&amp;r=16&amp;p=2&amp;rc=1&amp;e1=NS&amp;e2=KASZ&amp;dc=NTB&amp;at=more&quot;, event);\">\\n<span class=\"inner_tab\"><span class=\"txt_tab\">카카오스토리</span></span>\\n</a>\\n\\n</li>\\n\\n</ul>\\n</div>\\n\\n\\n\\n\\n</div>\\n</div>\\n<script type=\"text/javascript\">\\n\\n_jsSetCookieNonEscape = function(name,value){\\ndocument.cookie = name+\"=\"+value+\"; path=/;\";\\n};\\n_jsSetCookieNonEscape(\"ODT\", \"IIMZ_VO2Z_NNSZ_BR1Z_CCBZ_WSAZ_IVRZ_\");\\n_jsSetCookieNonEscape(\"DDT\", \"DICZ_GG1Z_1DVZ_SNPZ_LB0Z_MS2Z_BRCZ_KASZ_\");\\n_jsSetCookieNonEscape(\"DTQUERY\", \"%EB%8D%B0%EC%9D%B4%ED%84%B0\" );\\n\\n\\n</script>\\n<form name=\"cUccForm\" method=\"get\">\\n<input type=\"hidden\" name=\"kword\">\\n<input type=\"hidden\" name=\"colid\">\\n<input type=\"hidden\" name=\"docid\">\\n<input type=\"hidden\" name=\"backurl\">\\n</form>\\n<form name=\"urForm\" method=\"get\">\\n<input type=\"hidden\" name=\"q\">\\n</form>\\n<div class=\"clr\"></div>\\n<!-- // daumGnb -->\\n<div name=\"searchData\" id=\"searchData\" class=\"skiptonavi\"></div>\\n<!-- End Header -->\\n</header>\\n\\n\\n<script type=\"text/html\" id=\"suggest-footer-template\">\\n<div>\\n<span>\\n<div class=\"fr\">\\n<a href=\"http://cs.daum.net/faq/15/14957.html#28978\" class=\"isSuggest\" target=\"_blank\" onclick=\"smartLog(this, \\'dc=SUG&p=5&r=1\\', event);\">서제스트란?</a>\\n</div>\\n</span>\\n</div>\\n</script>\\n\\n<article id=\"daumContent\">\\n<div id=\"cMain\">\\n<script type=\"text/javascript\">\\nsearchLog.dl = \\'R030_R100_R040_TOG0_NSJ0_DCC0_NNS13_PGD1_RNN1_MNN1_RSN1\\';\\t/* ISM DISPLAY_RESULT */\\nvar smDisCode = \"\";\\nvar smClickCode = \"\";\\nvar smCateCode = \"\";\\nvar totCollCount = \"1\";\\nvar sPageLoadedmsTime = 278;\\nvar requestTime = \"1639731155407\";\\n</script>\\n<article id=\"mArticle\">\\n<div class=\"inner_article\">\\n<span id=\"daumBody\" class=\"screen_out\">검색 본문</span>\\n\\n\\n\\n\\n\\n\\n\\n\\n\\n\\n\\n\\n\\n\\n\\n\\n\\n\\n\\n\\n\\n<div disp-attr=\"NSJ\" style=\"position: relative;\" class=\"g_comp\">\\n\\n\\n<script type=\"text/javascript\">\\n/**\\n* 관련검색어 pc용 스크립트\\n* 바로가기 니즈 키워드 (기준 CTR 50% 이상) 인 경우 관련검색어 노출을 확대해서(3줄 펼치기 형태) 관련검색어 클릭을 높인다 - 2013.11.5 로직 삭제\\n*/\\n(function (jq) {\\nC.netizenColl = C.netizenColl || {};\\nC.netizenColl = {\\napplyTopBottom: function (position) {\\nvar NetizenToggle = function (type) {\\nthis.type = (type) ? type : \"\";\\nthis.btnEl = jq(\"#netizen_more_btn_\" + type);\\nthis.btnTextEl = jq(\"#netizen_more_btn_\" + type + \" span.ico_rwd\");\\nthis.listsWrapper = jq(\"#netizen_lists_\" + this.type);\\nthis.lists = jq(\"#netizenColl_\" + this.type + \" .list_keyword span.wsn\");\\nthis.listKeywords = jq(\"#netizenColl_\" + this.type + \" .list_keyword span.wsn a.keyword\");\\nthis.tab = this.listsWrapper.data(\"w\");\\nthis.listFoldClass = (this.tab == \"img\") ? \"type1\" : \"type2\";   /* 이미지는 기본 1줄, 나머지는 기본 2줄 노출 */\\nthis.listOpenClass = \"type3\";   /* 쵀대 4줄 노출 */\\n};\\nNetizenToggle.prototype = {\\ninit: function () {\\nif (this.btnEl.length > 0) {\\nthis.setListType();\\nthis.btnEl.unbind(\"click\").bind(\"click\", jq.proxy(this.toggle, this));\\nthis.listKeywords.unbind(\"click\").bind(\"click\", jq.proxy(this.sendLog, this));\\njq(window).resize(jq.proxy(this.setListType, this));\\n}\\n},\\nsetListType: function () {\\nvar lineCount = this.getLineCount();\\nswitch (lineCount) {\\ncase 1:\\nthis.setBtnStatus(\"more\", \"hide\");\\nthis.listsWrapper[0].className = \"list_keyword\";\\nbreak;\\ncase 2:\\nif (this.tab == \"img\") {\\nif (this.listsWrapper.hasClass(\"type3\")) {\\nthis.setBtnStatus(\"fold\", \"show\");\\nthis.listsWrapper[0].className = \"list_keyword \" + this.listOpenClass;\\n} else {\\nthis.setBtnStatus(\"more\", \"show\");\\nthis.listsWrapper[0].className = \"list_keyword \" + this.listFoldClass;\\n}\\n} else {\\nthis.setBtnStatus(\"more\", \"hide\");\\nthis.listsWrapper[0].className = \"list_keyword\";\\n}\\nbreak;\\ncase 3:\\ncase 4:\\nif (this.tab == \"img\") {\\nif (this.listsWrapper.hasClass(\"type1\") || this.listsWrapper.hasClass(\"type2\")) {\\nthis.setBtnStatus(\"more\", \"show\");\\nthis.listsWrapper[0].className = \"list_keyword \" + this.listFoldClass;\\n} else {\\nthis.listsWrapper[0].className = \"list_keyword \" + this.listOpenClass;\\n}\\n} else {\\nthis.setBtnStatus(\"more\", \"show\");\\nthis.listsWrapper[0].className = \"list_keyword \" + this.listFoldClass;\\n}\\nbreak;\\n}\\n},\\nsetBtnStatus: function (opt1, opt2) {\\nif (opt1 == \"more\") {\\nthis.btnEl.removeClass(\"fold\");\\nthis.btnTextEl.text(\\'더보기\\');\\n} else if (opt1 == \"fold\") {\\nthis.btnEl.addClass(\"fold\");\\nthis.btnTextEl.text(\\'접기\\');\\n}\\nif (typeof(opt2) != \"undefined\") {\\nif (opt2 == \"hide\") {\\njq(this.btnEl).addClass(\"hide\");\\n} else if (opt2 == \"show\") {\\njq(this.btnEl).removeClass(\"hide\");\\n}\\n}\\n},\\ntoggle: function (e) {\\nvar lineCount = this.getLineCount();\\nvar logData = this.btnEl.data(\"log\");\\nif (lineCount > 1) {\\nif (this.btnEl.length > 0) {\\nif (this.btnEl.hasClass(\"fold\")) {\\nthis.setBtnStatus(\"more\");\\nthis.listsWrapper[0].className = \"list_keyword \" + this.listFoldClass;\\nsmartLog(this.btnEl, logData + \"&e=2\", e);\\n} else {\\nthis.setBtnStatus(\"fold\");\\nthis.listsWrapper[0].className = \"list_keyword \" + this.listOpenClass;\\nsmartLog(this.btnEl, logData + \"&e=1\", e);\\n}\\n}\\n}\\n},\\ngetLineCount: function () {\\nvar list = this.lists[this.lists.length - 1];\\nvar top = jq(list).position().top;\\nvar lineHeight = 25;\\nvar margin = 5;\\n/* 한 줄이 25 */\\nif (top >= lineHeight * 3 && top >= lineHeight * 3 - margin) {  /* 70~75 */\\nreturn 4;\\n} else if (top >= lineHeight * 2 && top >= lineHeight * 2 - margin) { /* 45~50 */\\nreturn 3;\\n} else if (top >= lineHeight && top >= lineHeight - margin) {    /* 20~25 */\\nreturn 2;\\n} else {    /* ~20 */\\nreturn 1;\\n}\\n},\\nsendLog: function (e) {\\ne.stopPropagation();\\nvar target = function () {\\nif (e.target.tagName.toLowerCase() == \"span\") {\\nreturn e.target.firstChild;\\n} else if (e.target.tagName.toLowerCase() == \"a\") {\\nreturn e.target;\\n}\\n}();\\nvar log = jq(target).data(\"log\");\\nvar extra = {\\n\"relkwd\": {\\n\"click_query\": jq(target).text()\\n}\\n};\\nsmartLog(target, log, e, extra);\\n}\\n};\\nvar netizenToggle;\\nnetizenToggle = new NetizenToggle(position);\\nnetizenToggle.init();\\n/* 이미지 탭에서 상단 관련검색어 미들 top 사이즈 체크할 때, 렌더링 타이밍 이슈로 넣어 둠. */\\nsetTimeout(function () {\\nnetizenToggle.setListType();\\n}, 0);\\n},\\napplyRight: function () {\\n/* ie6, ie7, ipad 가 아니면 */\\nif (!((SF.ua.browser.name == \"msie\" && (SF.ua.browser.version.major == \"6\" || SF.ua.browser.version.major == \"7\")) || (SF.ua.browser.name == \"ipad\"))) {\\nthis.fixTop();\\n}\\nvar listKeywords = jq(\"#netizenColl_right .list_keyword a.link_txt\");\\nlistKeywords.unbind(\"click\").bind(\"click\", jq.proxy(this.sendLog, this));\\n},\\nsendLog: function (e) {\\ne.stopPropagation();\\nvar target = function () {\\nif (e.target.tagName.toLowerCase() == \"span\") {\\nreturn e.target.parentNode;\\n} else if (e.target.tagName.toLowerCase() == \"a\") {\\nreturn e.target;\\n}\\n}();\\nvar log = jq(target).data(\"log\");\\nvar freeLog = {\\n\"relkwd\": {\\n\"click_query\": jq(target).text()\\n}\\n};\\nsmartLog(target, log, e, freeLog);\\n},\\nfixTop: function () {\\nvar netizenEl = jq(\"#netizenColl_right\")[0];\\nif (netizenEl) {\\nvar bodyHeight = jq(\"#daumWrap\")[0].clientHeight;\\nif (viewsite == \"0001L\") {\\n/* SA일경우 */\\nvar headerHeight = jq(\"#bingHead\")[0].clientHeight;\\nvar footerHeight = jq(\"#bingFoot\")[0].clientHeight;\\n} else {\\nvar headerHeight = jq(\"#daumHead\")[0].clientHeight;\\nvar footerHeight = jq(\"#daumFoot\")[0].clientHeight;\\n}\\nvar netizenHeight = netizenEl.clientHeight;\\nvar netizenTop = 0;\\nvar offset = 60;\\n/* 우하단 맨위로 버튼으로 인한 오프셋  */\\nvar prevHeight = 0;\\nvar browserHeight = 0;\\nvar checkNetizen = function () {\\nvar currentNetizenTop = Math.round(jq(netizenEl).position().top);\\nif (currentNetizenTop !== -1) {\\nnetizenTop = currentNetizenTop;\\n}\\nvar isHorizontalScrollbar = document.documentElement.scrollWidth > document.documentElement.clientWidth;\\nvar scrollTop = getScrollOffsets().top;\\nbrowserHeight = getWindowSize().height;\\nvar fixMode = ((scrollTop - headerHeight) >= netizenTop) ? true : false;\\nif (isHorizontalScrollbar) {\\nfixMode = false;\\n}\\nif (fixMode) {\\njq(netizenEl).addClass(\"netizen_fixed\");\\nif (scrollTop > (bodyHeight - (netizenHeight + footerHeight + offset))) {\\nnetizenEl.style.top = bodyHeight - (footerHeight + offset + netizenHeight) - scrollTop + \"px\";\\n} else {\\nnetizenEl.style.top = \"-1px\";\\n}\\n} else {\\njq(netizenEl).removeClass(\"netizen_fixed\");\\n}\\n};\\nvar getScrollOffsets = function () {\\nreturn {\\n\\'left\\': window.pageXOffset || document.documentElement.scrollLeft || document.body.scrollLeft,\\n\\'top\\': window.pageYOffset || document.documentElement.scrollTop || document.body.scrollTop\\n};\\n};\\nvar getWindowSize = function () {\\nvar w = (window.innerWidth || document.documentElement.clientWidth || document.body.clientWidth || 1003) - 2,\\nh = (window.innerHeight || document.documentElement.clientHeight || document.body.clientHeight || 650) - 2;\\nreturn {\"width\": w, \"height\": h};\\n};\\ncheckNetizen();\\njq(window).scroll(checkNetizen);\\njq(window).resize(function () {\\n/* 브라우저 리사이즈시에는 높이가 달라졌을때는 클래스 순간 지움. (위치 새로 잡기위해) */\\nif (prevHeight == browserHeight) {\\njq(netizenEl).removeClass(\"netizen_fixed\");\\n}\\ncheckNetizen();\\nprevHeight = browserHeight;\\n});\\n}\\n}\\n};\\n/**\\n* pc 우측 박스용 말줄임\\n*/\\nC.netizenColl.ellipsis = {\\nFRONT_MARGIN: 0,\\nADDITIONAL_MARGIN: 15,\\n/**\\n1. 25byte 이상인 서브키가 몇개인지 측정\\n2. 그 글자들과 메인키의 일치비율 측정 => 편집거리 사용.\\n2-1. 키워드와 똑같이 잘라서 편집거리 측정\\n3. 일치비율 >= 0.5 이상이면 중간말줄임, 아니면 기본 말줄임\\n*/\\ndraw: function () {\\nvar _this = this;\\nvar keyword = decodeURIComponent(utf8Query).replace(/\\\\s/g, \"\");\\nvar longKeyword = this.getLongSubkey();\\nif (longKeyword.length > 0) {\\nvar editDistances = jq.map(longKeyword, function (subkey) {\\n/* 2-1 단계 */\\nvar cuttingSubkey = subkey.replace(/\\\\s/g, \"\").substring(0, keyword.length);\\nreturn _this.getEditDistance(_this.hangulToJaso(keyword), _this.hangulToJaso(cuttingSubkey));\\n});\\nvar sumOfEditDistances = 0;\\njq.each(editDistances, function (index, value) {\\nsumOfEditDistances += value;\\n});\\nvar avgOfEditDistances = sumOfEditDistances / editDistances.length;\\nvar zeroCnt = jq.grep(editDistances, function (dist) {\\nreturn dist <= avgOfEditDistances;\\n}).length;\\nvar sumOfDiffSquare = 0;\\njq.each(editDistances, function (index, dist) {\\nsumOfDiffSquare += Math.pow(dist - avgOfEditDistances, 2);\\n});\\nvar matchRatio = zeroCnt / longKeyword.length;\\nvar variance = sumOfDiffSquare / editDistances.length;\\n/* 일치비율이 0.5 이상이거나 0.3 이상이지만 분산이 2보다 작을때는 중간 말줄임 적용(프로그램명 n회 같은 쿼리는 일치비율이 작게 나오기 때문) */\\nif (matchRatio >= 0.5 || (matchRatio >= 0.3 && variance < 2)) {\\nthis.setMiddleEllipsis();\\n} else {\\nthis.setFullSubkey();\\n}\\n} else {\\nthis.setFullSubkey();\\n}\\n},\\n/**\\n* 25byte 이상인 키워드 몇개인지 측정\\n*/\\ngetLongSubkey: function () {\\nvar _this = this;\\nreturn jq.map(jq(\"#netizenColl_right .txt_keyword\"), function (elem, index) {\\nvar subkey = jq(elem).attr(\"data\");\\nif (_this.getByte(subkey) >= 25) {\\nreturn subkey;\\n}\\n});\\n},\\n/**\\n* 한글도 2byte로 계산하는 바이트 계산 함수\\n*/\\ngetByte: function (s, b, i, c) {\\nfor (b = i = 0; c = s.charCodeAt(i++); b += c >> 7 ? 2 : 1);\\nreturn b;\\n},\\n/**\\n* 한글 자소 분리\\n* brunch B.Util.js 의 hangulToJaso 가져와서 사용.\\n*/\\nhangulToJaso: function (text) {\\nvar ChoSeong = [0x3131, 0x3132, 0x3134, 0x3137, 0x3138,\\n0x3139, 0x3141, 0x3142, 0x3143, 0x3145, 0x3146, 0x3147, 0x3148,\\n0x3149, 0x314a, 0x314b, 0x314c, 0x314d, 0x314e];\\nvar JungSeong = [0x314f, 0x3150, 0x3151, 0x3152, 0x3153,\\n0x3154, 0x3155, 0x3156, 0x3157, 0x3158, 0x3159, 0x315a, 0x315b,\\n0x315c, 0x315d, 0x315e, 0x315f, 0x3160, 0x3161, 0x3162, 0x3163];\\nvar JongSeong = [0x0000, 0x3131, 0x3132, 0x3133, 0x3134,\\n0x3135, 0x3136, 0x3137, 0x3139, 0x313a, 0x313b, 0x313c, 0x313d,\\n0x313e, 0x313f, 0x3140, 0x3141, 0x3142, 0x3144, 0x3145, 0x3146,\\n0x3147, 0x3148, 0x314a, 0x314b, 0x314c, 0x314d, 0x314e];\\nvar chars = [];\\nvar v = [];\\nfor (var i = 0; i < text.length; i++) {\\nchars[i] = text.charCodeAt(i);\\nif (chars[i] >= 0xAC00 && chars[i] <= 0xD7A3) {\\nvar i1, i2, i3;\\ni3 = chars[i] - 0xAC00;\\ni1 = i3 / (21 * 28);\\ni3 = i3 % (21 * 28);\\ni2 = i3 / 28;\\ni3 = i3 % 28;\\nv.push(String.fromCharCode(ChoSeong[parseInt(i1)]));\\nv.push(String.fromCharCode(JungSeong[parseInt(i2)]));\\nif (i3 != 0x0000)\\nv.push(String.fromCharCode(JongSeong[parseInt(i3)]));\\n}\\nelse {\\nv.push(String.fromCharCode(chars[i]));\\n}\\n}\\nreturn v.join(\"\");\\n},\\n/**\\n* 편집거리 측정\\n*/\\ngetEditDistance: function (a, b) {\\nif (a.length === 0) return b.length;\\nif (b.length === 0) return a.length;\\nvar matrix = [];\\n/* increment along the first column of each row */\\nvar i;\\nfor (i = 0; i <= b.length; i++) {\\nmatrix[i] = [i];\\n}\\n/* increment each column in the first row */\\nvar j;\\nfor (j = 0; j <= a.length; j++) {\\nmatrix[0][j] = j;\\n}\\n/* Fill in the rest of the matrix */\\nfor (i = 1; i <= b.length; i++) {\\nfor (j = 1; j <= a.length; j++) {\\nif (b.charAt(i - 1) == a.charAt(j - 1)) {\\nmatrix[i][j] = matrix[i - 1][j - 1];\\n} else {\\nmatrix[i][j] = Math.min(matrix[i - 1][j - 1] + 1, /* substitution */\\nMath.min(matrix[i][j - 1] + 1, /* insertion */\\nmatrix[i - 1][j] + 1)); /* deletion */\\n}\\n}\\n}\\nreturn matrix[b.length][a.length];\\n},\\n/**\\n* 중간 말줄임 적용\\n*/\\nsetMiddleEllipsis: function () {\\nvar width = 0;\\nwidth = (jq(\"#netizenColl_right .list_keyword\").width()) / 2;\\nif (width <= 0) {\\nthis.setFullSubkey();\\nreturn;\\n}\\nwidth = width - this.FRONT_MARGIN - this.ADDITIONAL_MARGIN;\\n/* width 보다 넓으면 한글자씩 빼기 */\\njq.each(jq(\"#netizenColl_right .txt_keyword\"), function (index, elem) {\\nvar subkey = jq(elem).attr(\"data\");\\nvar len = subkey.length;\\njq(elem).text(subkey);\\nvar mid = len / 2;\\nvar removeLen = 2;\\nvar head, tail;\\nwhile (jq(elem).width() > width) {\\nhead = subkey.substring(0, mid - removeLen / 2);\\ntail = subkey.substring(mid + removeLen / 2, len);\\njq(elem).text(head + \"...\" + tail);\\nremoveLen++;\\n}\\n});\\n},\\nsetFullSubkey: function () {\\njq.each(jq(\"#netizenColl_right .txt_keyword\"), function (index, elem) {\\nvar subkey = jq(elem).attr(\"data\");\\njq(elem).text(subkey);\\n});\\n}\\n};\\njq(document).ready(function () {\\nif (jq(\"#netizenColl_top\").length > 0) {\\nC.netizenColl.applyTopBottom(\"top\");\\n}\\nif (jq(\"#netizenColl_bottom\").length > 0) {\\nC.netizenColl.applyTopBottom(\"bottom\");\\n}\\nif (jq(\"#netizenColl_right\").length > 0) {\\nC.netizenColl.applyRight();\\nC.netizenColl.ellipsis.draw();\\n}\\n});\\n})(jQuery);\\n</script>\\n<div id=\"netizenColl_top\" class=\"section_related\">\\n<div id=\"netizen_lists_top\" class=\"list_keyword type2\" data-w=\"news\">\\n<h2 class=\"tit\">\\n관련 <span class=\"screen_out\">검색어</span>\\n</h2>\\n<span class=\"wsn\"><a href=\"?w=news&amp;m=&amp;q=%EB%8D%B0%EC%9D%B4%ED%84%B0%EB%9E%80&amp;nzq=%EB%8D%B0%EC%9D%B4%ED%84%B0&amp;DA=NSJ\" class=\"keyword\" data-log=\"dc=NSJ&amp;pg=1&amp;r=1&amp;p=1&amp;e1=%EB%8D%B0%EC%9D%B4%ED%84%B0%EB%9E%80&amp;rc=1\">데이터란</a></span>\\n<span class=\"wsn\"><a href=\"?w=news&amp;m=&amp;q=%EB%B9%85%EB%8D%B0%EC%9D%B4%ED%84%B0&amp;nzq=%EB%8D%B0%EC%9D%B4%ED%84%B0&amp;DA=NSJ\" class=\"keyword\" data-log=\"dc=NSJ&amp;pg=1&amp;r=2&amp;p=1&amp;e1=%EB%B9%85%EB%8D%B0%EC%9D%B4%ED%84%B0&amp;rc=1\">빅데이터</a></span>\\n<span class=\"wsn\"><a href=\"?w=news&amp;m=&amp;q=%ED%9C%B4%EB%8C%80%ED%8F%B0%20%EB%8D%B0%EC%9D%B4%ED%84%B0&amp;nzq=%EB%8D%B0%EC%9D%B4%ED%84%B0&amp;DA=NSJ\" class=\"keyword\" data-log=\"dc=NSJ&amp;pg=1&amp;r=3&amp;p=1&amp;e1=%ED%9C%B4%EB%8C%80%ED%8F%B0%20%EB%8D%B0%EC%9D%B4%ED%84%B0&amp;rc=1\">휴대폰 데이터</a></span>\\n<span class=\"wsn\"><a href=\"?w=news&amp;m=&amp;q=%EB%8D%B0%EC%9D%B4%ED%84%B0%20%EB%B2%A0%EC%9D%B4%EC%8A%A4&amp;nzq=%EB%8D%B0%EC%9D%B4%ED%84%B0&amp;DA=NSJ\" class=\"keyword\" data-log=\"dc=NSJ&amp;pg=1&amp;r=4&amp;p=1&amp;e1=%EB%8D%B0%EC%9D%B4%ED%84%B0%20%EB%B2%A0%EC%9D%B4%EC%8A%A4&amp;rc=1\">데이터 베이스</a></span>\\n<span class=\"wsn\"><a href=\"?w=news&amp;m=&amp;q=%EB%8D%B0%EC%9D%B4%ED%84%B0%EB%9E%A9&amp;nzq=%EB%8D%B0%EC%9D%B4%ED%84%B0&amp;DA=NSJ\" class=\"keyword\" data-log=\"dc=NSJ&amp;pg=1&amp;r=5&amp;p=1&amp;e1=%EB%8D%B0%EC%9D%B4%ED%84%B0%EB%9E%A9&amp;rc=1\">데이터랩</a></span>\\n<span class=\"wsn\"><a href=\"?w=news&amp;m=&amp;q=%EB%8D%B0%EC%9D%B4%ED%84%B0%20%EB%B6%84%EC%84%9D&amp;nzq=%EB%8D%B0%EC%9D%B4%ED%84%B0&amp;DA=NSJ\" class=\"keyword\" data-log=\"dc=NSJ&amp;pg=1&amp;r=6&amp;p=1&amp;e1=%EB%8D%B0%EC%9D%B4%ED%84%B0%20%EB%B6%84%EC%84%9D&amp;rc=1\">데이터 분석</a></span>\\n<span class=\"wsn\"><a href=\"?w=news&amp;m=&amp;q=%EB%8D%B0%EC%9D%B4%ED%84%B0%20%EC%84%BC%ED%84%B0&amp;nzq=%EB%8D%B0%EC%9D%B4%ED%84%B0&amp;DA=NSJ\" class=\"keyword\" data-log=\"dc=NSJ&amp;pg=1&amp;r=7&amp;p=1&amp;e1=%EB%8D%B0%EC%9D%B4%ED%84%B0%20%EC%84%BC%ED%84%B0&amp;rc=1\">데이터 센터</a></span>\\n<span class=\"wsn\"><a href=\"?w=news&amp;m=&amp;q=%ED%95%B8%EB%93%9C%ED%8F%B0%20%EB%8D%B0%EC%9D%B4%ED%84%B0&amp;nzq=%EB%8D%B0%EC%9D%B4%ED%84%B0&amp;DA=NSJ\" class=\"keyword\" data-log=\"dc=NSJ&amp;pg=1&amp;r=8&amp;p=1&amp;e1=%ED%95%B8%EB%93%9C%ED%8F%B0%20%EB%8D%B0%EC%9D%B4%ED%84%B0&amp;rc=1\">핸드폰 데이터</a></span>\\n<span class=\"wsn\"><a href=\"?w=news&amp;m=&amp;q=%EB%A7%88%EC%9D%B4%EB%8D%B0%EC%9D%B4%ED%84%B0&amp;nzq=%EB%8D%B0%EC%9D%B4%ED%84%B0&amp;DA=NSJ\" class=\"keyword\" data-log=\"dc=NSJ&amp;pg=1&amp;r=9&amp;p=1&amp;e1=%EB%A7%88%EC%9D%B4%EB%8D%B0%EC%9D%B4%ED%84%B0&amp;rc=1\">마이데이터</a></span>\\n<span class=\"wsn\"><a href=\"?w=news&amp;m=&amp;q=%EB%8D%B0%EC%9D%B4%ED%84%B0%20%EC%89%90%EC%96%B4%EB%A7%81%EC%9D%B4%EB%9E%80&amp;nzq=%EB%8D%B0%EC%9D%B4%ED%84%B0&amp;DA=NSJ\" class=\"keyword\" data-log=\"dc=NSJ&amp;pg=1&amp;r=10&amp;p=1&amp;e1=%EB%8D%B0%EC%9D%B4%ED%84%B0%20%EC%89%90%EC%96%B4%EB%A7%81%EC%9D%B4%EB%9E%80&amp;rc=1\">데이터 쉐어링이란</a></span>\\n<span class=\"wsn\"><a href=\"?w=news&amp;m=&amp;q=data&amp;nzq=%EB%8D%B0%EC%9D%B4%ED%84%B0&amp;DA=NSJ\" class=\"keyword\" data-log=\"dc=NSJ&amp;pg=1&amp;r=11&amp;p=1&amp;e1=data&amp;rc=1\">data</a></span>\\n<span class=\"wsn\"><a href=\"?w=news&amp;m=&amp;q=%EB%8D%B0%EC%9D%B4%ED%8A%B8&amp;nzq=%EB%8D%B0%EC%9D%B4%ED%84%B0&amp;DA=NSJ\" class=\"keyword\" data-log=\"dc=NSJ&amp;pg=1&amp;r=12&amp;p=1&amp;e1=%EB%8D%B0%EC%9D%B4%ED%8A%B8&amp;rc=1\">데이트</a></span>\\n<span class=\"wsn\"><a href=\"?w=news&amp;m=&amp;q=%EB%8D%B0%EC%9D%B4%ED%84%B0%20%EB%B3%80%ED%99%98&amp;nzq=%EB%8D%B0%EC%9D%B4%ED%84%B0&amp;DA=NSJ\" class=\"keyword\" data-log=\"dc=NSJ&amp;pg=1&amp;r=13&amp;p=1&amp;e1=%EB%8D%B0%EC%9D%B4%ED%84%B0%20%EB%B3%80%ED%99%98&amp;rc=1\">데이터 변환</a></span>\\n<span class=\"wsn\"><a href=\"?w=news&amp;m=&amp;q=%EB%8D%B0%EC%9D%B4%ED%84%B0%203%EB%B2%95&amp;nzq=%EB%8D%B0%EC%9D%B4%ED%84%B0&amp;DA=NSJ\" class=\"keyword\" data-log=\"dc=NSJ&amp;pg=1&amp;r=14&amp;p=1&amp;e1=%EB%8D%B0%EC%9D%B4%ED%84%B0%203%EB%B2%95&amp;rc=1\">데이터 3법</a></span>\\n<span class=\"wsn\"><a href=\"?w=news&amp;m=&amp;q=%EB%A1%9C%EC%9A%B0%20%EB%8D%B0%EC%9D%B4%ED%84%B0&amp;nzq=%EB%8D%B0%EC%9D%B4%ED%84%B0&amp;DA=NSJ\" class=\"keyword\" data-log=\"dc=NSJ&amp;pg=1&amp;r=15&amp;p=1&amp;e1=%EB%A1%9C%EC%9A%B0%20%EB%8D%B0%EC%9D%B4%ED%84%B0&amp;rc=1\">로우 데이터</a></span>\\n<span class=\"wsn\"><a href=\"?w=news&amp;m=&amp;q=%EB%8D%B0%EC%9D%B4%ED%84%B0%20%EB%B0%94%EC%9A%B0%EC%B2%98&amp;nzq=%EB%8D%B0%EC%9D%B4%ED%84%B0&amp;DA=NSJ\" class=\"keyword\" data-log=\"dc=NSJ&amp;pg=1&amp;r=16&amp;p=1&amp;e1=%EB%8D%B0%EC%9D%B4%ED%84%B0%20%EB%B0%94%EC%9A%B0%EC%B2%98&amp;rc=1\">데이터 바우처</a></span>\\n<span class=\"wsn\"><a href=\"?w=news&amp;m=&amp;q=%EB%8D%B0%EC%9D%B4%ED%84%B0%20%ED%8C%8C%EC%9D%BC&amp;nzq=%EB%8D%B0%EC%9D%B4%ED%84%B0&amp;DA=NSJ\" class=\"keyword\" data-log=\"dc=NSJ&amp;pg=1&amp;r=17&amp;p=1&amp;e1=%EB%8D%B0%EC%9D%B4%ED%84%B0%20%ED%8C%8C%EC%9D%BC&amp;rc=1\">데이터 파일</a></span>\\n<span class=\"wsn\"><a href=\"?w=news&amp;m=&amp;q=date&amp;nzq=%EB%8D%B0%EC%9D%B4%ED%84%B0&amp;DA=NSJ\" class=\"keyword\" data-log=\"dc=NSJ&amp;pg=1&amp;r=18&amp;p=1&amp;e1=date&amp;rc=1\">date</a></span>\\n<span class=\"wsn\"><a href=\"?w=news&amp;m=&amp;q=%EB%8D%B0%EC%9D%B4%ED%84%B0%20%EC%98%A4%EB%A5%98&amp;nzq=%EB%8D%B0%EC%9D%B4%ED%84%B0&amp;DA=NSJ\" class=\"keyword\" data-log=\"dc=NSJ&amp;pg=1&amp;r=19&amp;p=1&amp;e1=%EB%8D%B0%EC%9D%B4%ED%84%B0%20%EC%98%A4%EB%A5%98&amp;rc=1\">데이터 오류</a></span>\\n<span class=\"wsn\"><a href=\"?w=news&amp;m=&amp;q=%EB%8D%B0%EC%9D%B4%ED%84%B0%20%EA%B8%B0%EB%B3%B8%EB%B2%95&amp;nzq=%EB%8D%B0%EC%9D%B4%ED%84%B0&amp;DA=NSJ\" class=\"keyword\" data-log=\"dc=NSJ&amp;pg=1&amp;r=20&amp;p=1&amp;e1=%EB%8D%B0%EC%9D%B4%ED%84%B0%20%EA%B8%B0%EB%B3%B8%EB%B2%95&amp;rc=1\">데이터 기본법</a></span>\\n</div>\\n<a href=\"javascript:;\" id=\"netizen_more_btn_top\" class=\"expender\" data-log=\"dc=NSJ&amp;at=func\">        <span class=\"ico_rwd\">더보기</span>\\n</a>\\n</div>\\n</div>\\n\\n\\n\\n\\n\\n\\n<div disp-attr=\"(TAB)news\" style=\"position: relative;\" class=\"g_comp\">\\n\\n\\n<div id=\"newsColl\"> <div class=\"cont_divider\"> <div class=\"coll_tit\"> <h2 class=\"tit\">뉴스</h2> <div class=\"info_adsch info_fairtrade\"> <a href=\"javascript:;\" class=\"ico_rwd ico_info\">서비스 안내</a> <div class=\"layer_ad\" style=\"display: none;\"> <p class=\"f_eb\">다음뉴스 안내 및 문의는 <a href=\"https://cs.daum.net/faq/63.html\" target=\"_blank\">다음뉴스 고객센터</a>를 이용해 주세요.</p> <button type=\"button\" class=\"btn_close\"><span class=\"ico_rwd ico_close_s\">서비스 안내 레이어 닫기</span></button> </div> </div> <div class=\"sort_comm\" data-option-type=\"sort\"> <a href=\"javascript:;\" class=\"btn_sort on\" data-sort=\"accuracy\" data-log=\"dc=STC&amp;pg=1&amp;r=1&amp;p=1&amp;rc=1&amp;at=func\">정확도순</a> <span class=\"ico_dot\"></span> <a href=\"javascript:;\" class=\"btn_sort\" data-sort=\"recency\" data-log=\"dc=STC&amp;pg=1&amp;r=1&amp;p=2&amp;rc=1&amp;at=func\">최신순</a> <span class=\"ico_dot\"></span> <a href=\"javascript:;\" class=\"btn_sort\" data-sort=\"old\" data-log=\"dc=STC&amp;pg=1&amp;r=1&amp;p=17&amp;rc=1&amp;at=func\">오래된순</a> </div> <div class=\"sub_expander\"> <span id=\"resultCntArea\" class=\"txt_info\">1-10 / 약 3,730,000건</span> <div class=\"wrap_btn\"> <a id=\"linkClusterClose\" href=\"?w=news&amp;req=tab&amp;q=%EB%8D%B0%EC%9D%B4%ED%84%B0&amp;cluster=n&amp;viewio=i&amp;repno=0&amp;n=10&amp;p=1&amp;pattern_yn=n&amp;DA=STC\" onclick=\"smartLog(this, &quot;dc=STC&amp;pg=1&amp;r=1&amp;p=11&amp;rc=1&amp;sd=&amp;ed=&quot;, event);\"><button class=\"btn_flex\"><span class=\"inner\">관련뉴스 닫기</span></button></a> <button class=\"btn_flex btn_search_option btn_fold\"> <span class=\"inner\">검색옵션<span class=\"ico_tabopt ico_arr\">닫기</span></span> </button> </div> </div> </div> <div class=\"compo-tabopt\"> <div class=\"box_opt\"> <div class=\"menu_opt\" data-option-type=\"period\"> <a href=\"javascript:;\" class=\"tit_menu\"> <span class=\"label\">기간</span><span class=\"ico_more\">옵션더보기</span> </a> <div class=\"layer_opt\"> <ul class=\"list_opt\"> <li class=\"on\"> <a href=\"javascript:;\" data-period=\"\" data-label=\"전체\" class=\"tit_item\" data-log=\"dc=STC&amp;pg=1&amp;r=1&amp;p=3&amp;rc=1&amp;at=func\"> 전체 </a> </li> <li> <a href=\"javascript:;\" data-period=\"d\" data-label=\"최근 1일\" class=\"tit_item\" data-log=\"dc=STC&amp;pg=1&amp;r=1&amp;p=4&amp;rc=1&amp;at=func\"> 최근 1일 </a> </li> <li> <a href=\"javascript:;\" data-period=\"w\" data-label=\"최근 1주\" class=\"tit_item\" data-log=\"dc=STC&amp;pg=1&amp;r=1&amp;p=5&amp;rc=1&amp;at=func\"> 최근 1주 </a> </li> <li> <a href=\"javascript:;\" data-period=\"m\" data-label=\"최근 1개월\" class=\"tit_item\" data-log=\"dc=STC&amp;pg=1&amp;r=1&amp;p=6&amp;rc=1&amp;at=func\"> 최근 1개월 </a> </li> <li> <a href=\"javascript:;\" data-period=\"6m\" data-label=\"최근 6개월\" class=\"tit_item\" data-log=\"dc=STC&amp;pg=1&amp;r=1&amp;p=13&amp;rc=1&amp;at=func\"> 최근 6개월 </a> </li> <li> <a href=\"javascript:;\" data-period=\"y\" data-label=\"최근 1년\" class=\"tit_item\" data-log=\"dc=STC&amp;pg=1&amp;r=1&amp;p=14&amp;rc=1&amp;at=func\"> 최근 1년 </a> </li> </ul> <div class=\"box_sub box_date\" data-period=\"u\"> <strong class=\"tit_other\">직접입력</strong> <div class=\"item_date\"> <input type=\"text\" title=\"검색기간 시작일\" value=\"2016.01.01\" class=\"tf_txt hasDatepicker\" id=\"datepicker\"> <a href=\"javascript:;\" class=\"btn_date\"> <img class=\"ui-datepicker-trigger\" src=\"https://search1.daumcdn.net/search/statics/common/pi/ico/ico_calendar.gif\" alt=\"Select date\" title=\"Select date\"> </a> </div> <div class=\"item_date\"> <input type=\"text\" title=\"검색기간 종료일\" value=\"2016.01.01\" class=\"tf_txt hasDatepicker\" id=\"dp1639731156534\"> <a href=\"javascript:;\" class=\"btn_date\"> <img class=\"ui-datepicker-trigger\" src=\"https://search1.daumcdn.net/search/statics/common/pi/ico/ico_calendar.gif\" alt=\"Select date\" title=\"Select date\"> </a> </div> <button type=\"submit\" class=\"btn_confirm\" data-log=\"dc=STC&amp;pg=1&amp;r=1&amp;p=7&amp;rc=1&amp;at=func\">적용</button> </div> </div> </div> <div class=\"menu_opt\" data-option-type=\"cpname\"> <a href=\"javascript:;\" class=\"tit_menu\"> <span class=\"label\">언론사</span><span class=\"ico_more\">옵션더보기</span> </a> <div class=\"layer_opt ty_news\"> <div class=\"area_head\"> <strong class=\"tit ff_dot\">언론사</strong> <span class=\"info_select\">총<em class=\"f_blue fw_b\">0</em>개 선택(최대 5개)</span> <button class=\"btn_flex btn_cp\"> <span class=\"inner\">언론사 직접입력 <span class=\"ico_tabopt ico_arr\">펼침</span></span> </button> <div class=\"layer_opt ty_findcp\"> <label class=\"lab_item\" for=\"newsCollCpInp\">언론사 직접입력</label> <div class=\"box_sub list_opt\"> <input type=\"text\" title=\"언론사입력\" value=\"\" id=\"newsCollCpInp\" class=\"tf_txt\" autocomplete=\"off\"> <div class=\"d_sgt simple_suggest\" style=\"display: none;\"></div> <button type=\"submit\" class=\"btn_confirm\" data-log=\"dc=STC&amp;pg=1&amp;r=1&amp;p=9&amp;rc=1&amp;at=func\">적용</button> </div> </div> </div> <div class=\"area_tab\"> <strong class=\"screen_out\">초성별 언론사 목록</strong> <ul class=\"list_tab7\"> <li class=\"on\"><a href=\"javascript:\" data-cp-category=\"ㄱ\">ㄱ</a></li> <li><a href=\"javascript:\" data-cp-category=\"ㄴ\">ㄴ</a></li> <li><a href=\"javascript:\" data-cp-category=\"ㄷ\">ㄷ</a></li> <li><a href=\"javascript:\" data-cp-category=\"ㄹ\">ㄹ</a></li> <li><a href=\"javascript:\" data-cp-category=\"ㅁ\">ㅁ</a></li> <li><a href=\"javascript:\" data-cp-category=\"ㅂ\">ㅂ</a></li> <li><a href=\"javascript:\" data-cp-category=\"ㅅ\">ㅅ</a></li> <li><a href=\"javascript:\" data-cp-category=\"ㅇ\">ㅇ</a></li> <li><a href=\"javascript:\" data-cp-category=\"ㅈ\">ㅈ</a></li> <li><a href=\"javascript:\" data-cp-category=\"ㅊ\">ㅊ</a></li> <li><a href=\"javascript:\" data-cp-category=\"ㅋ\">ㅋ</a></li> <li><a href=\"javascript:\" data-cp-category=\"ㅌ\">ㅌ</a></li> <li><a href=\"javascript:\" data-cp-category=\"ㅍ\">ㅍ</a></li> <li><a href=\"javascript:\" data-cp-category=\"ㅎ\">ㅎ</a></li> <li><a href=\"javascript:\" data-cp-category=\"기타\">기타</a></li> </ul> </div> <div class=\"area_choice\"> <strong class=\"screen_out\">언론사 선택목록</strong> <ul class=\"inner\" data-cp-category=\"ㄱ\"><li>\\n    <label class=\"opt_choice\">\\n        <input type=\"checkbox\" class=\"inp_g\" data-name=\"가스신문\" data-code=\"16DVd69Oy1uSub_6cW\">\\n        <span class=\"txt_lab\">가스신문</span>\\n    </label>\\n</li><li>\\n    <label class=\"opt_choice\">\\n        <input type=\"checkbox\" class=\"inp_g\" data-name=\"가톨릭신문\" data-code=\"16P8Yd_5GeEUcZu1R9\">\\n        <span class=\"txt_lab\">가톨릭신문</span>\\n    </label>\\n</li><li>\\n    <label class=\"opt_choice\">\\n        <input type=\"checkbox\" class=\"inp_g\" data-name=\"가톨릭평화신문\" data-code=\"16f_MHS9g-A_uUdGG2\">\\n        <span class=\"txt_lab\">가톨릭평화신문</span>\\n    </label>\\n</li><li>\\n    <label class=\"opt_choice\">\\n        <input type=\"checkbox\" class=\"inp_g\" data-name=\"가톨릭프레스\" data-code=\"16JcCh8-_gLroCp_me\">\\n        <span class=\"txt_lab\">가톨릭프레스</span>\\n    </label>\\n</li><li>\\n    <label class=\"opt_choice\">\\n        <input type=\"checkbox\" class=\"inp_g\" data-name=\"강원도민일보\" data-code=\"16yMdsCBfP1WRGSAx7\">\\n        <span class=\"txt_lab\">강원도민일보</span>\\n    </label>\\n</li><li>\\n    <label class=\"opt_choice\">\\n        <input type=\"checkbox\" class=\"inp_g\" data-name=\"강원신문\" data-code=\"16nMvNXeB8qE3qBMpO\">\\n        <span class=\"txt_lab\">강원신문</span>\\n    </label>\\n</li><li>\\n    <label class=\"opt_choice\">\\n        <input type=\"checkbox\" class=\"inp_g\" data-name=\"강원일보\" data-code=\"16RoHsyk-0Dju3pcvl\">\\n        <span class=\"txt_lab\">강원일보</span>\\n    </label>\\n</li><li>\\n    <label class=\"opt_choice\">\\n        <input type=\"checkbox\" class=\"inp_g\" data-name=\"강원타임즈\" data-code=\"16-bCdv2bOlWuy2xvF\">\\n        <span class=\"txt_lab\">강원타임즈</span>\\n    </label>\\n</li><li>\\n    <label class=\"opt_choice\">\\n        <input type=\"checkbox\" class=\"inp_g\" data-name=\"개근질닷컴\" data-code=\"16_Qhq3ZHRdQCwdXMS\">\\n        <span class=\"txt_lab\">개근질닷컴</span>\\n    </label>\\n</li><li>\\n    <label class=\"opt_choice\">\\n        <input type=\"checkbox\" class=\"inp_g\" data-name=\"거제뉴스아이\" data-code=\"16wvvpAmJou9zFL61b\">\\n        <span class=\"txt_lab\">거제뉴스아이</span>\\n    </label>\\n</li><li>\\n    <label class=\"opt_choice\">\\n        <input type=\"checkbox\" class=\"inp_g\" data-name=\"거제인터넷뉴스\" data-code=\"16mciTBcygZzHQ0LZ6\">\\n        <span class=\"txt_lab\">거제인터넷뉴스</span>\\n    </label>\\n</li><li>\\n    <label class=\"opt_choice\">\\n        <input type=\"checkbox\" class=\"inp_g\" data-name=\"거제인터넷방송\" data-code=\"16kb_bG0bNY-zrk599\">\\n        <span class=\"txt_lab\">거제인터넷방송</span>\\n    </label>\\n</li><li>\\n    <label class=\"opt_choice\">\\n        <input type=\"checkbox\" class=\"inp_g\" data-name=\"거제저널\" data-code=\"16RPHHPU5AG-ZcTcoD\">\\n        <span class=\"txt_lab\">거제저널</span>\\n    </label>\\n</li><li>\\n    <label class=\"opt_choice\">\\n        <input type=\"checkbox\" class=\"inp_g\" data-name=\"건강다이제스트\" data-code=\"16RnJA4sdrHu324XRc\">\\n        <span class=\"txt_lab\">건강다이제스트</span>\\n    </label>\\n</li><li>\\n    <label class=\"opt_choice\">\\n        <input type=\"checkbox\" class=\"inp_g\" data-name=\"건설이코노미뉴스\" data-code=\"16dvfxR22AuVayx0Ws\">\\n        <span class=\"txt_lab\">건설이코노미뉴스</span>\\n    </label>\\n</li><li>\\n    <label class=\"opt_choice\">\\n        <input type=\"checkbox\" class=\"inp_g\" data-name=\"건설타임즈\" data-code=\"16VmJNPeW7bxkHBw4R\">\\n        <span class=\"txt_lab\">건설타임즈</span>\\n    </label>\\n</li><li>\\n    <label class=\"opt_choice\">\\n        <input type=\"checkbox\" class=\"inp_g\" data-name=\"검경일보\" data-code=\"16zesApvXicKG4rY3a\">\\n        <span class=\"txt_lab\">검경일보</span>\\n    </label>\\n</li><li>\\n    <label class=\"opt_choice\">\\n        <input type=\"checkbox\" class=\"inp_g\" data-name=\"게임동아\" data-code=\"16vRLDr_9N3BTeWQJf\">\\n        <span class=\"txt_lab\">게임동아</span>\\n    </label>\\n</li><li>\\n    <label class=\"opt_choice\">\\n        <input type=\"checkbox\" class=\"inp_g\" data-name=\"게임메카\" data-code=\"16LvOPzOy-o4HOLSwF\">\\n        <span class=\"txt_lab\">게임메카</span>\\n    </label>\\n</li><li>\\n    <label class=\"opt_choice\">\\n        <input type=\"checkbox\" class=\"inp_g\" data-name=\"게임조선\" data-code=\"16xp8p7tYbxNbdRYwU\">\\n        <span class=\"txt_lab\">게임조선</span>\\n    </label>\\n</li><li>\\n    <label class=\"opt_choice\">\\n        <input type=\"checkbox\" class=\"inp_g\" data-name=\"게임톡\" data-code=\"167EQlY5aN_rBe2qvF\">\\n        <span class=\"txt_lab\">게임톡</span>\\n    </label>\\n</li><li>\\n    <label class=\"opt_choice\">\\n        <input type=\"checkbox\" class=\"inp_g\" data-name=\"게임포커스\" data-code=\"1610z_JjIscSVL7xqR\">\\n        <span class=\"txt_lab\">게임포커스</span>\\n    </label>\\n</li><li>\\n    <label class=\"opt_choice\">\\n        <input type=\"checkbox\" class=\"inp_g\" data-name=\"게임플\" data-code=\"16WiE85LKOg_5mR_R5\">\\n        <span class=\"txt_lab\">게임플</span>\\n    </label>\\n</li><li>\\n    <label class=\"opt_choice\">\\n        <input type=\"checkbox\" class=\"inp_g\" data-name=\"경기etv뉴스\" data-code=\"16nQ7KeyqH9OoqJjr4\">\\n        <span class=\"txt_lab\">경기etv뉴스</span>\\n    </label>\\n</li><li>\\n    <label class=\"opt_choice\">\\n        <input type=\"checkbox\" class=\"inp_g\" data-name=\"경기g뉴스\" data-code=\"16k_qBSjkSYSF_CgB3\">\\n        <span class=\"txt_lab\">경기g뉴스</span>\\n    </label>\\n</li><li>\\n    <label class=\"opt_choice\">\\n        <input type=\"checkbox\" class=\"inp_g\" data-name=\"경기in\" data-code=\"16Ld0q4Cnj8fTpJwa0\">\\n        <span class=\"txt_lab\">경기in</span>\\n    </label>\\n</li><li>\\n    <label class=\"opt_choice\">\\n        <input type=\"checkbox\" class=\"inp_g\" data-name=\"경기경제신문\" data-code=\"164v9iaiQ4H7eiceSE\">\\n        <span class=\"txt_lab\">경기경제신문</span>\\n    </label>\\n</li><li>\\n    <label class=\"opt_choice\">\\n        <input type=\"checkbox\" class=\"inp_g\" data-name=\"경기데일리\" data-code=\"162eDOpQr1OwPi7x30\">\\n        <span class=\"txt_lab\">경기데일리</span>\\n    </label>\\n</li><li>\\n    <label class=\"opt_choice\">\\n        <input type=\"checkbox\" class=\"inp_g\" data-name=\"경기도민일보\" data-code=\"163cv75CcAF31EvlGD\">\\n        <span class=\"txt_lab\">경기도민일보</span>\\n    </label>\\n</li><li>\\n    <label class=\"opt_choice\">\\n        <input type=\"checkbox\" class=\"inp_g\" data-name=\"경기도정신문\" data-code=\"16xbGR8fM5pYZVBBPh\">\\n        <span class=\"txt_lab\">경기도정신문</span>\\n    </label>\\n</li><li>\\n    <label class=\"opt_choice\">\\n        <input type=\"checkbox\" class=\"inp_g\" data-name=\"경기매일\" data-code=\"16xLyMBOrUa3jcnBd-\">\\n        <span class=\"txt_lab\">경기매일</span>\\n    </label>\\n</li><li>\\n    <label class=\"opt_choice\">\\n        <input type=\"checkbox\" class=\"inp_g\" data-name=\"경기미디어신문\" data-code=\"16-4LGQDQrKTc5XoEF\">\\n        <span class=\"txt_lab\">경기미디어신문</span>\\n    </label>\\n</li><li>\\n    <label class=\"opt_choice\">\\n        <input type=\"checkbox\" class=\"inp_g\" data-name=\"경기북도일보\" data-code=\"1616sTPLErqOwL0N-1\">\\n        <span class=\"txt_lab\">경기북도일보</span>\\n    </label>\\n</li><li>\\n    <label class=\"opt_choice\">\\n        <input type=\"checkbox\" class=\"inp_g\" data-name=\"경기북부시민신문\" data-code=\"16oPHV0gcvxFtieysB\">\\n        <span class=\"txt_lab\">경기북부시민신문</span>\\n    </label>\\n</li><li>\\n    <label class=\"opt_choice\">\\n        <input type=\"checkbox\" class=\"inp_g\" data-name=\"경기북부탑뉴스\" data-code=\"163hPTwRywAwAUj4CX\">\\n        <span class=\"txt_lab\">경기북부탑뉴스</span>\\n    </label>\\n</li><li>\\n    <label class=\"opt_choice\">\\n        <input type=\"checkbox\" class=\"inp_g\" data-name=\"경기북부포커스\" data-code=\"16M4-Una5Mo5sd9wud\">\\n        <span class=\"txt_lab\">경기북부포커스</span>\\n    </label>\\n</li><li>\\n    <label class=\"opt_choice\">\\n        <input type=\"checkbox\" class=\"inp_g\" data-name=\"경기신문\" data-code=\"16teBZ_PSJ-zPtUySX\">\\n        <span class=\"txt_lab\">경기신문</span>\\n    </label>\\n</li><li>\\n    <label class=\"opt_choice\">\\n        <input type=\"checkbox\" class=\"inp_g\" data-name=\"경기앤뉴스\" data-code=\"16NMGpNEdC7MgiRvQS\">\\n        <span class=\"txt_lab\">경기앤뉴스</span>\\n    </label>\\n</li><li>\\n    <label class=\"opt_choice\">\\n        <input type=\"checkbox\" class=\"inp_g\" data-name=\"경기인터넷뉴스\" data-code=\"16VfLhMJftR_P-FWoF\">\\n        <span class=\"txt_lab\">경기인터넷뉴스</span>\\n    </label>\\n</li><li>\\n    <label class=\"opt_choice\">\\n        <input type=\"checkbox\" class=\"inp_g\" data-name=\"경기인터넷신문\" data-code=\"16thbQiOMJ_J8uyN-6\">\\n        <span class=\"txt_lab\">경기인터넷신문</span>\\n    </label>\\n</li><li>\\n    <label class=\"opt_choice\">\\n        <input type=\"checkbox\" class=\"inp_g\" data-name=\"경기일보\" data-code=\"16hmWqqUDju4sVGh1y\">\\n        <span class=\"txt_lab\">경기일보</span>\\n    </label>\\n</li><li>\\n    <label class=\"opt_choice\">\\n        <input type=\"checkbox\" class=\"inp_g\" data-name=\"경기중앙신문\" data-code=\"16TcL88-diMzshNuO6\">\\n        <span class=\"txt_lab\">경기중앙신문</span>\\n    </label>\\n</li><li>\\n    <label class=\"opt_choice\">\\n        <input type=\"checkbox\" class=\"inp_g\" data-name=\"경남데일리\" data-code=\"160_qGgGXyV7f6YtfS\">\\n        <span class=\"txt_lab\">경남데일리</span>\\n    </label>\\n</li><li>\\n    <label class=\"opt_choice\">\\n        <input type=\"checkbox\" class=\"inp_g\" data-name=\"경남도민신문\" data-code=\"16uF9h9eHD9ejkuYjI\">\\n        <span class=\"txt_lab\">경남도민신문</span>\\n    </label>\\n</li><li>\\n    <label class=\"opt_choice\">\\n        <input type=\"checkbox\" class=\"inp_g\" data-name=\"경남도민일보\" data-code=\"16hLjc5HDpvcXl54IX\">\\n        <span class=\"txt_lab\">경남도민일보</span>\\n    </label>\\n</li><li>\\n    <label class=\"opt_choice\">\\n        <input type=\"checkbox\" class=\"inp_g\" data-name=\"경남매일\" data-code=\"16xrn067zhSN3LUeuI\">\\n        <span class=\"txt_lab\">경남매일</span>\\n    </label>\\n</li><li>\\n    <label class=\"opt_choice\">\\n        <input type=\"checkbox\" class=\"inp_g\" data-name=\"경남신문\" data-code=\"16SMCjq1NhywIcyg-e\">\\n        <span class=\"txt_lab\">경남신문</span>\\n    </label>\\n</li><li>\\n    <label class=\"opt_choice\">\\n        <input type=\"checkbox\" class=\"inp_g\" data-name=\"경남에나뉴스\" data-code=\"16ghLeq4G84dhsgmTd\">\\n        <span class=\"txt_lab\">경남에나뉴스</span>\\n    </label>\\n</li><li>\\n    <label class=\"opt_choice\">\\n        <input type=\"checkbox\" class=\"inp_g\" data-name=\"경남여성신문\" data-code=\"16s5MNM4b9Ke_QzZ9y\">\\n        <span class=\"txt_lab\">경남여성신문</span>\\n    </label>\\n</li><li>\\n    <label class=\"opt_choice\">\\n        <input type=\"checkbox\" class=\"inp_g\" data-name=\"경남연합일보\" data-code=\"16Wa6HIxG_6OXKA_Y3\">\\n        <span class=\"txt_lab\">경남연합일보</span>\\n    </label>\\n</li><li>\\n    <label class=\"opt_choice\">\\n        <input type=\"checkbox\" class=\"inp_g\" data-name=\"경남일보\" data-code=\"16pyjwyloiYejro2ji\">\\n        <span class=\"txt_lab\">경남일보</span>\\n    </label>\\n</li><li>\\n    <label class=\"opt_choice\">\\n        <input type=\"checkbox\" class=\"inp_g\" data-name=\"경북it뉴스\" data-code=\"16bLN0I03OEcrKaJbU\">\\n        <span class=\"txt_lab\">경북it뉴스</span>\\n    </label>\\n</li><li>\\n    <label class=\"opt_choice\">\\n        <input type=\"checkbox\" class=\"inp_g\" data-name=\"경북tv뉴스\" data-code=\"16q-Ut_FbMBojd-yzY\">\\n        <span class=\"txt_lab\">경북tv뉴스</span>\\n    </label>\\n</li><li>\\n    <label class=\"opt_choice\">\\n        <input type=\"checkbox\" class=\"inp_g\" data-name=\"경북도민일보\" data-code=\"16-HEDrdh5q4Ffeoxu\">\\n        <span class=\"txt_lab\">경북도민일보</span>\\n    </label>\\n</li><li>\\n    <label class=\"opt_choice\">\\n        <input type=\"checkbox\" class=\"inp_g\" data-name=\"경북매일\" data-code=\"16VEj0EsmccSeusXWe\">\\n        <span class=\"txt_lab\">경북매일</span>\\n    </label>\\n</li><li>\\n    <label class=\"opt_choice\">\\n        <input type=\"checkbox\" class=\"inp_g\" data-name=\"경북문화신문\" data-code=\"16ai4vgrIQ_b_jFKL-\">\\n        <span class=\"txt_lab\">경북문화신문</span>\\n    </label>\\n</li><li>\\n    <label class=\"opt_choice\">\\n        <input type=\"checkbox\" class=\"inp_g\" data-name=\"경북신문\" data-code=\"16JPKz3ozOACeeCLF2\">\\n        <span class=\"txt_lab\">경북신문</span>\\n    </label>\\n</li><li>\\n    <label class=\"opt_choice\">\\n        <input type=\"checkbox\" class=\"inp_g\" data-name=\"경북인신문\" data-code=\"16llG4z8nYsBoXRbGY\">\\n        <span class=\"txt_lab\">경북인신문</span>\\n    </label>\\n</li><li>\\n    <label class=\"opt_choice\">\\n        <input type=\"checkbox\" class=\"inp_g\" data-name=\"경북인터넷뉴스\" data-code=\"16a6hgImaZX2P77mM0\">\\n        <span class=\"txt_lab\">경북인터넷뉴스</span>\\n    </label>\\n</li><li>\\n    <label class=\"opt_choice\">\\n        <input type=\"checkbox\" class=\"inp_g\" data-name=\"경북일보\" data-code=\"16AQ7BRrYTMYMjW-kK\">\\n        <span class=\"txt_lab\">경북일보</span>\\n    </label>\\n</li><li>\\n    <label class=\"opt_choice\">\\n        <input type=\"checkbox\" class=\"inp_g\" data-name=\"경북일일신문\" data-code=\"16ayKYIiGnxrzo1gai\">\\n        <span class=\"txt_lab\">경북일일신문</span>\\n    </label>\\n</li><li>\\n    <label class=\"opt_choice\">\\n        <input type=\"checkbox\" class=\"inp_g\" data-name=\"경북제일신문\" data-code=\"16EW_6H9via5EKSrot\">\\n        <span class=\"txt_lab\">경북제일신문</span>\\n    </label>\\n</li><li>\\n    <label class=\"opt_choice\">\\n        <input type=\"checkbox\" class=\"inp_g\" data-name=\"경북중앙신문\" data-code=\"16iOLBuWeESSGS7Iy1\">\\n        <span class=\"txt_lab\">경북중앙신문</span>\\n    </label>\\n</li><li>\\n    <label class=\"opt_choice\">\\n        <input type=\"checkbox\" class=\"inp_g\" data-name=\"경안일보\" data-code=\"16KDtl2XSw0mLv22a0\">\\n        <span class=\"txt_lab\">경안일보</span>\\n    </label>\\n</li><li>\\n    <label class=\"opt_choice\">\\n        <input type=\"checkbox\" class=\"inp_g\" data-name=\"경원일보\" data-code=\"16wFB0_ZCstLmetGd4\">\\n        <span class=\"txt_lab\">경원일보</span>\\n    </label>\\n</li><li>\\n    <label class=\"opt_choice\">\\n        <input type=\"checkbox\" class=\"inp_g\" data-name=\"경인데일리\" data-code=\"16ETwwHTkVymOE97EP\">\\n        <span class=\"txt_lab\">경인데일리</span>\\n    </label>\\n</li><li>\\n    <label class=\"opt_choice\">\\n        <input type=\"checkbox\" class=\"inp_g\" data-name=\"경인매일\" data-code=\"16OBYTA_r9bdW5hds2\">\\n        <span class=\"txt_lab\">경인매일</span>\\n    </label>\\n</li><li>\\n    <label class=\"opt_choice\">\\n        <input type=\"checkbox\" class=\"inp_g\" data-name=\"경인방송\" data-code=\"16WiSZUnO-DkOcdDh8\">\\n        <span class=\"txt_lab\">경인방송</span>\\n    </label>\\n</li><li>\\n    <label class=\"opt_choice\">\\n        <input type=\"checkbox\" class=\"inp_g\" data-name=\"경인신문\" data-code=\"16F-BfJCt0B4bJ07QR\">\\n        <span class=\"txt_lab\">경인신문</span>\\n    </label>\\n</li><li>\\n    <label class=\"opt_choice\">\\n        <input type=\"checkbox\" class=\"inp_g\" data-name=\"경인일보\" data-code=\"16zThFWS81vwh4cewE\">\\n        <span class=\"txt_lab\">경인일보</span>\\n    </label>\\n</li><li>\\n    <label class=\"opt_choice\">\\n        <input type=\"checkbox\" class=\"inp_g\" data-name=\"경인자치신문\" data-code=\"16S9D_gF5RiVUjbVIu\">\\n        <span class=\"txt_lab\">경인자치신문</span>\\n    </label>\\n</li><li>\\n    <label class=\"opt_choice\">\\n        <input type=\"checkbox\" class=\"inp_g\" data-name=\"경인저널\" data-code=\"16chi4ldkj_WQEtrPN\">\\n        <span class=\"txt_lab\">경인저널</span>\\n    </label>\\n</li><li>\\n    <label class=\"opt_choice\">\\n        <input type=\"checkbox\" class=\"inp_g\" data-name=\"경인종합일보\" data-code=\"16q-rSnJiaeO2wiF-b\">\\n        <span class=\"txt_lab\">경인종합일보</span>\\n    </label>\\n</li><li>\\n    <label class=\"opt_choice\">\\n        <input type=\"checkbox\" class=\"inp_g\" data-name=\"경인투데이뉴스\" data-code=\"16f1vm5c5x21P9AOye\">\\n        <span class=\"txt_lab\">경인투데이뉴스</span>\\n    </label>\\n</li><li>\\n    <label class=\"opt_choice\">\\n        <input type=\"checkbox\" class=\"inp_g\" data-name=\"경인투데이\" data-code=\"16JErDTnXMkzgyvnzr\">\\n        <span class=\"txt_lab\">경인투데이</span>\\n    </label>\\n</li><li>\\n    <label class=\"opt_choice\">\\n        <input type=\"checkbox\" class=\"inp_g\" data-name=\"경제플러스\" data-code=\"16DZqvh77MEZu1BtZT\">\\n        <span class=\"txt_lab\">경제플러스</span>\\n    </label>\\n</li><li>\\n    <label class=\"opt_choice\">\\n        <input type=\"checkbox\" class=\"inp_g\" data-name=\"경주신문\" data-code=\"16JEMiTURiqhYylQxz\">\\n        <span class=\"txt_lab\">경주신문</span>\\n    </label>\\n</li><li>\\n    <label class=\"opt_choice\">\\n        <input type=\"checkbox\" class=\"inp_g\" data-name=\"경향게임스\" data-code=\"16rkpMAMrVZrydoPt5\">\\n        <span class=\"txt_lab\">경향게임스</span>\\n    </label>\\n</li><li>\\n    <label class=\"opt_choice\">\\n        <input type=\"checkbox\" class=\"inp_g\" data-name=\"경향신문\" data-code=\"16akMkKFDu6n8GTzZr\">\\n        <span class=\"txt_lab\">경향신문</span>\\n    </label>\\n</li><li>\\n    <label class=\"opt_choice\">\\n        <input type=\"checkbox\" class=\"inp_g\" data-name=\"고시기획\" data-code=\"16TexslLGADUNsa6fP\">\\n        <span class=\"txt_lab\">고시기획</span>\\n    </label>\\n</li><li>\\n    <label class=\"opt_choice\">\\n        <input type=\"checkbox\" class=\"inp_g\" data-name=\"고양인터넷신문\" data-code=\"16EHiZe3CKMmXu-Gyn\">\\n        <span class=\"txt_lab\">고양인터넷신문</span>\\n    </label>\\n</li><li>\\n    <label class=\"opt_choice\">\\n        <input type=\"checkbox\" class=\"inp_g\" data-name=\"곡성투데이\" data-code=\"16Q62dlPuVx1MNbmoX\">\\n        <span class=\"txt_lab\">곡성투데이</span>\\n    </label>\\n</li><li>\\n    <label class=\"opt_choice\">\\n        <input type=\"checkbox\" class=\"inp_g\" data-name=\"골닷컴\" data-code=\"16TsGoY9ZpaL5LV-DW\">\\n        <span class=\"txt_lab\">골닷컴</span>\\n    </label>\\n</li><li>\\n    <label class=\"opt_choice\">\\n        <input type=\"checkbox\" class=\"inp_g\" data-name=\"골프가이드\" data-code=\"16WpgkXoScMTQPItL8\">\\n        <span class=\"txt_lab\">골프가이드</span>\\n    </label>\\n</li><li>\\n    <label class=\"opt_choice\">\\n        <input type=\"checkbox\" class=\"inp_g\" data-name=\"골프산업신문\" data-code=\"16zempQ9GcOxr2zLgT\">\\n        <span class=\"txt_lab\">골프산업신문</span>\\n    </label>\\n</li><li>\\n    <label class=\"opt_choice\">\\n        <input type=\"checkbox\" class=\"inp_g\" data-name=\"골프저널\" data-code=\"165Ttg2m8vP1q9r4qF\">\\n        <span class=\"txt_lab\">골프저널</span>\\n    </label>\\n</li><li>\\n    <label class=\"opt_choice\">\\n        <input type=\"checkbox\" class=\"inp_g\" data-name=\"골프타임즈\" data-code=\"16oiBafYloMR7KokV8\">\\n        <span class=\"txt_lab\">골프타임즈</span>\\n    </label>\\n</li><li>\\n    <label class=\"opt_choice\">\\n        <input type=\"checkbox\" class=\"inp_g\" data-name=\"골프한국\" data-code=\"16NWhwPHPqh_B0Ravg\">\\n        <span class=\"txt_lab\">골프한국</span>\\n    </label>\\n</li><li>\\n    <label class=\"opt_choice\">\\n        <input type=\"checkbox\" class=\"inp_g\" data-name=\"공감신문\" data-code=\"16YTxcupxTvqKqD_FT\">\\n        <span class=\"txt_lab\">공감신문</span>\\n    </label>\\n</li><li>\\n    <label class=\"opt_choice\">\\n        <input type=\"checkbox\" class=\"inp_g\" data-name=\"공공뉴스\" data-code=\"16PNLfhRQe_s6iequT\">\\n        <span class=\"txt_lab\">공공뉴스</span>\\n    </label>\\n</li><li>\\n    <label class=\"opt_choice\">\\n        <input type=\"checkbox\" class=\"inp_g\" data-name=\"공무원수험신문\" data-code=\"16NrdeAG8iXZAZ-hA9\">\\n        <span class=\"txt_lab\">공무원수험신문</span>\\n    </label>\\n</li><li>\\n    <label class=\"opt_choice\">\\n        <input type=\"checkbox\" class=\"inp_g\" data-name=\"공유경제신문\" data-code=\"16vJUqWE_wd0fxnErO\">\\n        <span class=\"txt_lab\">공유경제신문</span>\\n    </label>\\n</li><li>\\n    <label class=\"opt_choice\">\\n        <input type=\"checkbox\" class=\"inp_g\" data-name=\"관악fm\" data-code=\"16MbZ2Mqdj1m2RQQRa\">\\n        <span class=\"txt_lab\">관악fm</span>\\n    </label>\\n</li><li>\\n    <label class=\"opt_choice\">\\n        <input type=\"checkbox\" class=\"inp_g\" data-name=\"광교신문\" data-code=\"16mnsaKlvC7gUen0L1\">\\n        <span class=\"txt_lab\">광교신문</span>\\n    </label>\\n</li><li>\\n    <label class=\"opt_choice\">\\n        <input type=\"checkbox\" class=\"inp_g\" data-name=\"광교저널\" data-code=\"16Q6fabkLZ06saPn20\">\\n        <span class=\"txt_lab\">광교저널</span>\\n    </label>\\n</li><li>\\n    <label class=\"opt_choice\">\\n        <input type=\"checkbox\" class=\"inp_g\" data-name=\"광남일보\" data-code=\"16rG5bAgtto_tqLDbK\">\\n        <span class=\"txt_lab\">광남일보</span>\\n    </label>\\n</li><li>\\n    <label class=\"opt_choice\">\\n        <input type=\"checkbox\" class=\"inp_g\" data-name=\"광명지역신문\" data-code=\"16dCoQk4HsmcX18ltw\">\\n        <span class=\"txt_lab\">광명지역신문</span>\\n    </label>\\n</li><li>\\n    <label class=\"opt_choice\">\\n        <input type=\"checkbox\" class=\"inp_g\" data-name=\"광양뉴스\" data-code=\"168MZwujWeXTiy1V-f\">\\n        <span class=\"txt_lab\">광양뉴스</span>\\n    </label>\\n</li><li>\\n    <label class=\"opt_choice\">\\n        <input type=\"checkbox\" class=\"inp_g\" data-name=\"광주드림\" data-code=\"16gmFMj4luzwJsjVd2\">\\n        <span class=\"txt_lab\">광주드림</span>\\n    </label>\\n</li><li>\\n    <label class=\"opt_choice\">\\n        <input type=\"checkbox\" class=\"inp_g\" data-name=\"광주리포트\" data-code=\"16Q8CPtmHP1n7_o77G\">\\n        <span class=\"txt_lab\">광주리포트</span>\\n    </label>\\n</li><li>\\n    <label class=\"opt_choice\">\\n        <input type=\"checkbox\" class=\"inp_g\" data-name=\"광주매일신문\" data-code=\"16JG-Bv6coqTlRizfU\">\\n        <span class=\"txt_lab\">광주매일신문</span>\\n    </label>\\n</li><li>\\n    <label class=\"opt_choice\">\\n        <input type=\"checkbox\" class=\"inp_g\" data-name=\"광주문화방송\" data-code=\"169mpAr1A89dvoED0L\">\\n        <span class=\"txt_lab\">광주문화방송</span>\\n    </label>\\n</li><li>\\n    <label class=\"opt_choice\">\\n        <input type=\"checkbox\" class=\"inp_g\" data-name=\"광주인\" data-code=\"16LggWlI0N_t3oUE1n\">\\n        <span class=\"txt_lab\">광주인</span>\\n    </label>\\n</li><li>\\n    <label class=\"opt_choice\">\\n        <input type=\"checkbox\" class=\"inp_g\" data-name=\"광주일등뉴스\" data-code=\"16pqveMsH6VS8i9mhX\">\\n        <span class=\"txt_lab\">광주일등뉴스</span>\\n    </label>\\n</li><li>\\n    <label class=\"opt_choice\">\\n        <input type=\"checkbox\" class=\"inp_g\" data-name=\"광주일보\" data-code=\"16CUtUwvb7q5g1LhMQ\">\\n        <span class=\"txt_lab\">광주일보</span>\\n    </label>\\n</li><li>\\n    <label class=\"opt_choice\">\\n        <input type=\"checkbox\" class=\"inp_g\" data-name=\"광주타임즈\" data-code=\"16VxL-hNfGVt4YdirD\">\\n        <span class=\"txt_lab\">광주타임즈</span>\\n    </label>\\n</li><li>\\n    <label class=\"opt_choice\">\\n        <input type=\"checkbox\" class=\"inp_g\" data-name=\"광주평화방송\" data-code=\"166Sa_y9M50oTA6ipk\">\\n        <span class=\"txt_lab\">광주평화방송</span>\\n    </label>\\n</li><li>\\n    <label class=\"opt_choice\">\\n        <input type=\"checkbox\" class=\"inp_g\" data-name=\"교육연합신문\" data-code=\"169LBsbT8wMHCX2ApZ\">\\n        <span class=\"txt_lab\">교육연합신문</span>\\n    </label>\\n</li><li>\\n    <label class=\"opt_choice\">\\n        <input type=\"checkbox\" class=\"inp_g\" data-name=\"교차로신문사\" data-code=\"16a9v44HfhLR5tI3yD\">\\n        <span class=\"txt_lab\">교차로신문사</span>\\n    </label>\\n</li><li>\\n    <label class=\"opt_choice\">\\n        <input type=\"checkbox\" class=\"inp_g\" data-name=\"교통신문\" data-code=\"16_rSN9G0DPtWhVaYD\">\\n        <span class=\"txt_lab\">교통신문</span>\\n    </label>\\n</li><li>\\n    <label class=\"opt_choice\">\\n        <input type=\"checkbox\" class=\"inp_g\" data-name=\"교회연합신문\" data-code=\"16sDCWPpcxt6QDdHeO\">\\n        <span class=\"txt_lab\">교회연합신문</span>\\n    </label>\\n</li><li>\\n    <label class=\"opt_choice\">\\n        <input type=\"checkbox\" class=\"inp_g\" data-name=\"구미뉴스\" data-code=\"167Ok1zfk71buUfcTr\">\\n        <span class=\"txt_lab\">구미뉴스</span>\\n    </label>\\n</li><li>\\n    <label class=\"opt_choice\">\\n        <input type=\"checkbox\" class=\"inp_g\" data-name=\"구미일보\" data-code=\"16iB2X51a5G3loPTFN\">\\n        <span class=\"txt_lab\">구미일보</span>\\n    </label>\\n</li><li>\\n    <label class=\"opt_choice\">\\n        <input type=\"checkbox\" class=\"inp_g\" data-name=\"국민tv\" data-code=\"16oOggv0kGTPziz4Yt\">\\n        <span class=\"txt_lab\">국민tv</span>\\n    </label>\\n</li><li>\\n    <label class=\"opt_choice\">\\n        <input type=\"checkbox\" class=\"inp_g\" data-name=\"국민뉴스\" data-code=\"16birC7F6c6XPy0UuT\">\\n        <span class=\"txt_lab\">국민뉴스</span>\\n    </label>\\n</li><li>\\n    <label class=\"opt_choice\">\\n        <input type=\"checkbox\" class=\"inp_g\" data-name=\"국민일보\" data-code=\"16tZcm4AixcQK6HoII\">\\n        <span class=\"txt_lab\">국민일보</span>\\n    </label>\\n</li><li>\\n    <label class=\"opt_choice\">\\n        <input type=\"checkbox\" class=\"inp_g\" data-name=\"국방일보\" data-code=\"16NDl_o7JcopGyljLV\">\\n        <span class=\"txt_lab\">국방일보</span>\\n    </label>\\n</li><li>\\n    <label class=\"opt_choice\">\\n        <input type=\"checkbox\" class=\"inp_g\" data-name=\"국제i저널\" data-code=\"16w84jPi7UtgiEiyuj\">\\n        <span class=\"txt_lab\">국제i저널</span>\\n    </label>\\n</li><li>\\n    <label class=\"opt_choice\">\\n        <input type=\"checkbox\" class=\"inp_g\" data-name=\"국제뉴스\" data-code=\"16uLYXh2N1kJ5PpivU\">\\n        <span class=\"txt_lab\">국제뉴스</span>\\n    </label>\\n</li><li>\\n    <label class=\"opt_choice\">\\n        <input type=\"checkbox\" class=\"inp_g\" data-name=\"국제신문\" data-code=\"16vMqPggFd18Iuui7Z\">\\n        <span class=\"txt_lab\">국제신문</span>\\n    </label>\\n</li><li>\\n    <label class=\"opt_choice\">\\n        <input type=\"checkbox\" class=\"inp_g\" data-name=\"국토경제신문\" data-code=\"16XrUTvyEm-H8m10Gd\">\\n        <span class=\"txt_lab\">국토경제신문</span>\\n    </label>\\n</li><li>\\n    <label class=\"opt_choice\">\\n        <input type=\"checkbox\" class=\"inp_g\" data-name=\"국토매일\" data-code=\"16bHB6P5Ny8uD5NTtI\">\\n        <span class=\"txt_lab\">국토매일</span>\\n    </label>\\n</li><li>\\n    <label class=\"opt_choice\">\\n        <input type=\"checkbox\" class=\"inp_g\" data-name=\"국토일보\" data-code=\"163qpsb1x07yZE3eQq\">\\n        <span class=\"txt_lab\">국토일보</span>\\n    </label>\\n</li><li>\\n    <label class=\"opt_choice\">\\n        <input type=\"checkbox\" class=\"inp_g\" data-name=\"국회뉴스\" data-code=\"16FnzLm0Q71k9y-U2z\">\\n        <span class=\"txt_lab\">국회뉴스</span>\\n    </label>\\n</li><li>\\n    <label class=\"opt_choice\">\\n        <input type=\"checkbox\" class=\"inp_g\" data-name=\"국회방송\" data-code=\"16rWZcy3HmZq6bj_B7\">\\n        <span class=\"txt_lab\">국회방송</span>\\n    </label>\\n</li><li>\\n    <label class=\"opt_choice\">\\n        <input type=\"checkbox\" class=\"inp_g\" data-name=\"군산미래신문\" data-code=\"16ksqdyoVy_K27qZkl\">\\n        <span class=\"txt_lab\">군산미래신문</span>\\n    </label>\\n</li><li>\\n    <label class=\"opt_choice\">\\n        <input type=\"checkbox\" class=\"inp_g\" data-name=\"군포시민신문\" data-code=\"16xYL31thRobwb2oE1\">\\n        <span class=\"txt_lab\">군포시민신문</span>\\n    </label>\\n</li><li>\\n    <label class=\"opt_choice\">\\n        <input type=\"checkbox\" class=\"inp_g\" data-name=\"군포신문\" data-code=\"16QaEVQLP3EFrxMBXK\">\\n        <span class=\"txt_lab\">군포신문</span>\\n    </label>\\n</li><li>\\n    <label class=\"opt_choice\">\\n        <input type=\"checkbox\" class=\"inp_g\" data-name=\"굿데일리\" data-code=\"16ISn-G_a04b0nmiA3\">\\n        <span class=\"txt_lab\">굿데일리</span>\\n    </label>\\n</li><li>\\n    <label class=\"opt_choice\">\\n        <input type=\"checkbox\" class=\"inp_g\" data-name=\"굿모닝경제\" data-code=\"16VGRqndqj9bt_FTcu\">\\n        <span class=\"txt_lab\">굿모닝경제</span>\\n    </label>\\n</li><li>\\n    <label class=\"opt_choice\">\\n        <input type=\"checkbox\" class=\"inp_g\" data-name=\"굿모닝충청\" data-code=\"169r4-WiNwBdKkR-2q\">\\n        <span class=\"txt_lab\">굿모닝충청</span>\\n    </label>\\n</li><li>\\n    <label class=\"opt_choice\">\\n        <input type=\"checkbox\" class=\"inp_g\" data-name=\"그라피\" data-code=\"161k6uIFdlJBYOfj0u\">\\n        <span class=\"txt_lab\">그라피</span>\\n    </label>\\n</li><li>\\n    <label class=\"opt_choice\">\\n        <input type=\"checkbox\" class=\"inp_g\" data-name=\"그린포스트코리아\" data-code=\"16NFYdoenWLXjfA9Po\">\\n        <span class=\"txt_lab\">그린포스트코리아</span>\\n    </label>\\n</li><li>\\n    <label class=\"opt_choice\">\\n        <input type=\"checkbox\" class=\"inp_g\" data-name=\"글로벌e\" data-code=\"16-ebHEZBtImeL_U65\">\\n        <span class=\"txt_lab\">글로벌e</span>\\n    </label>\\n</li><li>\\n    <label class=\"opt_choice\">\\n        <input type=\"checkbox\" class=\"inp_g\" data-name=\"글로벌경제신문\" data-code=\"16IQDtTalRwewDEn9H\">\\n        <span class=\"txt_lab\">글로벌경제신문</span>\\n    </label>\\n</li><li>\\n    <label class=\"opt_choice\">\\n        <input type=\"checkbox\" class=\"inp_g\" data-name=\"글로벌뉴스통신\" data-code=\"16xmbQ-jOn9xWGDjrG\">\\n        <span class=\"txt_lab\">글로벌뉴스통신</span>\\n    </label>\\n</li><li>\\n    <label class=\"opt_choice\">\\n        <input type=\"checkbox\" class=\"inp_g\" data-name=\"글로벌에픽\" data-code=\"16mJ8cHM78BDIE7wpm\">\\n        <span class=\"txt_lab\">글로벌에픽</span>\\n    </label>\\n</li><li>\\n    <label class=\"opt_choice\">\\n        <input type=\"checkbox\" class=\"inp_g\" data-name=\"글로벌이코노믹\" data-code=\"16cYB_dNo7AWJjR6Fm\">\\n        <span class=\"txt_lab\">글로벌이코노믹</span>\\n    </label>\\n</li><li>\\n    <label class=\"opt_choice\">\\n        <input type=\"checkbox\" class=\"inp_g\" data-name=\"금강신문\" data-code=\"16GqUe_wMozc4aELU5\">\\n        <span class=\"txt_lab\">금강신문</span>\\n    </label>\\n</li><li>\\n    <label class=\"opt_choice\">\\n        <input type=\"checkbox\" class=\"inp_g\" data-name=\"금융경제신문\" data-code=\"16btpa08kS7UAY4VJl\">\\n        <span class=\"txt_lab\">금융경제신문</span>\\n    </label>\\n</li><li>\\n    <label class=\"opt_choice\">\\n        <input type=\"checkbox\" class=\"inp_g\" data-name=\"금융소비자뉴스\" data-code=\"16gOrKp8uAl62lFitR\">\\n        <span class=\"txt_lab\">금융소비자뉴스</span>\\n    </label>\\n</li><li>\\n    <label class=\"opt_choice\">\\n        <input type=\"checkbox\" class=\"inp_g\" data-name=\"금천뉴스\" data-code=\"16g7iuZlC2T835FrUe\">\\n        <span class=\"txt_lab\">금천뉴스</span>\\n    </label>\\n</li><li>\\n    <label class=\"opt_choice\">\\n        <input type=\"checkbox\" class=\"inp_g\" data-name=\"급식뉴스\" data-code=\"16P0yiRHNLJSVmcEf0\">\\n        <span class=\"txt_lab\">급식뉴스</span>\\n    </label>\\n</li><li>\\n    <label class=\"opt_choice\">\\n        <input type=\"checkbox\" class=\"inp_g\" data-name=\"기계신문\" data-code=\"16YzrK2q6PWDIdDWb4\">\\n        <span class=\"txt_lab\">기계신문</span>\\n    </label>\\n</li><li>\\n    <label class=\"opt_choice\">\\n        <input type=\"checkbox\" class=\"inp_g\" data-name=\"기독교연합신문\" data-code=\"166uA3-wXI9pkYJd1q\">\\n        <span class=\"txt_lab\">기독교연합신문</span>\\n    </label>\\n</li><li>\\n    <label class=\"opt_choice\">\\n        <input type=\"checkbox\" class=\"inp_g\" data-name=\"기독교한국신문\" data-code=\"1643iWOgL7_L3uY84L\">\\n        <span class=\"txt_lab\">기독교한국신문</span>\\n    </label>\\n</li><li>\\n    <label class=\"opt_choice\">\\n        <input type=\"checkbox\" class=\"inp_g\" data-name=\"기독신문\" data-code=\"16GnI7O0bgWGPu8g3q\">\\n        <span class=\"txt_lab\">기독신문</span>\\n    </label>\\n</li><li>\\n    <label class=\"opt_choice\">\\n        <input type=\"checkbox\" class=\"inp_g\" data-name=\"기독인뉴스\" data-code=\"16NFZtGOil_tXN93-m\">\\n        <span class=\"txt_lab\">기독인뉴스</span>\\n    </label>\\n</li><li>\\n    <label class=\"opt_choice\">\\n        <input type=\"checkbox\" class=\"inp_g\" data-name=\"기업경제신문\" data-code=\"16FpPPeQJPsSNBFhUE\">\\n        <span class=\"txt_lab\">기업경제신문</span>\\n    </label>\\n</li><li>\\n    <label class=\"opt_choice\">\\n        <input type=\"checkbox\" class=\"inp_g\" data-name=\"기자협회보\" data-code=\"16_W9nHKRlXBrGKp2t\">\\n        <span class=\"txt_lab\">기자협회보</span>\\n    </label>\\n</li><li>\\n    <label class=\"opt_choice\">\\n        <input type=\"checkbox\" class=\"inp_g\" data-name=\"기호일보\" data-code=\"16AmEdTM6JMAs4Vc0J\">\\n        <span class=\"txt_lab\">기호일보</span>\\n    </label>\\n</li><li>\\n    <label class=\"opt_choice\">\\n        <input type=\"checkbox\" class=\"inp_g\" data-name=\"김천신문\" data-code=\"16q3d-Hv41VN6263r1\">\\n        <span class=\"txt_lab\">김천신문</span>\\n    </label>\\n</li><li>\\n    <label class=\"opt_choice\">\\n        <input type=\"checkbox\" class=\"inp_g\" data-name=\"김천인터넷뉴스\" data-code=\"16ez7fKpR7xfTxBERP\">\\n        <span class=\"txt_lab\">김천인터넷뉴스</span>\\n    </label>\\n</li><li>\\n    <label class=\"opt_choice\">\\n        <input type=\"checkbox\" class=\"inp_g\" data-name=\"김해뉴스\" data-code=\"16I75zfKPnkajm5aE1\">\\n        <span class=\"txt_lab\">김해뉴스</span>\\n    </label>\\n</li></ul></div> <div class=\"area_submit\"> <button type=\"submit\" class=\"btn_confirm\">적용</button> <button type=\"button\" class=\"btn_cancle\">취소</button> </div> </div> </div> <div class=\"menu_opt\" data-option-type=\"article_type\"> <a href=\"javascript:;\" class=\"tit_menu\"> <span class=\"label\">유형</span><span class=\"ico_more\">옵션더보기</span> </a> <div class=\"layer_opt\"> <ul class=\"list_opt\"> <li class=\"on\"> <a href=\"javascript:;\" class=\"tit_item\" data-article_type=\"\" data-label=\"전체\" data-log=\"dc=STC&amp;pg=1&amp;r=1&amp;p=20&amp;rc=1&amp;at=func\"> 전체 </a> </li> <li> <a href=\"javascript:;\" class=\"tit_item\" data-article_type=\"photo\" data-label=\"포토\" data-log=\"dc=STC&amp;pg=1&amp;r=1&amp;p=21&amp;rc=1&amp;at=func\"> 포토 </a> </li> <li> <a href=\"javascript:;\" class=\"tit_item\" data-article_type=\"video\" data-label=\"동영상\" data-log=\"dc=STC&amp;pg=1&amp;r=1&amp;p=22&amp;rc=1&amp;at=func\"> 동영상 </a> </li> <li> <a href=\"javascript:;\" class=\"tit_item\" data-article_type=\"infographic\" data-label=\"인포그래픽\" data-log=\"dc=STC&amp;pg=1&amp;r=1&amp;p=23&amp;rc=1&amp;at=func\"> 인포그래픽 </a> </li> <li> <a href=\"javascript:;\" class=\"tit_item\" data-article_type=\"robot\" data-label=\"자동생성기사\" data-log=\"dc=STC&amp;pg=1&amp;r=1&amp;p=24&amp;rc=1&amp;at=func\"> 자동생성기사 </a> </li> <li> <a href=\"javascript:;\" class=\"tit_item\" data-article_type=\"report\" data-label=\"보도자료\" data-log=\"dc=STC&amp;pg=1&amp;r=1&amp;p=25&amp;rc=1&amp;at=func\"> 보도자료 </a> </li> </ul> </div> </div> <label class=\"menu_opt opt_keep\"> <input type=\"checkbox\" class=\"inp_g\" data-log=\"dc=STC&amp;pg=1&amp;e=1\"><span class=\"tit_menu\"><span class=\"txt_data\">옵션유지</span></span> </label> <button type=\"button\" class=\"btn_opt btn_reset\">초기화<span class=\"ico_tabopt\"></span></button> <button type=\"button\" class=\"btn_opt btn_close\"><span class=\"ico_tabopt\">검색옵션 닫기</span></button> </div> </div> <ul class=\"list_news\"> <li> <div class=\"wrap_thumb\" id=\"news_img_0\"> <a href=\"http://v.media.daum.net/v/20211217070402886?f=o\" class=\"thumb\" onclick=\"smartLog(this, &quot;dc=NNS&amp;d=26YLdaX5ffAa-9xFcm&amp;pg=1&amp;r=1&amp;p=1&amp;rc=10&amp;e1=16_3fzWbVD6wvHQw5m&amp;e3=0&amp;ext=dsid=26YLdaX5ffAa-9xFcm&quot;, event, {&quot;cpid&quot;: {&quot;value&quot;: &quot;16_3fzWbVD6wvHQw5m&quot;}});\" target=\"_blank\"> <img src=\"https://search1.daumcdn.net/thumb/P200x200/?fname=https%3A%2F%2Fsearch2.kakaocdn.net%2Fargon%2F200x200_85_c%2FFqGACzfJkem0\" class=\"thumb_img\" width=\"80\" height=\"80\" alt=\"\" data-size=\"80x80\" onerror=\"SF.errorImage(this)\"> </a> </div> <div class=\"wrap_cont\"> <a href=\"http://v.media.daum.net/v/20211217070402886?f=o\" class=\"tit_main fn_tit_u\" onclick=\"smartLog(this, &quot;dc=NNS&amp;d=26YLdaX5ffAa-9xFcm&amp;pg=1&amp;r=1&amp;p=4&amp;rc=10&amp;e1=16_3fzWbVD6wvHQw5m&amp;e3=0&amp;ext=dsid=26YLdaX5ffAa-9xFcm&quot;, event, {&quot;cpid&quot;: {&quot;value&quot;: &quot;16_3fzWbVD6wvHQw5m&quot;}});\" target=\"_blank\">숫자로 보는 내 경기력, \\'스포츠 <b>데이터</b>\\'에 빠지다</a> <p class=\"tit_sub f_nb\">무시 당했던 데이터, 이젠 필수\\'나도 프로처럼\\'.. 데이터에 빠진 동호인들</p> <p class=\"desc\">그래픽=이희정 디자이너 “한 15~20년 전만 해도 프로야구에서 <b>데이터</b>는 그리 인정받지 못한 파트였다. 그때의 선수들은 상대의 쿠세(습관)를 파악하고 플레이를 했다. 기껏해야 <b>데이터</b>는 투수의 투구 패턴, 수비 위치 변화 정도에만 쓰이는 정도였다.” 실업야구...</p> <span class=\"cont_info\"> <span class=\"f_nb\">쿠키뉴스</span> <span class=\"f_nb\">10시간전</span> <a href=\"http://v.media.daum.net/v/20211217070402886\" class=\"f_nb\" onclick=\"smartLog(this, &quot;dc=NNS&amp;d=26YLdaX5ffAa-9xFcm&amp;pg=1&amp;r=1&amp;p=3&amp;rc=10&amp;e1=16_3fzWbVD6wvHQw5m&amp;e3=0&amp;ext=dsid=26YLdaX5ffAa-9xFcm&quot;, event, {&quot;cpid&quot;: {&quot;value&quot;: &quot;16_3fzWbVD6wvHQw5m&quot;}});\" target=\"_blank\">다음뉴스</a> </span> <span id=\"newsSQC_t1_0\" style=\"display:none;\">10301^http://v.media.daum.net/v/20211217070402886?f=o^26YLdaX5ffAa-9xFcm^news^mediaArticle^%EB%8D%B0%EC%9D%B4%ED%84%B0^26YLdaX5ffAa-9xFcm</span> </div> </li> <li> <div class=\"wrap_thumb\" id=\"news_img_1\"> <a href=\"http://v.media.daum.net/v/20211217173519629?f=o\" class=\"thumb\" onclick=\"smartLog(this, &quot;dc=NNS&amp;d=26vNmrdaCKhiDvToK_&amp;pg=1&amp;r=2&amp;p=1&amp;rc=10&amp;e1=16xn7P2dHMstSkZ4Jb&amp;e3=0&amp;ext=dsid=26vNmrdaCKhiDvToK_&quot;, event, {&quot;cpid&quot;: {&quot;value&quot;: &quot;16xn7P2dHMstSkZ4Jb&quot;}});\" target=\"_blank\"> <img src=\"https://search1.daumcdn.net/thumb/P200x200/?fname=https%3A%2F%2Fsearch4.kakaocdn.net%2Fargon%2F200x200_85_c%2FDi0HkBD79r00\" class=\"thumb_img\" width=\"80\" height=\"80\" alt=\"\" data-size=\"80x80\" onerror=\"SF.errorImage(this)\"> <span class=\"wrap_badge ty_br\"><span class=\"ico_rwdt badge-nplay\">동영상</span></span> </a> </div> <div class=\"wrap_cont\"> <a href=\"http://v.media.daum.net/v/20211217173519629?f=o\" class=\"tit_main fn_tit_u\" onclick=\"smartLog(this, &quot;dc=NNS&amp;d=26vNmrdaCKhiDvToK_&amp;pg=1&amp;r=2&amp;p=4&amp;rc=10&amp;e1=16xn7P2dHMstSkZ4Jb&amp;e3=0&amp;ext=dsid=26vNmrdaCKhiDvToK_&quot;, event, {&quot;cpid&quot;: {&quot;value&quot;: &quot;16xn7P2dHMstSkZ4Jb&quot;}});\" target=\"_blank\">\"마이<b>데이터</b>·메타버스에도 농협 색 입혔죠\" [금융 디지털 수장에게 듣는다]</a> <p class=\"desc\">문장(부행장)에 대한 대표적인 수식어다. 이 부행장은 30년간 삼성그룹의 시스템통합 계열사인 삼성SDS에서 솔루션컨설팅팀장·<b>데이터</b>분석사업팀장·디지털마케팅팀장 등을 지내며 디지털·<b>데이터</b> 관련 실무경험과 전문성을 쌓아왔다. `순혈주의`가 강했던 농협은행...</p> <span class=\"cont_info\"> <span class=\"f_nb\">한국경제TV</span> <span class=\"f_nb\">17분전</span> <a href=\"http://v.media.daum.net/v/20211217173519629\" class=\"f_nb\" onclick=\"smartLog(this, &quot;dc=NNS&amp;d=26vNmrdaCKhiDvToK_&amp;pg=1&amp;r=2&amp;p=3&amp;rc=10&amp;e1=16xn7P2dHMstSkZ4Jb&amp;e3=0&amp;ext=dsid=26vNmrdaCKhiDvToK_&quot;, event, {&quot;cpid&quot;: {&quot;value&quot;: &quot;16xn7P2dHMstSkZ4Jb&quot;}});\" target=\"_blank\">다음뉴스</a> </span> <span id=\"newsSQC_t1_1\" style=\"display:none;\">10301^http://v.media.daum.net/v/20211217173519629?f=o^26vNmrdaCKhiDvToK_^news^mediaArticle^%EB%8D%B0%EC%9D%B4%ED%84%B0^26vNmrdaCKhiDvToK_</span> </div> </li> <li> <div class=\"wrap_thumb\" id=\"news_img_2\"> <a href=\"http://v.media.daum.net/v/20211217165959661?f=o\" class=\"thumb\" onclick=\"smartLog(this, &quot;dc=NNS&amp;d=266SOzIuHrNjiG5KSp&amp;pg=1&amp;r=3&amp;p=1&amp;rc=10&amp;e1=16ch37p8Eze2f0phkS&amp;e3=0&amp;ext=dsid=266SOzIuHrNjiG5KSp&quot;, event, {&quot;cpid&quot;: {&quot;value&quot;: &quot;16ch37p8Eze2f0phkS&quot;}});\" target=\"_blank\"> <img src=\"https://search1.daumcdn.net/thumb/P200x200/?fname=https%3A%2F%2Fsearch2.kakaocdn.net%2Fargon%2F200x200_85_c%2FltsgEeSpKB0\" class=\"thumb_img\" width=\"80\" height=\"80\" alt=\"\" data-size=\"80x80\" onerror=\"SF.errorImage(this)\"> </a> </div> <div class=\"wrap_cont\"> <a href=\"http://v.media.daum.net/v/20211217165959661?f=o\" class=\"tit_main fn_tit_u\" onclick=\"smartLog(this, &quot;dc=NNS&amp;d=266SOzIuHrNjiG5KSp&amp;pg=1&amp;r=3&amp;p=4&amp;rc=10&amp;e1=16ch37p8Eze2f0phkS&amp;e3=0&amp;ext=dsid=266SOzIuHrNjiG5KSp&quot;, event, {&quot;cpid&quot;: {&quot;value&quot;: &quot;16ch37p8Eze2f0phkS&quot;}});\" target=\"_blank\">\"4조8천억건 방대한 <b>데이터</b> 관리..양적, 질적 가치 높아\"</a> <p class=\"tit_sub f_nb\">[데이터품질 대상/우수상/국민건강보험공단] 건강관리통합정보시스템 \\'플래티넘 클래스\\' 획득</p> <p class=\"desc\">(지디넷코리아=방은주 기자)과기정통부와 한국<b>데이터</b>산업진흥원(K-data, 원장 윤혜정)이 디지털 뉴딜을 확산하고 공공과 민간의 우수한 <b>데이터</b> 품질관리 사례를 발굴하기 위해 시행한 \\'2021년 <b>데이터</b> 품질대상\\'에서 국민건강보험공단(이사장 김용익)은 <b>데이터</b> 품질...</p> <span class=\"cont_info\"> <span class=\"f_nb\">지디넷코리아</span> <span class=\"f_nb\">52분전</span> <a href=\"http://v.media.daum.net/v/20211217165959661\" class=\"f_nb\" onclick=\"smartLog(this, &quot;dc=NNS&amp;d=266SOzIuHrNjiG5KSp&amp;pg=1&amp;r=3&amp;p=3&amp;rc=10&amp;e1=16ch37p8Eze2f0phkS&amp;e3=0&amp;ext=dsid=266SOzIuHrNjiG5KSp&quot;, event, {&quot;cpid&quot;: {&quot;value&quot;: &quot;16ch37p8Eze2f0phkS&quot;}});\" target=\"_blank\">다음뉴스</a> </span> <span id=\"newsSQC_t1_2\" style=\"display:none;\">10301^http://v.media.daum.net/v/20211217165959661?f=o^266SOzIuHrNjiG5KSp^news^mediaArticle^%EB%8D%B0%EC%9D%B4%ED%84%B0^266SOzIuHrNjiG5KSp</span> </div> </li> <li> <div class=\"wrap_thumb\" id=\"news_img_3\"> <a href=\"http://v.media.daum.net/v/20211217154420551?f=o\" class=\"thumb\" onclick=\"smartLog(this, &quot;dc=NNS&amp;d=26tONpNYSc_aHjJ4GT&amp;pg=1&amp;r=4&amp;p=1&amp;rc=10&amp;e1=167EQlY5aN_rBe2qvF&amp;e3=0&amp;ext=dsid=26tONpNYSc_aHjJ4GT&quot;, event, {&quot;cpid&quot;: {&quot;value&quot;: &quot;167EQlY5aN_rBe2qvF&quot;}});\" target=\"_blank\"> <img src=\"https://search1.daumcdn.net/thumb/P200x200/?fname=https%3A%2F%2Fsearch1.kakaocdn.net%2Fargon%2F200x200_85_c%2Ft2cokbirnJ0\" class=\"thumb_img\" width=\"80\" height=\"80\" alt=\"\" data-size=\"80x80\" onerror=\"SF.errorImage(this)\"> </a> </div> <div class=\"wrap_cont\"> <a href=\"http://v.media.daum.net/v/20211217154420551?f=o\" class=\"tit_main fn_tit_u\" onclick=\"smartLog(this, &quot;dc=NNS&amp;d=26tONpNYSc_aHjJ4GT&amp;pg=1&amp;r=4&amp;p=4&amp;rc=10&amp;e1=167EQlY5aN_rBe2qvF&amp;e3=0&amp;ext=dsid=26tONpNYSc_aHjJ4GT&quot;, event, {&quot;cpid&quot;: {&quot;value&quot;: &quot;167EQlY5aN_rBe2qvF&quot;}});\" target=\"_blank\">카카오, 빅<b>데이터</b>-AI-클라우드 중심 첨단 \\'<b>데이터</b>센터\\' 착공식</a> <p class=\"tit_sub f_nb\">한양대 캠퍼스혁신파크 내 친환경 첨단 데이터센터 2023년 준공 목표</p> <p class=\"desc\">카카오 여민수 공동대표가 카카오 <b>데이터</b>센터 착공식을 개최하기까지 도움을 준 여러 관계자 및 착공식에 참석해 자리를 빛내 준 귀빈들에게 환영사를 통해 감사의 인사를 전하고 있다. 사진=카카오 카카오(공동대표 여민수, 조수용)가 17일 안산 한양대학교 에리카...</p> <span class=\"cont_info\"> <span class=\"f_nb\">게임톡</span> <span class=\"f_nb\">2시간전</span> <a href=\"http://v.media.daum.net/v/20211217154420551\" class=\"f_nb\" onclick=\"smartLog(this, &quot;dc=NNS&amp;d=26tONpNYSc_aHjJ4GT&amp;pg=1&amp;r=4&amp;p=3&amp;rc=10&amp;e1=167EQlY5aN_rBe2qvF&amp;e3=0&amp;ext=dsid=26tONpNYSc_aHjJ4GT&quot;, event, {&quot;cpid&quot;: {&quot;value&quot;: &quot;167EQlY5aN_rBe2qvF&quot;}});\" target=\"_blank\">다음뉴스</a> </span> <div class=\"cont_rel\"> <dl> <dt class=\"screen_out\">관련기사</dt> <dd> <a href=\"http://v.media.daum.net/v/20211217144500600?f=o\" class=\"tit_rel f_link\" onclick=\"smartLog(this, &quot;dc=NNS&amp;d=26_mBK0z0xS5whLXR8&amp;pg=1&amp;r=4&amp;p=5&amp;rc=10&amp;e1=16O8sbGdUflWYlfqu4&amp;e3=0&amp;ext=dsid=26_mBK0z0xS5whLXR8&amp;rtt=parent&amp;rtid=26tONpNYSc_aHjJ4GT&amp;rtsc=&quot;, event, {&quot;cpid&quot;: {&quot;value&quot;: &quot;16O8sbGdUflWYlfqu4&quot;}});\" target=\"_blank\"> 카카오, <b>데이터</b>센터 착공식 개최 </a> <span class=\"cont_info\"> <span class=\"f_nb\">매일경제</span> <span class=\"f_nb\">3시간전</span> <a href=\"http://v.media.daum.net/v/20211217144500600\" class=\"f_nb \" target=\"_blank\" onclick=\"smartLog(this, &quot;dc=NNS&amp;d=26_mBK0z0xS5whLXR8&amp;pg=1&amp;r=4&amp;p=12&amp;rc=10&amp;e1=16O8sbGdUflWYlfqu4&amp;e3=0&amp;ext=dsid=26_mBK0z0xS5whLXR8&amp;rtt=parent&amp;rtid=26tONpNYSc_aHjJ4GT&amp;rtsc=&quot;, event, {&quot;cpid&quot;: {&quot;value&quot;: &quot;16O8sbGdUflWYlfqu4&quot;}});\">다음뉴스</a> </span> </dd> <dd> <a href=\"http://v.media.daum.net/v/20211217110506941?f=o\" class=\"tit_rel f_link\" onclick=\"smartLog(this, &quot;dc=NNS&amp;d=26vO41hYviJigLhC39&amp;pg=1&amp;r=4&amp;p=6&amp;rc=10&amp;e1=16xPi3xTTvS9eQchSd&amp;e3=0&amp;ext=dsid=26vO41hYviJigLhC39&amp;rtt=parent&amp;rtid=26tONpNYSc_aHjJ4GT&amp;rtsc=&quot;, event, {&quot;cpid&quot;: {&quot;value&quot;: &quot;16xPi3xTTvS9eQchSd&quot;}});\" target=\"_blank\"> \"빅<b>데이터</b>-AI-클라우드 첨단 인프라 구축\"..카카오 </a> <span class=\"cont_info\"> <span class=\"f_nb\">파이낸셜뉴스</span> <span class=\"f_nb\">6시간전</span> <a href=\"http://v.media.daum.net/v/20211217110506941\" class=\"f_nb \" target=\"_blank\" onclick=\"smartLog(this, &quot;dc=NNS&amp;d=26vO41hYviJigLhC39&amp;pg=1&amp;r=4&amp;p=12&amp;rc=10&amp;e1=16xPi3xTTvS9eQchSd&amp;e3=0&amp;ext=dsid=26vO41hYviJigLhC39&amp;rtt=parent&amp;rtid=26tONpNYSc_aHjJ4GT&amp;rtsc=&quot;, event, {&quot;cpid&quot;: {&quot;value&quot;: &quot;16xPi3xTTvS9eQchSd&quot;}});\">다음뉴스</a> </span> </dd> <dd> <a href=\"https://cp.news.search.daum.net/p/114085411\" class=\"tit_rel f_link\" onclick=\"smartLog(this, &quot;dc=NNS&amp;d=26nPdYqwgUxIjU8BoT&amp;pg=1&amp;r=4&amp;p=7&amp;rc=10&amp;e1=16287xfpf8r83u6F2m&amp;e3=0&amp;ext=dsid=26nPdYqwgUxIjU8BoT&amp;rtt=parent&amp;rtid=26tONpNYSc_aHjJ4GT&amp;rtsc=&quot;, event, {&quot;cpid&quot;: {&quot;value&quot;: &quot;16287xfpf8r83u6F2m&quot;}});\" target=\"_blank\"> 카카오, 안산 <b>데이터</b>센터 착공…\"빅<b>데이터</b>-AI-클라... </a> <span class=\"cont_info\"> <span class=\"f_nb\">파이낸셜신문</span> <span class=\"f_nb\">1시간전</span> </span> </dd> </dl> <a href=\"?w=news&amp;req=tab&amp;q=%EB%8D%B0%EC%9D%B4%ED%84%B0&amp;cluster=y&amp;viewio=i&amp;repno=0&amp;n=10&amp;p=1&amp;related_page=1&amp;cluster_docid=26tONpNYSc_aHjJ4GT&amp;DA=NTB\" class=\"link_cluster f_nb\" onclick=\"smartLog(this, &quot;dc=NNS&amp;ext=dsid=26tONpNYSc_aHjJ4GT&amp;d=26tONpNYSc_aHjJ4GT&amp;pg=1&amp;r=4&amp;p=19&amp;rc=10&amp;e1=167EQlY5aN_rBe2qvF&quot;, event);\"> 관련뉴스 <b>16</b>건 전체보기<span class=\"ico_rwd\"></span> </a> </div> <span id=\"newsSQC_t1_3\" style=\"display:none;\">10301^http://v.media.daum.net/v/20211217154420551?f=o^26tONpNYSc_aHjJ4GT^news^mediaArticle^%EB%8D%B0%EC%9D%B4%ED%84%B0^26tONpNYSc_aHjJ4GT</span> </div> </li> <li> <div class=\"wrap_thumb\" id=\"news_img_4\"> <a href=\"http://v.media.daum.net/v/20211217060002148?f=o\" class=\"thumb\" onclick=\"smartLog(this, &quot;dc=NNS&amp;d=26rBD2OK_Ezs4QIbUn&amp;pg=1&amp;r=5&amp;p=1&amp;rc=10&amp;e1=16gmjhh-4e7TNHMCYw&amp;e3=0&amp;ext=dsid=26rBD2OK_Ezs4QIbUn&quot;, event, {&quot;cpid&quot;: {&quot;value&quot;: &quot;16gmjhh-4e7TNHMCYw&quot;}});\" target=\"_blank\"> <img src=\"https://search1.daumcdn.net/thumb/P200x200/?fname=https%3A%2F%2Fsearch4.kakaocdn.net%2Fargon%2F200x200_85_c%2F1ZE47sAiwYK0\" class=\"thumb_img\" width=\"80\" height=\"80\" alt=\"\" data-size=\"80x80\" onerror=\"SF.errorImage(this)\"> <span class=\"wrap_badge ty_br\"><span class=\"ico_rwdt badge-nplay\">동영상</span></span> </a> </div> <div class=\"wrap_cont\"> <a href=\"http://v.media.daum.net/v/20211217060002148?f=o\" class=\"tit_main fn_tit_u\" onclick=\"smartLog(this, &quot;dc=NNS&amp;d=26rBD2OK_Ezs4QIbUn&amp;pg=1&amp;r=5&amp;p=4&amp;rc=10&amp;e1=16gmjhh-4e7TNHMCYw&amp;e3=0&amp;ext=dsid=26rBD2OK_Ezs4QIbUn&quot;, event, {&quot;cpid&quot;: {&quot;value&quot;: &quot;16gmjhh-4e7TNHMCYw&quot;}});\" target=\"_blank\">\"집값 무섭게 떨어진다, 재건축 타격 클 것\"..<b>데이터</b>의 \\'경고\\'</a> <p class=\"tit_sub f_nb\">[부릿지TALK] 김기원 데이터노우즈(리치고) 대표</p> <p class=\"desc\">이어온 부동산 시장 상승세가 둔화되면서 일각에서는 긴 하락장이 도래할 것이란 전망도 나오고 있다. 김기원 <b>데이터</b>노우즈(리치고) 대표는 각종 <b>데이터</b>를 분석해 내년 하반기부터 많게는 50%까지, 강력한 하락장이 도래할 것으로 전망한다. 이와 함께 수요가 많은...</p> <span class=\"cont_info\"> <span class=\"f_nb\">머니투데이</span> <span class=\"f_nb\">11시간전</span> <a href=\"http://v.media.daum.net/v/20211217060002148\" class=\"f_nb\" onclick=\"smartLog(this, &quot;dc=NNS&amp;d=26rBD2OK_Ezs4QIbUn&amp;pg=1&amp;r=5&amp;p=3&amp;rc=10&amp;e1=16gmjhh-4e7TNHMCYw&amp;e3=0&amp;ext=dsid=26rBD2OK_Ezs4QIbUn&quot;, event, {&quot;cpid&quot;: {&quot;value&quot;: &quot;16gmjhh-4e7TNHMCYw&quot;}});\" target=\"_blank\">다음뉴스</a> </span> <span id=\"newsSQC_t1_4\" style=\"display:none;\">10301^http://v.media.daum.net/v/20211217060002148?f=o^26rBD2OK_Ezs4QIbUn^news^mediaArticle^%EB%8D%B0%EC%9D%B4%ED%84%B0^26rBD2OK_Ezs4QIbUn</span> </div> </li> <li> <div class=\"wrap_thumb\" id=\"news_img_5\"> <a href=\"http://v.media.daum.net/v/20211217140341269?f=o\" class=\"thumb\" onclick=\"smartLog(this, &quot;dc=NNS&amp;d=26TL5cdS-sfgIBJsLw&amp;pg=1&amp;r=6&amp;p=1&amp;rc=10&amp;e1=16ch37p8Eze2f0phkS&amp;e3=0&amp;ext=dsid=26TL5cdS-sfgIBJsLw&quot;, event, {&quot;cpid&quot;: {&quot;value&quot;: &quot;16ch37p8Eze2f0phkS&quot;}});\" target=\"_blank\"> <img src=\"https://search1.daumcdn.net/thumb/P200x200/?fname=https%3A%2F%2Fsearch4.kakaocdn.net%2Fargon%2F200x200_85_c%2F3unKK5zcR6Y0\" class=\"thumb_img\" width=\"80\" height=\"80\" alt=\"\" data-size=\"80x80\" onerror=\"SF.errorImage(this)\"> </a> </div> <div class=\"wrap_cont\"> <a href=\"http://v.media.daum.net/v/20211217140341269?f=o\" class=\"tit_main fn_tit_u\" onclick=\"smartLog(this, &quot;dc=NNS&amp;d=26TL5cdS-sfgIBJsLw&amp;pg=1&amp;r=6&amp;p=4&amp;rc=10&amp;e1=16ch37p8Eze2f0phkS&amp;e3=0&amp;ext=dsid=26TL5cdS-sfgIBJsLw&quot;, event, {&quot;cpid&quot;: {&quot;value&quot;: &quot;16ch37p8Eze2f0phkS&quot;}});\" target=\"_blank\">AWS, 대규모 <b>데이터</b> 분석 서버리스 옵션 3종 발표</a> <p class=\"desc\">코리아=남혁우 기자)아마존웹서비스(AWS)가 AWS 리인벤트 행사를 통해 기본 인프라를 구성, 확장 또는 관리하지 않고도 대규모의 <b>데이터</b> 분석이 가능한 분석 서비스 제품군용 서버리스 옵션 3가지를 새롭게 발표했다고 17일 밝혔다. 신규 아마존 레드시프트(Amazon...</p> <span class=\"cont_info\"> <span class=\"f_nb\">지디넷코리아</span> <span class=\"f_nb\">3시간전</span> <a href=\"http://v.media.daum.net/v/20211217140341269\" class=\"f_nb\" onclick=\"smartLog(this, &quot;dc=NNS&amp;d=26TL5cdS-sfgIBJsLw&amp;pg=1&amp;r=6&amp;p=3&amp;rc=10&amp;e1=16ch37p8Eze2f0phkS&amp;e3=0&amp;ext=dsid=26TL5cdS-sfgIBJsLw&quot;, event, {&quot;cpid&quot;: {&quot;value&quot;: &quot;16ch37p8Eze2f0phkS&quot;}});\" target=\"_blank\">다음뉴스</a> </span> <span id=\"newsSQC_t1_5\" style=\"display:none;\">10301^http://v.media.daum.net/v/20211217140341269?f=o^26TL5cdS-sfgIBJsLw^news^mediaArticle^%EB%8D%B0%EC%9D%B4%ED%84%B0^26TL5cdS-sfgIBJsLw</span> </div> </li> <li> <div class=\"wrap_thumb\" id=\"news_img_6\"> <a href=\"http://v.media.daum.net/v/20211216192636130?f=o\" class=\"thumb\" onclick=\"smartLog(this, &quot;dc=NNS&amp;d=26WZI4wxjg4wj479JZ&amp;pg=1&amp;r=7&amp;p=1&amp;rc=10&amp;e1=16hWxJmTql2y9rxiuO&amp;e3=0&amp;ext=dsid=26WZI4wxjg4wj479JZ&quot;, event, {&quot;cpid&quot;: {&quot;value&quot;: &quot;16hWxJmTql2y9rxiuO&quot;}});\" target=\"_blank\"> <img src=\"https://search1.daumcdn.net/thumb/P200x200/?fname=https%3A%2F%2Fsearch2.kakaocdn.net%2Fargon%2F200x200_85_c%2F6brKW0tdlpd0\" class=\"thumb_img\" width=\"80\" height=\"80\" alt=\"\" data-size=\"80x80\" onerror=\"SF.errorImage(this)\"> <span class=\"wrap_badge ty_br\"><span class=\"ico_rwdt badge-nplay\">동영상</span></span> </a> </div> <div class=\"wrap_cont\"> <a href=\"http://v.media.daum.net/v/20211216192636130?f=o\" class=\"tit_main fn_tit_u\" onclick=\"smartLog(this, &quot;dc=NNS&amp;d=26WZI4wxjg4wj479JZ&amp;pg=1&amp;r=7&amp;p=4&amp;rc=10&amp;e1=16hWxJmTql2y9rxiuO&amp;e3=0&amp;ext=dsid=26WZI4wxjg4wj479JZ&quot;, event, {&quot;cpid&quot;: {&quot;value&quot;: &quot;16hWxJmTql2y9rxiuO&quot;}});\" target=\"_blank\">[같이경제] 이제는 마이<b>데이터</b> 시대</a> <p class=\"desc\">이용에 동의하시겠습니까? 대부분 \\'예\\'라고 체크하고 넘어가죠. 내 정보? 과연 쓰임이 있겠냐고 생각할 수 있지만, 기업은 이 <b>데이터</b>를 분석해 상품을 개발하고 마케팅 방향도 결정하기 때문에 중요한 자산으로 여깁니다. 하지만 웨이브라는 OTT가 넷플릭스 구독자의...</p> <span class=\"cont_info\"> <span class=\"f_nb\">KBS</span> <span class=\"f_nb\">22시간전</span> <a href=\"http://v.media.daum.net/v/20211216192636130\" class=\"f_nb\" onclick=\"smartLog(this, &quot;dc=NNS&amp;d=26WZI4wxjg4wj479JZ&amp;pg=1&amp;r=7&amp;p=3&amp;rc=10&amp;e1=16hWxJmTql2y9rxiuO&amp;e3=0&amp;ext=dsid=26WZI4wxjg4wj479JZ&quot;, event, {&quot;cpid&quot;: {&quot;value&quot;: &quot;16hWxJmTql2y9rxiuO&quot;}});\" target=\"_blank\">다음뉴스</a> </span> <span id=\"newsSQC_t1_6\" style=\"display:none;\">10301^http://v.media.daum.net/v/20211216192636130?f=o^26WZI4wxjg4wj479JZ^news^mediaArticle^%EB%8D%B0%EC%9D%B4%ED%84%B0^26WZI4wxjg4wj479JZ</span> </div> </li> <li> <div class=\"wrap_thumb\" id=\"news_img_7\"> <a href=\"http://v.media.daum.net/v/20211217153433253?f=o\" class=\"thumb\" onclick=\"smartLog(this, &quot;dc=NNS&amp;d=26B_4vFxaM8gFkdmgO&amp;pg=1&amp;r=8&amp;p=1&amp;rc=10&amp;e1=16ch37p8Eze2f0phkS&amp;e3=0&amp;ext=dsid=26B_4vFxaM8gFkdmgO&quot;, event, {&quot;cpid&quot;: {&quot;value&quot;: &quot;16ch37p8Eze2f0phkS&quot;}});\" target=\"_blank\"> <img src=\"https://search1.daumcdn.net/thumb/P200x200/?fname=https%3A%2F%2Fsearch2.kakaocdn.net%2Fargon%2F200x200_85_c%2F5x9dbqo3nyb0\" class=\"thumb_img\" width=\"80\" height=\"80\" alt=\"\" data-size=\"80x80\" onerror=\"SF.errorImage(this)\"> </a> </div> <div class=\"wrap_cont\"> <a href=\"http://v.media.daum.net/v/20211217153433253?f=o\" class=\"tit_main fn_tit_u\" onclick=\"smartLog(this, &quot;dc=NNS&amp;d=26B_4vFxaM8gFkdmgO&amp;pg=1&amp;r=8&amp;p=4&amp;rc=10&amp;e1=16ch37p8Eze2f0phkS&amp;e3=0&amp;ext=dsid=26B_4vFxaM8gFkdmgO&quot;, event, {&quot;cpid&quot;: {&quot;value&quot;: &quot;16ch37p8Eze2f0phkS&quot;}});\" target=\"_blank\">\"국내 물 관련 <b>데이터</b> 대량 보유..내년엔 플랫폼도 오픈\"</a> <p class=\"tit_sub f_nb\">[데이터품질 대상/장관상/한국수자원공사] 2016년 데이터 거버넌스 로드맵 수립</p> <p class=\"desc\">(지디넷코리아=방은주 기자)과기정통부와 한국<b>데이터</b>산업진흥원(원장 윤혜정)이 디지털 뉴딜을 확산하고 공공과 민간의 우수한 <b>데이터</b> 품질관리 사례를 발굴하기 위해 시행한 \\'2021년 <b>데이터</b> 품질대상\\'에서 한국수자원공사(K워터, Kwater, 사장 박재현)가 <b>데이터</b>...</p> <span class=\"cont_info\"> <span class=\"f_nb\">지디넷코리아</span> <span class=\"f_nb\">2시간전</span> <a href=\"http://v.media.daum.net/v/20211217153433253\" class=\"f_nb\" onclick=\"smartLog(this, &quot;dc=NNS&amp;d=26B_4vFxaM8gFkdmgO&amp;pg=1&amp;r=8&amp;p=3&amp;rc=10&amp;e1=16ch37p8Eze2f0phkS&amp;e3=0&amp;ext=dsid=26B_4vFxaM8gFkdmgO&quot;, event, {&quot;cpid&quot;: {&quot;value&quot;: &quot;16ch37p8Eze2f0phkS&quot;}});\" target=\"_blank\">다음뉴스</a> </span> <span id=\"newsSQC_t1_7\" style=\"display:none;\">10301^http://v.media.daum.net/v/20211217153433253?f=o^26B_4vFxaM8gFkdmgO^news^mediaArticle^%EB%8D%B0%EC%9D%B4%ED%84%B0^26B_4vFxaM8gFkdmgO</span> </div> </li> <li> <div class=\"wrap_thumb\" id=\"news_img_8\"> <a href=\"http://v.media.daum.net/v/20211217135249971?f=o\" class=\"thumb\" onclick=\"smartLog(this, &quot;dc=NNS&amp;d=26WB1Vjo3H_fFq5vM-&amp;pg=1&amp;r=9&amp;p=1&amp;rc=10&amp;e1=16ch37p8Eze2f0phkS&amp;e3=0&amp;ext=dsid=26WB1Vjo3H_fFq5vM-&quot;, event, {&quot;cpid&quot;: {&quot;value&quot;: &quot;16ch37p8Eze2f0phkS&quot;}});\" target=\"_blank\"> <img src=\"https://search1.daumcdn.net/thumb/P200x200/?fname=https%3A%2F%2Fsearch2.kakaocdn.net%2Fargon%2F200x200_85_c%2F7fR9iP9Y3Be0\" class=\"thumb_img\" width=\"80\" height=\"80\" alt=\"\" data-size=\"80x80\" onerror=\"SF.errorImage(this)\"> </a> </div> <div class=\"wrap_cont\"> <a href=\"http://v.media.daum.net/v/20211217135249971?f=o\" class=\"tit_main fn_tit_u\" onclick=\"smartLog(this, &quot;dc=NNS&amp;d=26WB1Vjo3H_fFq5vM-&amp;pg=1&amp;r=9&amp;p=4&amp;rc=10&amp;e1=16ch37p8Eze2f0phkS&amp;e3=0&amp;ext=dsid=26WB1Vjo3H_fFq5vM-&quot;, event, {&quot;cpid&quot;: {&quot;value&quot;: &quot;16ch37p8Eze2f0phkS&quot;}});\" target=\"_blank\">\"의료 등 <b>데이터</b> 품질 높여 국민생활 편익 향상\"</a> <p class=\"tit_sub f_nb\">K-data, \\'데이터 품질대상\\' 시행..공공, 기업 데이터 품질 향상 기여</p> <p class=\"desc\">(지디넷코리아=방은주 기자)\"<b>데이터</b>를 잘 관리해 <b>데이터</b> 품질이 높아질수록 국민에게 더욱 고품질의 건강보험 서비스를 제공할 수 있습니다.\"(국민건강보험공단 관계자) \"보건의료 빅<b>데이터</b>는 연구기관, 공공기관, 산업체 등 다양한 관련분야 종사자들이 활용하고...</p> <span class=\"cont_info\"> <span class=\"f_nb\">지디넷코리아</span> <span class=\"f_nb\">3시간전</span> <a href=\"http://v.media.daum.net/v/20211217135249971\" class=\"f_nb\" onclick=\"smartLog(this, &quot;dc=NNS&amp;d=26WB1Vjo3H_fFq5vM-&amp;pg=1&amp;r=9&amp;p=3&amp;rc=10&amp;e1=16ch37p8Eze2f0phkS&amp;e3=0&amp;ext=dsid=26WB1Vjo3H_fFq5vM-&quot;, event, {&quot;cpid&quot;: {&quot;value&quot;: &quot;16ch37p8Eze2f0phkS&quot;}});\" target=\"_blank\">다음뉴스</a> </span> <span id=\"newsSQC_t1_8\" style=\"display:none;\">10301^http://v.media.daum.net/v/20211217135249971?f=o^26WB1Vjo3H_fFq5vM-^news^mediaArticle^%EB%8D%B0%EC%9D%B4%ED%84%B0^26WB1Vjo3H_fFq5vM-</span> </div> </li> <li> <div class=\"wrap_thumb\" id=\"news_img_9\"> <a href=\"http://v.media.daum.net/v/20211217163130965?f=o\" class=\"thumb\" onclick=\"smartLog(this, &quot;dc=NNS&amp;d=26ERPeVJUesql8POwt&amp;pg=1&amp;r=10&amp;p=1&amp;rc=10&amp;e1=16ch37p8Eze2f0phkS&amp;e3=0&amp;ext=dsid=26ERPeVJUesql8POwt&quot;, event, {&quot;cpid&quot;: {&quot;value&quot;: &quot;16ch37p8Eze2f0phkS&quot;}});\" target=\"_blank\"> <img src=\"https://search1.daumcdn.net/thumb/P200x200/?fname=https%3A%2F%2Fsearch1.kakaocdn.net%2Fargon%2F200x200_85_c%2FBCemMOTfyPf0\" class=\"thumb_img\" width=\"80\" height=\"80\" alt=\"\" data-size=\"80x80\" onerror=\"SF.errorImage(this)\"> </a> </div> <div class=\"wrap_cont\"> <a href=\"http://v.media.daum.net/v/20211217163130965?f=o\" class=\"tit_main fn_tit_u\" onclick=\"smartLog(this, &quot;dc=NNS&amp;d=26ERPeVJUesql8POwt&amp;pg=1&amp;r=10&amp;p=4&amp;rc=10&amp;e1=16ch37p8Eze2f0phkS&amp;e3=0&amp;ext=dsid=26ERPeVJUesql8POwt&quot;, event, {&quot;cpid&quot;: {&quot;value&quot;: &quot;16ch37p8Eze2f0phkS&quot;}});\" target=\"_blank\">\"전력 <b>데이터</b> 체계적 관리..에너지 분야 新산업 생태계 구축 기여\"</a> <p class=\"tit_sub f_nb\">[데이터품질 대상/최우수상/한국전력공사] 2019년 실행조직 디지털변환처 신설</p> <p class=\"desc\">(지디넷코리아=방은주 기자)과기정통부와 한국<b>데이터</b>산업진흥원(K-data, 원장 윤혜정)이 디지털 뉴딜을 확산하고 공공과 민간의 우수한 <b>데이터</b> 품질관리 사례를 발굴하기 위해 시행한 \\'2021년 <b>데이터</b> 품질대상\\'에서 한국전력공사가 <b>데이터</b> 품질 부문에서 최우수상을...</p> <span class=\"cont_info\"> <span class=\"f_nb\">지디넷코리아</span> <span class=\"f_nb\">1시간전</span> <a href=\"http://v.media.daum.net/v/20211217163130965\" class=\"f_nb\" onclick=\"smartLog(this, &quot;dc=NNS&amp;d=26ERPeVJUesql8POwt&amp;pg=1&amp;r=10&amp;p=3&amp;rc=10&amp;e1=16ch37p8Eze2f0phkS&amp;e3=0&amp;ext=dsid=26ERPeVJUesql8POwt&quot;, event, {&quot;cpid&quot;: {&quot;value&quot;: &quot;16ch37p8Eze2f0phkS&quot;}});\" target=\"_blank\">다음뉴스</a> </span> <span id=\"newsSQC_t1_9\" style=\"display:none;\">10301^http://v.media.daum.net/v/20211217163130965?f=o^26ERPeVJUesql8POwt^news^mediaArticle^%EB%8D%B0%EC%9D%B4%ED%84%B0^26ERPeVJUesql8POwt</span> </div> </li> </ul> </div> <div class=\"paging_comm\"><span class=\"paging_inner\">\\n    <span data-paging-area=\"prev\">\\n        <span class=\"btn_page btn_prev\" data-paging-active=\"false\">이전</span>\\n        \\n    </span>\\n    <span data-paging-area=\"link\"><span class=\"screen_out\">현재페이지</span><em class=\"btn_page\" data-paging-active=\"false\">1</em> <a class=\"btn_page\" href=\"?w=news&amp;DA=PGD&amp;enc=utf8&amp;cluster=y&amp;cluster_page=1&amp;q=%EB%8D%B0%EC%9D%B4%ED%84%B0&amp;p=2\" onclick=\"smartLog(this, &quot;pg=1&amp;rc=10&amp;dc=PGD&amp;p=1&amp;r=2&quot;, event);\" data-paging-active=\"true\">2</a> <a class=\"btn_page\" href=\"?w=news&amp;DA=PGD&amp;enc=utf8&amp;cluster=y&amp;cluster_page=1&amp;q=%EB%8D%B0%EC%9D%B4%ED%84%B0&amp;p=3\" onclick=\"smartLog(this, &quot;pg=1&amp;rc=10&amp;dc=PGD&amp;p=1&amp;r=3&quot;, event);\" data-paging-active=\"true\">3</a> <a class=\"btn_page\" href=\"?w=news&amp;DA=PGD&amp;enc=utf8&amp;cluster=y&amp;cluster_page=1&amp;q=%EB%8D%B0%EC%9D%B4%ED%84%B0&amp;p=4\" onclick=\"smartLog(this, &quot;pg=1&amp;rc=10&amp;dc=PGD&amp;p=1&amp;r=4&quot;, event);\" data-paging-active=\"true\">4</a> <a class=\"btn_page\" href=\"?w=news&amp;DA=PGD&amp;enc=utf8&amp;cluster=y&amp;cluster_page=1&amp;q=%EB%8D%B0%EC%9D%B4%ED%84%B0&amp;p=5\" onclick=\"smartLog(this, &quot;pg=1&amp;rc=10&amp;dc=PGD&amp;p=1&amp;r=5&quot;, event);\" data-paging-active=\"true\">5</a> <a class=\"btn_page\" href=\"?w=news&amp;DA=PGD&amp;enc=utf8&amp;cluster=y&amp;cluster_page=1&amp;q=%EB%8D%B0%EC%9D%B4%ED%84%B0&amp;p=6\" onclick=\"smartLog(this, &quot;pg=1&amp;rc=10&amp;dc=PGD&amp;p=1&amp;r=6&quot;, event);\" data-paging-active=\"true\">6</a> <a class=\"btn_page\" href=\"?w=news&amp;DA=PGD&amp;enc=utf8&amp;cluster=y&amp;cluster_page=1&amp;q=%EB%8D%B0%EC%9D%B4%ED%84%B0&amp;p=7\" onclick=\"smartLog(this, &quot;pg=1&amp;rc=10&amp;dc=PGD&amp;p=1&amp;r=7&quot;, event);\" data-paging-active=\"true\">7</a> <a class=\"btn_page\" href=\"?w=news&amp;DA=PGD&amp;enc=utf8&amp;cluster=y&amp;cluster_page=1&amp;q=%EB%8D%B0%EC%9D%B4%ED%84%B0&amp;p=8\" onclick=\"smartLog(this, &quot;pg=1&amp;rc=10&amp;dc=PGD&amp;p=1&amp;r=8&quot;, event);\" data-paging-active=\"true\">8</a> <a class=\"btn_page\" href=\"?w=news&amp;DA=PGD&amp;enc=utf8&amp;cluster=y&amp;cluster_page=1&amp;q=%EB%8D%B0%EC%9D%B4%ED%84%B0&amp;p=9\" onclick=\"smartLog(this, &quot;pg=1&amp;rc=10&amp;dc=PGD&amp;p=1&amp;r=9&quot;, event);\" data-paging-active=\"true\">9</a> <a class=\"btn_page\" href=\"?w=news&amp;DA=PGD&amp;enc=utf8&amp;cluster=y&amp;cluster_page=1&amp;q=%EB%8D%B0%EC%9D%B4%ED%84%B0&amp;p=10\" onclick=\"smartLog(this, &quot;pg=1&amp;rc=10&amp;dc=PGD&amp;p=1&amp;r=10&quot;, event);\" data-paging-active=\"true\">10</a> </span>\\n    <span data-paging-area=\"next\">\\n        \\n        <a class=\"ico_comm1 btn_page btn_next\" href=\"?w=news&amp;DA=PGD&amp;enc=utf8&amp;cluster=y&amp;cluster_page=1&amp;q=%EB%8D%B0%EC%9D%B4%ED%84%B0&amp;p=2\" onclick=\"smartLog(this, &quot;pg=1&amp;dc=PGD&amp;e=2&quot;, event);\" data-paging-active=\"true\"><em>다음</em></a>\\n    </span>\\n</span></div> <div class=\"result_message mg_cont hide\"> <p class=\"f_eb message\"> 효과적으로 검색결과를 확인하실 수 있도록, 유사한 기사를 묶은 검색결과를 제공하고 있습니다.<br> 이 때문에 페이지 수에 변화가 있을 수 있습니다.<br> 원하시면 클러스터링되지 않은 결과를 확인하실 수 있습니다. &nbsp;<a href=\"?w=news&amp;req=tab&amp;q=%EB%8D%B0%EC%9D%B4%ED%84%B0&amp;cluster=n&amp;viewio=i&amp;repno=0&amp;n=10&amp;p=1&amp;pattern_yn=n&amp;DA=NNS\" class=\"f_link_u\">클러스터링되지 않은 결과보기</a> </p> </div> </div> <div id=\"tabNoResultArea\" class=\"hide\"></div> <script src=\"//search1.daumcdn.net/search/statics/common/js/fe/tot-search-collection/nns/p/news.nns.20211217152147.min.js\"></script> <script> var nnsNews = new C.nnsNews({ selector: { wrapperId: \"newsColl\", sameNameSelectBox: \"#selectSamename\", searchOption: { container: \".box_opt\", button: \".sub_expander .btn_search_option\", periodContainer: \\'div[data-option-type=\"period\"]\\', keepOptionButton: \".opt_keep input.inp_g\", closeButton: \".box_opt .btn_close\", resetButton: \".box_opt .btn_reset\", optionButton: \".menu_opt .tit_menu\", selectOptionLabel: \".tit_menu .label\", }, cpSuggest: { cpButton: \".btn_cp\", container: \\'div[data-option-type=\"cpname\"]\\', input: \"#newsCollCpInp\", layerSuggest: \".simple_suggest\", confirmButton: \".list_opt .btn_confirm\", label: \".tit_menu .label\", }, cpCategory: { container: \\'div[data-option-type=\"cpname\"]\\', categoryButton: \"a[data-cp-category]\", itemContainer: \".area_choice\", submitButton: \".area_submit .btn_confirm\", resetButton: \".area_submit .btn_cancle\", countLabel: \\'.info_select .fw_b\\', }, serviceInfoLayer: { container: \".coll_tit .info_fairtrade\", button: \".ico_info\", layer: \".layer_ad\", closeButton: \".btn_close\", }, }, api: { cpSuggest: \\'https://dapi.kakao.com/suggest-hub/v1/search.json?service=news-cpinfo&format=json&cate=\\', cpCategory: { qsearch: { cpinfo_req: \\'y\\', cp_initial: \\'\\', w: \\'news\\' } } }, data: { searchOption: { resetParam: { sd: \"\", ed: \"\", cp: \"\", sort: \"\", period: \"\", p: \"\", cpname: \"\", cluster: \"\", cluster_docid: \"\", article_type: \"\", }, }, paging: { displayCount: 10, totalCount: 734, currentPage: 1, wrapper: \".paging_comm\", pageName: \"p\", code: {}, }, }, logs: { suggestUserInput: \"dc=STC&pg=1&r=1&p=9&rc=1&at=func\", samenameSelTotal: \"dc=NNS&pg=1&r=1&p=20&rc=1&at=func\", samenameSelPerson: \"dc=NNS&pg=1&r=1&p=21&rc=1&at=func\", cpSelect: \"dc=STC&pg=1&r=1&p=16&rc=1&at=func\", }, }); nnsNews.init(); </script>\\n</div>\\n\\n\\n<div class=\"line\"></div><hr>\\n\\n\\n\\n\\n\\n\\n\\n\\n\\n\\n\\n\\n\\n\\n\\n\\n\\n<div disp-attr=\"DCC\">\\n\\n\\n<div id=\"netizenColl_bottom\" class=\"section_related\">\\n<div id=\"netizen_lists_bottom\" class=\"list_keyword type2\" data-w=\"news\">\\n<h2 class=\"tit\">\\n관련 <span class=\"screen_out\">검색어</span>\\n</h2>\\n<span class=\"wsn\"><a href=\"?w=news&amp;m=&amp;q=%EB%8D%B0%EC%9D%B4%ED%84%B0%EB%9E%80&amp;nzq=%EB%8D%B0%EC%9D%B4%ED%84%B0&amp;DA=DCC\" class=\"keyword\" data-log=\"dc=DCC&amp;pg=1&amp;r=1&amp;p=1&amp;e1=%EB%8D%B0%EC%9D%B4%ED%84%B0%EB%9E%80&amp;rc=1\">데이터란</a></span>\\n<span class=\"wsn\"><a href=\"?w=news&amp;m=&amp;q=%EB%B9%85%EB%8D%B0%EC%9D%B4%ED%84%B0&amp;nzq=%EB%8D%B0%EC%9D%B4%ED%84%B0&amp;DA=DCC\" class=\"keyword\" data-log=\"dc=DCC&amp;pg=1&amp;r=2&amp;p=1&amp;e1=%EB%B9%85%EB%8D%B0%EC%9D%B4%ED%84%B0&amp;rc=1\">빅데이터</a></span>\\n<span class=\"wsn\"><a href=\"?w=news&amp;m=&amp;q=%ED%9C%B4%EB%8C%80%ED%8F%B0%20%EB%8D%B0%EC%9D%B4%ED%84%B0&amp;nzq=%EB%8D%B0%EC%9D%B4%ED%84%B0&amp;DA=DCC\" class=\"keyword\" data-log=\"dc=DCC&amp;pg=1&amp;r=3&amp;p=1&amp;e1=%ED%9C%B4%EB%8C%80%ED%8F%B0%20%EB%8D%B0%EC%9D%B4%ED%84%B0&amp;rc=1\">휴대폰 데이터</a></span>\\n<span class=\"wsn\"><a href=\"?w=news&amp;m=&amp;q=%EB%8D%B0%EC%9D%B4%ED%84%B0%20%EB%B2%A0%EC%9D%B4%EC%8A%A4&amp;nzq=%EB%8D%B0%EC%9D%B4%ED%84%B0&amp;DA=DCC\" class=\"keyword\" data-log=\"dc=DCC&amp;pg=1&amp;r=4&amp;p=1&amp;e1=%EB%8D%B0%EC%9D%B4%ED%84%B0%20%EB%B2%A0%EC%9D%B4%EC%8A%A4&amp;rc=1\">데이터 베이스</a></span>\\n<span class=\"wsn\"><a href=\"?w=news&amp;m=&amp;q=%EB%8D%B0%EC%9D%B4%ED%84%B0%EB%9E%A9&amp;nzq=%EB%8D%B0%EC%9D%B4%ED%84%B0&amp;DA=DCC\" class=\"keyword\" data-log=\"dc=DCC&amp;pg=1&amp;r=5&amp;p=1&amp;e1=%EB%8D%B0%EC%9D%B4%ED%84%B0%EB%9E%A9&amp;rc=1\">데이터랩</a></span>\\n<span class=\"wsn\"><a href=\"?w=news&amp;m=&amp;q=%EB%8D%B0%EC%9D%B4%ED%84%B0%20%EB%B6%84%EC%84%9D&amp;nzq=%EB%8D%B0%EC%9D%B4%ED%84%B0&amp;DA=DCC\" class=\"keyword\" data-log=\"dc=DCC&amp;pg=1&amp;r=6&amp;p=1&amp;e1=%EB%8D%B0%EC%9D%B4%ED%84%B0%20%EB%B6%84%EC%84%9D&amp;rc=1\">데이터 분석</a></span>\\n<span class=\"wsn\"><a href=\"?w=news&amp;m=&amp;q=%EB%8D%B0%EC%9D%B4%ED%84%B0%20%EC%84%BC%ED%84%B0&amp;nzq=%EB%8D%B0%EC%9D%B4%ED%84%B0&amp;DA=DCC\" class=\"keyword\" data-log=\"dc=DCC&amp;pg=1&amp;r=7&amp;p=1&amp;e1=%EB%8D%B0%EC%9D%B4%ED%84%B0%20%EC%84%BC%ED%84%B0&amp;rc=1\">데이터 센터</a></span>\\n<span class=\"wsn\"><a href=\"?w=news&amp;m=&amp;q=%ED%95%B8%EB%93%9C%ED%8F%B0%20%EB%8D%B0%EC%9D%B4%ED%84%B0&amp;nzq=%EB%8D%B0%EC%9D%B4%ED%84%B0&amp;DA=DCC\" class=\"keyword\" data-log=\"dc=DCC&amp;pg=1&amp;r=8&amp;p=1&amp;e1=%ED%95%B8%EB%93%9C%ED%8F%B0%20%EB%8D%B0%EC%9D%B4%ED%84%B0&amp;rc=1\">핸드폰 데이터</a></span>\\n<span class=\"wsn\"><a href=\"?w=news&amp;m=&amp;q=%EB%A7%88%EC%9D%B4%EB%8D%B0%EC%9D%B4%ED%84%B0&amp;nzq=%EB%8D%B0%EC%9D%B4%ED%84%B0&amp;DA=DCC\" class=\"keyword\" data-log=\"dc=DCC&amp;pg=1&amp;r=9&amp;p=1&amp;e1=%EB%A7%88%EC%9D%B4%EB%8D%B0%EC%9D%B4%ED%84%B0&amp;rc=1\">마이데이터</a></span>\\n<span class=\"wsn\"><a href=\"?w=news&amp;m=&amp;q=%EB%8D%B0%EC%9D%B4%ED%84%B0%20%EC%89%90%EC%96%B4%EB%A7%81%EC%9D%B4%EB%9E%80&amp;nzq=%EB%8D%B0%EC%9D%B4%ED%84%B0&amp;DA=DCC\" class=\"keyword\" data-log=\"dc=DCC&amp;pg=1&amp;r=10&amp;p=1&amp;e1=%EB%8D%B0%EC%9D%B4%ED%84%B0%20%EC%89%90%EC%96%B4%EB%A7%81%EC%9D%B4%EB%9E%80&amp;rc=1\">데이터 쉐어링이란</a></span>\\n<span class=\"wsn\"><a href=\"?w=news&amp;m=&amp;q=data&amp;nzq=%EB%8D%B0%EC%9D%B4%ED%84%B0&amp;DA=DCC\" class=\"keyword\" data-log=\"dc=DCC&amp;pg=1&amp;r=11&amp;p=1&amp;e1=data&amp;rc=1\">data</a></span>\\n<span class=\"wsn\"><a href=\"?w=news&amp;m=&amp;q=%EB%8D%B0%EC%9D%B4%ED%8A%B8&amp;nzq=%EB%8D%B0%EC%9D%B4%ED%84%B0&amp;DA=DCC\" class=\"keyword\" data-log=\"dc=DCC&amp;pg=1&amp;r=12&amp;p=1&amp;e1=%EB%8D%B0%EC%9D%B4%ED%8A%B8&amp;rc=1\">데이트</a></span>\\n<span class=\"wsn\"><a href=\"?w=news&amp;m=&amp;q=%EB%8D%B0%EC%9D%B4%ED%84%B0%20%EB%B3%80%ED%99%98&amp;nzq=%EB%8D%B0%EC%9D%B4%ED%84%B0&amp;DA=DCC\" class=\"keyword\" data-log=\"dc=DCC&amp;pg=1&amp;r=13&amp;p=1&amp;e1=%EB%8D%B0%EC%9D%B4%ED%84%B0%20%EB%B3%80%ED%99%98&amp;rc=1\">데이터 변환</a></span>\\n<span class=\"wsn\"><a href=\"?w=news&amp;m=&amp;q=%EB%8D%B0%EC%9D%B4%ED%84%B0%203%EB%B2%95&amp;nzq=%EB%8D%B0%EC%9D%B4%ED%84%B0&amp;DA=DCC\" class=\"keyword\" data-log=\"dc=DCC&amp;pg=1&amp;r=14&amp;p=1&amp;e1=%EB%8D%B0%EC%9D%B4%ED%84%B0%203%EB%B2%95&amp;rc=1\">데이터 3법</a></span>\\n<span class=\"wsn\"><a href=\"?w=news&amp;m=&amp;q=%EB%A1%9C%EC%9A%B0%20%EB%8D%B0%EC%9D%B4%ED%84%B0&amp;nzq=%EB%8D%B0%EC%9D%B4%ED%84%B0&amp;DA=DCC\" class=\"keyword\" data-log=\"dc=DCC&amp;pg=1&amp;r=15&amp;p=1&amp;e1=%EB%A1%9C%EC%9A%B0%20%EB%8D%B0%EC%9D%B4%ED%84%B0&amp;rc=1\">로우 데이터</a></span>\\n<span class=\"wsn\"><a href=\"?w=news&amp;m=&amp;q=%EB%8D%B0%EC%9D%B4%ED%84%B0%20%EB%B0%94%EC%9A%B0%EC%B2%98&amp;nzq=%EB%8D%B0%EC%9D%B4%ED%84%B0&amp;DA=DCC\" class=\"keyword\" data-log=\"dc=DCC&amp;pg=1&amp;r=16&amp;p=1&amp;e1=%EB%8D%B0%EC%9D%B4%ED%84%B0%20%EB%B0%94%EC%9A%B0%EC%B2%98&amp;rc=1\">데이터 바우처</a></span>\\n<span class=\"wsn\"><a href=\"?w=news&amp;m=&amp;q=%EB%8D%B0%EC%9D%B4%ED%84%B0%20%ED%8C%8C%EC%9D%BC&amp;nzq=%EB%8D%B0%EC%9D%B4%ED%84%B0&amp;DA=DCC\" class=\"keyword\" data-log=\"dc=DCC&amp;pg=1&amp;r=17&amp;p=1&amp;e1=%EB%8D%B0%EC%9D%B4%ED%84%B0%20%ED%8C%8C%EC%9D%BC&amp;rc=1\">데이터 파일</a></span>\\n<span class=\"wsn\"><a href=\"?w=news&amp;m=&amp;q=date&amp;nzq=%EB%8D%B0%EC%9D%B4%ED%84%B0&amp;DA=DCC\" class=\"keyword\" data-log=\"dc=DCC&amp;pg=1&amp;r=18&amp;p=1&amp;e1=date&amp;rc=1\">date</a></span>\\n<span class=\"wsn\"><a href=\"?w=news&amp;m=&amp;q=%EB%8D%B0%EC%9D%B4%ED%84%B0%20%EC%98%A4%EB%A5%98&amp;nzq=%EB%8D%B0%EC%9D%B4%ED%84%B0&amp;DA=DCC\" class=\"keyword\" data-log=\"dc=DCC&amp;pg=1&amp;r=19&amp;p=1&amp;e1=%EB%8D%B0%EC%9D%B4%ED%84%B0%20%EC%98%A4%EB%A5%98&amp;rc=1\">데이터 오류</a></span>\\n<span class=\"wsn\"><a href=\"?w=news&amp;m=&amp;q=%EB%8D%B0%EC%9D%B4%ED%84%B0%20%EA%B8%B0%EB%B3%B8%EB%B2%95&amp;nzq=%EB%8D%B0%EC%9D%B4%ED%84%B0&amp;DA=DCC\" class=\"keyword\" data-log=\"dc=DCC&amp;pg=1&amp;r=20&amp;p=1&amp;e1=%EB%8D%B0%EC%9D%B4%ED%84%B0%20%EA%B8%B0%EB%B3%B8%EB%B2%95&amp;rc=1\">데이터 기본법</a></span>\\n</div>\\n<a href=\"javascript:;\" id=\"netizen_more_btn_bottom\" class=\"expender\" data-log=\"dc=DCC&amp;at=func\">        <span class=\"ico_rwd\">더보기</span>\\n</a>\\n</div>\\n</div>\\n\\n\\n\\n\\n\\n\\n</div> <!-- // inner_article -->\\n</article> <!-- // mArticle -->\\n\\n<aside id=\"mAside\">\\n\\n\\n\\n\\n<div disp-attr=\"R03\" class=\"g_comp_s\">\\n\\n\\n<div id=\"randomCategoryColl\" class=\"content_realtime\"> <div class=\"coll_tit\"> <h2 class=\"tit\">분야별 검색어</h2> <div class=\"mg_expander\"><span class=\"f_nb\">12.17. 17:52</span></div> </div> <div id=\"randomCategoryCollDetail\" class=\"coll_cont\"> <div class=\"tab_comp tab_box\"> <ul id=\"rtissue_categories\" class=\"list_tab tab_size3\"> <li class=\"on\"><a class=\"tab_tit\" href=\"javascript:;\" onclick=\"C.randomCategoryColl.switchTab(0, \\'R03\\', event)\"><span class=\"inner_tit\">시사교양tv</span></a></li> <li><a class=\"tab_tit\" href=\"javascript:;\" onclick=\"C.randomCategoryColl.switchTab(1, \\'R10\\', event)\"><span class=\"inner_tit\">공연</span></a></li> <li><a class=\"tab_tit\" href=\"javascript:;\" onclick=\"C.randomCategoryColl.switchTab(2, \\'R04\\', event)\"><span class=\"inner_tit\">외국드라마</span></a></li> </ul> </div> <div class=\"wrap_rank\"> <ol class=\"list_rank\"> <li> <div class=\"inner_item\"> <span class=\"num_rank\">1</span> <span class=\"keyword_rank\"><a href=\"?w=tot&amp;DA=R03&amp;q=%EA%BC%AC%EB%A6%AC%EC%97%90%20%EA%BC%AC%EB%A6%AC%EB%A5%BC%20%EB%AC%B4%EB%8A%94%20%EA%B7%B8%EB%82%A0%20%EC%9D%B4%EC%95%BC%EA%B8%B0&amp;rtmaxcoll=R0T,TVP&amp;irt=tv-program&amp;irk=92546\" class=\"link_txt\" onclick=\"smartLog(this,\\'dc=R03&amp;pg=1&amp;at=link&amp;rc=10&amp;p=1&amp;r=1\\',event);\">꼬리에 꼬리를 무는 그날 이야기</a></span> </div> </li> <li> <div class=\"inner_item\"> <span class=\"num_rank\">2</span> <span class=\"keyword_rank\"><a href=\"?w=tot&amp;DA=R03&amp;q=%EA%B7%B8%EA%B2%83%EC%9D%B4%20%EC%95%8C%EA%B3%A0%20%EC%8B%B6%EB%8B%A4&amp;rtmaxcoll=R0T,TVP&amp;irt=tv-program&amp;irk=48438\" class=\"link_txt\" onclick=\"smartLog(this,\\'dc=R03&amp;pg=1&amp;at=link&amp;rc=10&amp;p=1&amp;r=2\\',event);\">그것이 알고 싶다</a></span> </div> </li> <li> <div class=\"inner_item\"> <span class=\"num_rank\">3</span> <span class=\"keyword_rank\"><a href=\"?w=tot&amp;DA=R03&amp;q=%EA%B6%81%EA%B8%88%ED%95%9C%20%EC%9D%B4%EC%95%BC%EA%B8%B0%20Y&amp;rtmaxcoll=R0T,TVP&amp;irt=tv-program&amp;irk=55246\" class=\"link_txt\" onclick=\"smartLog(this,\\'dc=R03&amp;pg=1&amp;at=link&amp;rc=10&amp;p=1&amp;r=3\\',event);\">궁금한 이야기 Y</a></span> </div> </li> <li> <div class=\"inner_item\"> <span class=\"num_rank\">4</span> <span class=\"keyword_rank\"><a href=\"?w=tot&amp;DA=R03&amp;q=%EC%9D%B8%EA%B0%84%EA%B7%B9%EC%9E%A5&amp;rtmaxcoll=R0T,TVP&amp;irt=tv-program&amp;irk=48281\" class=\"link_txt\" onclick=\"smartLog(this,\\'dc=R03&amp;pg=1&amp;at=link&amp;rc=10&amp;p=1&amp;r=4\\',event);\">인간극장</a></span> </div> </li> <li> <div class=\"inner_item\"> <span class=\"num_rank\">5</span> <span class=\"keyword_rank\"><a href=\"?w=tot&amp;DA=R03&amp;q=2TV%20%EC%83%9D%EC%83%9D%EC%A0%95%EB%B3%B4&amp;rtmaxcoll=R0T,TVP&amp;irt=tv-program&amp;irk=75643\" class=\"link_txt\" onclick=\"smartLog(this,\\'dc=R03&amp;pg=1&amp;at=link&amp;rc=10&amp;p=1&amp;r=5\\',event);\">2TV 생생정보</a></span> </div> </li> </ol> <ol class=\"list_rank\"> <li> <div class=\"inner_item\"> <span class=\"num_rank\">6</span> <span class=\"keyword_rank\"><a href=\"?w=tot&amp;DA=R03&amp;q=%EC%8B%9D%EA%B0%9D%20%ED%97%88%EC%98%81%EB%A7%8C%EC%9D%98%20%EB%B0%B1%EB%B0%98%EA%B8%B0%ED%96%89&amp;rtmaxcoll=R0T,TVP&amp;irt=tv-program&amp;irk=85831\" class=\"link_txt\" onclick=\"smartLog(this,\\'dc=R03&amp;pg=1&amp;at=link&amp;rc=10&amp;p=1&amp;r=6\\',event);\">식객 허영만의 백반기행</a></span> </div> </li> <li> <div class=\"inner_item\"> <span class=\"num_rank\">7</span> <span class=\"keyword_rank\"><a href=\"?w=tot&amp;DA=R03&amp;q=%EB%82%98%EB%8A%94%20%EC%9E%90%EC%97%B0%EC%9D%B8%EC%9D%B4%EB%8B%A4&amp;rtmaxcoll=R0T,TVP&amp;irt=tv-program&amp;irk=61815\" class=\"link_txt\" onclick=\"smartLog(this,\\'dc=R03&amp;pg=1&amp;at=link&amp;rc=10&amp;p=1&amp;r=7\\',event);\">나는 자연인이다</a></span> </div> </li> <li> <div class=\"inner_item\"> <span class=\"num_rank\">8</span> <span class=\"keyword_rank\"><a href=\"?w=tot&amp;DA=R03&amp;q=%EB%84%A5%EC%8A%A4%ED%8A%B8%20%EC%97%94%ED%84%B0%ED%85%8C%EC%9D%B8%EB%A8%BC%ED%8A%B8%202021%20%EB%B9%84%EC%A0%80%EB%84%88%EB%A6%AC&amp;rtmaxcoll=R0T,TVP&amp;irt=tv-program&amp;irk=93087\" class=\"link_txt\" onclick=\"smartLog(this,\\'dc=R03&amp;pg=1&amp;at=link&amp;rc=10&amp;p=1&amp;r=8\\',event);\">넥스트 엔터테인먼트 2021 비저너리</a></span> </div> </li> <li> <div class=\"inner_item\"> <span class=\"num_rank\">9</span> <span class=\"keyword_rank\"><a href=\"?w=tot&amp;DA=R03&amp;q=TV%20%EB%8F%99%EB%AC%BC%EB%86%8D%EC%9E%A5&amp;rtmaxcoll=R0T,TVP&amp;irt=tv-program&amp;irk=48496\" class=\"link_txt\" onclick=\"smartLog(this,\\'dc=R03&amp;pg=1&amp;at=link&amp;rc=10&amp;p=1&amp;r=9\\',event);\">TV 동물농장</a></span> </div> </li> <li> <div class=\"inner_item\"> <span class=\"num_rank\">10</span> <span class=\"keyword_rank\"><a href=\"?w=tot&amp;DA=R03&amp;q=%EC%82%AC%EC%82%AC%EA%B1%B4%EA%B1%B4(%E4%BA%8B%E4%BA%8B%E4%BB%B6%E4%BB%B6)&amp;rtmaxcoll=R0T,TVP&amp;irt=tv-program&amp;irk=83255\" class=\"link_txt\" onclick=\"smartLog(this,\\'dc=R03&amp;pg=1&amp;at=link&amp;rc=10&amp;p=1&amp;r=10\\',event);\">사사건건(事事件件)</a></span> </div> </li> </ol> </div> <div class=\"wrap_rank\" style=\"display:none\"> <ol class=\"list_rank\"> <li> <div class=\"inner_item\"> <span class=\"num_rank\">1</span> <span class=\"keyword_rank\"><a href=\"?w=tot&amp;DA=R10&amp;q=%EB%A0%88%EB%B2%A0%EC%B9%B4&amp;rtmaxcoll=OUJ,CJK&amp;scckey=PY||203094\" class=\"link_txt\" onclick=\"smartLog(this,\\'dc=R10&amp;pg=1&amp;at=link&amp;rc=10&amp;p=1&amp;r=1\\',event);\">레베카</a></span> </div> </li> <li> <div class=\"inner_item\"> <span class=\"num_rank\">2</span> <span class=\"keyword_rank\"><a href=\"?w=tot&amp;DA=R10&amp;q=%EB%82%98%ED%9B%88%EC%95%84%20%EC%BD%98%EC%84%9C%ED%8A%B8&amp;rtmaxcoll=OUJ,CJK&amp;scckey=PY||204741\" class=\"link_txt\" onclick=\"smartLog(this,\\'dc=R10&amp;pg=1&amp;at=link&amp;rc=10&amp;p=1&amp;r=2\\',event);\">나훈아 콘서트</a></span> </div> </li> <li> <div class=\"inner_item\"> <span class=\"num_rank\">3</span> <span class=\"keyword_rank\"><a href=\"?w=tot&amp;DA=R10&amp;q=%EC%9D%B4%EC%B0%AC%EC%9B%90%20%EC%BD%98%EC%84%9C%ED%8A%B8&amp;rtmaxcoll=OUJ,CJK&amp;scckey=PY||204278\" class=\"link_txt\" onclick=\"smartLog(this,\\'dc=R10&amp;pg=1&amp;at=link&amp;rc=10&amp;p=1&amp;r=3\\',event);\">이찬원 콘서트</a></span> </div> </li> <li> <div class=\"inner_item\"> <span class=\"num_rank\">4</span> <span class=\"keyword_rank\"><a href=\"?w=tot&amp;DA=R10&amp;q=%EA%B9%80%ED%9D%AC%EC%9E%AC%20%EC%BD%98%EC%84%9C%ED%8A%B8&amp;rtmaxcoll=OUJ,CJK&amp;scckey=PY||204237\" class=\"link_txt\" onclick=\"smartLog(this,\\'dc=R10&amp;pg=1&amp;at=link&amp;rc=10&amp;p=1&amp;r=4\\',event);\">김희재 콘서트</a></span> </div> </li> <li> <div class=\"inner_item\"> <span class=\"num_rank\">5</span> <span class=\"keyword_rank\"><a href=\"?w=tot&amp;DA=R10&amp;q=%EC%B9%9C%EC%A0%95%EC%97%84%EB%A7%88%EC%99%80%202%EB%B0%953%EC%9D%BC&amp;rtmaxcoll=OUJ,CJK&amp;scckey=PY||204345\" class=\"link_txt\" onclick=\"smartLog(this,\\'dc=R10&amp;pg=1&amp;at=link&amp;rc=10&amp;p=1&amp;r=5\\',event);\">친정엄마와 2박3일</a></span> </div> </li> </ol> <ol class=\"list_rank\"> <li> <div class=\"inner_item\"> <span class=\"num_rank\">6</span> <span class=\"keyword_rank\"><a href=\"?w=tot&amp;DA=R10&amp;q=%EC%A0%A0%ED%8B%80%EB%A7%A8%EC%8A%A4%20%EA%B0%80%EC%9D%B4%EB%93%9C&amp;rtmaxcoll=OUJ,CJK&amp;scckey=PY||203175\" class=\"link_txt\" onclick=\"smartLog(this,\\'dc=R10&amp;pg=1&amp;at=link&amp;rc=10&amp;p=1&amp;r=6\\',event);\">젠틀맨스 가이드</a></span> </div> </li> <li> <div class=\"inner_item\"> <span class=\"num_rank\">7</span> <span class=\"keyword_rank\"><a href=\"?w=tot&amp;DA=R10&amp;q=%ED%92%8D%EB%A5%98%EB%8C%80%EC%9E%A5%20%EC%BD%98%EC%84%9C%ED%8A%B8&amp;rtmaxcoll=OUJ,CJK&amp;scckey=PY||204258\" class=\"link_txt\" onclick=\"smartLog(this,\\'dc=R10&amp;pg=1&amp;at=link&amp;rc=10&amp;p=1&amp;r=7\\',event);\">풍류대장 콘서트</a></span> </div> </li> <li> <div class=\"inner_item\"> <span class=\"num_rank\">8</span> <span class=\"keyword_rank\"><a href=\"?w=tot&amp;DA=R10&amp;q=%EC%A7%80%ED%82%AC%20%EC%95%A4%20%ED%95%98%EC%9D%B4%EB%93%9C&amp;rtmaxcoll=OUJ,CJK&amp;scckey=PY||202559\" class=\"link_txt\" onclick=\"smartLog(this,\\'dc=R10&amp;pg=1&amp;at=link&amp;rc=10&amp;p=1&amp;r=8\\',event);\">지킬 앤 하이드</a></span> </div> </li> <li> <div class=\"inner_item\"> <span class=\"num_rank\">9</span> <span class=\"keyword_rank\"><a href=\"?w=tot&amp;DA=R10&amp;q=%EC%9E%A5%EC%9C%A4%EC%A0%95%20%EC%BD%98%EC%84%9C%ED%8A%B8&amp;rtmaxcoll=OUJ,CJK&amp;scckey=PY||203956\" class=\"link_txt\" onclick=\"smartLog(this,\\'dc=R10&amp;pg=1&amp;at=link&amp;rc=10&amp;p=1&amp;r=9\\',event);\">장윤정 콘서트</a></span> </div> </li> <li> <div class=\"inner_item\"> <span class=\"num_rank\">10</span> <span class=\"keyword_rank\"><a href=\"?w=tot&amp;DA=R10&amp;q=%EC%9E%A5%EB%AF%BC%ED%98%B8%20%EC%BD%98%EC%84%9C%ED%8A%B8&amp;rtmaxcoll=OUJ,CJK&amp;scckey=PY||204234\" class=\"link_txt\" onclick=\"smartLog(this,\\'dc=R10&amp;pg=1&amp;at=link&amp;rc=10&amp;p=1&amp;r=10\\',event);\">장민호 콘서트</a></span> </div> </li> </ol> </div> <div class=\"wrap_rank\" style=\"display:none\"> <ol class=\"list_rank\"> <li> <div class=\"inner_item\"> <span class=\"num_rank\">1</span> <span class=\"keyword_rank\"><a href=\"?w=tot&amp;DA=R04&amp;q=%EB%8C%80%EB%8B%B9%EC%97%AC%EC%95%84%ED%96%89&amp;rtmaxcoll=RFT,TVP&amp;irt=tv-program&amp;irk=92581\" class=\"link_txt\" onclick=\"smartLog(this,\\'dc=R04&amp;pg=1&amp;at=link&amp;rc=10&amp;p=1&amp;r=1\\',event);\">대당여아행</a></span> </div> </li> <li> <div class=\"inner_item\"> <span class=\"num_rank\">2</span> <span class=\"keyword_rank\"><a href=\"?w=tot&amp;DA=R04&amp;q=%EC%9C%84%EC%B3%90%20%EC%8B%9C%EC%A6%8C%202&amp;rtmaxcoll=RFT,TVP&amp;irt=tv-program&amp;irk=88036\" class=\"link_txt\" onclick=\"smartLog(this,\\'dc=R04&amp;pg=1&amp;at=link&amp;rc=10&amp;p=1&amp;r=2\\',event);\">위쳐 시즌 2</a></span> </div> </li> <li> <div class=\"inner_item\"> <span class=\"num_rank\">3</span> <span class=\"keyword_rank\"><a href=\"?w=tot&amp;DA=R04&amp;q=%EB%B9%A8%EA%B0%84%20%EB%A8%B8%EB%A6%AC%20%EC%95%A4%20%EC%8B%9C%EC%A6%8C%203&amp;rtmaxcoll=RFT,TVP&amp;irt=tv-program&amp;irk=83857\" class=\"link_txt\" onclick=\"smartLog(this,\\'dc=R04&amp;pg=1&amp;at=link&amp;rc=10&amp;p=1&amp;r=3\\',event);\">빨간 머리 앤 시즌 3</a></span> </div> </li> <li> <div class=\"inner_item\"> <span class=\"num_rank\">4</span> <span class=\"keyword_rank\"><a href=\"?w=tot&amp;DA=R04&amp;q=%ED%98%B8%ED%81%AC%EC%95%84%EC%9D%B4&amp;rtmaxcoll=RFT,TVP&amp;irt=tv-program&amp;irk=92931\" class=\"link_txt\" onclick=\"smartLog(this,\\'dc=R04&amp;pg=1&amp;at=link&amp;rc=10&amp;p=1&amp;r=4\\',event);\">호크아이</a></span> </div> </li> <li> <div class=\"inner_item\"> <span class=\"num_rank\">5</span> <span class=\"keyword_rank\"><a href=\"?w=tot&amp;DA=R04&amp;q=%EB%A1%9C%ED%82%A4&amp;rtmaxcoll=RFT,TVP&amp;irt=tv-program&amp;irk=91742\" class=\"link_txt\" onclick=\"smartLog(this,\\'dc=R04&amp;pg=1&amp;at=link&amp;rc=10&amp;p=1&amp;r=5\\',event);\">로키</a></span> </div> </li> </ol> <ol class=\"list_rank\"> <li> <div class=\"inner_item\"> <span class=\"num_rank\">6</span> <span class=\"keyword_rank\"><a href=\"?w=tot&amp;DA=R04&amp;q=%EC%9B%8C%ED%82%B9%20%EB%8D%B0%EB%93%9C%20%EC%8B%9C%EC%A6%8C%2011&amp;rtmaxcoll=RFT,TVP&amp;irt=tv-program&amp;irk=86946\" class=\"link_txt\" onclick=\"smartLog(this,\\'dc=R04&amp;pg=1&amp;at=link&amp;rc=10&amp;p=1&amp;r=6\\',event);\">워킹 데드 시즌 11</a></span> </div> </li> <li> <div class=\"inner_item\"> <span class=\"num_rank\">7</span> <span class=\"keyword_rank\"><a href=\"?w=tot&amp;DA=R04&amp;q=%EB%85%B9%EB%B9%84%ED%99%8D%EC%88%98&amp;rtmaxcoll=RFT,TVP&amp;irt=tv-program&amp;irk=82254\" class=\"link_txt\" onclick=\"smartLog(this,\\'dc=R04&amp;pg=1&amp;at=link&amp;rc=10&amp;p=1&amp;r=7\\',event);\">녹비홍수</a></span> </div> </li> <li> <div class=\"inner_item\"> <span class=\"num_rank\">8</span> <span class=\"keyword_rank\"><a href=\"?w=tot&amp;DA=R04&amp;q=%EC%A2%85%EC%9D%B4%EC%9D%98%20%EC%A7%91%20%EC%8B%9C%EC%A6%8C%205&amp;rtmaxcoll=RFT,TVP&amp;irt=tv-program&amp;irk=89235\" class=\"link_txt\" onclick=\"smartLog(this,\\'dc=R04&amp;pg=1&amp;at=link&amp;rc=10&amp;p=1&amp;r=8\\',event);\">종이의 집 시즌 5</a></span> </div> </li> <li> <div class=\"inner_item\"> <span class=\"num_rank\">9</span> <span class=\"keyword_rank\"><a href=\"?w=tot&amp;DA=R04&amp;q=%EC%9E%A5%EA%B0%80%ED%96%89&amp;rtmaxcoll=RFT,TVP&amp;irt=tv-program&amp;irk=91619\" class=\"link_txt\" onclick=\"smartLog(this,\\'dc=R04&amp;pg=1&amp;at=link&amp;rc=10&amp;p=1&amp;r=9\\',event);\">장가행</a></span> </div> </li> <li> <div class=\"inner_item\"> <span class=\"num_rank\">10</span> <span class=\"keyword_rank\"><a href=\"?w=tot&amp;DA=R04&amp;q=%EC%9D%98%EC%B2%9C%EB%8F%84%EB%A3%A1%EA%B8%B0%202019&amp;rtmaxcoll=RFT,TVP&amp;irt=tv-program&amp;irk=85584\" class=\"link_txt\" onclick=\"smartLog(this,\\'dc=R04&amp;pg=1&amp;at=link&amp;rc=10&amp;p=1&amp;r=10\\',event);\">의천도룡기 2019</a></span> </div> </li> </ol> </div> </div> </div> <script type=\"text/javascript\"> (function(module){ function addClass(element, className){ var check = new RegExp(\"(\\\\\\\\s|^)\" + className + \"(\\\\\\\\s|$)\"); if(!check.test(element.className)) { element.className += \" \" + className; } } function removeClass(element, className){ var check = new RegExp(\"(\\\\\\\\s|^)\" + className + \"(\\\\\\\\s|$)\"); element.className = element.className.replace(check, \" \").trim(); } module.switchTab = function(categoryNumber, displayCode, event) { var tabs = document.getElementById(\"rtissue_categories\"); for(var i = 0; i < tabs.children.length; i++) { var element = tabs.children[i]; if(element.tagName === \\'LI\\') { if(i === categoryNumber) { addClass(element, \\'on\\'); } else { removeClass(element, \\'on\\'); } } } var tabContents = document.getElementById(\"randomCategoryCollDetail\"); for(var i = 1; i < tabContents.children.length; i++) { var element = tabContents.children[i]; if(element.className === \\'wrap_rank\\') { if(i === categoryNumber + 1) { element.style.display = \"block\"; } else { element.style.display = \"none\"; } } } smartLog(this,\\'pg=1&at=func&rc=10&p=2&r=\\' + (categoryNumber + 1) + \\'&dc=\\' + displayCode, event); } }(C.randomCategoryColl = ( C.randomCategoryColl || {}))); </script>\\n</div>\\n\\n\\n\\n\\n<div disp-attr=\"TOG\" class=\"g_comp_s\">\\n\\n\\n<div class=\"content_commend\"> <div class=\"coll_tit\"> <h2 class=\"tit\">같이가치 추천글</h2> </div> <div class=\"coll_cont\"> <ul class=\"list_major\"> <li> <a href=\"https://together.kakao.com/fundraisings/93006/story\" class=\"link_major\" target=\"_blank\" onclick=\"smartLog(this,\\'dc=TOG&amp;d=toget-fundraising_project-93006&amp;rc=10&amp;at=link&amp;pg=1&amp;p=1&amp;r=1\\',event);\">코다(CODA)는 누구일까요?</a> </li> <li> <a href=\"https://together.kakao.com/fundraisings/93026/story\" class=\"link_major\" target=\"_blank\" onclick=\"smartLog(this,\\'dc=TOG&amp;d=toget-fundraising_project-93026&amp;rc=10&amp;at=link&amp;pg=1&amp;p=1&amp;r=2\\',event);\">집 수리 프로젝트! \\'집은 삶의 안식처입니다\\'</a> </li> <li> <a href=\"https://together.kakao.com/fundraisings/93120/story\" class=\"link_major\" target=\"_blank\" onclick=\"smartLog(this,\\'dc=TOG&amp;d=toget-fundraising_project-93120&amp;rc=10&amp;at=link&amp;pg=1&amp;p=1&amp;r=3\\',event);\">지금 특별한 빵 공장을 개원합니다!</a> </li> <li> <a href=\"https://together.kakao.com/fundraisings/92474/story\" class=\"link_major\" target=\"_blank\" onclick=\"smartLog(this,\\'dc=TOG&amp;d=toget-fundraising_project-92474&amp;rc=10&amp;at=link&amp;pg=1&amp;p=1&amp;r=4\\',event);\">사랑은 나누고, OO는 곱하고!?</a> </li> <li> <a href=\"https://together.kakao.com/fundraisings/92918/story\" class=\"link_major\" target=\"_blank\" onclick=\"smartLog(this,\\'dc=TOG&amp;d=toget-fundraising_project-92918&amp;rc=10&amp;at=link&amp;pg=1&amp;p=1&amp;r=5\\',event);\">그날 우리는 외롭지 않았습니다, 왜냐하면..</a> </li> <li> <a href=\"https://together.kakao.com/fundraisings/92277/story\" class=\"link_major\" target=\"_blank\" onclick=\"smartLog(this,\\'dc=TOG&amp;d=toget-fundraising_project-92277&amp;rc=10&amp;at=link&amp;pg=1&amp;p=1&amp;r=6\\',event);\">항암치료를 견뎌내야 하는 세 살 아이, 데니스</a> </li> <li> <a href=\"https://together.kakao.com/fundraisings/93053/story\" class=\"link_major\" target=\"_blank\" onclick=\"smartLog(this,\\'dc=TOG&amp;d=toget-fundraising_project-93053&amp;rc=10&amp;at=link&amp;pg=1&amp;p=1&amp;r=7\\',event);\">수어로 표현하는 예술가, 핸드스피크 아티스트?</a> </li> <li> <a href=\"https://together.kakao.com/fundraisings/93033/story\" class=\"link_major\" target=\"_blank\" onclick=\"smartLog(this,\\'dc=TOG&amp;d=toget-fundraising_project-93033&amp;rc=10&amp;at=link&amp;pg=1&amp;p=1&amp;r=8\\',event);\">태어나자마자 받은 큰 수술을 받은 별이</a> </li> <li> <a href=\"https://together.kakao.com/fundraisings/92792/story\" class=\"link_major\" target=\"_blank\" onclick=\"smartLog(this,\\'dc=TOG&amp;d=toget-fundraising_project-92792&amp;rc=10&amp;at=link&amp;pg=1&amp;p=1&amp;r=9\\',event);\">“그때 이 분들이 와주신 덕분에!”</a> </li> <li> <a href=\"https://together.kakao.com/fundraisings/92968/story\" class=\"link_major\" target=\"_blank\" onclick=\"smartLog(this,\\'dc=TOG&amp;d=toget-fundraising_project-92968&amp;rc=10&amp;at=link&amp;pg=1&amp;p=1&amp;r=10\\',event);\">동연이의 방과 후 선생님이 되어주세요!</a> </li> </ul> </div> </div>\\n</div>\\n\\n\\n\\n<div style=\"display:block;overflow:hidden;height:0;clear:both;font-size:0;line-height:0;visibility:hidden;\">\\\\00f0</div>\\n</aside>\\n\\n\\n</div>\\n\\n\\n<a href=\"javascript:;\" class=\"aside_quick\">맨위로<span class=\"ico_rwd\"></span></a>\\n\\n</article>\\n\\n<footer id=\"daumFoot\">\\n<div id=\"innerFooter\" class=\"inner_footer\">\\n<div id=\"suggestFooter\">\\n<form name=\"search1\" method=\"get\" id=\"daumSearchFoot\" class=\"d_sch\">\\n<fieldset class=\"fld_total\">\\n<legend class=\"screen_out\">검색폼</legend>\\n<input type=\"hidden\" name=\"nil_ch\" value=\"\">\\n<input type=\"hidden\" name=\"rtupcoll\" value=\"\">\\n<input type=\"hidden\" name=\"nil_suggest\" value=\"btn\">\\n<input type=\"hidden\" name=\"DA\" value=\"MEK\">\\n<input type=\"hidden\" name=\"w\" value=\"news\">\\n<input type=\"hidden\" name=\"sq\" value=\"\">\\n<input type=\"hidden\" name=\"o\" value=\"\">\\n<input type=\"hidden\" name=\"sugo\" value=\"\">\\n\\n\\n<input type=\"hidden\" name=\"m\" value=\"\">\\n\\n<div class=\"box_searchbar\">\\n<div class=\"inner_searchbar\">\\n<input type=\"text\" id=\"q1\" name=\"q\" class=\"tf_keyword\" autocomplete=\"off\" title=\"검색어 입력\" value=\"데이터\" data-bind=\"value: keywordInput.searchQuery, hasFocus: keywordInput.isSelected, event: { keydown: onKeyDown, keyup: onKeyUp, focus: onFocus, blur: onBlur }\"><span aria-live=\"polite\" data-bind=\"text: suggestList.accessible, attr: { \\'aria-live\\': \\'polite\\'}, css: \\'screen_out\\'\" class=\"screen_out\"></span>\\n<button type=\"submit\" id=\"schFooterSubmitBtn\" class=\"ico_ksearch btn_ksearch\"><span class=\"ir_wa\">검색</span></button>\\n</div>\\n</div>\\n</fieldset>\\n</form>\\n<div class=\"wrap_suggestBox\"><div id=\"schFooterSuggestBox\" class=\"suggestBox box_sub reverseType\" data-bind=\"template: { name: &quot;suggest-container&quot; }\"><div class=\"baseBox bg\" data-bind=\"\\n\\tvisible: (suggestList.length() > 0 &amp;&amp; suggestList.visible) || suggestList.enableAnswerLayer,\\n\\ttemplate: { name: \\'suggest-layer\\' }\" style=\"display: none;\"><!-- ko if: options.isReverse -->\\n    <!-- ko if: options.enableFooter -->\\n    <div class=\"footer bg_sub\" data-bind=\"\\n    \\ttemplate: { name: \\'suggest-footer\\' }\">\\n<div>\\n<span>\\n<div class=\"fr\">\\n<a href=\"http://cs.daum.net/faq/15/14957.html#28978\" class=\"isSuggest\" target=\"_blank\" onclick=\"smartLog(this, \\'dc=SUG&amp;p=5&amp;r=1\\', event);\">서제스트란?</a>\\n</div>\\n</span>\\n</div>\\n</div>\\n    <!-- /ko -->\\n    <div data-bind=\"foreach: suggestList.lists\"></div>\\n<!-- /ko -->\\n\\n<!-- ko ifnot: options.isReverse --><!-- /ko -->\\n</div>\\n<!-- ko if: options.enableRecentList --><!-- /ko -->\\n</div></div>\\n</div>\\n<script type=\"text/javascript\">\\n(function(){\\nvar footerSearchModule = new SF.FooterSearchForm();\\nfooterSearchModule.init();\\n})();\\n</script>\\n\\n<div class=\"footer_comm\">\\n<a href=\"http://daumsearch.tistory.com\" target=\"_blank\" onclick=\"smartLog(this, \\'pg=1&amp;p=10&amp;dc=CCC&amp;r=1\\', event);\" class=\"link_info\">검색블로그</a><span class=\"txt_bar\">|</span>\\n<a href=\"https://cs.daum.net/faq/15/15649.html\" target=\"_blank\" onclick=\"smartLog(this, \\'pg=1&amp;p=15&amp;dc=CCC&amp;r=1\\', event);\" class=\"link_info\">검색원칙</a><span class=\"txt_bar\">|</span>\\n<a href=\"https://register.search.daum.net/\" target=\"_blank\" onclick=\"smartLog(this, \\'pg=1&amp;p=9&amp;dc=CCC&amp;r=1\\', event);\" class=\"link_info\">사이트 등록 신청</a><span class=\"txt_bar\">|</span>\\n<a href=\"https://mystore.kakao.com/\" target=\"_blank\" onclick=\"smartLog(this, \\'pg=1&amp;p=14&amp;dc=CCC&amp;r=1\\', event);\" class=\"link_info\">카카오맵 매장관리</a><span class=\"txt_bar\">|</span>\\n<a href=\"https://with.kakao.com/search\" target=\"_blank\" onclick=\"smartLog(this, \\'pg=1&amp;p=12&amp;dc=CCC&amp;r=1\\', event);\" class=\"link_info\">검색제휴</a><span class=\"txt_bar\">|</span>\\n<a href=\"https://business.kakao.com/info/keywordad\" target=\"_blank\" onclick=\"smartLog(this, \\'pg=1&amp;p=2&amp;dc=CCC&amp;r=1\\', event);\" class=\"link_info\">키워드광고</a><span class=\"txt_bar\">|</span>\\n<a href=\"http://local.biz.daum.net/\" target=\"_blank\" onclick=\"smartLog(this, \\'pg=1&amp;p=3&amp;dc=CCC&amp;r=1\\', event);\" class=\"link_info\">로컬광고</a><span class=\"txt_bar\">|</span>\\n<a href=\"https://business.kakao.com/info/crossmedia\" target=\"_blank\" onclick=\"smartLog(this, \\'pg=1&amp;p=8&amp;dc=CCC&amp;r=1\\', event);\" class=\"link_info\">크로스미디어</a><span class=\"txt_bar\">|</span>\\n<a href=\"http://cs.daum.net/faq/15.html\" target=\"_blank\" onclick=\"smartLog(this, \\'pg=1&amp;p=6&amp;dc=CCC&amp;r=1\\', event);\" class=\"link_info\">고객센터</a>\\n\\n<address class=\"copyright\">&nbsp;&nbsp;&nbsp;ⓒ <a href=\"http://kakaocorp.com\" target=\"_blank\" onclick=\"smartLog(this, \\'pg=1&amp;p=11&amp;dc=CCC&amp;r=1\\', event);\" class=\"link_daum\">Kakao Corp.</a></address>\\n</div>\\n\\n</div>\\n</footer>\\n</article><div id=\"ui-datepicker-div\" class=\"ui-datepicker ui-widget ui-widget-content ui-helper-clearfix ui-corner-all\"></div>\\n\\n\\n<script type=\"text/javascript\">\\nvar __MiniDaumObj = null;\\nvar minidaum_options = null;\\n(function() {\\nminidaum_options = {\\nbgType: \"\",\\nenableLogoutRetun: true,\\ndisableHotissue: true,\\ndisableLogo: true,\\ndisableTracker: true,\\nenableShield: false\\n};\\n})();\\n</script>\\n\\n\\n<script src=\"//go.daum.net/minidaum_pc.daum\" charset=\"utf-8\" type=\"text/javascript\" async=\"\" defer=\"\"></script>\\n\\n\\n<script type=\"text/javascript\">\\nSF.CommonModule && SF.CommonModule.init && SF.CommonModule.init();\\n</script>\\n\\n<script type=\"text/javascript\" src=\"//t1.daumcdn.net/tiara/js/v1/tiara.min.js\"></script>\\n<script type=\"text/javascript\">\\n(function() {\\nif (typeof TiaraTracker === \\'undefined\\') {\\nreturn;\\n}\\nvar svcdomain = window.viewio === \\'i\\' ? window.param_w + \\'.search.daum.net\\' : \\'nate.search.daum.net\\';\\nvar pageName = window.param_w === \\'tot\\' ? \\'통합검색\\' : window.param_w + \\'탭\\';\\nvar search = {\\nsearch_term: window.topQuery,\\nsearch_type:  window.param_da\\n};\\nTiaraTracker.getInstance()\\n.setSvcDomain(svcdomain)\\n.setPage(pageName)\\n.setSection(\\'검색결과\\')\\n.trackPage(\\'검색결과화면_조회\\')\\n.actionKind(\"Search\")\\n.search(search)\\n.track();\\n})();\\n</script>\\n<script type=\"text/javascript\">\\nwindow.roosevelt_params_queue = window.roosevelt_params_queue || [];\\nwindow.roosevelt_params_queue.push({\\nchannel_id: \"dk\", channel_label: \"search\", keyword: window.topQuery\\n});\\n</script>\\n<script type=\"text/javascript\" src=\"//t1.daumcdn.net/midas/rt/dk_se/roosevelt_dk_se.js\" async=\"\"></script>\\n<script>\\n(function(SF) {\\nif (SF.compLogger && SF.compLogger.sendAllFromPage) {\\nSF.compLogger.sendAllFromPage({\\nref: \\'search\\'\\n});\\n}\\n})(window.SF || {});\\n</script>\\n<!-- SA 삭제 -->\\n\\n\\n<!-- end SA 삭제 -->\\n\\n\\n\\n\\n\\n</body></html>'"
      ]
     },
     "execution_count": 21,
     "metadata": {},
     "output_type": "execute_result"
    }
   ],
   "source": [
    "browser.page_source # 원래가지고 있던 정보(html)"
   ]
  },
  {
   "cell_type": "markdown",
   "id": "cdbdab3a",
   "metadata": {},
   "source": [
    "### HTML\n",
    "- <태그명> 화면에 보임 </태그명>\n",
    "- 부모 태그의 정보를 주면 자식태그를 특정 지을 수 있음\n",
    "```\n",
    "<태그명 속성명=값 속성명=값> # 부모 태그\n",
    "    <태그명> # 자식태그\n",
    "        ㅇ \n",
    "    </태그명>\n",
    "</태그명>\n",
    "```\n",
    "```\n",
    "<span class=\"f_nb\">헤럴드경제</span>\n",
    "```\n",
    "- class 속성 <<<< id 속성\n"
   ]
  },
  {
   "cell_type": "code",
   "execution_count": 22,
   "id": "d239d6d8",
   "metadata": {},
   "outputs": [],
   "source": [
    "url = \"https://news.naver.com/main/read.naver?mode=LSD&mid=sec&sid1=101&oid=031&aid=0000637022\"\n",
    "browser.get(url)"
   ]
  },
  {
   "cell_type": "code",
   "execution_count": 23,
   "id": "a92cf436",
   "metadata": {},
   "outputs": [
    {
     "data": {
      "text/plain": [
       "3"
      ]
     },
     "execution_count": 23,
     "metadata": {},
     "output_type": "execute_result"
    }
   ],
   "source": [
    "html = browser.page_source\n",
    "soup = BeautifulSoup(html, \"html.parser\") # html 번역기\n",
    "\n",
    "# 태그 찾기\n",
    "# F12 -> inspect it\n",
    "len(soup.select(\"h3\")) # 태그 몇개?"
   ]
  },
  {
   "cell_type": "code",
   "execution_count": 24,
   "id": "e36b477e",
   "metadata": {},
   "outputs": [
    {
     "data": {
      "text/plain": [
       "<h3>아이뉴스24 주요뉴스<span>해당 언론사에서 선정하며 <em>언론사 페이지(아웃링크)</em>로 이동해 볼 수 있습니다.</span></h3>"
      ]
     },
     "execution_count": 24,
     "metadata": {},
     "output_type": "execute_result"
    }
   ],
   "source": [
    "soup.select(\"h3\")[2] # 리스트 형태"
   ]
  },
  {
   "cell_type": "code",
   "execution_count": 25,
   "id": "a7189763",
   "metadata": {},
   "outputs": [
    {
     "data": {
      "text/plain": [
       "[<h3 class=\"tts_head\" id=\"articleTitle\">승현준 삼성리서치 소장 \"개방성과 협업이 소프트웨어의 핵심\"</h3>]"
      ]
     },
     "execution_count": 25,
     "metadata": {},
     "output_type": "execute_result"
    }
   ],
   "source": [
    "soup.select(\"#articleTitle\") # #id속성값 : id가 값인 것을 찾아옴"
   ]
  },
  {
   "cell_type": "code",
   "execution_count": 29,
   "id": "aae85829",
   "metadata": {},
   "outputs": [
    {
     "data": {
      "text/plain": [
       "[<h3 class=\"tts_head\" id=\"articleTitle\">승현준 삼성리서치 소장 \"개방성과 협업이 소프트웨어의 핵심\"</h3>]"
      ]
     },
     "execution_count": 29,
     "metadata": {},
     "output_type": "execute_result"
    }
   ],
   "source": [
    "soup.select(\".tts_head\") # .class 속성값 : class가 값인 것을 찾아옴\n",
    "# list 형태"
   ]
  },
  {
   "cell_type": "code",
   "execution_count": 28,
   "id": "3baa7bb0",
   "metadata": {},
   "outputs": [
    {
     "data": {
      "text/plain": [
       "<h3 class=\"tts_head\" id=\"articleTitle\">승현준 삼성리서치 소장 \"개방성과 협업이 소프트웨어의 핵심\"</h3>"
      ]
     },
     "execution_count": 28,
     "metadata": {},
     "output_type": "execute_result"
    }
   ],
   "source": [
    "soup.select(\".tts_head\")[0] # list 형태가 아님"
   ]
  },
  {
   "cell_type": "markdown",
   "id": "26f03867",
   "metadata": {},
   "source": [
    "### tips\n",
    "- 기획이 필요\n",
    "- 페이지에서 설정가능한 부분이 있는지 사전 조사 필요"
   ]
  },
  {
   "cell_type": "code",
   "execution_count": 26,
   "id": "c8c447b5",
   "metadata": {},
   "outputs": [],
   "source": [
    "# 최근 1개월\n",
    "url = \"https://search.daum.net/search?w=news&DA=STC&enc=utf8&cluster=y&cluster_page=1&q=%EB%8D%B0%EC%9D%B4%ED%84%B0&period=m&sd=20211117171337&ed=20211217171337&p=1\"\n",
    "# &period=m&sd=20211117171337&ed=20211217171337&p=1 이 부분이 기간 설정 부분"
   ]
  },
  {
   "cell_type": "code",
   "execution_count": null,
   "id": "39199004",
   "metadata": {},
   "outputs": [],
   "source": []
  },
  {
   "cell_type": "code",
   "execution_count": null,
   "id": "68d99213",
   "metadata": {},
   "outputs": [],
   "source": []
  }
 ],
 "metadata": {
  "kernelspec": {
   "display_name": "Python 3",
   "language": "python",
   "name": "python3"
  },
  "language_info": {
   "codemirror_mode": {
    "name": "ipython",
    "version": 3
   },
   "file_extension": ".py",
   "mimetype": "text/x-python",
   "name": "python",
   "nbconvert_exporter": "python",
   "pygments_lexer": "ipython3",
   "version": "3.8.8"
  },
  "toc": {
   "base_numbering": 1,
   "nav_menu": {},
   "number_sections": true,
   "sideBar": true,
   "skip_h1_title": false,
   "title_cell": "Table of Contents",
   "title_sidebar": "Contents",
   "toc_cell": false,
   "toc_position": {
    "height": "calc(100% - 180px)",
    "left": "10px",
    "top": "150px",
    "width": "183.767px"
   },
   "toc_section_display": true,
   "toc_window_display": true
  }
 },
 "nbformat": 4,
 "nbformat_minor": 5
}
