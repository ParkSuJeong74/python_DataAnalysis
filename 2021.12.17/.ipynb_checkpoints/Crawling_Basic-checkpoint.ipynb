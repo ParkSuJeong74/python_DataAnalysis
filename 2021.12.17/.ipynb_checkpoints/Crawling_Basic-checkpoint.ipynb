{
 "cells": [
  {
   "cell_type": "markdown",
   "id": "1ae2b5ad",
   "metadata": {},
   "source": [
    "## 크롤링\n",
    "\n",
    "- 셀레니움 설치\n",
    "- 크롬 드라이버 설치"
   ]
  },
  {
   "cell_type": "code",
   "execution_count": 1,
   "id": "da203093",
   "metadata": {},
   "outputs": [
    {
     "name": "stdout",
     "output_type": "stream",
     "text": [
      "Requirement already satisfied: selenium in c:\\users\\dell\\anaconda3\\lib\\site-packages (4.1.0)\n",
      "Requirement already satisfied: trio~=0.17 in c:\\users\\dell\\anaconda3\\lib\\site-packages (from selenium) (0.19.0)\n",
      "Requirement already satisfied: urllib3[secure]~=1.26 in c:\\users\\dell\\anaconda3\\lib\\site-packages (from selenium) (1.26.7)\n",
      "Requirement already satisfied: trio-websocket~=0.9 in c:\\users\\dell\\anaconda3\\lib\\site-packages (from selenium) (0.9.2)\n",
      "Requirement already satisfied: sniffio in c:\\users\\dell\\anaconda3\\lib\\site-packages (from trio~=0.17->selenium) (1.2.0)\n",
      "Requirement already satisfied: outcome in c:\\users\\dell\\anaconda3\\lib\\site-packages (from trio~=0.17->selenium) (1.1.0)\n",
      "Requirement already satisfied: attrs>=19.2.0 in c:\\users\\dell\\anaconda3\\lib\\site-packages (from trio~=0.17->selenium) (21.2.0)\n",
      "Requirement already satisfied: cffi>=1.14 in c:\\users\\dell\\anaconda3\\lib\\site-packages (from trio~=0.17->selenium) (1.14.6)\n",
      "Requirement already satisfied: async-generator>=1.9 in c:\\users\\dell\\anaconda3\\lib\\site-packages (from trio~=0.17->selenium) (1.10)\n",
      "Requirement already satisfied: sortedcontainers in c:\\users\\dell\\anaconda3\\lib\\site-packages (from trio~=0.17->selenium) (2.4.0)\n",
      "Requirement already satisfied: idna in c:\\users\\dell\\anaconda3\\lib\\site-packages (from trio~=0.17->selenium) (3.2)\n",
      "Requirement already satisfied: pycparser in c:\\users\\dell\\anaconda3\\lib\\site-packages (from cffi>=1.14->trio~=0.17->selenium) (2.20)\n",
      "Requirement already satisfied: wsproto>=0.14 in c:\\users\\dell\\anaconda3\\lib\\site-packages (from trio-websocket~=0.9->selenium) (1.0.0)\n",
      "Requirement already satisfied: pyOpenSSL>=0.14 in c:\\users\\dell\\anaconda3\\lib\\site-packages (from urllib3[secure]~=1.26->selenium) (21.0.0)\n",
      "Requirement already satisfied: cryptography>=1.3.4 in c:\\users\\dell\\anaconda3\\lib\\site-packages (from urllib3[secure]~=1.26->selenium) (3.4.8)\n",
      "Requirement already satisfied: certifi in c:\\users\\dell\\anaconda3\\lib\\site-packages (from urllib3[secure]~=1.26->selenium) (2021.10.8)\n",
      "Requirement already satisfied: six>=1.5.2 in c:\\users\\dell\\anaconda3\\lib\\site-packages (from pyOpenSSL>=0.14->urllib3[secure]~=1.26->selenium) (1.16.0)\n",
      "Requirement already satisfied: h11<1,>=0.9.0 in c:\\users\\dell\\anaconda3\\lib\\site-packages (from wsproto>=0.14->trio-websocket~=0.9->selenium) (0.12.0)\n",
      "Requirement already satisfied: chromedriver-autoinstaller in c:\\users\\dell\\anaconda3\\lib\\site-packages (0.3.1)\n"
     ]
    }
   ],
   "source": [
    "# ! + command 명령어\n",
    "! pip install selenium\n",
    "! pip install chromedriver-autoinstaller"
   ]
  },
  {
   "cell_type": "markdown",
   "id": "d6d00c3f",
   "metadata": {},
   "source": [
    "### 프로세스\n",
    "1. 브라우저(크롬) 열기\n",
    "2. 웹페이지 접속(url)\n",
    "3. 화면에 보이는 정보 -> 다운\n",
    "4. 저장 -> DB or excel\n",
    "\n",
    "\n",
    "변수.명령어().명령어1() ...\n"
   ]
  },
  {
   "cell_type": "code",
   "execution_count": 2,
   "id": "60ed000c",
   "metadata": {},
   "outputs": [
    {
     "data": {
      "text/plain": [
       "'C:\\\\Users\\\\dell\\\\anaconda3\\\\lib\\\\site-packages\\\\chromedriver_autoinstaller\\\\96\\\\chromedriver.exe'"
      ]
     },
     "execution_count": 2,
     "metadata": {},
     "output_type": "execute_result"
    }
   ],
   "source": [
    "# import 라이브러리명\n",
    "# 라이브러리 중 명령어 몇개만 준비! : from\n",
    "\n",
    "import chromedriver_autoinstaller\n",
    "from selenium import webdriver # selenium의 webdriver import 함\n",
    "from bs4 import BeautifulSoup\n",
    "\n",
    "# chromedriver 버전 업데이트\n",
    "chromedriver_autoinstaller.install()"
   ]
  },
  {
   "cell_type": "code",
   "execution_count": 3,
   "id": "e9236749",
   "metadata": {},
   "outputs": [],
   "source": [
    "# 브라우저 열기\n",
    "browser = webdriver.Chrome() # 컴퓨터용 브라우저"
   ]
  },
  {
   "cell_type": "code",
   "execution_count": 4,
   "id": "298b69bc",
   "metadata": {},
   "outputs": [],
   "source": [
    "# 웹페이지 접속\n",
    "url = \"http://www.daum.net\"\n",
    "browser.get(url)\n",
    "\n",
    "# url : 다음 -> 명지대 -> 뉴스\n",
    "url = \"https://search.daum.net/search?w=news&nil_search=btn&DA=NTB&enc=utf8&cluster=y&cluster_page=1&q=%EB%AA%85%EC%A7%80%EB%8C%80\"\n",
    "q = \"%EB%AA%85%EC%A7%80%EB%8C%80\" # 원래 '명지대'\n",
    "# 주소 : https://search.daum.net/search\n",
    "# ? 파라미터 : w=news&nil_search=btn&DA=NTB&enc=utf8&cluster=y&cluster_page=1&q=\n",
    "# 속성명 = 값 & 속성명 = 값\n",
    "# q=값을 변경해주면 자동 검색 가능"
   ]
  },
  {
   "cell_type": "code",
   "execution_count": 5,
   "id": "1b98e23a",
   "metadata": {
    "scrolled": true
   },
   "outputs": [
    {
     "name": "stdout",
     "output_type": "stream",
     "text": [
      "https://search.daum.net/search?w=news&nil_search=btn&DA=NTB&enc=utf8&cluster=y&cluster_page=1&q=부동산\n",
      "크롤링 진행중\n",
      "https://search.daum.net/search?w=news&nil_search=btn&DA=NTB&enc=utf8&cluster=y&cluster_page=1&q=명지대\n",
      "크롤링 진행중\n",
      "https://search.daum.net/search?w=news&nil_search=btn&DA=NTB&enc=utf8&cluster=y&cluster_page=1&q=파이썬\n",
      "크롤링 진행중\n",
      "https://search.daum.net/search?w=news&nil_search=btn&DA=NTB&enc=utf8&cluster=y&cluster_page=1&q=데이터\n",
      "크롤링 진행중\n"
     ]
    }
   ],
   "source": [
    "search_list = [\"부동산\", \"명지대\", \"파이썬\", \"데이터\"]\n",
    "for search in search_list:\n",
    "    url = f\"https://search.daum.net/search?w=news&nil_search=btn&DA=NTB&enc=utf8&cluster=y&cluster_page=1&q={search}\"\n",
    "    print(url)\n",
    "    browser.get(url)\n",
    "    print(\"크롤링 진행중\")"
   ]
  },
  {
   "cell_type": "code",
   "execution_count": 6,
   "id": "602bc9d7",
   "metadata": {},
   "outputs": [],
   "source": [
    "html = browser.page_source # 원래가지고 있던 정보(html)"
   ]
  },
  {
   "cell_type": "markdown",
   "id": "4c967511",
   "metadata": {},
   "source": [
    "### HTML\n",
    "- <태그명> 화면에 보임 </태그명>\n",
    "- 부모 태그의 정보를 주면 자식태그를 특정 지을 수 있음\n",
    "```\n",
    "<태그명 속성명=값 속성명=값> # 부모 태그\n",
    "    <태그명> # 자식태그\n",
    "        ㅇ \n",
    "    </태그명>\n",
    "</태그명>\n",
    "```\n",
    "```\n",
    "<span class=\"f_nb\">헤럴드경제</span>\n",
    "```\n",
    "- class 속성 <<<< id 속성\n"
   ]
  },
  {
   "cell_type": "code",
   "execution_count": 7,
   "id": "e4a4b00d",
   "metadata": {},
   "outputs": [],
   "source": [
    "url = \"https://news.naver.com/main/read.naver?mode=LSD&mid=sec&sid1=101&oid=031&aid=0000637022\"\n",
    "browser.get(url)"
   ]
  },
  {
   "cell_type": "code",
   "execution_count": 8,
   "id": "08d3e29e",
   "metadata": {},
   "outputs": [
    {
     "data": {
      "text/plain": [
       "3"
      ]
     },
     "execution_count": 8,
     "metadata": {},
     "output_type": "execute_result"
    }
   ],
   "source": [
    "html = browser.page_source\n",
    "soup = BeautifulSoup(html, \"html.parser\") # html 번역기\n",
    "\n",
    "# 태그 찾기\n",
    "# F12 -> inspect it\n",
    "len(soup.select(\"h3\")) # 태그 몇개?"
   ]
  },
  {
   "cell_type": "code",
   "execution_count": 9,
   "id": "7822eed8",
   "metadata": {},
   "outputs": [
    {
     "data": {
      "text/plain": [
       "<h3>아이뉴스24 주요뉴스<span>해당 언론사에서 선정하며 <em>언론사 페이지(아웃링크)</em>로 이동해 볼 수 있습니다.</span></h3>"
      ]
     },
     "execution_count": 9,
     "metadata": {},
     "output_type": "execute_result"
    }
   ],
   "source": [
    "soup.select(\"h3\")[2] # 리스트 형태"
   ]
  },
  {
   "cell_type": "code",
   "execution_count": 10,
   "id": "fb7ebf31",
   "metadata": {},
   "outputs": [
    {
     "data": {
      "text/plain": [
       "[<h3 class=\"tts_head\" id=\"articleTitle\">승현준 삼성리서치 소장 \"개방성과 협업이 소프트웨어의 핵심\"</h3>]"
      ]
     },
     "execution_count": 10,
     "metadata": {},
     "output_type": "execute_result"
    }
   ],
   "source": [
    "soup.select(\"#articleTitle\") # #id속성값 : id가 값인 것을 찾아옴"
   ]
  },
  {
   "cell_type": "code",
   "execution_count": 11,
   "id": "084eaba4",
   "metadata": {},
   "outputs": [
    {
     "data": {
      "text/plain": [
       "[<h3 class=\"tts_head\" id=\"articleTitle\">승현준 삼성리서치 소장 \"개방성과 협업이 소프트웨어의 핵심\"</h3>]"
      ]
     },
     "execution_count": 11,
     "metadata": {},
     "output_type": "execute_result"
    }
   ],
   "source": [
    "soup.select(\".tts_head\") # .class 속성값 : class가 값인 것을 찾아옴\n",
    "# list 형태"
   ]
  },
  {
   "cell_type": "code",
   "execution_count": 12,
   "id": "018364b3",
   "metadata": {},
   "outputs": [
    {
     "data": {
      "text/plain": [
       "<h3 class=\"tts_head\" id=\"articleTitle\">승현준 삼성리서치 소장 \"개방성과 협업이 소프트웨어의 핵심\"</h3>"
      ]
     },
     "execution_count": 12,
     "metadata": {},
     "output_type": "execute_result"
    }
   ],
   "source": [
    "soup.select(\".tts_head\")[0] # list 형태가 아님"
   ]
  },
  {
   "cell_type": "markdown",
   "id": "8ef35b6c",
   "metadata": {},
   "source": [
    "### tips\n",
    "- 기획이 필요\n",
    "- 페이지에서 설정가능한 부분이 있는지 사전 조사 필요"
   ]
  },
  {
   "cell_type": "code",
   "execution_count": 13,
   "id": "0defa668",
   "metadata": {},
   "outputs": [],
   "source": [
    "# 최근 1개월\n",
    "url = \"https://search.daum.net/search?w=news&DA=STC&enc=utf8&cluster=y&cluster_page=1&q=%EB%8D%B0%EC%9D%B4%ED%84%B0&period=m&sd=20211117171337&ed=20211217171337&p=1\"\n",
    "# &period=m&sd=20211117171337&ed=20211217171337&p=1 이 부분이 기간 설정 부분"
   ]
  }
 ],
 "metadata": {
  "kernelspec": {
   "display_name": "Python 3 (ipykernel)",
   "language": "python",
   "name": "python3"
  },
  "language_info": {
   "codemirror_mode": {
    "name": "ipython",
    "version": 3
   },
   "file_extension": ".py",
   "mimetype": "text/x-python",
   "name": "python",
   "nbconvert_exporter": "python",
   "pygments_lexer": "ipython3",
   "version": "3.8.12"
  },
  "toc": {
   "base_numbering": 1,
   "nav_menu": {},
   "number_sections": true,
   "sideBar": true,
   "skip_h1_title": false,
   "title_cell": "Table of Contents",
   "title_sidebar": "Contents",
   "toc_cell": false,
   "toc_position": {},
   "toc_section_display": true,
   "toc_window_display": true
  }
 },
 "nbformat": 4,
 "nbformat_minor": 5
}
