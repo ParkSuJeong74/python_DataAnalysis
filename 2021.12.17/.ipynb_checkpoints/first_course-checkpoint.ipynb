{
 "cells": [
  {
   "cell_type": "markdown",
   "id": "d510c7bb",
   "metadata": {},
   "source": [
    "## Jupyter Notebook\n",
    "- cell\n",
    "- Shift + Enter \"Run\"\n",
    "- Edit mode : 초록색 / Command mode : 파란색(ESC)\n",
    "- 셀 추가 : a(above 앞에 추가) / b(below 뒤에 추가)\n",
    "- 셀 삭제 : dd(delete)"
   ]
  },
  {
   "cell_type": "markdown",
   "id": "16ba1819",
   "metadata": {},
   "source": [
    "## Python\n",
    "- 변수 = 값\n",
    "- 컴퓨터가 모르는 값 : 검은색, 컴퓨터가 알고 있는 것 - 명령어, 값 : 초록색\n",
    "- 작업의 순서 : 알고리즘\n",
    "- 주석: # 약속\n",
    "- ctrl + / : 줄 주석"
   ]
  },
  {
   "cell_type": "code",
   "execution_count": 3,
   "id": "f5b6cd7a",
   "metadata": {},
   "outputs": [
    {
     "name": "stdout",
     "output_type": "stream",
     "text": [
      "99\n"
     ]
    }
   ],
   "source": [
    "a = 5\n",
    "a = 99\n",
    "print(a)"
   ]
  },
  {
   "cell_type": "code",
   "execution_count": 4,
   "id": "25405611",
   "metadata": {},
   "outputs": [
    {
     "name": "stdout",
     "output_type": "stream",
     "text": [
      "5\n"
     ]
    }
   ],
   "source": [
    "a = 5\n",
    "# a = 99\n",
    "print(a)"
   ]
  },
  {
   "cell_type": "code",
   "execution_count": 6,
   "id": "4da61e2f",
   "metadata": {},
   "outputs": [
    {
     "name": "stdout",
     "output_type": "stream",
     "text": [
      "8\n",
      "2\n",
      "15\n",
      "1.6666666666666667\n",
      "8 2\n"
     ]
    }
   ],
   "source": [
    "c = 5\n",
    "b = 3\n",
    "\n",
    "print(c + b)\n",
    "print(c - b)\n",
    "print(c * b)\n",
    "print(c / b)\n",
    "\n",
    "print(c + b, c - b)"
   ]
  },
  {
   "cell_type": "code",
   "execution_count": 7,
   "id": "d0522ab5",
   "metadata": {},
   "outputs": [
    {
     "name": "stdout",
     "output_type": "stream",
     "text": [
      "박수정\n"
     ]
    }
   ],
   "source": [
    "name = \"박수정\" # string\n",
    "print(name)"
   ]
  },
  {
   "cell_type": "code",
   "execution_count": 10,
   "id": "94b0a0e0",
   "metadata": {},
   "outputs": [
    {
     "name": "stdout",
     "output_type": "stream",
     "text": [
      "산토끼\n",
      "토끼산\n"
     ]
    }
   ],
   "source": [
    "c1 = \"산\"\n",
    "c2 = \"토끼\"\n",
    "print(c1+c2)\n",
    "print(c2+c1)"
   ]
  },
  {
   "cell_type": "code",
   "execution_count": 12,
   "id": "00181342",
   "metadata": {},
   "outputs": [
    {
     "name": "stdout",
     "output_type": "stream",
     "text": [
      "--------------------------------------------------\n"
     ]
    }
   ],
   "source": [
    "print(\"-\" * 50) # 곱하기 가능"
   ]
  },
  {
   "cell_type": "markdown",
   "id": "3c644526",
   "metadata": {},
   "source": [
    "### list\n",
    "- [] 1. list 2. 그룹[ 선택 ]\n",
    "- python : 인덱스 번호는 0 부터 시작함\n",
    "- R : 1부터 시작함\n",
    "- 0은 왼쪽에서\n",
    "- 오른쪽 끝에서 첫번째 : -1\n",
    "- 범위 : [시작:끝]"
   ]
  },
  {
   "cell_type": "code",
   "execution_count": 20,
   "id": "717e1ea2",
   "metadata": {},
   "outputs": [
    {
     "name": "stdout",
     "output_type": "stream",
     "text": [
      "['IU', '이소라', '씨엘', '먼데이키즈', '김광석']\n"
     ]
    },
    {
     "data": {
      "text/plain": [
       "'김광석'"
      ]
     },
     "execution_count": 20,
     "metadata": {},
     "output_type": "execute_result"
    }
   ],
   "source": [
    "# list\n",
    "singer_list = [\"IU\", \"이소라\", \"씨엘\",\"먼데이키즈\", \"김광석\"]\n",
    "print(singer_list)\n",
    "singer = singer_list[-1]\n",
    "singer"
   ]
  },
  {
   "cell_type": "code",
   "execution_count": 21,
   "id": "ce86d12a",
   "metadata": {},
   "outputs": [
    {
     "name": "stdout",
     "output_type": "stream",
     "text": [
      "먼데이키즈\n",
      "먼데이키즈\n"
     ]
    }
   ],
   "source": [
    "# quiz\n",
    "# 먼데이키즈 출력\n",
    "print(singer_list[3])\n",
    "print(singer_list[-2])"
   ]
  },
  {
   "cell_type": "code",
   "execution_count": 36,
   "id": "979e2f7d",
   "metadata": {},
   "outputs": [
    {
     "name": "stdout",
     "output_type": "stream",
     "text": [
      "['이소라', '씨엘', '먼데이키즈']\n",
      "['이소라', '씨엘', '먼데이키즈']\n",
      "['이소라', '씨엘', '먼데이키즈']\n",
      "['IU', '이소라', '씨엘', '먼데이키즈']\n"
     ]
    }
   ],
   "source": [
    "# 여러개 선택 : 범위 선택\n",
    "# 슬라이싱\n",
    "print(singer_list[1:4]) # 끝은 포함하지 않음\n",
    "print(singer_list[-4:-1])\n",
    "print(singer_list[1:-1]) # 시작과 끝을 빼고 다\n",
    "print(singer_list[:-1]) # 0과 마지막은 생략 가능"
   ]
  },
  {
   "cell_type": "code",
   "execution_count": 35,
   "id": "090a7fd5",
   "metadata": {},
   "outputs": [
    {
     "data": {
      "text/plain": [
       "'1234'"
      ]
     },
     "execution_count": 35,
     "metadata": {},
     "output_type": "execute_result"
    }
   ],
   "source": [
    "phone = \"010-1234-5678\"\n",
    "# 가운데 자리만 출력\n",
    "# 가정 : 가운데 자리가 자리수가 변경될 수 있다면, 끝자리는 4자리로 고정되어 있다면\n",
    "phone[4:-5] # 도메인 지식 중요!!!"
   ]
  },
  {
   "cell_type": "markdown",
   "id": "60493bb4",
   "metadata": {},
   "source": [
    "### 정리\n",
    "- 변수 = 값(숫자, \"문자열\", 리스트[])\n",
    "- 슬라이싱[:]\n",
    "- 반복문"
   ]
  },
  {
   "cell_type": "code",
   "execution_count": null,
   "id": "c8626d5e",
   "metadata": {},
   "outputs": [],
   "source": []
  },
  {
   "cell_type": "code",
   "execution_count": null,
   "id": "40de12ad",
   "metadata": {},
   "outputs": [],
   "source": []
  },
  {
   "cell_type": "code",
   "execution_count": null,
   "id": "c9f10b4f",
   "metadata": {},
   "outputs": [],
   "source": []
  }
 ],
 "metadata": {
  "kernelspec": {
   "display_name": "Python 3",
   "language": "python",
   "name": "python3"
  },
  "language_info": {
   "codemirror_mode": {
    "name": "ipython",
    "version": 3
   },
   "file_extension": ".py",
   "mimetype": "text/x-python",
   "name": "python",
   "nbconvert_exporter": "python",
   "pygments_lexer": "ipython3",
   "version": "3.8.8"
  },
  "toc": {
   "base_numbering": 1,
   "nav_menu": {},
   "number_sections": true,
   "sideBar": true,
   "skip_h1_title": false,
   "title_cell": "Table of Contents",
   "title_sidebar": "Contents",
   "toc_cell": false,
   "toc_position": {
    "height": "calc(100% - 180px)",
    "left": "10px",
    "top": "150px",
    "width": "183.767px"
   },
   "toc_section_display": true,
   "toc_window_display": true
  }
 },
 "nbformat": 4,
 "nbformat_minor": 5
}
