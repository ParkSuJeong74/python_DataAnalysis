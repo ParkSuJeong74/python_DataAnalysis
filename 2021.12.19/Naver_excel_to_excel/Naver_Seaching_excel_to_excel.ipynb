{
 "cells": [
  {
   "cell_type": "markdown",
   "id": "5965cf91",
   "metadata": {},
   "source": [
    "## 복습\n",
    "- 네이버 연관 검색어\n",
    "- 엑셀에서 검색어 들고와서 연관검색어 수집\n",
    "- 수집한 연관검색어의 연관검색어 수집\n",
    "- 자동화\n",
    "\n",
    "### Basic + Read_excel"
   ]
  },
  {
   "cell_type": "code",
   "execution_count": 1,
   "id": "e6f2d787",
   "metadata": {},
   "outputs": [],
   "source": [
    "# 라이브러리\n",
    "import chromedriver_autoinstaller\n",
    "from selenium import webdriver\n",
    "from bs4 import BeautifulSoup\n",
    "import time\n",
    "from datetime import datetime\n",
    "import pandas as pd"
   ]
  },
  {
   "cell_type": "code",
   "execution_count": 2,
   "id": "2bfeb765",
   "metadata": {},
   "outputs": [],
   "source": [
    "# chromedriver 버전 업데이트\n",
    "chromedriver_autoinstaller.install()\n",
    "# 브라우저 열기\n",
    "browser = webdriver.Chrome()"
   ]
  },
  {
   "cell_type": "code",
   "execution_count": 3,
   "id": "729a49ab",
   "metadata": {},
   "outputs": [],
   "source": [
    "url=\"http://www.naver.com\"\n",
    "browser.get(url)"
   ]
  },
  {
   "cell_type": "code",
   "execution_count": 4,
   "id": "15c53697",
   "metadata": {},
   "outputs": [
    {
     "data": {
      "text/plain": [
       "0    화장품\n",
       "Name: 검색어, dtype: object"
      ]
     },
     "execution_count": 4,
     "metadata": {},
     "output_type": "execute_result"
    }
   ],
   "source": [
    "# 검색어 가져오기\n",
    "raw=pd.read_excel(\"./searching_word.xlsx\")\n",
    "word_list=raw[\"검색어\"]\n",
    "word_list"
   ]
  },
  {
   "cell_type": "markdown",
   "id": "889c7e34",
   "metadata": {},
   "source": [
    "### 함수"
   ]
  },
  {
   "cell_type": "code",
   "execution_count": 5,
   "id": "6daeb870",
   "metadata": {},
   "outputs": [],
   "source": [
    "# def 함수명(변수, 변수 ...):\n",
    "#    실행 코드\n",
    "#    return 결과물\n",
    "def save_and_return_data(result, number):\n",
    "    df=pd.DataFrame(result)\n",
    "    df.columns=[\"검색어\", \"연관검색어\", \"검색일자\"]\n",
    "    df.to_excel(f\"./Result_Cosmetics_{number+1}.xlsx\", index=False)\n",
    "    return df"
   ]
  },
  {
   "cell_type": "markdown",
   "id": "9f995104",
   "metadata": {},
   "source": [
    "### 자동화"
   ]
  },
  {
   "cell_type": "code",
   "execution_count": 6,
   "id": "112c474d",
   "metadata": {},
   "outputs": [
    {
     "name": "stderr",
     "output_type": "stream",
     "text": [
      "C:\\Users\\dell\\AppData\\Local\\Temp/ipykernel_14800/3042065384.py:6: DeprecationWarning: find_elements_by_* commands are deprecated. Please use find_elements() instead\n",
      "  searching = browser.find_elements_by_css_selector(\"#query\")[0]\n"
     ]
    }
   ],
   "source": [
    "# 연관 검색어 찾기\n",
    "result=[]\n",
    "for number in range(3): # 3번 반복\n",
    "    \n",
    "    for word in word_list:\n",
    "        searching = browser.find_elements_by_css_selector(\"#query\")[0]\n",
    "        searching.clear()\n",
    "        searching.send_keys(word)\n",
    "\n",
    "        time.sleep(1)\n",
    "\n",
    "        now=datetime.now().isoformat()[:10]\n",
    "\n",
    "        # 연관 검색어 추출\n",
    "        html=browser.page_source\n",
    "        soup=BeautifulSoup(html, \"html.parser\")\n",
    "\n",
    "        # soup.select(\"span.fix\")[1:] # 슬라이싱 이용해서 처음꺼 제외\n",
    "        for tag in soup.select(\"span.fix\"):\n",
    "            related_word=tag.text\n",
    "            if related_word!=\"@txt@\" and related_word!=word:\n",
    "                # print(word, related_word, now)\n",
    "                result.append([word, related_word, now])\n",
    "                \n",
    "    save_and_return_data(result, number)\n",
    "    raw=pd.read_excel(f\"./Result_Cosmetics_{number+1}.xlsx\")\n",
    "    word_list=raw[\"연관검색어\"]"
   ]
  },
  {
   "cell_type": "code",
   "execution_count": 7,
   "id": "45ab896b",
   "metadata": {},
   "outputs": [
    {
     "data": {
      "text/plain": [
       "109"
      ]
     },
     "execution_count": 7,
     "metadata": {},
     "output_type": "execute_result"
    }
   ],
   "source": [
    "len(raw)"
   ]
  }
 ],
 "metadata": {
  "kernelspec": {
   "display_name": "Python 3 (ipykernel)",
   "language": "python",
   "name": "python3"
  },
  "language_info": {
   "codemirror_mode": {
    "name": "ipython",
    "version": 3
   },
   "file_extension": ".py",
   "mimetype": "text/x-python",
   "name": "python",
   "nbconvert_exporter": "python",
   "pygments_lexer": "ipython3",
   "version": "3.8.12"
  },
  "toc": {
   "base_numbering": 1,
   "nav_menu": {},
   "number_sections": true,
   "sideBar": true,
   "skip_h1_title": false,
   "title_cell": "Table of Contents",
   "title_sidebar": "Contents",
   "toc_cell": false,
   "toc_position": {},
   "toc_section_display": true,
   "toc_window_display": true
  }
 },
 "nbformat": 4,
 "nbformat_minor": 5
}
