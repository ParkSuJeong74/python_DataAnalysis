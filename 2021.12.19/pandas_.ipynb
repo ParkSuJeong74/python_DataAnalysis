{
 "cells": [
  {
   "cell_type": "markdown",
   "id": "5965cf91",
   "metadata": {},
   "source": [
    "## 복습"
   ]
  },
  {
   "cell_type": "code",
   "execution_count": 1,
   "id": "e6f2d787",
   "metadata": {},
   "outputs": [],
   "source": [
    "import chromedriver_autoinstaller\n",
    "from selenium import webdriver\n",
    "from bs4 import BeautifulSoup\n",
    "\n",
    "# chromedriver 버전 업데이트\n",
    "chromedriver_autoinstaller.install()\n",
    "# 브라우저 열기\n",
    "browser = webdriver.Chrome()"
   ]
  },
  {
   "cell_type": "code",
   "execution_count": 3,
   "id": "729a49ab",
   "metadata": {},
   "outputs": [],
   "source": [
    "url=\"http://www.naver.com\"\n",
    "browser.get(url)"
   ]
  },
  {
   "cell_type": "code",
   "execution_count": 13,
   "id": "112c474d",
   "metadata": {},
   "outputs": [
    {
     "name": "stderr",
     "output_type": "stream",
     "text": [
      "C:\\Users\\dell\\AppData\\Local\\Temp/ipykernel_1748/2779615669.py:6: DeprecationWarning: find_elements_by_* commands are deprecated. Please use find_elements() instead\n",
      "  searching = browser.find_elements_by_css_selector(\"#query\")[0]\n"
     ]
    },
    {
     "name": "stdout",
     "output_type": "stream",
     "text": [
      "파이썬 자격증\n",
      "파이썬 독학\n",
      "파이썬 리스트\n",
      "파이썬 설치\n",
      "파이썬 함수\n",
      "파이썬 책\n",
      "파이썬 def\n",
      "파이썬 딕셔너리\n",
      "파이썬 기초\n"
     ]
    }
   ],
   "source": [
    "import time\n",
    "\n",
    "# 검색하기\n",
    "word=\"파이썬\"\n",
    "\n",
    "searching = browser.find_elements_by_css_selector(\"#query\")[0]\n",
    "searching.clear()\n",
    "searching.send_keys(word)\n",
    "\n",
    "time.sleep(1)\n",
    "\n",
    "# 연관 검색어 추출\n",
    "html=browser.page_source\n",
    "soup=BeautifulSoup(html, \"html.parser\")\n",
    "\n",
    "# soup.select(\"span.fix\")[1:] # 슬라이싱 이용해서 처음꺼 제외\n",
    "for tag in soup.select(\"span.fix\"):\n",
    "    related_word=tag.text\n",
    "    if related_word!=\"@txt@\" and related_word!=word:\n",
    "        print(related_word)"
   ]
  }
 ],
 "metadata": {
  "kernelspec": {
   "display_name": "Python 3 (ipykernel)",
   "language": "python",
   "name": "python3"
  },
  "language_info": {
   "codemirror_mode": {
    "name": "ipython",
    "version": 3
   },
   "file_extension": ".py",
   "mimetype": "text/x-python",
   "name": "python",
   "nbconvert_exporter": "python",
   "pygments_lexer": "ipython3",
   "version": "3.8.12"
  }
 },
 "nbformat": 4,
 "nbformat_minor": 5
}
