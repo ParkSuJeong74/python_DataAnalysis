{
 "cells": [
  {
   "cell_type": "markdown",
   "id": "99b6bdf5",
   "metadata": {},
   "source": [
    "## Pandas"
   ]
  },
  {
   "cell_type": "code",
   "execution_count": 1,
   "id": "7392b627",
   "metadata": {},
   "outputs": [],
   "source": [
    "import pandas as pd"
   ]
  },
  {
   "cell_type": "code",
   "execution_count": 2,
   "id": "75c3794d",
   "metadata": {},
   "outputs": [
    {
     "data": {
      "text/html": [
       "<div>\n",
       "<style scoped>\n",
       "    .dataframe tbody tr th:only-of-type {\n",
       "        vertical-align: middle;\n",
       "    }\n",
       "\n",
       "    .dataframe tbody tr th {\n",
       "        vertical-align: top;\n",
       "    }\n",
       "\n",
       "    .dataframe thead th {\n",
       "        text-align: right;\n",
       "    }\n",
       "</style>\n",
       "<table border=\"1\" class=\"dataframe\">\n",
       "  <thead>\n",
       "    <tr style=\"text-align: right;\">\n",
       "      <th></th>\n",
       "      <th>StateCode</th>\n",
       "      <th>Sex</th>\n",
       "      <th>YearOfBirth</th>\n",
       "      <th>Name</th>\n",
       "      <th>Number</th>\n",
       "    </tr>\n",
       "  </thead>\n",
       "  <tbody>\n",
       "    <tr>\n",
       "      <th>0</th>\n",
       "      <td>AK</td>\n",
       "      <td>F</td>\n",
       "      <td>1910</td>\n",
       "      <td>Mary</td>\n",
       "      <td>14</td>\n",
       "    </tr>\n",
       "    <tr>\n",
       "      <th>1</th>\n",
       "      <td>AK</td>\n",
       "      <td>F</td>\n",
       "      <td>1910</td>\n",
       "      <td>Annie</td>\n",
       "      <td>12</td>\n",
       "    </tr>\n",
       "    <tr>\n",
       "      <th>2</th>\n",
       "      <td>AK</td>\n",
       "      <td>F</td>\n",
       "      <td>1910</td>\n",
       "      <td>Anna</td>\n",
       "      <td>10</td>\n",
       "    </tr>\n",
       "    <tr>\n",
       "      <th>3</th>\n",
       "      <td>AK</td>\n",
       "      <td>F</td>\n",
       "      <td>1910</td>\n",
       "      <td>Margaret</td>\n",
       "      <td>8</td>\n",
       "    </tr>\n",
       "    <tr>\n",
       "      <th>4</th>\n",
       "      <td>AK</td>\n",
       "      <td>F</td>\n",
       "      <td>1910</td>\n",
       "      <td>Helen</td>\n",
       "      <td>7</td>\n",
       "    </tr>\n",
       "  </tbody>\n",
       "</table>\n",
       "</div>"
      ],
      "text/plain": [
       "  StateCode Sex  YearOfBirth      Name  Number\n",
       "0        AK   F         1910      Mary      14\n",
       "1        AK   F         1910     Annie      12\n",
       "2        AK   F         1910      Anna      10\n",
       "3        AK   F         1910  Margaret       8\n",
       "4        AK   F         1910     Helen       7"
      ]
     },
     "execution_count": 2,
     "metadata": {},
     "output_type": "execute_result"
    }
   ],
   "source": [
    "raw=pd.read_excel(\"./data/name_sample.xlsx\")\n",
    "raw.head()"
   ]
  },
  {
   "cell_type": "code",
   "execution_count": 3,
   "id": "a4f8ea0c",
   "metadata": {},
   "outputs": [
    {
     "data": {
      "text/html": [
       "<div>\n",
       "<style scoped>\n",
       "    .dataframe tbody tr th:only-of-type {\n",
       "        vertical-align: middle;\n",
       "    }\n",
       "\n",
       "    .dataframe tbody tr th {\n",
       "        vertical-align: top;\n",
       "    }\n",
       "\n",
       "    .dataframe thead th {\n",
       "        text-align: right;\n",
       "    }\n",
       "</style>\n",
       "<table border=\"1\" class=\"dataframe\">\n",
       "  <thead>\n",
       "    <tr style=\"text-align: right;\">\n",
       "      <th></th>\n",
       "      <th>StateCode</th>\n",
       "      <th>Sex</th>\n",
       "      <th>YearOfBirth</th>\n",
       "      <th>Name</th>\n",
       "      <th>Number</th>\n",
       "    </tr>\n",
       "  </thead>\n",
       "  <tbody>\n",
       "    <tr>\n",
       "      <th>46</th>\n",
       "      <td>AK</td>\n",
       "      <td>F</td>\n",
       "      <td>1914</td>\n",
       "      <td>Julia</td>\n",
       "      <td>5</td>\n",
       "    </tr>\n",
       "    <tr>\n",
       "      <th>47</th>\n",
       "      <td>AK</td>\n",
       "      <td>F</td>\n",
       "      <td>1914</td>\n",
       "      <td>Lillian</td>\n",
       "      <td>5</td>\n",
       "    </tr>\n",
       "    <tr>\n",
       "      <th>48</th>\n",
       "      <td>AK</td>\n",
       "      <td>F</td>\n",
       "      <td>1914</td>\n",
       "      <td>Mildred</td>\n",
       "      <td>5</td>\n",
       "    </tr>\n",
       "    <tr>\n",
       "      <th>49</th>\n",
       "      <td>AK</td>\n",
       "      <td>F</td>\n",
       "      <td>1914</td>\n",
       "      <td>Pauline</td>\n",
       "      <td>5</td>\n",
       "    </tr>\n",
       "    <tr>\n",
       "      <th>50</th>\n",
       "      <td>AK</td>\n",
       "      <td>F</td>\n",
       "      <td>1915</td>\n",
       "      <td>Mary</td>\n",
       "      <td>23</td>\n",
       "    </tr>\n",
       "  </tbody>\n",
       "</table>\n",
       "</div>"
      ],
      "text/plain": [
       "   StateCode Sex  YearOfBirth     Name  Number\n",
       "46        AK   F         1914    Julia       5\n",
       "47        AK   F         1914  Lillian       5\n",
       "48        AK   F         1914  Mildred       5\n",
       "49        AK   F         1914  Pauline       5\n",
       "50        AK   F         1915     Mary      23"
      ]
     },
     "execution_count": 3,
     "metadata": {},
     "output_type": "execute_result"
    }
   ],
   "source": [
    "raw.tail() # DataFrame 형태"
   ]
  },
  {
   "cell_type": "code",
   "execution_count": 4,
   "id": "8e7fed9a",
   "metadata": {},
   "outputs": [
    {
     "data": {
      "text/html": [
       "<div>\n",
       "<style scoped>\n",
       "    .dataframe tbody tr th:only-of-type {\n",
       "        vertical-align: middle;\n",
       "    }\n",
       "\n",
       "    .dataframe tbody tr th {\n",
       "        vertical-align: top;\n",
       "    }\n",
       "\n",
       "    .dataframe thead th {\n",
       "        text-align: right;\n",
       "    }\n",
       "</style>\n",
       "<table border=\"1\" class=\"dataframe\">\n",
       "  <thead>\n",
       "    <tr style=\"text-align: right;\">\n",
       "      <th></th>\n",
       "      <th>StateCode</th>\n",
       "      <th>Sex</th>\n",
       "      <th>YearOfBirth</th>\n",
       "      <th>Name</th>\n",
       "      <th>Number</th>\n",
       "    </tr>\n",
       "  </thead>\n",
       "  <tbody>\n",
       "    <tr>\n",
       "      <th>0</th>\n",
       "      <td>AK</td>\n",
       "      <td>F</td>\n",
       "      <td>1910</td>\n",
       "      <td>Mary</td>\n",
       "      <td>14</td>\n",
       "    </tr>\n",
       "    <tr>\n",
       "      <th>1</th>\n",
       "      <td>AK</td>\n",
       "      <td>F</td>\n",
       "      <td>1910</td>\n",
       "      <td>Annie</td>\n",
       "      <td>12</td>\n",
       "    </tr>\n",
       "    <tr>\n",
       "      <th>2</th>\n",
       "      <td>AK</td>\n",
       "      <td>F</td>\n",
       "      <td>1910</td>\n",
       "      <td>Anna</td>\n",
       "      <td>10</td>\n",
       "    </tr>\n",
       "  </tbody>\n",
       "</table>\n",
       "</div>"
      ],
      "text/plain": [
       "  StateCode Sex  YearOfBirth   Name  Number\n",
       "0        AK   F         1910   Mary      14\n",
       "1        AK   F         1910  Annie      12\n",
       "2        AK   F         1910   Anna      10"
      ]
     },
     "execution_count": 4,
     "metadata": {},
     "output_type": "execute_result"
    }
   ],
   "source": [
    "raw.head(3) # shift+tab해서 속성 뭐 쓸 수 있는지 확인"
   ]
  },
  {
   "cell_type": "markdown",
   "id": "3eb5758d",
   "metadata": {},
   "source": [
    "### info\n",
    "- index : 51개\n",
    "- columns : 총 몇개\n",
    "- null 이 아닌 것 갯수\n",
    "- object : 명목형(문자)\n",
    "- int : 숫자형\n",
    "- float : 실수형\n",
    "- category : 카테고리형(도메인 정해져있음)"
   ]
  },
  {
   "cell_type": "code",
   "execution_count": 5,
   "id": "05d6c96d",
   "metadata": {},
   "outputs": [
    {
     "name": "stdout",
     "output_type": "stream",
     "text": [
      "<class 'pandas.core.frame.DataFrame'>\n",
      "RangeIndex: 51 entries, 0 to 50\n",
      "Data columns (total 5 columns):\n",
      " #   Column       Non-Null Count  Dtype \n",
      "---  ------       --------------  ----- \n",
      " 0   StateCode    51 non-null     object\n",
      " 1   Sex          51 non-null     object\n",
      " 2   YearOfBirth  51 non-null     int64 \n",
      " 3   Name         51 non-null     object\n",
      " 4   Number       51 non-null     int64 \n",
      "dtypes: int64(2), object(3)\n",
      "memory usage: 2.1+ KB\n"
     ]
    }
   ],
   "source": [
    "raw.info()"
   ]
  },
  {
   "cell_type": "markdown",
   "id": "5abe4b77",
   "metadata": {},
   "source": [
    "### 데이터 선택하기"
   ]
  },
  {
   "cell_type": "code",
   "execution_count": 6,
   "id": "a3f9086b",
   "metadata": {},
   "outputs": [
    {
     "data": {
      "text/plain": [
       "0        Mary\n",
       "1       Annie\n",
       "2        Anna\n",
       "3    Margaret\n",
       "4       Helen\n",
       "Name: Name, dtype: object"
      ]
     },
     "execution_count": 6,
     "metadata": {},
     "output_type": "execute_result"
    }
   ],
   "source": [
    "# 칼럼 선택\n",
    "raw[\"Name\"].head() # Series, list 형태"
   ]
  },
  {
   "cell_type": "code",
   "execution_count": 7,
   "id": "97e03969",
   "metadata": {},
   "outputs": [
    {
     "name": "stdout",
     "output_type": "stream",
     "text": [
      "Mary\n",
      "Annie\n",
      "Anna\n",
      "Margaret\n",
      "Helen\n"
     ]
    }
   ],
   "source": [
    "for name in raw[\"Name\"].head():\n",
    "    print(name)"
   ]
  },
  {
   "cell_type": "code",
   "execution_count": 8,
   "id": "115e57fb",
   "metadata": {},
   "outputs": [
    {
     "data": {
      "text/plain": [
       "array(['Mary', 'Annie', 'Anna', 'Margaret', 'Helen', 'Elsie', 'Lucy',\n",
       "       'Dorothy', 'Ruth', 'Elizabeth', 'Agnes', 'Louise', 'Jean', 'Alice',\n",
       "       'Esther', 'Ethel', 'Marie', 'Clara', 'Martha', 'Frances', 'Julia',\n",
       "       'Lillian', 'Mildred', 'Pauline'], dtype=object)"
      ]
     },
     "execution_count": 8,
     "metadata": {},
     "output_type": "execute_result"
    }
   ],
   "source": [
    "raw[\"Name\"].unique()"
   ]
  },
  {
   "cell_type": "code",
   "execution_count": 9,
   "id": "0af8e412",
   "metadata": {},
   "outputs": [
    {
     "data": {
      "text/plain": [
       "Mary         6\n",
       "Margaret     5\n",
       "Helen        5\n",
       "Annie        4\n",
       "Alice        3\n",
       "Elizabeth    3\n",
       "Dorothy      2\n",
       "Ruth         2\n",
       "Agnes        2\n",
       "Louise       2\n",
       "Elsie        2\n",
       "Anna         2\n",
       "Esther       2\n",
       "Mildred      1\n",
       "Martha       1\n",
       "Lillian      1\n",
       "Julia        1\n",
       "Frances      1\n",
       "Jean         1\n",
       "Clara        1\n",
       "Marie        1\n",
       "Ethel        1\n",
       "Lucy         1\n",
       "Pauline      1\n",
       "Name: Name, dtype: int64"
      ]
     },
     "execution_count": 9,
     "metadata": {},
     "output_type": "execute_result"
    }
   ],
   "source": [
    "raw[\"Name\"].value_counts()"
   ]
  },
  {
   "cell_type": "code",
   "execution_count": 10,
   "id": "52361812",
   "metadata": {},
   "outputs": [
    {
     "data": {
      "text/plain": [
       "0    1924\n",
       "1    1922\n",
       "2    1920\n",
       "3    1918\n",
       "4    1917\n",
       "dtype: int64"
      ]
     },
     "execution_count": 10,
     "metadata": {},
     "output_type": "execute_result"
    }
   ],
   "source": [
    "raw[\"YearOfBirth\"].head() + raw[\"Number\"].head()"
   ]
  },
  {
   "cell_type": "code",
   "execution_count": 11,
   "id": "0dfc8c14",
   "metadata": {},
   "outputs": [
    {
     "data": {
      "text/html": [
       "<div>\n",
       "<style scoped>\n",
       "    .dataframe tbody tr th:only-of-type {\n",
       "        vertical-align: middle;\n",
       "    }\n",
       "\n",
       "    .dataframe tbody tr th {\n",
       "        vertical-align: top;\n",
       "    }\n",
       "\n",
       "    .dataframe thead th {\n",
       "        text-align: right;\n",
       "    }\n",
       "</style>\n",
       "<table border=\"1\" class=\"dataframe\">\n",
       "  <thead>\n",
       "    <tr style=\"text-align: right;\">\n",
       "      <th></th>\n",
       "      <th>StateCode</th>\n",
       "      <th>Sex</th>\n",
       "      <th>YearOfBirth</th>\n",
       "      <th>Name</th>\n",
       "      <th>Number</th>\n",
       "    </tr>\n",
       "  </thead>\n",
       "  <tbody>\n",
       "    <tr>\n",
       "      <th>0</th>\n",
       "      <td>AK</td>\n",
       "      <td>F</td>\n",
       "      <td>1910</td>\n",
       "      <td>Mary</td>\n",
       "      <td>14</td>\n",
       "    </tr>\n",
       "    <tr>\n",
       "      <th>1</th>\n",
       "      <td>AK</td>\n",
       "      <td>F</td>\n",
       "      <td>1910</td>\n",
       "      <td>Annie</td>\n",
       "      <td>12</td>\n",
       "    </tr>\n",
       "    <tr>\n",
       "      <th>2</th>\n",
       "      <td>AK</td>\n",
       "      <td>F</td>\n",
       "      <td>1910</td>\n",
       "      <td>Anna</td>\n",
       "      <td>10</td>\n",
       "    </tr>\n",
       "    <tr>\n",
       "      <th>3</th>\n",
       "      <td>AK</td>\n",
       "      <td>F</td>\n",
       "      <td>1910</td>\n",
       "      <td>Margaret</td>\n",
       "      <td>8</td>\n",
       "    </tr>\n",
       "    <tr>\n",
       "      <th>4</th>\n",
       "      <td>AK</td>\n",
       "      <td>F</td>\n",
       "      <td>1910</td>\n",
       "      <td>Helen</td>\n",
       "      <td>7</td>\n",
       "    </tr>\n",
       "    <tr>\n",
       "      <th>5</th>\n",
       "      <td>AK</td>\n",
       "      <td>F</td>\n",
       "      <td>1910</td>\n",
       "      <td>Elsie</td>\n",
       "      <td>6</td>\n",
       "    </tr>\n",
       "    <tr>\n",
       "      <th>6</th>\n",
       "      <td>AK</td>\n",
       "      <td>F</td>\n",
       "      <td>1910</td>\n",
       "      <td>Lucy</td>\n",
       "      <td>6</td>\n",
       "    </tr>\n",
       "    <tr>\n",
       "      <th>7</th>\n",
       "      <td>AK</td>\n",
       "      <td>F</td>\n",
       "      <td>1910</td>\n",
       "      <td>Dorothy</td>\n",
       "      <td>5</td>\n",
       "    </tr>\n",
       "    <tr>\n",
       "      <th>8</th>\n",
       "      <td>AK</td>\n",
       "      <td>F</td>\n",
       "      <td>1911</td>\n",
       "      <td>Mary</td>\n",
       "      <td>12</td>\n",
       "    </tr>\n",
       "    <tr>\n",
       "      <th>9</th>\n",
       "      <td>AK</td>\n",
       "      <td>F</td>\n",
       "      <td>1911</td>\n",
       "      <td>Margaret</td>\n",
       "      <td>7</td>\n",
       "    </tr>\n",
       "    <tr>\n",
       "      <th>10</th>\n",
       "      <td>AK</td>\n",
       "      <td>F</td>\n",
       "      <td>1911</td>\n",
       "      <td>Ruth</td>\n",
       "      <td>7</td>\n",
       "    </tr>\n",
       "    <tr>\n",
       "      <th>11</th>\n",
       "      <td>AK</td>\n",
       "      <td>F</td>\n",
       "      <td>1911</td>\n",
       "      <td>Annie</td>\n",
       "      <td>6</td>\n",
       "    </tr>\n",
       "    <tr>\n",
       "      <th>12</th>\n",
       "      <td>AK</td>\n",
       "      <td>F</td>\n",
       "      <td>1911</td>\n",
       "      <td>Elizabeth</td>\n",
       "      <td>6</td>\n",
       "    </tr>\n",
       "    <tr>\n",
       "      <th>13</th>\n",
       "      <td>AK</td>\n",
       "      <td>F</td>\n",
       "      <td>1911</td>\n",
       "      <td>Helen</td>\n",
       "      <td>6</td>\n",
       "    </tr>\n",
       "  </tbody>\n",
       "</table>\n",
       "</div>"
      ],
      "text/plain": [
       "   StateCode Sex  YearOfBirth       Name  Number\n",
       "0         AK   F         1910       Mary      14\n",
       "1         AK   F         1910      Annie      12\n",
       "2         AK   F         1910       Anna      10\n",
       "3         AK   F         1910   Margaret       8\n",
       "4         AK   F         1910      Helen       7\n",
       "5         AK   F         1910      Elsie       6\n",
       "6         AK   F         1910       Lucy       6\n",
       "7         AK   F         1910    Dorothy       5\n",
       "8         AK   F         1911       Mary      12\n",
       "9         AK   F         1911   Margaret       7\n",
       "10        AK   F         1911       Ruth       7\n",
       "11        AK   F         1911      Annie       6\n",
       "12        AK   F         1911  Elizabeth       6\n",
       "13        AK   F         1911      Helen       6"
      ]
     },
     "execution_count": 11,
     "metadata": {},
     "output_type": "execute_result"
    }
   ],
   "source": [
    "# 행 선택 : 특정 조건을 만족하는 행!\n",
    "\n",
    "# YearOfBirth 칼럼` 값이 1912보다 적는 행\n",
    "cond=raw[\"YearOfBirth\"] < 1912\n",
    "raw[cond] # True인 것만 들어옴"
   ]
  },
  {
   "cell_type": "code",
   "execution_count": 12,
   "id": "67fd52e8",
   "metadata": {},
   "outputs": [
    {
     "data": {
      "text/html": [
       "<div>\n",
       "<style scoped>\n",
       "    .dataframe tbody tr th:only-of-type {\n",
       "        vertical-align: middle;\n",
       "    }\n",
       "\n",
       "    .dataframe tbody tr th {\n",
       "        vertical-align: top;\n",
       "    }\n",
       "\n",
       "    .dataframe thead th {\n",
       "        text-align: right;\n",
       "    }\n",
       "</style>\n",
       "<table border=\"1\" class=\"dataframe\">\n",
       "  <thead>\n",
       "    <tr style=\"text-align: right;\">\n",
       "      <th></th>\n",
       "      <th>StateCode</th>\n",
       "      <th>Sex</th>\n",
       "      <th>YearOfBirth</th>\n",
       "      <th>Name</th>\n",
       "      <th>Number</th>\n",
       "    </tr>\n",
       "  </thead>\n",
       "  <tbody>\n",
       "    <tr>\n",
       "      <th>0</th>\n",
       "      <td>AK</td>\n",
       "      <td>F</td>\n",
       "      <td>1910</td>\n",
       "      <td>Mary</td>\n",
       "      <td>14</td>\n",
       "    </tr>\n",
       "    <tr>\n",
       "      <th>8</th>\n",
       "      <td>AK</td>\n",
       "      <td>F</td>\n",
       "      <td>1911</td>\n",
       "      <td>Mary</td>\n",
       "      <td>12</td>\n",
       "    </tr>\n",
       "    <tr>\n",
       "      <th>14</th>\n",
       "      <td>AK</td>\n",
       "      <td>F</td>\n",
       "      <td>1912</td>\n",
       "      <td>Mary</td>\n",
       "      <td>9</td>\n",
       "    </tr>\n",
       "    <tr>\n",
       "      <th>27</th>\n",
       "      <td>AK</td>\n",
       "      <td>F</td>\n",
       "      <td>1913</td>\n",
       "      <td>Mary</td>\n",
       "      <td>21</td>\n",
       "    </tr>\n",
       "    <tr>\n",
       "      <th>34</th>\n",
       "      <td>AK</td>\n",
       "      <td>F</td>\n",
       "      <td>1914</td>\n",
       "      <td>Mary</td>\n",
       "      <td>22</td>\n",
       "    </tr>\n",
       "    <tr>\n",
       "      <th>50</th>\n",
       "      <td>AK</td>\n",
       "      <td>F</td>\n",
       "      <td>1915</td>\n",
       "      <td>Mary</td>\n",
       "      <td>23</td>\n",
       "    </tr>\n",
       "  </tbody>\n",
       "</table>\n",
       "</div>"
      ],
      "text/plain": [
       "   StateCode Sex  YearOfBirth  Name  Number\n",
       "0         AK   F         1910  Mary      14\n",
       "8         AK   F         1911  Mary      12\n",
       "14        AK   F         1912  Mary       9\n",
       "27        AK   F         1913  Mary      21\n",
       "34        AK   F         1914  Mary      22\n",
       "50        AK   F         1915  Mary      23"
      ]
     },
     "execution_count": 12,
     "metadata": {},
     "output_type": "execute_result"
    }
   ],
   "source": [
    "# Name이 Mary\n",
    "raw[raw[\"Name\"] == \"Mary\"]"
   ]
  },
  {
   "cell_type": "code",
   "execution_count": 13,
   "id": "42831fce",
   "metadata": {},
   "outputs": [
    {
     "data": {
      "text/plain": [
       "5"
      ]
     },
     "execution_count": 13,
     "metadata": {},
     "output_type": "execute_result"
    }
   ],
   "source": [
    "# 셀을 선택\n",
    "raw.loc[24, \"Number\"]"
   ]
  },
  {
   "cell_type": "code",
   "execution_count": 14,
   "id": "1c6b753a",
   "metadata": {},
   "outputs": [
    {
     "data": {
      "text/plain": [
       "Index(['StateCode', 'Sex', 'YearOfBirth', 'Name', 'Number'], dtype='object')"
      ]
     },
     "execution_count": 14,
     "metadata": {},
     "output_type": "execute_result"
    }
   ],
   "source": [
    "# 인덱스, 컬럼명을 선택하고 싶다\n",
    "raw.index # 변수\n",
    "raw.columns # 변수"
   ]
  },
  {
   "cell_type": "code",
   "execution_count": 15,
   "id": "3f208bc8",
   "metadata": {},
   "outputs": [
    {
     "name": "stdout",
     "output_type": "stream",
     "text": [
      "Mary 14\n",
      "Annie 12\n",
      "Anna 10\n",
      "Margaret 8\n",
      "Helen 7\n",
      "Elsie 6\n",
      "Lucy 6\n",
      "Dorothy 5\n",
      "Mary 12\n",
      "Margaret 7\n",
      "Ruth 7\n",
      "Annie 6\n",
      "Elizabeth 6\n",
      "Helen 6\n",
      "Mary 9\n",
      "Elsie 8\n",
      "Agnes 7\n",
      "Anna 7\n",
      "Helen 7\n",
      "Louise 7\n",
      "Jean 6\n",
      "Ruth 6\n",
      "Alice 5\n",
      "Esther 5\n",
      "Ethel 5\n",
      "Margaret 5\n",
      "Marie 5\n",
      "Mary 21\n",
      "Elizabeth 9\n",
      "Margaret 8\n",
      "Helen 7\n",
      "Alice 5\n",
      "Annie 5\n",
      "Louise 5\n",
      "Mary 22\n",
      "Margaret 10\n",
      "Alice 8\n",
      "Annie 8\n",
      "Elizabeth 7\n",
      "Helen 7\n",
      "Clara 6\n",
      "Dorothy 6\n",
      "Martha 6\n",
      "Agnes 5\n",
      "Esther 5\n",
      "Frances 5\n",
      "Julia 5\n",
      "Lillian 5\n",
      "Mildred 5\n",
      "Pauline 5\n",
      "Mary 23\n"
     ]
    }
   ],
   "source": [
    "for i in raw.index:\n",
    "    name=raw.loc[i, \"Name\"]\n",
    "    number=raw.loc[i, \"Number\"]\n",
    "    print(name, number)"
   ]
  },
  {
   "cell_type": "markdown",
   "id": "b2396e09",
   "metadata": {},
   "source": [
    "### 피벗테이블 집계하기"
   ]
  },
  {
   "cell_type": "code",
   "execution_count": 16,
   "id": "d1dfa0e5",
   "metadata": {},
   "outputs": [],
   "source": [
    "df=raw.pivot_table(index=[\"Name\", \"YearOfBirth\"], values=\"Number\",\n",
    "                aggfunc='sum')\n",
    "df=raw.pivot_table(index=\"Name\", values=\"Number\",\n",
    "                columns=\"YearOfBirth\", aggfunc='sum')\n",
    "df=raw.pivot_table(index=\"Name\", values=\"Number\",\n",
    "                aggfunc='sum')"
   ]
  },
  {
   "cell_type": "code",
   "execution_count": 17,
   "id": "d04dffe1",
   "metadata": {},
   "outputs": [
    {
     "data": {
      "text/html": [
       "<div>\n",
       "<style scoped>\n",
       "    .dataframe tbody tr th:only-of-type {\n",
       "        vertical-align: middle;\n",
       "    }\n",
       "\n",
       "    .dataframe tbody tr th {\n",
       "        vertical-align: top;\n",
       "    }\n",
       "\n",
       "    .dataframe thead th {\n",
       "        text-align: right;\n",
       "    }\n",
       "</style>\n",
       "<table border=\"1\" class=\"dataframe\">\n",
       "  <thead>\n",
       "    <tr style=\"text-align: right;\">\n",
       "      <th></th>\n",
       "      <th>Name</th>\n",
       "      <th>Number</th>\n",
       "    </tr>\n",
       "  </thead>\n",
       "  <tbody>\n",
       "    <tr>\n",
       "      <th>0</th>\n",
       "      <td>Mary</td>\n",
       "      <td>14</td>\n",
       "    </tr>\n",
       "    <tr>\n",
       "      <th>1</th>\n",
       "      <td>Annie</td>\n",
       "      <td>12</td>\n",
       "    </tr>\n",
       "    <tr>\n",
       "      <th>2</th>\n",
       "      <td>Anna</td>\n",
       "      <td>10</td>\n",
       "    </tr>\n",
       "    <tr>\n",
       "      <th>3</th>\n",
       "      <td>Margaret</td>\n",
       "      <td>8</td>\n",
       "    </tr>\n",
       "    <tr>\n",
       "      <th>4</th>\n",
       "      <td>Helen</td>\n",
       "      <td>7</td>\n",
       "    </tr>\n",
       "  </tbody>\n",
       "</table>\n",
       "</div>"
      ],
      "text/plain": [
       "       Name  Number\n",
       "0      Mary      14\n",
       "1     Annie      12\n",
       "2      Anna      10\n",
       "3  Margaret       8\n",
       "4     Helen       7"
      ]
     },
     "execution_count": 17,
     "metadata": {},
     "output_type": "execute_result"
    }
   ],
   "source": [
    "raw[[\"Name\", \"Number\"]].head()"
   ]
  },
  {
   "cell_type": "code",
   "execution_count": 18,
   "id": "e0682e85",
   "metadata": {},
   "outputs": [
    {
     "data": {
      "text/html": [
       "<div>\n",
       "<style scoped>\n",
       "    .dataframe tbody tr th:only-of-type {\n",
       "        vertical-align: middle;\n",
       "    }\n",
       "\n",
       "    .dataframe tbody tr th {\n",
       "        vertical-align: top;\n",
       "    }\n",
       "\n",
       "    .dataframe thead th {\n",
       "        text-align: right;\n",
       "    }\n",
       "</style>\n",
       "<table border=\"1\" class=\"dataframe\">\n",
       "  <thead>\n",
       "    <tr style=\"text-align: right;\">\n",
       "      <th></th>\n",
       "      <th>Number</th>\n",
       "    </tr>\n",
       "    <tr>\n",
       "      <th>Name</th>\n",
       "      <th></th>\n",
       "    </tr>\n",
       "  </thead>\n",
       "  <tbody>\n",
       "    <tr>\n",
       "      <th>Mary</th>\n",
       "      <td>101</td>\n",
       "    </tr>\n",
       "    <tr>\n",
       "      <th>Margaret</th>\n",
       "      <td>38</td>\n",
       "    </tr>\n",
       "    <tr>\n",
       "      <th>Helen</th>\n",
       "      <td>34</td>\n",
       "    </tr>\n",
       "    <tr>\n",
       "      <th>Annie</th>\n",
       "      <td>31</td>\n",
       "    </tr>\n",
       "    <tr>\n",
       "      <th>Elizabeth</th>\n",
       "      <td>22</td>\n",
       "    </tr>\n",
       "  </tbody>\n",
       "</table>\n",
       "</div>"
      ],
      "text/plain": [
       "           Number\n",
       "Name             \n",
       "Mary          101\n",
       "Margaret       38\n",
       "Helen          34\n",
       "Annie          31\n",
       "Elizabeth      22"
      ]
     },
     "execution_count": 18,
     "metadata": {},
     "output_type": "execute_result"
    }
   ],
   "source": [
    "df.sort_values(by=\"Number\", ascending=False).head() # 내림차순"
   ]
  }
 ],
 "metadata": {
  "kernelspec": {
   "display_name": "Python 3 (ipykernel)",
   "language": "python",
   "name": "python3"
  },
  "language_info": {
   "codemirror_mode": {
    "name": "ipython",
    "version": 3
   },
   "file_extension": ".py",
   "mimetype": "text/x-python",
   "name": "python",
   "nbconvert_exporter": "python",
   "pygments_lexer": "ipython3",
   "version": "3.8.12"
  },
  "toc": {
   "base_numbering": 1,
   "nav_menu": {},
   "number_sections": true,
   "sideBar": true,
   "skip_h1_title": false,
   "title_cell": "Table of Contents",
   "title_sidebar": "Contents",
   "toc_cell": false,
   "toc_position": {
    "height": "calc(100% - 180px)",
    "left": "10px",
    "top": "150px",
    "width": "165px"
   },
   "toc_section_display": true,
   "toc_window_display": true
  }
 },
 "nbformat": 4,
 "nbformat_minor": 5
}
