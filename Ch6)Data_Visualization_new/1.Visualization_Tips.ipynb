{
 "cells": [
  {
   "cell_type": "code",
   "execution_count": null,
   "metadata": {},
   "outputs": [],
   "source": [
    "# 시각화를 위해 seabron 라이브러리를 불러옵니다. \n",
    "import seaborn as sns"
   ]
  },
  {
   "cell_type": "code",
   "execution_count": null,
   "metadata": {},
   "outputs": [],
   "source": [
    "# seaborn 에는 예제로 활용할 수 있는  데이터셋이 연결되어있습니다. tips 데이터셋을 불러오겠습니다. \n",
    "# 불러온 데이터 셋은 판다스의 데이터프레임 형식으로 판다스와 동일한 명령어를 사용할 수 있습니다. \n",
    "raw = sns.load_dataset('tips')"
   ]
  },
  {
   "cell_type": "code",
   "execution_count": null,
   "metadata": {},
   "outputs": [],
   "source": [
    "# head()를 통해 데이터를 살펴봅니다. \n",
    "raw.head()"
   ]
  },
  {
   "cell_type": "code",
   "execution_count": null,
   "metadata": {},
   "outputs": [],
   "source": [
    "# info() 를 통해 데이터 구성 / 형식을 살펴봅니다\n",
    "raw.info()"
   ]
  },
  {
   "cell_type": "markdown",
   "metadata": {},
   "source": [
    "## 데이터 분포 살펴보기(수치형)"
   ]
  },
  {
   "cell_type": "markdown",
   "metadata": {},
   "source": [
    "- sns.`distplot`( df [ '컬럼명' ] )"
   ]
  },
  {
   "cell_type": "code",
   "execution_count": null,
   "metadata": {},
   "outputs": [],
   "source": [
    "raw['total_bill']"
   ]
  },
  {
   "cell_type": "code",
   "execution_count": null,
   "metadata": {},
   "outputs": [],
   "source": [
    "# 분포 -> 히스토그램\n",
    "#  빠르고, 간단하게 볼때는,,  pandas 에 연결된 matplotlib 으로 빠르게 그릴 수 있음.. \n",
    "#  데이터프레임['컬럼명'].hist()\n",
    "raw['tip'].hist()"
   ]
  },
  {
   "cell_type": "code",
   "execution_count": null,
   "metadata": {},
   "outputs": [],
   "source": [
    "# seaborn을 활용하면 더 깔끔하고, 예쁘게 그릴 수 있음. \n",
    "# sns.histplot() 을 이용해 데이터 분포를 히스토그램을 통해 살펴볼 수 있습니다. \n",
    "## sns.distplot() 에서 함수명 변경 되었음(지금은 둘 다 사용 가능)\n",
    "sns.histplot(raw['total_bill'] )"
   ]
  },
  {
   "cell_type": "code",
   "execution_count": null,
   "metadata": {},
   "outputs": [],
   "source": [
    "sns.histplot(raw['tip'])"
   ]
  },
  {
   "cell_type": "markdown",
   "metadata": {},
   "source": [
    "##  데이터 분포 살펴보기(수치형 Vs 수치형)"
   ]
  },
  {
   "cell_type": "markdown",
   "metadata": {},
   "source": [
    "### `relplot`( data = df, x = ,  y = , hue = , kind = 'scatter')\n",
    "두 개의 변수(모두 수치형 데이터) 분포를 확인할 때\n",
    "\n",
    "- kind 옵션\n",
    "    - 'scatter' (기본값)\n",
    "    - 'line'"
   ]
  },
  {
   "cell_type": "code",
   "execution_count": null,
   "metadata": {},
   "outputs": [],
   "source": [
    "# sns.relplot() 을 이용해 두 데이터 간의 관계를 시각화할 수 있습니다 .\n",
    "# kind 옵션을 이용해 표현 방식을 조정할 수 있는데, 기본 설정값은 scatter 입니다)\n",
    "sns.relplot(data = raw, x = 'tip', y = 'total_bill')  # kind 옵션 값 미지정시 \"scatter\""
   ]
  },
  {
   "cell_type": "code",
   "execution_count": null,
   "metadata": {},
   "outputs": [],
   "source": [
    "# kind 옵션을 line 으로 조정할 경우, 선 그래프를 그릴 수 있습니다. \n",
    "sns.relplot(x = 'tip', y = 'total_bill', data = raw, kind = 'line')  # kind 옵션 값 미지정시 \"scatter\""
   ]
  },
  {
   "cell_type": "code",
   "execution_count": null,
   "metadata": {},
   "outputs": [],
   "source": [
    "# 성별에 따라 색상 구분하기\n",
    "# hue 옵션을 이용해 색상의 차이로 종류를 구분할 수 있습니다. \n",
    "sns.relplot(x = 'tip', y = 'total_bill', data = raw, hue = 'sex')"
   ]
  },
  {
   "cell_type": "markdown",
   "metadata": {},
   "source": [
    "## 관계 살펴보기(수치형 Vs 수치형)"
   ]
  },
  {
   "cell_type": "markdown",
   "metadata": {},
   "source": [
    "### `jointplot`( data = df, x = ,  y = , kind = 'scatter')\n",
    "\n",
    "\n",
    "- kind에 따라 그래프 형대 변경됨\n",
    "    - \"scatter\"(기본값): point   \n",
    "    - \"reg\": point + regression\n",
    "    - \"kde\": 누적 분포 차트 like 지도\n",
    "    - \"hist\" : 누적 분포 -> 사각형으로 표현\n",
    "    - \"hex\" : 누적 분포 -> 육각형으로 표현\n",
    "    - \"resid\" : 잔차,  평균대비 차이 "
   ]
  },
  {
   "cell_type": "code",
   "execution_count": null,
   "metadata": {},
   "outputs": [],
   "source": [
    "# jointplot을 이용해  두 수치데이터간의 관계와, 각 데이터의 분포를 함께 확인할 수 있습니다. \n",
    "# kind 옵션을 통해 여러 타입으로 시각화 할 수 있는데,  기본적으로 kind = 'scatter' 으로 지정되어있습니다. \n",
    "sns.jointplot(data = raw, x = 'tip', y = 'total_bill')  # kind 값 미 지정시 기본 값은 kind = 'scatter'"
   ]
  },
  {
   "cell_type": "code",
   "execution_count": null,
   "metadata": {
    "scrolled": false
   },
   "outputs": [],
   "source": [
    "# kind = 'kde' 로 지정할 경우, 밀도함수를 이용해 시각화 할 수 있습니다. \n",
    "# 진하게 표시될 수록 집중되어있다는 것을 의미하며, 값이 급격하게 변할 수록 선의 간격이 좁게 표시됩니다. \n",
    "sns.jointplot(data = raw, x = 'tip', y = 'total_bill', kind = 'kde')  # 기본 값은 kind = 'scatter'"
   ]
  },
  {
   "cell_type": "code",
   "execution_count": null,
   "metadata": {},
   "outputs": [],
   "source": [
    "# kind = 'reg' 옵션을 사용할 경우, 회귀선을 확인할 수 있습니다. \n",
    "sns.jointplot(data = raw, x = 'tip', y = 'total_bill', kind = 'reg')  # 기본 값은 kind = 'scatter'"
   ]
  },
  {
   "cell_type": "code",
   "execution_count": null,
   "metadata": {},
   "outputs": [],
   "source": [
    "# kind = 'hex' 옵션은  kde 속성과 유사하게 밀도를 표현하나 kde 처럼 간격이 다르지 않고, \n",
    "# 간격이 모두 동일한 육각형 모양으로 시각화 합니다. \n",
    "sns.jointplot(data = raw, x = 'tip', y = 'total_bill', kind = 'hex')  # 기본 값은 kind = 'scatter'"
   ]
  },
  {
   "cell_type": "code",
   "execution_count": null,
   "metadata": {},
   "outputs": [],
   "source": [
    "# kind = 'resid' 옵션은  평균대비 차이보여줌. \n",
    "sns.jointplot(data = raw, x = 'tip', y = 'total_bill', kind = 'resid')  # 기본 값은 kind = 'scatter'"
   ]
  },
  {
   "cell_type": "code",
   "execution_count": null,
   "metadata": {},
   "outputs": [],
   "source": [
    "# kind = 'hist' 밀도함수 -> 사각형으로 표시\n",
    "sns.jointplot(data = raw, x = 'tip', y = 'total_bill', kind = 'hist')  # 기본 값은 kind = 'scatter'"
   ]
  },
  {
   "cell_type": "markdown",
   "metadata": {},
   "source": [
    "### `pairplot`( data = df)\n",
    "df의 모든 수치형데이터 컬럼에서 두 컬럼씩 관계를 시각화 합니다. "
   ]
  },
  {
   "cell_type": "code",
   "execution_count": null,
   "metadata": {},
   "outputs": [],
   "source": [
    "# pairplot을 이용해  total_bill, tip, size 데이터 간의 관계를 살펴보겠습니다. \n",
    "sns.pairplot(data = raw)"
   ]
  },
  {
   "cell_type": "code",
   "execution_count": null,
   "metadata": {
    "scrolled": false
   },
   "outputs": [],
   "source": [
    "# hue 를 이용해, 특정 컬럼의 값에 따른 분포를 색상을 이용해 시각화 할 수 있습니다. \n",
    "sns.pairplot(data = raw, hue = 'sex')"
   ]
  },
  {
   "cell_type": "markdown",
   "metadata": {},
   "source": [
    "## 데이터 분포 살펴보기(수치형 Vs 카테고리형)\n",
    "\n",
    "`boxplot`( data = df, x = , y = , hue =  )\n"
   ]
  },
  {
   "cell_type": "code",
   "execution_count": null,
   "metadata": {},
   "outputs": [],
   "source": [
    "# boxplot을 이용해  가로축은 day 컬럼, 세로축은 tip 값의 분포로 박스플랏을 그릴 수 있습니다. \n",
    "sns.boxplot(data = raw, x = 'day', y = 'tip')"
   ]
  },
  {
   "cell_type": "code",
   "execution_count": null,
   "metadata": {},
   "outputs": [],
   "source": [
    "# hue 옵션을 추가하여, 특정 기준의 변화에 따른 데이터분포를 살펴볼 수 있습니다. \n",
    "sns.boxplot(data = raw, x = 'day', y = 'tip', hue = 'smoker')"
   ]
  },
  {
   "cell_type": "code",
   "execution_count": null,
   "metadata": {},
   "outputs": [],
   "source": [
    "sns.swarmplot(data = raw, x = 'day', y = 'tip', hue = 'smoker')"
   ]
  },
  {
   "cell_type": "code",
   "execution_count": null,
   "metadata": {
    "scrolled": true
   },
   "outputs": [],
   "source": [
    "# boxplot의 경우는 하나의 기준에 대한 데이터 분포 범위를 파악하는데 용이하나\n",
    "# 데이터의 개수를 표현하지는 않기 때문에,데이터 개수가 다른 값을 비교하기에는 문제가 있을 수 있습니다. \n",
    "# swarmplot 을 이용하면 데이터 개수와 함께 분포를 살펴볼 수 있습니다. \n",
    "sns.swarmplot(data = raw, x = 'day', y = 'tip', hue = 'smoker', dodge=True)"
   ]
  },
  {
   "cell_type": "code",
   "execution_count": null,
   "metadata": {},
   "outputs": [],
   "source": [
    "# boxplot과 swarmplot을 함께 그려볼 수 있습니다. \n",
    "\n",
    "sns.boxplot(data = raw, x = 'day', y = 'tip', hue = 'smoker')\n",
    "sns.swarmplot(data = raw, x = 'day', y = 'tip', hue = 'smoker', dodge=True)"
   ]
  },
  {
   "cell_type": "code",
   "execution_count": null,
   "metadata": {
    "scrolled": true
   },
   "outputs": [],
   "source": [
    "# 이번에는 size/성별 별 tip의 분포를 살펴보겠습니다. \n",
    "sns.boxplot(data = raw, x = 'size', y = 'tip', hue = 'sex')"
   ]
  },
  {
   "cell_type": "markdown",
   "metadata": {},
   "source": [
    "`barplot`( data = df, x = , y = , hue =  )\n",
    "평균, 분산을 간단하게 보여줌. "
   ]
  },
  {
   "cell_type": "code",
   "execution_count": null,
   "metadata": {},
   "outputs": [],
   "source": [
    "# barplot의 경우 특정 값에 대한 평균 및 분포를 간단하게 보여줌\n",
    "sns.barplot(data = raw, x = 'size', y = 'tip', hue = 'sex')"
   ]
  },
  {
   "cell_type": "markdown",
   "metadata": {},
   "source": [
    "## 데이터 분포 살펴보기(수치형 Vs 카테고리형 Vs 카테고리형))\n",
    "\n",
    "`heatmap`( data = df )"
   ]
  },
  {
   "cell_type": "code",
   "execution_count": null,
   "metadata": {},
   "outputs": [],
   "source": [
    "# 히트맵을 이용하면, 두 카테고리형 데이터 분포에 대한 수치형데이터의 값을  한눈에 색상을 이용하여 한눈에 살펴볼 수 있습니다. \n",
    "# 요일별, size별  평균 tip 데이터를 가진 피벗테이블을 만들겠습니다. \n",
    "df = raw.pivot_table(index = 'day', columns = 'size', values = 'tip', aggfunc='mean')\n",
    "df"
   ]
  },
  {
   "cell_type": "code",
   "execution_count": null,
   "metadata": {},
   "outputs": [],
   "source": [
    "# 보고자하는 관점에 따라 데이터프레임을 만든 후,  heatmap() 함수를 이용하면 히트맵을 작성할 수 있습니다. \n",
    "sns.heatmap(data = df)"
   ]
  },
  {
   "cell_type": "code",
   "execution_count": null,
   "metadata": {},
   "outputs": [],
   "source": [
    "# 실제 데이터를 확인하기 위해, 히트맵 내에 수치를 표현할 수 있습니다. \n",
    "# annot = True 로 할 경우, 수치를 표현하며,  표현되는 숫자 형태는 fmt 옵션으로 지정할 수 있습니다. \n",
    "# fmt = \".2f\" 의 경우, 0 두 소수점 두 자리까지 표현하라는 의미이며, \n",
    "# \".0f\"의 경우 소수점 뒤에 표현되는 자리수 없이 정수로만 표현하라는 의미입니다. \n",
    "sns.heatmap(data = df, \n",
    "           annot = True, fmt = '.2f')"
   ]
  },
  {
   "cell_type": "code",
   "execution_count": null,
   "metadata": {},
   "outputs": [],
   "source": [
    "# cmap 옵션을 이용해, 색상을 조정할 수도 있습니다. \n",
    "# seaborn에서는 다양한 종류의 컬러차트를 지원하며, 이중 Blues 를 이용해보겠습니다. \n",
    "sns.heatmap(data = df, \n",
    "           annot = True, fmt = '0.2f',\n",
    "           cmap = 'Reds')"
   ]
  },
  {
   "cell_type": "code",
   "execution_count": null,
   "metadata": {},
   "outputs": [],
   "source": []
  },
  {
   "cell_type": "code",
   "execution_count": null,
   "metadata": {},
   "outputs": [],
   "source": []
  }
 ],
 "metadata": {
  "kernelspec": {
   "display_name": "Python 3",
   "language": "python",
   "name": "python3"
  },
  "language_info": {
   "codemirror_mode": {
    "name": "ipython",
    "version": 3
   },
   "file_extension": ".py",
   "mimetype": "text/x-python",
   "name": "python",
   "nbconvert_exporter": "python",
   "pygments_lexer": "ipython3",
   "version": "3.8.3"
  }
 },
 "nbformat": 4,
 "nbformat_minor": 2
}
